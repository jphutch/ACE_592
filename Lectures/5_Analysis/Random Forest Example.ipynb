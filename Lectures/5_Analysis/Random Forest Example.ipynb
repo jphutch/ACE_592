{
 "cells": [
  {
   "cell_type": "code",
   "execution_count": 1,
   "metadata": {},
   "outputs": [],
   "source": [
    "import pandas as pd\n",
    "from sklearn.preprocessing import StandardScaler\n",
    "from sklearn.ensemble import RandomForestRegressor\n",
    "from sklearn.model_selection import RandomizedSearchCV\n",
    "import numpy as np\n",
    "import matplotlib.pyplot as plt"
   ]
  },
  {
   "cell_type": "markdown",
   "metadata": {},
   "source": [
    "## Random Forest\n",
    "\n",
    "Let's go back to the home price data we were looking at:"
   ]
  },
  {
   "cell_type": "code",
   "execution_count": 2,
   "metadata": {},
   "outputs": [
    {
     "data": {
      "text/html": [
       "<div>\n",
       "<style scoped>\n",
       "    .dataframe tbody tr th:only-of-type {\n",
       "        vertical-align: middle;\n",
       "    }\n",
       "\n",
       "    .dataframe tbody tr th {\n",
       "        vertical-align: top;\n",
       "    }\n",
       "\n",
       "    .dataframe thead th {\n",
       "        text-align: right;\n",
       "    }\n",
       "</style>\n",
       "<table border=\"1\" class=\"dataframe\">\n",
       "  <thead>\n",
       "    <tr style=\"text-align: right;\">\n",
       "      <th></th>\n",
       "      <th>Id</th>\n",
       "      <th>LotFrontage</th>\n",
       "      <th>LotArea</th>\n",
       "      <th>OverallQual</th>\n",
       "      <th>OverallCond</th>\n",
       "      <th>YearBuilt</th>\n",
       "      <th>YearRemodAdd</th>\n",
       "      <th>MasVnrArea</th>\n",
       "      <th>BsmtFinSF1</th>\n",
       "      <th>BsmtFinSF2</th>\n",
       "      <th>...</th>\n",
       "      <th>SaleType_New</th>\n",
       "      <th>SaleType_Oth</th>\n",
       "      <th>SaleType_WD</th>\n",
       "      <th>SaleCondition_Abnorml</th>\n",
       "      <th>SaleCondition_AdjLand</th>\n",
       "      <th>SaleCondition_Alloca</th>\n",
       "      <th>SaleCondition_Family</th>\n",
       "      <th>SaleCondition_Normal</th>\n",
       "      <th>SaleCondition_Partial</th>\n",
       "      <th>Saleprice</th>\n",
       "    </tr>\n",
       "  </thead>\n",
       "  <tbody>\n",
       "    <tr>\n",
       "      <th>0</th>\n",
       "      <td>1</td>\n",
       "      <td>18.144573</td>\n",
       "      <td>13.833054</td>\n",
       "      <td>7</td>\n",
       "      <td>3.991517</td>\n",
       "      <td>2003</td>\n",
       "      <td>2003</td>\n",
       "      <td>19.433175</td>\n",
       "      <td>144.117862</td>\n",
       "      <td>0.000000</td>\n",
       "      <td>...</td>\n",
       "      <td>0</td>\n",
       "      <td>0</td>\n",
       "      <td>1</td>\n",
       "      <td>0</td>\n",
       "      <td>0</td>\n",
       "      <td>0</td>\n",
       "      <td>0</td>\n",
       "      <td>1</td>\n",
       "      <td>0</td>\n",
       "      <td>208501.0</td>\n",
       "    </tr>\n",
       "    <tr>\n",
       "      <th>1</th>\n",
       "      <td>2</td>\n",
       "      <td>20.673625</td>\n",
       "      <td>14.117918</td>\n",
       "      <td>6</td>\n",
       "      <td>6.000033</td>\n",
       "      <td>1976</td>\n",
       "      <td>1976</td>\n",
       "      <td>54.598150</td>\n",
       "      <td>181.719186</td>\n",
       "      <td>0.000000</td>\n",
       "      <td>...</td>\n",
       "      <td>0</td>\n",
       "      <td>0</td>\n",
       "      <td>1</td>\n",
       "      <td>0</td>\n",
       "      <td>0</td>\n",
       "      <td>0</td>\n",
       "      <td>0</td>\n",
       "      <td>1</td>\n",
       "      <td>0</td>\n",
       "      <td>181501.0</td>\n",
       "    </tr>\n",
       "    <tr>\n",
       "      <th>2</th>\n",
       "      <td>3</td>\n",
       "      <td>18.668047</td>\n",
       "      <td>14.476512</td>\n",
       "      <td>7</td>\n",
       "      <td>3.991517</td>\n",
       "      <td>2001</td>\n",
       "      <td>2002</td>\n",
       "      <td>17.768840</td>\n",
       "      <td>110.441033</td>\n",
       "      <td>0.000000</td>\n",
       "      <td>...</td>\n",
       "      <td>0</td>\n",
       "      <td>0</td>\n",
       "      <td>1</td>\n",
       "      <td>0</td>\n",
       "      <td>0</td>\n",
       "      <td>0</td>\n",
       "      <td>0</td>\n",
       "      <td>1</td>\n",
       "      <td>0</td>\n",
       "      <td>223501.0</td>\n",
       "    </tr>\n",
       "    <tr>\n",
       "      <th>3</th>\n",
       "      <td>4</td>\n",
       "      <td>17.249651</td>\n",
       "      <td>14.106196</td>\n",
       "      <td>7</td>\n",
       "      <td>3.991517</td>\n",
       "      <td>1915</td>\n",
       "      <td>1970</td>\n",
       "      <td>54.598150</td>\n",
       "      <td>61.795315</td>\n",
       "      <td>0.000000</td>\n",
       "      <td>...</td>\n",
       "      <td>0</td>\n",
       "      <td>0</td>\n",
       "      <td>1</td>\n",
       "      <td>1</td>\n",
       "      <td>0</td>\n",
       "      <td>0</td>\n",
       "      <td>0</td>\n",
       "      <td>0</td>\n",
       "      <td>0</td>\n",
       "      <td>140001.0</td>\n",
       "    </tr>\n",
       "    <tr>\n",
       "      <th>4</th>\n",
       "      <td>5</td>\n",
       "      <td>21.314283</td>\n",
       "      <td>15.022008</td>\n",
       "      <td>8</td>\n",
       "      <td>3.991517</td>\n",
       "      <td>2000</td>\n",
       "      <td>2000</td>\n",
       "      <td>25.404164</td>\n",
       "      <td>136.624601</td>\n",
       "      <td>0.000000</td>\n",
       "      <td>...</td>\n",
       "      <td>0</td>\n",
       "      <td>0</td>\n",
       "      <td>1</td>\n",
       "      <td>0</td>\n",
       "      <td>0</td>\n",
       "      <td>0</td>\n",
       "      <td>0</td>\n",
       "      <td>1</td>\n",
       "      <td>0</td>\n",
       "      <td>250001.0</td>\n",
       "    </tr>\n",
       "    <tr>\n",
       "      <th>...</th>\n",
       "      <td>...</td>\n",
       "      <td>...</td>\n",
       "      <td>...</td>\n",
       "      <td>...</td>\n",
       "      <td>...</td>\n",
       "      <td>...</td>\n",
       "      <td>...</td>\n",
       "      <td>...</td>\n",
       "      <td>...</td>\n",
       "      <td>...</td>\n",
       "      <td>...</td>\n",
       "      <td>...</td>\n",
       "      <td>...</td>\n",
       "      <td>...</td>\n",
       "      <td>...</td>\n",
       "      <td>...</td>\n",
       "      <td>...</td>\n",
       "      <td>...</td>\n",
       "      <td>...</td>\n",
       "      <td>...</td>\n",
       "      <td>...</td>\n",
       "    </tr>\n",
       "    <tr>\n",
       "      <th>1453</th>\n",
       "      <td>1454</td>\n",
       "      <td>17.611139</td>\n",
       "      <td>13.688829</td>\n",
       "      <td>6</td>\n",
       "      <td>3.991517</td>\n",
       "      <td>1999</td>\n",
       "      <td>2000</td>\n",
       "      <td>54.598150</td>\n",
       "      <td>665.141633</td>\n",
       "      <td>0.000000</td>\n",
       "      <td>...</td>\n",
       "      <td>0</td>\n",
       "      <td>0</td>\n",
       "      <td>1</td>\n",
       "      <td>0</td>\n",
       "      <td>0</td>\n",
       "      <td>0</td>\n",
       "      <td>0</td>\n",
       "      <td>1</td>\n",
       "      <td>0</td>\n",
       "      <td>175001.0</td>\n",
       "    </tr>\n",
       "    <tr>\n",
       "      <th>1454</th>\n",
       "      <td>1455</td>\n",
       "      <td>21.472480</td>\n",
       "      <td>14.838658</td>\n",
       "      <td>6</td>\n",
       "      <td>4.679501</td>\n",
       "      <td>1978</td>\n",
       "      <td>1988</td>\n",
       "      <td>15.342608</td>\n",
       "      <td>156.123103</td>\n",
       "      <td>8.046409</td>\n",
       "      <td>...</td>\n",
       "      <td>0</td>\n",
       "      <td>0</td>\n",
       "      <td>1</td>\n",
       "      <td>0</td>\n",
       "      <td>0</td>\n",
       "      <td>0</td>\n",
       "      <td>0</td>\n",
       "      <td>1</td>\n",
       "      <td>0</td>\n",
       "      <td>210001.0</td>\n",
       "    </tr>\n",
       "    <tr>\n",
       "      <th>1455</th>\n",
       "      <td>1456</td>\n",
       "      <td>18.320139</td>\n",
       "      <td>13.983828</td>\n",
       "      <td>7</td>\n",
       "      <td>6.637669</td>\n",
       "      <td>1941</td>\n",
       "      <td>2006</td>\n",
       "      <td>54.598150</td>\n",
       "      <td>73.494065</td>\n",
       "      <td>0.000000</td>\n",
       "      <td>...</td>\n",
       "      <td>0</td>\n",
       "      <td>0</td>\n",
       "      <td>1</td>\n",
       "      <td>0</td>\n",
       "      <td>0</td>\n",
       "      <td>0</td>\n",
       "      <td>0</td>\n",
       "      <td>1</td>\n",
       "      <td>0</td>\n",
       "      <td>266501.0</td>\n",
       "    </tr>\n",
       "    <tr>\n",
       "      <th>1456</th>\n",
       "      <td>1457</td>\n",
       "      <td>18.668047</td>\n",
       "      <td>14.145129</td>\n",
       "      <td>5</td>\n",
       "      <td>4.679501</td>\n",
       "      <td>1950</td>\n",
       "      <td>1996</td>\n",
       "      <td>54.598150</td>\n",
       "      <td>21.007316</td>\n",
       "      <td>13.087759</td>\n",
       "      <td>...</td>\n",
       "      <td>0</td>\n",
       "      <td>0</td>\n",
       "      <td>1</td>\n",
       "      <td>0</td>\n",
       "      <td>0</td>\n",
       "      <td>0</td>\n",
       "      <td>0</td>\n",
       "      <td>1</td>\n",
       "      <td>0</td>\n",
       "      <td>142126.0</td>\n",
       "    </tr>\n",
       "    <tr>\n",
       "      <th>1457</th>\n",
       "      <td>1458</td>\n",
       "      <td>19.854050</td>\n",
       "      <td>14.195497</td>\n",
       "      <td>5</td>\n",
       "      <td>4.679501</td>\n",
       "      <td>1965</td>\n",
       "      <td>1965</td>\n",
       "      <td>54.598150</td>\n",
       "      <td>161.706884</td>\n",
       "      <td>9.457146</td>\n",
       "      <td>...</td>\n",
       "      <td>0</td>\n",
       "      <td>0</td>\n",
       "      <td>1</td>\n",
       "      <td>0</td>\n",
       "      <td>0</td>\n",
       "      <td>0</td>\n",
       "      <td>0</td>\n",
       "      <td>1</td>\n",
       "      <td>0</td>\n",
       "      <td>147501.0</td>\n",
       "    </tr>\n",
       "  </tbody>\n",
       "</table>\n",
       "<p>1458 rows × 380 columns</p>\n",
       "</div>"
      ],
      "text/plain": [
       "        Id  LotFrontage    LotArea  OverallQual  OverallCond  YearBuilt  \\\n",
       "0        1    18.144573  13.833054            7     3.991517       2003   \n",
       "1        2    20.673625  14.117918            6     6.000033       1976   \n",
       "2        3    18.668047  14.476512            7     3.991517       2001   \n",
       "3        4    17.249651  14.106196            7     3.991517       1915   \n",
       "4        5    21.314283  15.022008            8     3.991517       2000   \n",
       "...    ...          ...        ...          ...          ...        ...   \n",
       "1453  1454    17.611139  13.688829            6     3.991517       1999   \n",
       "1454  1455    21.472480  14.838658            6     4.679501       1978   \n",
       "1455  1456    18.320139  13.983828            7     6.637669       1941   \n",
       "1456  1457    18.668047  14.145129            5     4.679501       1950   \n",
       "1457  1458    19.854050  14.195497            5     4.679501       1965   \n",
       "\n",
       "      YearRemodAdd  MasVnrArea  BsmtFinSF1  BsmtFinSF2  ...  SaleType_New  \\\n",
       "0             2003   19.433175  144.117862    0.000000  ...             0   \n",
       "1             1976   54.598150  181.719186    0.000000  ...             0   \n",
       "2             2002   17.768840  110.441033    0.000000  ...             0   \n",
       "3             1970   54.598150   61.795315    0.000000  ...             0   \n",
       "4             2000   25.404164  136.624601    0.000000  ...             0   \n",
       "...            ...         ...         ...         ...  ...           ...   \n",
       "1453          2000   54.598150  665.141633    0.000000  ...             0   \n",
       "1454          1988   15.342608  156.123103    8.046409  ...             0   \n",
       "1455          2006   54.598150   73.494065    0.000000  ...             0   \n",
       "1456          1996   54.598150   21.007316   13.087759  ...             0   \n",
       "1457          1965   54.598150  161.706884    9.457146  ...             0   \n",
       "\n",
       "      SaleType_Oth  SaleType_WD  SaleCondition_Abnorml  SaleCondition_AdjLand  \\\n",
       "0                0            1                      0                      0   \n",
       "1                0            1                      0                      0   \n",
       "2                0            1                      0                      0   \n",
       "3                0            1                      1                      0   \n",
       "4                0            1                      0                      0   \n",
       "...            ...          ...                    ...                    ...   \n",
       "1453             0            1                      0                      0   \n",
       "1454             0            1                      0                      0   \n",
       "1455             0            1                      0                      0   \n",
       "1456             0            1                      0                      0   \n",
       "1457             0            1                      0                      0   \n",
       "\n",
       "      SaleCondition_Alloca  SaleCondition_Family  SaleCondition_Normal  \\\n",
       "0                        0                     0                     1   \n",
       "1                        0                     0                     1   \n",
       "2                        0                     0                     1   \n",
       "3                        0                     0                     0   \n",
       "4                        0                     0                     1   \n",
       "...                    ...                   ...                   ...   \n",
       "1453                     0                     0                     1   \n",
       "1454                     0                     0                     1   \n",
       "1455                     0                     0                     1   \n",
       "1456                     0                     0                     1   \n",
       "1457                     0                     0                     1   \n",
       "\n",
       "      SaleCondition_Partial  Saleprice  \n",
       "0                         0   208501.0  \n",
       "1                         0   181501.0  \n",
       "2                         0   223501.0  \n",
       "3                         0   140001.0  \n",
       "4                         0   250001.0  \n",
       "...                     ...        ...  \n",
       "1453                      0   175001.0  \n",
       "1454                      0   210001.0  \n",
       "1455                      0   266501.0  \n",
       "1456                      0   142126.0  \n",
       "1457                      0   147501.0  \n",
       "\n",
       "[1458 rows x 380 columns]"
      ]
     },
     "execution_count": 2,
     "metadata": {},
     "output_type": "execute_result"
    }
   ],
   "source": [
    "df = pd.read_csv(\"C:/Users/jhtchns2/Downloads/houseprices/Cleaned train.csv\")\n",
    "\n",
    "df"
   ]
  },
  {
   "cell_type": "markdown",
   "metadata": {},
   "source": [
    "I'll use a reduced number of features from our LASSO example:"
   ]
  },
  {
   "cell_type": "code",
   "execution_count": 3,
   "metadata": {},
   "outputs": [],
   "source": [
    "features = ['LotArea', 'OverallQual', 'TotalBsmtSF', '2ndFlrSF', 'GrLivArea',\n",
    "               'Fireplaces', 'GarageArea', 'Total_Home_Quality', 'TotalSF',\n",
    "               'YrBltAndRemod', 'Total_Bathrooms', 'GarageCars_log_sq',\n",
    "               'Neighborhood_NoRidge', 'ExterQual_Ex', 'ExterQual_TA', 'BsmtQual_Ex',\n",
    "               'BsmtExposure_Gd', 'KitchenQual_Ex']"
   ]
  },
  {
   "cell_type": "code",
   "execution_count": 4,
   "metadata": {},
   "outputs": [],
   "source": [
    "X = df[features]\n",
    "\n",
    "y = df[['Saleprice']]"
   ]
  },
  {
   "cell_type": "markdown",
   "metadata": {},
   "source": [
    "Now let's specify a smallish grid to search over:"
   ]
  },
  {
   "cell_type": "code",
   "execution_count": 5,
   "metadata": {},
   "outputs": [],
   "source": [
    "number_trees = np.arange(200,2000,20)\n",
    "max_depth = np.arange(10,110,10)\n",
    "min_samples_leaf = [1, 2, 4]\n",
    "\n",
    "random_grid = {'n_estimators': number_trees,\n",
    "               'max_depth': max_depth,\n",
    "               'min_samples_leaf': min_samples_leaf,\n",
    "               'bootstrap': [True,False]}"
   ]
  },
  {
   "cell_type": "markdown",
   "metadata": {},
   "source": [
    "Now I'll instantiate a new model object:"
   ]
  },
  {
   "cell_type": "code",
   "execution_count": 6,
   "metadata": {},
   "outputs": [],
   "source": [
    "rf = RandomForestRegressor()"
   ]
  },
  {
   "cell_type": "markdown",
   "metadata": {},
   "source": [
    "While we could still use `GridSearch`, I'll use `RandomizedSearchCV` which will do it faster (since it does it randomly) at the expense of possibly not landing on the global min."
   ]
  },
  {
   "cell_type": "code",
   "execution_count": 7,
   "metadata": {},
   "outputs": [
    {
     "name": "stderr",
     "output_type": "stream",
     "text": [
      "C:\\Users\\jhtchns2\\.conda\\envs\\ace592\\lib\\site-packages\\sklearn\\model_selection\\_search.py:765: DataConversionWarning: A column-vector y was passed when a 1d array was expected. Please change the shape of y to (n_samples,), for example using ravel().\n",
      "  self.best_estimator_.fit(X, y, **fit_params)\n"
     ]
    },
    {
     "data": {
      "text/plain": [
       "RandomizedSearchCV(estimator=RandomForestRegressor(), n_iter=20, n_jobs=-1,\n",
       "                   param_distributions={'bootstrap': [True, False],\n",
       "                                        'max_depth': array([ 10,  20,  30,  40,  50,  60,  70,  80,  90, 100]),\n",
       "                                        'min_samples_leaf': [1, 2, 4],\n",
       "                                        'n_estimators': array([ 200,  220,  240,  260,  280,  300,  320,  340,  360,  380,  400,\n",
       "        420,  440,  460,  480,  500,  520,  540,  560,  580,  600,  620,\n",
       "        640,  660,  680,  700,  720,  740,  760,  780,  800,  820,  840,\n",
       "        860,  880,  900,  920,  940,  960,  980, 1000, 1020, 1040, 1060,\n",
       "       1080, 1100, 1120, 1140, 1160, 1180, 1200, 1220, 1240, 1260, 1280,\n",
       "       1300, 1320, 1340, 1360, 1380, 1400, 1420, 1440, 1460, 1480, 1500,\n",
       "       1520, 1540, 1560, 1580, 1600, 1620, 1640, 1660, 1680, 1700, 1720,\n",
       "       1740, 1760, 1780, 1800, 1820, 1840, 1860, 1880, 1900, 1920, 1940,\n",
       "       1960, 1980])},\n",
       "                   random_state=40)"
      ]
     },
     "execution_count": 7,
     "metadata": {},
     "output_type": "execute_result"
    }
   ],
   "source": [
    "rf_random = RandomizedSearchCV(rf,random_grid,n_iter=20,n_jobs=-1,random_state=40)\n",
    "\n",
    "rf_random.fit(X,y)"
   ]
  },
  {
   "cell_type": "code",
   "execution_count": 16,
   "metadata": {},
   "outputs": [
    {
     "data": {
      "text/plain": [
       "{'n_estimators': 1200,\n",
       " 'min_samples_leaf': 1,\n",
       " 'max_depth': 40,\n",
       " 'bootstrap': True}"
      ]
     },
     "execution_count": 16,
     "metadata": {},
     "output_type": "execute_result"
    }
   ],
   "source": [
    "rf_random.best_params_"
   ]
  },
  {
   "cell_type": "markdown",
   "metadata": {},
   "source": [
    "Now let's see how it looks:"
   ]
  },
  {
   "cell_type": "code",
   "execution_count": 9,
   "metadata": {},
   "outputs": [],
   "source": [
    "df['y_hat'] = rf_random.predict(X)"
   ]
  },
  {
   "cell_type": "code",
   "execution_count": 10,
   "metadata": {},
   "outputs": [
    {
     "data": {
      "text/plain": [
       "[<matplotlib.lines.Line2D at 0x1e38ad26580>]"
      ]
     },
     "execution_count": 10,
     "metadata": {},
     "output_type": "execute_result"
    },
    {
     "data": {
      "image/png": "[encoded data removed]",
      "text/plain": [
       "<Figure size 432x288 with 1 Axes>"
      ]
     },
     "metadata": {
      "needs_background": "light"
     },
     "output_type": "display_data"
    }
   ],
   "source": [
    "df[['Saleprice','y_hat']].plot(kind='scatter',y=\"Saleprice\",x='y_hat',alpha=.35)\n",
    "plt.plot(np.linspace(0,700000,10),np.linspace(0,700000,10),color=\"black\",ls=\"--\")"
   ]
  },
  {
   "cell_type": "code",
   "execution_count": 19,
   "metadata": {},
   "outputs": [
    {
     "data": {
      "text/plain": [
       "9525.75157376402"
      ]
     },
     "execution_count": 19,
     "metadata": {},
     "output_type": "execute_result"
    }
   ],
   "source": [
    "((df['Saleprice']-df['y_hat'])**2).mean()**.5"
   ]
  },
  {
   "cell_type": "markdown",
   "metadata": {},
   "source": [
    "Where is it predicting the worst?\n",
    "\n",
    "Is this good or bad?"
   ]
  },
  {
   "cell_type": "markdown",
   "metadata": {},
   "source": [
    "Let's look at some test data:"
   ]
  },
  {
   "cell_type": "code",
   "execution_count": 12,
   "metadata": {},
   "outputs": [],
   "source": [
    "test = pd.read_csv(\"C:/Users/jhtchns2/Downloads/houseprices/Cleaned test.csv\")"
   ]
  },
  {
   "cell_type": "code",
   "execution_count": 13,
   "metadata": {},
   "outputs": [],
   "source": [
    "X_test = test[features].values"
   ]
  },
  {
   "cell_type": "code",
   "execution_count": 14,
   "metadata": {},
   "outputs": [],
   "source": [
    "test['sale_price_pred'] = rf_random.predict(X_test)"
   ]
  },
  {
   "cell_type": "code",
   "execution_count": 15,
   "metadata": {},
   "outputs": [
    {
     "data": {
      "text/plain": [
       "<AxesSubplot:ylabel='Frequency'>"
      ]
     },
     "execution_count": 15,
     "metadata": {},
     "output_type": "execute_result"
    },
    {
     "data": {
      "image/png": "[encoded data removed]",
      "text/plain": [
       "<Figure size 432x288 with 1 Axes>"
      ]
     },
     "metadata": {
      "needs_background": "light"
     },
     "output_type": "display_data"
    }
   ],
   "source": [
    "test.sale_price_pred.plot(kind=\"hist\",bins=30,alpha=.3)\n",
    "df['Saleprice'].plot(kind=\"hist\",bins=40,color='C3',alpha=.3)"
   ]
  },
  {
   "cell_type": "markdown",
   "metadata": {},
   "source": [
    "Luckily, they look quite similar."
   ]
  },
  {
   "cell_type": "code",
   "execution_count": 17,
   "metadata": {},
   "outputs": [],
   "source": [
    "test[['sale_price_pred']].to_csv(\"rf_prices.csv\",index=False)"
   ]
  }
 ],
 "metadata": {
  "kernelspec": {
   "display_name": "Python 3",
   "language": "python",
   "name": "python3"
  },
  "language_info": {
   "codemirror_mode": {
    "name": "ipython",
    "version": 3
   },
   "file_extension": ".py",
   "mimetype": "text/x-python",
   "name": "python",
   "nbconvert_exporter": "python",
   "pygments_lexer": "ipython3",
   "version": "3.8.5"
  }
 },
 "nbformat": 4,
 "nbformat_minor": 4
}
