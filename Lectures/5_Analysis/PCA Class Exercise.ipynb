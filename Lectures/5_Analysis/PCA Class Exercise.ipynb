{
 "cells": [
  {
   "cell_type": "markdown",
   "metadata": {},
   "source": [
    "# PCA Class Exercise\n",
    "\n",
    "Using the assets data, attempt to estimate a PCA model to make an asset index.\n",
    "1. Choose the number of components\n",
    "2. Are you able to assign meaning to each component?"
   ]
  },
  {
   "cell_type": "code",
   "execution_count": 2,
   "metadata": {},
   "outputs": [],
   "source": [
    "from sklearn.preprocessing import StandardScaler\n",
    "from sklearn.decomposition import PCA\n",
    "import numpy as np\n",
    "import pandas as pd\n",
    "\n",
    "class PCA_Model:\n",
    "    def __init__(self,ncomps,data,cols):\n",
    "        \n",
    "        self.ncomps = ncomps\n",
    "        self.cols = cols\n",
    "        self.data = data\n",
    "        self.scaled_data = StandardScaler().fit_transform(data[cols].values)\n",
    "        \n",
    "    def fit(self):\n",
    "        self.PCA_obj = PCA(self.ncomps).fit(self.scaled_data)\n",
    "    \n",
    "    def describe(self):\n",
    "        explvar_ = self.PCA_obj.explained_variance_ratio_\n",
    "\n",
    "        explvar = pd.DataFrame(explvar_[np.newaxis,:]*100,\\\n",
    "                               columns=[\"Component \" + str(x) for x in range(self.ncomps)],\\\n",
    "                               index=[\"% Explained Variance\"])\n",
    "        \n",
    "        loadscores_ = self.PCA_obj.components_\n",
    "        loadscores = pd.DataFrame(loadscores_,\\\n",
    "                                  columns=self.cols,\\\n",
    "                                  index=[\"Component \" + str(x) for x in range(self.ncomps)])\n",
    "        print(\"Explains {0:0.2f}% of the variance\".format(round(sum(explvar_),2)*100))\n",
    "        print(explvar)\n",
    "        print(loadscores)\n",
    "        return explvar,loadscores\n",
    "    \n",
    "    def gen_data(self):\n",
    "        return self.PCA_obj.transform(self.scaled_data)\n",
    "    \n",
    "    def graph(self,alpha=.6):\n",
    "        self.graphdata = pd.concat([self.data[[color]].reset_index(drop=True),\\\n",
    "                                    pd.DataFrame(self.gen_data()).reset_index(drop=True)],axis=1)\n",
    "        if self.ncomps==2:\n",
    "            return self.graphdata.plot(kind=\"scatter\",x=0,y=1,\\\n",
    "                                       c=color,alpha=alpha,colormap=cm)\n",
    "        else:\n",
    "            ax = plt.axes(projection='3d')\n",
    "            ax.scatter3D(self.graphdata[0], \\\n",
    "                         self.graphdata[1], \\\n",
    "                         self.graphdata[2])#, \\\n",
    "                         #c=color,colormap=cm)\n",
    "    "
   ]
  }
 ],
 "metadata": {
  "kernelspec": {
   "display_name": "Python 3",
   "language": "python",
   "name": "python3"
  },
  "language_info": {
   "codemirror_mode": {
    "name": "ipython",
    "version": 3
   },
   "file_extension": ".py",
   "mimetype": "text/x-python",
   "name": "python",
   "nbconvert_exporter": "python",
   "pygments_lexer": "ipython3",
   "version": "3.8.5"
  }
 },
 "nbformat": 4,
 "nbformat_minor": 4
}
