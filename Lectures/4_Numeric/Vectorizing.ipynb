{
 "cells": [
  {
   "cell_type": "markdown",
   "metadata": {},
   "source": [
    "## Vectorizing Operations"
   ]
  },
  {
   "cell_type": "markdown",
   "metadata": {},
   "source": [
    "The first element on our checklist was to examine data types.\n",
    "\n",
    "If we have downcast all our data, what should we do next?"
   ]
  },
  {
   "cell_type": "markdown",
   "metadata": {},
   "source": [
    "### What is vectorization?\n",
    "Vectorization is doing operations on sets of values instead of individual values.\n",
    "\n",
    "Example of a numpy function that is \"vectorized\":"
   ]
  },
  {
   "cell_type": "code",
   "execution_count": 22,
   "metadata": {},
   "outputs": [],
   "source": [
    "import numpy as np"
   ]
  },
  {
   "cell_type": "code",
   "execution_count": 23,
   "metadata": {},
   "outputs": [
    {
     "name": "stdout",
     "output_type": "stream",
     "text": [
      "148 µs ± 19.2 µs per loop (mean ± std. dev. of 7 runs, 10000 loops each)\n"
     ]
    }
   ],
   "source": [
    "%timeit np.sum(np.arange(100000))"
   ]
  },
  {
   "cell_type": "markdown",
   "metadata": {},
   "source": [
    "Compare this to a function that is not vectorized:"
   ]
  },
  {
   "cell_type": "code",
   "execution_count": 24,
   "metadata": {},
   "outputs": [
    {
     "name": "stdout",
     "output_type": "stream",
     "text": [
      "62.7 ns ± 8.64 ns per loop (mean ± std. dev. of 7 runs, 10000000 loops each)\n"
     ]
    }
   ],
   "source": [
    "def sum_test():    \n",
    "    total = 0\n",
    "    for i in np.arange(100000):\n",
    "        total += i\n",
    "    return total\n",
    "\n",
    "%timeit sum_test"
   ]
  },
  {
   "cell_type": "markdown",
   "metadata": {},
   "source": [
    "Orders of magnitude faster.\n",
    "\n",
    "Often it feels easier to use for loops because they are easier to conceive and write. Taking time to vectorize an operation can help speed up code significantly, however."
   ]
  },
  {
   "cell_type": "markdown",
   "metadata": {},
   "source": [
    "Another example of an operation we already vectorized:\n",
    "\n",
    "To look at crop rotation, we had to assign values to an array based on the values of other arrays.\n",
    "\n",
    "The non-vectorized version:"
   ]
  },
  {
   "cell_type": "code",
   "execution_count": 25,
   "metadata": {},
   "outputs": [],
   "source": [
    "y16 = np.random.randint(0,2,size=1000000).reshape(1000,1000)\n",
    "y17 = np.random.randint(0,2,size=1000000).reshape(1000,1000)"
   ]
  },
  {
   "cell_type": "code",
   "execution_count": 26,
   "metadata": {},
   "outputs": [
    {
     "name": "stdout",
     "output_type": "stream",
     "text": [
      "1.31 s ± 39.4 ms per loop (mean ± std. dev. of 7 runs, 1 loop each)\n"
     ]
    }
   ],
   "source": [
    "def non_vect():\n",
    "    rotate = np.zeros([1000,1000])\n",
    "    for i in range(1000):\n",
    "        for j in range(1000):\n",
    "            rotate[i,j] = (1-y16[i,j])*y17[i,j]\n",
    "    return rotate\n",
    "\n",
    "%timeit non_vect()"
   ]
  },
  {
   "cell_type": "markdown",
   "metadata": {},
   "source": [
    "The vectorized version:"
   ]
  },
  {
   "cell_type": "code",
   "execution_count": 29,
   "metadata": {},
   "outputs": [
    {
     "data": {
      "text/plain": [
       "array([[0, 0, 0, ..., 0, 0, 1],\n",
       "       [1, 0, 0, ..., 0, 1, 0],\n",
       "       [1, 0, 1, ..., 0, 0, 0],\n",
       "       ...,\n",
       "       [0, 0, 0, ..., 0, 1, 0],\n",
       "       [1, 1, 0, ..., 0, 1, 0],\n",
       "       [0, 0, 0, ..., 0, 0, 0]])"
      ]
     },
     "execution_count": 29,
     "metadata": {},
     "output_type": "execute_result"
    }
   ],
   "source": [
    "(1-y16)*y17"
   ]
  },
  {
   "cell_type": "code",
   "execution_count": 27,
   "metadata": {},
   "outputs": [
    {
     "name": "stdout",
     "output_type": "stream",
     "text": [
      "4.29 ms ± 168 µs per loop (mean ± std. dev. of 7 runs, 100 loops each)\n"
     ]
    }
   ],
   "source": [
    "%timeit (1-y16)*y17"
   ]
  },
  {
   "cell_type": "markdown",
   "metadata": {},
   "source": [
    "Which is quite a bit of a speed improvement.\n",
    "\n",
    "Another useful aspect of vectorization is that `numpy` will __broadcast__ arrays together:"
   ]
  },
  {
   "cell_type": "code",
   "execution_count": 30,
   "metadata": {},
   "outputs": [],
   "source": [
    "import numpy as np\n",
    "sample = np.random.normal(loc=[4., 20.], scale=[1., 3.5],\n",
    "                           size=(10, 2))"
   ]
  },
  {
   "cell_type": "code",
   "execution_count": 31,
   "metadata": {},
   "outputs": [
    {
     "data": {
      "text/plain": [
       "array([[ 4.12618333, 27.44199882],\n",
       "       [ 5.93368869, 22.28037346],\n",
       "       [ 4.74557192, 27.30431394],\n",
       "       [ 4.63956065, 21.38107758],\n",
       "       [ 5.02243538, 19.29852652],\n",
       "       [ 4.55648092, 18.48373739],\n",
       "       [ 2.475351  , 22.50960304],\n",
       "       [ 3.86778336, 19.05543055],\n",
       "       [ 4.52652202, 17.56111298],\n",
       "       [ 3.50427429, 20.34526696]])"
      ]
     },
     "execution_count": 31,
     "metadata": {},
     "output_type": "execute_result"
    }
   ],
   "source": [
    "sample"
   ]
  },
  {
   "cell_type": "code",
   "execution_count": 32,
   "metadata": {},
   "outputs": [
    {
     "data": {
      "text/plain": [
       "array([ 4.33978515, 21.56614412])"
      ]
     },
     "execution_count": 32,
     "metadata": {},
     "output_type": "execute_result"
    }
   ],
   "source": [
    "sample.mean(axis=0)"
   ]
  },
  {
   "cell_type": "code",
   "execution_count": 33,
   "metadata": {},
   "outputs": [],
   "source": [
    "mu = sample.mean(axis=0)"
   ]
  },
  {
   "cell_type": "markdown",
   "metadata": {},
   "source": [
    "How could we demean this?"
   ]
  },
  {
   "cell_type": "code",
   "execution_count": 36,
   "metadata": {},
   "outputs": [
    {
     "data": {
      "text/plain": [
       "array([[-0.21360183,  5.87585469],\n",
       "       [ 1.59390353,  0.71422934],\n",
       "       [ 0.40578677,  5.73816981],\n",
       "       [ 0.29977549, -0.18506654],\n",
       "       [ 0.68265022, -2.2676176 ],\n",
       "       [ 0.21669576, -3.08240674],\n",
       "       [-1.86443416,  0.94345892],\n",
       "       [-0.47200179, -2.51071357],\n",
       "       [ 0.18673687, -4.00503115],\n",
       "       [-0.83551087, -1.22087716]])"
      ]
     },
     "execution_count": 36,
     "metadata": {},
     "output_type": "execute_result"
    }
   ],
   "source": [
    "sample - mu"
   ]
  },
  {
   "cell_type": "markdown",
   "metadata": {},
   "source": [
    "Why did this work? These are not compatible arrays!\n",
    "\n",
    "When an operation is done between two mismatched arrays, `numpy` first checks whether the right most dimension matches. If they match, it broadcasts (essentially repeats) the array so that becomes the same shape as the other array.\n",
    "\n",
    "In this case, it found an array that was (10,2) and (,2), so it simply repeated the mean 10 times so that it was (10,2). Then it did an element by element subtraction.\n",
    "\n",
    "This could be used to standardize arrays:"
   ]
  },
  {
   "cell_type": "code",
   "execution_count": 37,
   "metadata": {},
   "outputs": [],
   "source": [
    "std = sample.std(axis=0)"
   ]
  },
  {
   "cell_type": "code",
   "execution_count": 38,
   "metadata": {},
   "outputs": [
    {
     "data": {
      "text/plain": [
       "array([[-0.24208156,  1.79324883],\n",
       "       [ 1.80642015,  0.21797526],\n",
       "       [ 0.45989069,  1.75122886],\n",
       "       [ 0.33974484, -0.05648036],\n",
       "       [ 0.7736686 , -0.69205296],\n",
       "       [ 0.24558801, -0.940718  ],\n",
       "       [-2.11302087,  0.2879337 ],\n",
       "       [-0.53493422, -0.76624328],\n",
       "       [ 0.21163466, -1.22229323],\n",
       "       [-0.9469103 , -0.37259882]])"
      ]
     },
     "execution_count": 38,
     "metadata": {},
     "output_type": "execute_result"
    }
   ],
   "source": [
    "(sample -mu)/std"
   ]
  },
  {
   "cell_type": "markdown",
   "metadata": {},
   "source": [
    "You can very easily do this with pandas dataframes too:"
   ]
  },
  {
   "cell_type": "code",
   "execution_count": 39,
   "metadata": {},
   "outputs": [],
   "source": [
    "import pandas as pd\n",
    "sample_df = pd.DataFrame(sample)"
   ]
  },
  {
   "cell_type": "code",
   "execution_count": 40,
   "metadata": {},
   "outputs": [
    {
     "data": {
      "text/html": [
       "<div>\n",
       "<style scoped>\n",
       "    .dataframe tbody tr th:only-of-type {\n",
       "        vertical-align: middle;\n",
       "    }\n",
       "\n",
       "    .dataframe tbody tr th {\n",
       "        vertical-align: top;\n",
       "    }\n",
       "\n",
       "    .dataframe thead th {\n",
       "        text-align: right;\n",
       "    }\n",
       "</style>\n",
       "<table border=\"1\" class=\"dataframe\">\n",
       "  <thead>\n",
       "    <tr style=\"text-align: right;\">\n",
       "      <th></th>\n",
       "      <th>0</th>\n",
       "      <th>1</th>\n",
       "    </tr>\n",
       "  </thead>\n",
       "  <tbody>\n",
       "    <tr>\n",
       "      <th>0</th>\n",
       "      <td>-0.229659</td>\n",
       "      <td>1.701225</td>\n",
       "    </tr>\n",
       "    <tr>\n",
       "      <th>1</th>\n",
       "      <td>1.713721</td>\n",
       "      <td>0.206789</td>\n",
       "    </tr>\n",
       "    <tr>\n",
       "      <th>2</th>\n",
       "      <td>0.436291</td>\n",
       "      <td>1.661362</td>\n",
       "    </tr>\n",
       "    <tr>\n",
       "      <th>3</th>\n",
       "      <td>0.322310</td>\n",
       "      <td>-0.053582</td>\n",
       "    </tr>\n",
       "    <tr>\n",
       "      <th>4</th>\n",
       "      <td>0.733966</td>\n",
       "      <td>-0.656539</td>\n",
       "    </tr>\n",
       "    <tr>\n",
       "      <th>5</th>\n",
       "      <td>0.232985</td>\n",
       "      <td>-0.892443</td>\n",
       "    </tr>\n",
       "    <tr>\n",
       "      <th>6</th>\n",
       "      <td>-2.004588</td>\n",
       "      <td>0.273158</td>\n",
       "    </tr>\n",
       "    <tr>\n",
       "      <th>7</th>\n",
       "      <td>-0.507483</td>\n",
       "      <td>-0.726922</td>\n",
       "    </tr>\n",
       "    <tr>\n",
       "      <th>8</th>\n",
       "      <td>0.200774</td>\n",
       "      <td>-1.159569</td>\n",
       "    </tr>\n",
       "    <tr>\n",
       "      <th>9</th>\n",
       "      <td>-0.898318</td>\n",
       "      <td>-0.353478</td>\n",
       "    </tr>\n",
       "  </tbody>\n",
       "</table>\n",
       "</div>"
      ],
      "text/plain": [
       "          0         1\n",
       "0 -0.229659  1.701225\n",
       "1  1.713721  0.206789\n",
       "2  0.436291  1.661362\n",
       "3  0.322310 -0.053582\n",
       "4  0.733966 -0.656539\n",
       "5  0.232985 -0.892443\n",
       "6 -2.004588  0.273158\n",
       "7 -0.507483 -0.726922\n",
       "8  0.200774 -1.159569\n",
       "9 -0.898318 -0.353478"
      ]
     },
     "execution_count": 40,
     "metadata": {},
     "output_type": "execute_result"
    }
   ],
   "source": [
    "(sample_df - sample_df.mean())/sample_df.std()"
   ]
  },
  {
   "cell_type": "markdown",
   "metadata": {},
   "source": [
    "### An aside: some pandas techniques.\n",
    "We have not yet mentioned all of the ways to do pivot tables and data transformations in pandas.\n",
    "\n",
    "Let' start with the \"stack\" function"
   ]
  },
  {
   "cell_type": "code",
   "execution_count": 17,
   "metadata": {},
   "outputs": [],
   "source": [
    "import pandas as pd"
   ]
  },
  {
   "cell_type": "code",
   "execution_count": 18,
   "metadata": {},
   "outputs": [],
   "source": [
    "df = pd.read_csv(\"panel_example.csv\")"
   ]
  },
  {
   "cell_type": "code",
   "execution_count": 19,
   "metadata": {},
   "outputs": [],
   "source": [
    "df = df.set_index(['i','t'])"
   ]
  },
  {
   "cell_type": "markdown",
   "metadata": {},
   "source": [
    "Dataframes can use multi-level indices which can be useful:"
   ]
  },
  {
   "cell_type": "code",
   "execution_count": 20,
   "metadata": {},
   "outputs": [
    {
     "data": {
      "text/html": [
       "<div>\n",
       "<style scoped>\n",
       "    .dataframe tbody tr th:only-of-type {\n",
       "        vertical-align: middle;\n",
       "    }\n",
       "\n",
       "    .dataframe tbody tr th {\n",
       "        vertical-align: top;\n",
       "    }\n",
       "\n",
       "    .dataframe thead tr th {\n",
       "        text-align: left;\n",
       "    }\n",
       "\n",
       "    .dataframe thead tr:last-of-type th {\n",
       "        text-align: right;\n",
       "    }\n",
       "</style>\n",
       "<table border=\"1\" class=\"dataframe\">\n",
       "  <thead>\n",
       "    <tr>\n",
       "      <th></th>\n",
       "      <th colspan=\"10\" halign=\"left\">value</th>\n",
       "    </tr>\n",
       "    <tr>\n",
       "      <th>t</th>\n",
       "      <th>0</th>\n",
       "      <th>1</th>\n",
       "      <th>2</th>\n",
       "      <th>3</th>\n",
       "      <th>4</th>\n",
       "      <th>5</th>\n",
       "      <th>6</th>\n",
       "      <th>7</th>\n",
       "      <th>8</th>\n",
       "      <th>9</th>\n",
       "    </tr>\n",
       "    <tr>\n",
       "      <th>i</th>\n",
       "      <th></th>\n",
       "      <th></th>\n",
       "      <th></th>\n",
       "      <th></th>\n",
       "      <th></th>\n",
       "      <th></th>\n",
       "      <th></th>\n",
       "      <th></th>\n",
       "      <th></th>\n",
       "      <th></th>\n",
       "    </tr>\n",
       "  </thead>\n",
       "  <tbody>\n",
       "    <tr>\n",
       "      <th>0</th>\n",
       "      <td>4.688026</td>\n",
       "      <td>5.522693</td>\n",
       "      <td>3.794489</td>\n",
       "      <td>3.964962</td>\n",
       "      <td>2.411890</td>\n",
       "      <td>3.411730</td>\n",
       "      <td>5.471047</td>\n",
       "      <td>2.224358</td>\n",
       "      <td>3.014295</td>\n",
       "      <td>3.628636</td>\n",
       "    </tr>\n",
       "    <tr>\n",
       "      <th>1</th>\n",
       "      <td>20.763822</td>\n",
       "      <td>21.364728</td>\n",
       "      <td>16.473118</td>\n",
       "      <td>22.906417</td>\n",
       "      <td>20.685359</td>\n",
       "      <td>23.985350</td>\n",
       "      <td>17.449606</td>\n",
       "      <td>24.309989</td>\n",
       "      <td>19.684198</td>\n",
       "      <td>19.468067</td>\n",
       "    </tr>\n",
       "    <tr>\n",
       "      <th>2</th>\n",
       "      <td>13.345220</td>\n",
       "      <td>13.759424</td>\n",
       "      <td>15.433405</td>\n",
       "      <td>7.599836</td>\n",
       "      <td>12.815756</td>\n",
       "      <td>9.567005</td>\n",
       "      <td>13.707837</td>\n",
       "      <td>5.037831</td>\n",
       "      <td>9.862822</td>\n",
       "      <td>17.529517</td>\n",
       "    </tr>\n",
       "    <tr>\n",
       "      <th>3</th>\n",
       "      <td>2.874506</td>\n",
       "      <td>17.500661</td>\n",
       "      <td>21.603200</td>\n",
       "      <td>3.615383</td>\n",
       "      <td>12.067565</td>\n",
       "      <td>12.347808</td>\n",
       "      <td>6.555567</td>\n",
       "      <td>7.524997</td>\n",
       "      <td>-2.819713</td>\n",
       "      <td>-12.429077</td>\n",
       "    </tr>\n",
       "  </tbody>\n",
       "</table>\n",
       "</div>"
      ],
      "text/plain": [
       "       value                                                         \\\n",
       "t          0          1          2          3          4          5   \n",
       "i                                                                     \n",
       "0   4.688026   5.522693   3.794489   3.964962   2.411890   3.411730   \n",
       "1  20.763822  21.364728  16.473118  22.906417  20.685359  23.985350   \n",
       "2  13.345220  13.759424  15.433405   7.599836  12.815756   9.567005   \n",
       "3   2.874506  17.500661  21.603200   3.615383  12.067565  12.347808   \n",
       "\n",
       "                                               \n",
       "t          6          7          8          9  \n",
       "i                                              \n",
       "0   5.471047   2.224358   3.014295   3.628636  \n",
       "1  17.449606  24.309989  19.684198  19.468067  \n",
       "2  13.707837   5.037831   9.862822  17.529517  \n",
       "3   6.555567   7.524997  -2.819713 -12.429077  "
      ]
     },
     "execution_count": 20,
     "metadata": {},
     "output_type": "execute_result"
    }
   ],
   "source": [
    "df_wide = df.unstack()\n",
    "\n",
    "df_wide"
   ]
  },
  {
   "cell_type": "markdown",
   "metadata": {},
   "source": [
    "So calling `unstack` will automatically use the outermost index. Setting the level will change this behavior."
   ]
  },
  {
   "cell_type": "code",
   "execution_count": 21,
   "metadata": {},
   "outputs": [
    {
     "data": {
      "text/html": [
       "<div>\n",
       "<style scoped>\n",
       "    .dataframe tbody tr th:only-of-type {\n",
       "        vertical-align: middle;\n",
       "    }\n",
       "\n",
       "    .dataframe tbody tr th {\n",
       "        vertical-align: top;\n",
       "    }\n",
       "\n",
       "    .dataframe thead tr th {\n",
       "        text-align: left;\n",
       "    }\n",
       "\n",
       "    .dataframe thead tr:last-of-type th {\n",
       "        text-align: right;\n",
       "    }\n",
       "</style>\n",
       "<table border=\"1\" class=\"dataframe\">\n",
       "  <thead>\n",
       "    <tr>\n",
       "      <th></th>\n",
       "      <th colspan=\"4\" halign=\"left\">value</th>\n",
       "    </tr>\n",
       "    <tr>\n",
       "      <th>i</th>\n",
       "      <th>0</th>\n",
       "      <th>1</th>\n",
       "      <th>2</th>\n",
       "      <th>3</th>\n",
       "    </tr>\n",
       "    <tr>\n",
       "      <th>t</th>\n",
       "      <th></th>\n",
       "      <th></th>\n",
       "      <th></th>\n",
       "      <th></th>\n",
       "    </tr>\n",
       "  </thead>\n",
       "  <tbody>\n",
       "    <tr>\n",
       "      <th>0</th>\n",
       "      <td>4.688026</td>\n",
       "      <td>20.763822</td>\n",
       "      <td>13.345220</td>\n",
       "      <td>2.874506</td>\n",
       "    </tr>\n",
       "    <tr>\n",
       "      <th>1</th>\n",
       "      <td>5.522693</td>\n",
       "      <td>21.364728</td>\n",
       "      <td>13.759424</td>\n",
       "      <td>17.500661</td>\n",
       "    </tr>\n",
       "    <tr>\n",
       "      <th>2</th>\n",
       "      <td>3.794489</td>\n",
       "      <td>16.473118</td>\n",
       "      <td>15.433405</td>\n",
       "      <td>21.603200</td>\n",
       "    </tr>\n",
       "    <tr>\n",
       "      <th>3</th>\n",
       "      <td>3.964962</td>\n",
       "      <td>22.906417</td>\n",
       "      <td>7.599836</td>\n",
       "      <td>3.615383</td>\n",
       "    </tr>\n",
       "    <tr>\n",
       "      <th>4</th>\n",
       "      <td>2.411890</td>\n",
       "      <td>20.685359</td>\n",
       "      <td>12.815756</td>\n",
       "      <td>12.067565</td>\n",
       "    </tr>\n",
       "    <tr>\n",
       "      <th>5</th>\n",
       "      <td>3.411730</td>\n",
       "      <td>23.985350</td>\n",
       "      <td>9.567005</td>\n",
       "      <td>12.347808</td>\n",
       "    </tr>\n",
       "    <tr>\n",
       "      <th>6</th>\n",
       "      <td>5.471047</td>\n",
       "      <td>17.449606</td>\n",
       "      <td>13.707837</td>\n",
       "      <td>6.555567</td>\n",
       "    </tr>\n",
       "    <tr>\n",
       "      <th>7</th>\n",
       "      <td>2.224358</td>\n",
       "      <td>24.309989</td>\n",
       "      <td>5.037831</td>\n",
       "      <td>7.524997</td>\n",
       "    </tr>\n",
       "    <tr>\n",
       "      <th>8</th>\n",
       "      <td>3.014295</td>\n",
       "      <td>19.684198</td>\n",
       "      <td>9.862822</td>\n",
       "      <td>-2.819713</td>\n",
       "    </tr>\n",
       "    <tr>\n",
       "      <th>9</th>\n",
       "      <td>3.628636</td>\n",
       "      <td>19.468067</td>\n",
       "      <td>17.529517</td>\n",
       "      <td>-12.429077</td>\n",
       "    </tr>\n",
       "  </tbody>\n",
       "</table>\n",
       "</div>"
      ],
      "text/plain": [
       "      value                                 \n",
       "i         0          1          2          3\n",
       "t                                           \n",
       "0  4.688026  20.763822  13.345220   2.874506\n",
       "1  5.522693  21.364728  13.759424  17.500661\n",
       "2  3.794489  16.473118  15.433405  21.603200\n",
       "3  3.964962  22.906417   7.599836   3.615383\n",
       "4  2.411890  20.685359  12.815756  12.067565\n",
       "5  3.411730  23.985350   9.567005  12.347808\n",
       "6  5.471047  17.449606  13.707837   6.555567\n",
       "7  2.224358  24.309989   5.037831   7.524997\n",
       "8  3.014295  19.684198   9.862822  -2.819713\n",
       "9  3.628636  19.468067  17.529517 -12.429077"
      ]
     },
     "execution_count": 21,
     "metadata": {},
     "output_type": "execute_result"
    }
   ],
   "source": [
    "df.unstack(level=0)"
   ]
  },
  {
   "cell_type": "markdown",
   "metadata": {},
   "source": [
    "A fancier version of this is the `pivot_table` function, which can handle statistics."
   ]
  },
  {
   "cell_type": "code",
   "execution_count": 53,
   "metadata": {},
   "outputs": [
    {
     "data": {
      "text/html": [
       "<div>\n",
       "<style scoped>\n",
       "    .dataframe tbody tr th:only-of-type {\n",
       "        vertical-align: middle;\n",
       "    }\n",
       "\n",
       "    .dataframe tbody tr th {\n",
       "        vertical-align: top;\n",
       "    }\n",
       "\n",
       "    .dataframe thead th {\n",
       "        text-align: right;\n",
       "    }\n",
       "</style>\n",
       "<table border=\"1\" class=\"dataframe\">\n",
       "  <thead>\n",
       "    <tr style=\"text-align: right;\">\n",
       "      <th>i</th>\n",
       "      <th>0</th>\n",
       "      <th>1</th>\n",
       "      <th>2</th>\n",
       "      <th>3</th>\n",
       "    </tr>\n",
       "    <tr>\n",
       "      <th>t</th>\n",
       "      <th></th>\n",
       "      <th></th>\n",
       "      <th></th>\n",
       "      <th></th>\n",
       "    </tr>\n",
       "  </thead>\n",
       "  <tbody>\n",
       "    <tr>\n",
       "      <th>0</th>\n",
       "      <td>4.688026</td>\n",
       "      <td>20.763822</td>\n",
       "      <td>13.345220</td>\n",
       "      <td>2.874506</td>\n",
       "    </tr>\n",
       "    <tr>\n",
       "      <th>1</th>\n",
       "      <td>5.522693</td>\n",
       "      <td>21.364728</td>\n",
       "      <td>13.759424</td>\n",
       "      <td>17.500661</td>\n",
       "    </tr>\n",
       "    <tr>\n",
       "      <th>2</th>\n",
       "      <td>3.794489</td>\n",
       "      <td>16.473118</td>\n",
       "      <td>15.433405</td>\n",
       "      <td>21.603200</td>\n",
       "    </tr>\n",
       "    <tr>\n",
       "      <th>3</th>\n",
       "      <td>3.964962</td>\n",
       "      <td>22.906417</td>\n",
       "      <td>7.599836</td>\n",
       "      <td>3.615383</td>\n",
       "    </tr>\n",
       "    <tr>\n",
       "      <th>4</th>\n",
       "      <td>2.411890</td>\n",
       "      <td>20.685359</td>\n",
       "      <td>12.815756</td>\n",
       "      <td>12.067565</td>\n",
       "    </tr>\n",
       "    <tr>\n",
       "      <th>5</th>\n",
       "      <td>3.411730</td>\n",
       "      <td>23.985350</td>\n",
       "      <td>9.567005</td>\n",
       "      <td>12.347808</td>\n",
       "    </tr>\n",
       "    <tr>\n",
       "      <th>6</th>\n",
       "      <td>5.471047</td>\n",
       "      <td>17.449606</td>\n",
       "      <td>13.707837</td>\n",
       "      <td>6.555567</td>\n",
       "    </tr>\n",
       "    <tr>\n",
       "      <th>7</th>\n",
       "      <td>2.224358</td>\n",
       "      <td>24.309989</td>\n",
       "      <td>5.037831</td>\n",
       "      <td>7.524997</td>\n",
       "    </tr>\n",
       "    <tr>\n",
       "      <th>8</th>\n",
       "      <td>3.014295</td>\n",
       "      <td>19.684198</td>\n",
       "      <td>9.862822</td>\n",
       "      <td>-2.819713</td>\n",
       "    </tr>\n",
       "    <tr>\n",
       "      <th>9</th>\n",
       "      <td>3.628636</td>\n",
       "      <td>19.468067</td>\n",
       "      <td>17.529517</td>\n",
       "      <td>-12.429077</td>\n",
       "    </tr>\n",
       "  </tbody>\n",
       "</table>\n",
       "</div>"
      ],
      "text/plain": [
       "i         0          1          2          3\n",
       "t                                           \n",
       "0  4.688026  20.763822  13.345220   2.874506\n",
       "1  5.522693  21.364728  13.759424  17.500661\n",
       "2  3.794489  16.473118  15.433405  21.603200\n",
       "3  3.964962  22.906417   7.599836   3.615383\n",
       "4  2.411890  20.685359  12.815756  12.067565\n",
       "5  3.411730  23.985350   9.567005  12.347808\n",
       "6  5.471047  17.449606  13.707837   6.555567\n",
       "7  2.224358  24.309989   5.037831   7.524997\n",
       "8  3.014295  19.684198   9.862822  -2.819713\n",
       "9  3.628636  19.468067  17.529517 -12.429077"
      ]
     },
     "execution_count": 53,
     "metadata": {},
     "output_type": "execute_result"
    }
   ],
   "source": [
    "pd.pivot(df.reset_index(),columns=\"i\",values='value',index=\"t\")"
   ]
  },
  {
   "cell_type": "code",
   "execution_count": 54,
   "metadata": {},
   "outputs": [],
   "source": [
    "d = pd.read_csv(\"C:/Users/jhtchns2/classes/naab_example.csv\")"
   ]
  },
  {
   "cell_type": "code",
   "execution_count": 60,
   "metadata": {},
   "outputs": [],
   "source": [
    "d['id'] = d['breed'] + d['country_of_origin'] + d['sire_code'].astype(str)"
   ]
  },
  {
   "cell_type": "code",
   "execution_count": 64,
   "metadata": {},
   "outputs": [
    {
     "data": {
      "text/html": [
       "<div>\n",
       "<style scoped>\n",
       "    .dataframe tbody tr th:only-of-type {\n",
       "        vertical-align: middle;\n",
       "    }\n",
       "\n",
       "    .dataframe tbody tr th {\n",
       "        vertical-align: top;\n",
       "    }\n",
       "\n",
       "    .dataframe thead th {\n",
       "        text-align: right;\n",
       "    }\n",
       "</style>\n",
       "<table border=\"1\" class=\"dataframe\">\n",
       "  <thead>\n",
       "    <tr style=\"text-align: right;\">\n",
       "      <th>period</th>\n",
       "      <th>2000-02</th>\n",
       "      <th>2000-05</th>\n",
       "      <th>2000-08</th>\n",
       "      <th>2000-11</th>\n",
       "      <th>2001-02</th>\n",
       "      <th>2001-05</th>\n",
       "      <th>2001-08</th>\n",
       "      <th>2001-11</th>\n",
       "      <th>2002-02</th>\n",
       "      <th>2002-05</th>\n",
       "      <th>...</th>\n",
       "      <th>2017-08</th>\n",
       "      <th>2017-12</th>\n",
       "      <th>2018-04</th>\n",
       "      <th>2018-08</th>\n",
       "      <th>2018-12</th>\n",
       "      <th>2019-04</th>\n",
       "      <th>2019-08</th>\n",
       "      <th>2019-12</th>\n",
       "      <th>2020-04</th>\n",
       "      <th>2020-08</th>\n",
       "    </tr>\n",
       "    <tr>\n",
       "      <th>id</th>\n",
       "      <th></th>\n",
       "      <th></th>\n",
       "      <th></th>\n",
       "      <th></th>\n",
       "      <th></th>\n",
       "      <th></th>\n",
       "      <th></th>\n",
       "      <th></th>\n",
       "      <th></th>\n",
       "      <th></th>\n",
       "      <th></th>\n",
       "      <th></th>\n",
       "      <th></th>\n",
       "      <th></th>\n",
       "      <th></th>\n",
       "      <th></th>\n",
       "      <th></th>\n",
       "      <th></th>\n",
       "      <th></th>\n",
       "      <th></th>\n",
       "      <th></th>\n",
       "    </tr>\n",
       "  </thead>\n",
       "  <tbody>\n",
       "    <tr>\n",
       "      <th>AY84010863</th>\n",
       "      <td>NaN</td>\n",
       "      <td>NaN</td>\n",
       "      <td>NaN</td>\n",
       "      <td>NaN</td>\n",
       "      <td>NaN</td>\n",
       "      <td>NaN</td>\n",
       "      <td>NaN</td>\n",
       "      <td>NaN</td>\n",
       "      <td>NaN</td>\n",
       "      <td>NaN</td>\n",
       "      <td>...</td>\n",
       "      <td>NaN</td>\n",
       "      <td>NaN</td>\n",
       "      <td>NaN</td>\n",
       "      <td>NaN</td>\n",
       "      <td>1054.142857</td>\n",
       "      <td>1054.142857</td>\n",
       "      <td>975.038847</td>\n",
       "      <td>956.241855</td>\n",
       "      <td>954.899273</td>\n",
       "      <td>932.919628</td>\n",
       "    </tr>\n",
       "    <tr>\n",
       "      <th>AY8401881</th>\n",
       "      <td>NaN</td>\n",
       "      <td>NaN</td>\n",
       "      <td>NaN</td>\n",
       "      <td>NaN</td>\n",
       "      <td>NaN</td>\n",
       "      <td>NaN</td>\n",
       "      <td>NaN</td>\n",
       "      <td>NaN</td>\n",
       "      <td>NaN</td>\n",
       "      <td>NaN</td>\n",
       "      <td>...</td>\n",
       "      <td>NaN</td>\n",
       "      <td>NaN</td>\n",
       "      <td>NaN</td>\n",
       "      <td>NaN</td>\n",
       "      <td>NaN</td>\n",
       "      <td>NaN</td>\n",
       "      <td>NaN</td>\n",
       "      <td>NaN</td>\n",
       "      <td>NaN</td>\n",
       "      <td>NaN</td>\n",
       "    </tr>\n",
       "    <tr>\n",
       "      <th>AY8401885</th>\n",
       "      <td>NaN</td>\n",
       "      <td>NaN</td>\n",
       "      <td>NaN</td>\n",
       "      <td>NaN</td>\n",
       "      <td>NaN</td>\n",
       "      <td>NaN</td>\n",
       "      <td>NaN</td>\n",
       "      <td>NaN</td>\n",
       "      <td>NaN</td>\n",
       "      <td>NaN</td>\n",
       "      <td>...</td>\n",
       "      <td>NaN</td>\n",
       "      <td>NaN</td>\n",
       "      <td>NaN</td>\n",
       "      <td>NaN</td>\n",
       "      <td>NaN</td>\n",
       "      <td>NaN</td>\n",
       "      <td>891.235589</td>\n",
       "      <td>879.487469</td>\n",
       "      <td>768.072290</td>\n",
       "      <td>NaN</td>\n",
       "    </tr>\n",
       "    <tr>\n",
       "      <th>AY8401886</th>\n",
       "      <td>NaN</td>\n",
       "      <td>NaN</td>\n",
       "      <td>NaN</td>\n",
       "      <td>NaN</td>\n",
       "      <td>NaN</td>\n",
       "      <td>NaN</td>\n",
       "      <td>NaN</td>\n",
       "      <td>NaN</td>\n",
       "      <td>NaN</td>\n",
       "      <td>NaN</td>\n",
       "      <td>...</td>\n",
       "      <td>1256.993734</td>\n",
       "      <td>1282.056391</td>\n",
       "      <td>1300.070175</td>\n",
       "      <td>1318.867168</td>\n",
       "      <td>1410.502506</td>\n",
       "      <td>1246.028822</td>\n",
       "      <td>1040.828321</td>\n",
       "      <td>1115.233083</td>\n",
       "      <td>1093.371038</td>\n",
       "      <td>840.605119</td>\n",
       "    </tr>\n",
       "    <tr>\n",
       "      <th>AY8401887</th>\n",
       "      <td>NaN</td>\n",
       "      <td>NaN</td>\n",
       "      <td>NaN</td>\n",
       "      <td>NaN</td>\n",
       "      <td>NaN</td>\n",
       "      <td>NaN</td>\n",
       "      <td>NaN</td>\n",
       "      <td>NaN</td>\n",
       "      <td>NaN</td>\n",
       "      <td>NaN</td>\n",
       "      <td>...</td>\n",
       "      <td>NaN</td>\n",
       "      <td>NaN</td>\n",
       "      <td>NaN</td>\n",
       "      <td>NaN</td>\n",
       "      <td>NaN</td>\n",
       "      <td>NaN</td>\n",
       "      <td>NaN</td>\n",
       "      <td>NaN</td>\n",
       "      <td>NaN</td>\n",
       "      <td>NaN</td>\n",
       "    </tr>\n",
       "    <tr>\n",
       "      <th>...</th>\n",
       "      <td>...</td>\n",
       "      <td>...</td>\n",
       "      <td>...</td>\n",
       "      <td>...</td>\n",
       "      <td>...</td>\n",
       "      <td>...</td>\n",
       "      <td>...</td>\n",
       "      <td>...</td>\n",
       "      <td>...</td>\n",
       "      <td>...</td>\n",
       "      <td>...</td>\n",
       "      <td>...</td>\n",
       "      <td>...</td>\n",
       "      <td>...</td>\n",
       "      <td>...</td>\n",
       "      <td>...</td>\n",
       "      <td>...</td>\n",
       "      <td>...</td>\n",
       "      <td>...</td>\n",
       "      <td>...</td>\n",
       "      <td>...</td>\n",
       "    </tr>\n",
       "    <tr>\n",
       "      <th>WWUSA9334</th>\n",
       "      <td>NaN</td>\n",
       "      <td>NaN</td>\n",
       "      <td>NaN</td>\n",
       "      <td>NaN</td>\n",
       "      <td>NaN</td>\n",
       "      <td>NaN</td>\n",
       "      <td>NaN</td>\n",
       "      <td>NaN</td>\n",
       "      <td>NaN</td>\n",
       "      <td>NaN</td>\n",
       "      <td>...</td>\n",
       "      <td>NaN</td>\n",
       "      <td>NaN</td>\n",
       "      <td>NaN</td>\n",
       "      <td>NaN</td>\n",
       "      <td>NaN</td>\n",
       "      <td>NaN</td>\n",
       "      <td>NaN</td>\n",
       "      <td>NaN</td>\n",
       "      <td>NaN</td>\n",
       "      <td>NaN</td>\n",
       "    </tr>\n",
       "    <tr>\n",
       "      <th>WWUSA9335</th>\n",
       "      <td>NaN</td>\n",
       "      <td>NaN</td>\n",
       "      <td>NaN</td>\n",
       "      <td>NaN</td>\n",
       "      <td>NaN</td>\n",
       "      <td>NaN</td>\n",
       "      <td>NaN</td>\n",
       "      <td>NaN</td>\n",
       "      <td>NaN</td>\n",
       "      <td>970.0</td>\n",
       "      <td>...</td>\n",
       "      <td>NaN</td>\n",
       "      <td>NaN</td>\n",
       "      <td>NaN</td>\n",
       "      <td>NaN</td>\n",
       "      <td>NaN</td>\n",
       "      <td>NaN</td>\n",
       "      <td>NaN</td>\n",
       "      <td>NaN</td>\n",
       "      <td>NaN</td>\n",
       "      <td>NaN</td>\n",
       "    </tr>\n",
       "    <tr>\n",
       "      <th>WWUSA9336</th>\n",
       "      <td>NaN</td>\n",
       "      <td>NaN</td>\n",
       "      <td>NaN</td>\n",
       "      <td>NaN</td>\n",
       "      <td>NaN</td>\n",
       "      <td>NaN</td>\n",
       "      <td>NaN</td>\n",
       "      <td>NaN</td>\n",
       "      <td>NaN</td>\n",
       "      <td>NaN</td>\n",
       "      <td>...</td>\n",
       "      <td>NaN</td>\n",
       "      <td>NaN</td>\n",
       "      <td>NaN</td>\n",
       "      <td>NaN</td>\n",
       "      <td>NaN</td>\n",
       "      <td>NaN</td>\n",
       "      <td>NaN</td>\n",
       "      <td>NaN</td>\n",
       "      <td>NaN</td>\n",
       "      <td>NaN</td>\n",
       "    </tr>\n",
       "    <tr>\n",
       "      <th>WWUSA9374</th>\n",
       "      <td>NaN</td>\n",
       "      <td>NaN</td>\n",
       "      <td>NaN</td>\n",
       "      <td>NaN</td>\n",
       "      <td>NaN</td>\n",
       "      <td>NaN</td>\n",
       "      <td>NaN</td>\n",
       "      <td>NaN</td>\n",
       "      <td>NaN</td>\n",
       "      <td>NaN</td>\n",
       "      <td>...</td>\n",
       "      <td>NaN</td>\n",
       "      <td>NaN</td>\n",
       "      <td>NaN</td>\n",
       "      <td>NaN</td>\n",
       "      <td>NaN</td>\n",
       "      <td>NaN</td>\n",
       "      <td>NaN</td>\n",
       "      <td>NaN</td>\n",
       "      <td>NaN</td>\n",
       "      <td>NaN</td>\n",
       "    </tr>\n",
       "    <tr>\n",
       "      <th>WWUSA9439</th>\n",
       "      <td>2190.0</td>\n",
       "      <td>2200.0</td>\n",
       "      <td>1526.0</td>\n",
       "      <td>1496.0</td>\n",
       "      <td>1454.0</td>\n",
       "      <td>1515.0</td>\n",
       "      <td>1500.0</td>\n",
       "      <td>1500.0</td>\n",
       "      <td>1534.0</td>\n",
       "      <td>1507.0</td>\n",
       "      <td>...</td>\n",
       "      <td>NaN</td>\n",
       "      <td>NaN</td>\n",
       "      <td>NaN</td>\n",
       "      <td>NaN</td>\n",
       "      <td>NaN</td>\n",
       "      <td>NaN</td>\n",
       "      <td>NaN</td>\n",
       "      <td>NaN</td>\n",
       "      <td>NaN</td>\n",
       "      <td>NaN</td>\n",
       "    </tr>\n",
       "  </tbody>\n",
       "</table>\n",
       "<p>21309 rows × 70 columns</p>\n",
       "</div>"
      ],
      "text/plain": [
       "period      2000-02  2000-05  2000-08  2000-11  2001-02  2001-05  2001-08  \\\n",
       "id                                                                          \n",
       "AY84010863      NaN      NaN      NaN      NaN      NaN      NaN      NaN   \n",
       "AY8401881       NaN      NaN      NaN      NaN      NaN      NaN      NaN   \n",
       "AY8401885       NaN      NaN      NaN      NaN      NaN      NaN      NaN   \n",
       "AY8401886       NaN      NaN      NaN      NaN      NaN      NaN      NaN   \n",
       "AY8401887       NaN      NaN      NaN      NaN      NaN      NaN      NaN   \n",
       "...             ...      ...      ...      ...      ...      ...      ...   \n",
       "WWUSA9334       NaN      NaN      NaN      NaN      NaN      NaN      NaN   \n",
       "WWUSA9335       NaN      NaN      NaN      NaN      NaN      NaN      NaN   \n",
       "WWUSA9336       NaN      NaN      NaN      NaN      NaN      NaN      NaN   \n",
       "WWUSA9374       NaN      NaN      NaN      NaN      NaN      NaN      NaN   \n",
       "WWUSA9439    2190.0   2200.0   1526.0   1496.0   1454.0   1515.0   1500.0   \n",
       "\n",
       "period      2001-11  2002-02  2002-05  ...      2017-08      2017-12  \\\n",
       "id                                     ...                             \n",
       "AY84010863      NaN      NaN      NaN  ...          NaN          NaN   \n",
       "AY8401881       NaN      NaN      NaN  ...          NaN          NaN   \n",
       "AY8401885       NaN      NaN      NaN  ...          NaN          NaN   \n",
       "AY8401886       NaN      NaN      NaN  ...  1256.993734  1282.056391   \n",
       "AY8401887       NaN      NaN      NaN  ...          NaN          NaN   \n",
       "...             ...      ...      ...  ...          ...          ...   \n",
       "WWUSA9334       NaN      NaN      NaN  ...          NaN          NaN   \n",
       "WWUSA9335       NaN      NaN    970.0  ...          NaN          NaN   \n",
       "WWUSA9336       NaN      NaN      NaN  ...          NaN          NaN   \n",
       "WWUSA9374       NaN      NaN      NaN  ...          NaN          NaN   \n",
       "WWUSA9439    1500.0   1534.0   1507.0  ...          NaN          NaN   \n",
       "\n",
       "period          2018-04      2018-08      2018-12      2019-04      2019-08  \\\n",
       "id                                                                            \n",
       "AY84010863          NaN          NaN  1054.142857  1054.142857   975.038847   \n",
       "AY8401881           NaN          NaN          NaN          NaN          NaN   \n",
       "AY8401885           NaN          NaN          NaN          NaN   891.235589   \n",
       "AY8401886   1300.070175  1318.867168  1410.502506  1246.028822  1040.828321   \n",
       "AY8401887           NaN          NaN          NaN          NaN          NaN   \n",
       "...                 ...          ...          ...          ...          ...   \n",
       "WWUSA9334           NaN          NaN          NaN          NaN          NaN   \n",
       "WWUSA9335           NaN          NaN          NaN          NaN          NaN   \n",
       "WWUSA9336           NaN          NaN          NaN          NaN          NaN   \n",
       "WWUSA9374           NaN          NaN          NaN          NaN          NaN   \n",
       "WWUSA9439           NaN          NaN          NaN          NaN          NaN   \n",
       "\n",
       "period          2019-12      2020-04     2020-08  \n",
       "id                                                \n",
       "AY84010863   956.241855   954.899273  932.919628  \n",
       "AY8401881           NaN          NaN         NaN  \n",
       "AY8401885    879.487469   768.072290         NaN  \n",
       "AY8401886   1115.233083  1093.371038  840.605119  \n",
       "AY8401887           NaN          NaN         NaN  \n",
       "...                 ...          ...         ...  \n",
       "WWUSA9334           NaN          NaN         NaN  \n",
       "WWUSA9335           NaN          NaN         NaN  \n",
       "WWUSA9336           NaN          NaN         NaN  \n",
       "WWUSA9374           NaN          NaN         NaN  \n",
       "WWUSA9439           NaN          NaN         NaN  \n",
       "\n",
       "[21309 rows x 70 columns]"
      ]
     },
     "execution_count": 64,
     "metadata": {},
     "output_type": "execute_result"
    }
   ],
   "source": [
    "pd.pivot_table(d,index='id',columns=['period'],values='pta_milk')"
   ]
  },
  {
   "cell_type": "code",
   "execution_count": 1,
   "metadata": {},
   "outputs": [
    {
     "ename": "NameError",
     "evalue": "name 'pd' is not defined",
     "output_type": "error",
     "traceback": [
      "\u001b[1;31m---------------------------------------------------------------------------\u001b[0m",
      "\u001b[1;31mNameError\u001b[0m                                 Traceback (most recent call last)",
      "\u001b[1;32m<ipython-input-1-c8c2a69dd7ea>\u001b[0m in \u001b[0;36m<module>\u001b[1;34m\u001b[0m\n\u001b[1;32m----> 1\u001b[1;33m \u001b[0mpd\u001b[0m\u001b[1;33m.\u001b[0m\u001b[0mpivot_table\u001b[0m\u001b[1;33m(\u001b[0m\u001b[0md\u001b[0m\u001b[1;33m,\u001b[0m\u001b[0mindex\u001b[0m\u001b[1;33m=\u001b[0m\u001b[1;34m'breed'\u001b[0m\u001b[1;33m,\u001b[0m\u001b[0mcolumns\u001b[0m\u001b[1;33m=\u001b[0m\u001b[1;33m[\u001b[0m\u001b[1;34m'period'\u001b[0m\u001b[1;33m]\u001b[0m\u001b[1;33m,\u001b[0m\u001b[0mvalues\u001b[0m\u001b[1;33m=\u001b[0m\u001b[1;34m'pta_milk'\u001b[0m\u001b[1;33m)\u001b[0m\u001b[1;33m\u001b[0m\u001b[1;33m\u001b[0m\u001b[0m\n\u001b[0m",
      "\u001b[1;31mNameError\u001b[0m: name 'pd' is not defined"
     ]
    }
   ],
   "source": [
    "pd.pivot_table(d,index='breed',columns=['period'],values='pta_milk')"
   ]
  },
  {
   "cell_type": "code",
   "execution_count": null,
   "metadata": {},
   "outputs": [],
   "source": []
  }
 ],
 "metadata": {
  "kernelspec": {
   "display_name": "Python 3",
   "language": "python",
   "name": "python3"
  },
  "language_info": {
   "codemirror_mode": {
    "name": "ipython",
    "version": 3
   },
   "file_extension": ".py",
   "mimetype": "text/x-python",
   "name": "python",
   "nbconvert_exporter": "python",
   "pygments_lexer": "ipython3",
   "version": "3.8.5"
  }
 },
 "nbformat": 4,
 "nbformat_minor": 4
}
