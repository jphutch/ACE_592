{
 "cells": [
  {
   "cell_type": "markdown",
   "metadata": {},
   "source": [
    "## Problem 1\n",
    "\n",
    "### Wide to Long Conversions\n",
    "\n",
    "I have a dataset of dairy cow level data that is arranged in a very specfic format, specifically a __wide format__.\n",
    "\n",
    "I would like it to be in a __long format__.\n",
    "\n",
    "How do we solve this problem?\n",
    "\n",
    "Assume that:\n",
    "- The data is too big to fit in memory.\n",
    "- There is a \"wide_to_long\" function like [this one in pandas](https://pandas.pydata.org/docs/reference/api/pandas.wide_to_long.html).\n",
    "- The wide to long conversion cannot be done for all the rows at once without hitting memory problems.\n",
    "\n",
    "### Data Explanation\n",
    "This data is from an organization called a __Dairy Herd Improvement Association__. This organization takes monthly measurements (called \"tests\") for all the dairy cows on a member farm. Dairy cows produce in a \"cycle,\" and DHIA estimates \"total yield\" for their whole cycle from a mathematical formula using the monthly measurements.\n",
    "\n",
    "Description of the data:\n",
    "- cow_id: the id of the dairy cow.\n",
    "- total_yield: total milk yield for that cycle.\n",
    "- max_segment: the total number of tests taken.\n",
    "- seg_yield: the calculated yield for that test.\n",
    "- seg_stage: the stage of production cycle.\n",
    "- seg_time: the date of the test.\n",
    "\n",
    "### Objective: Make Data1 into Data2\n",
    "\n",
    "Rather than actually do it in this case, draw out how you would solve the problem on the provided Jamboards."
   ]
  },
  {
   "cell_type": "code",
   "execution_count": null,
   "metadata": {},
   "outputs": [],
   "source": [
    "data1 = '''\n",
    "cow_id     , total_yield, max_segment, cycle, seg1_yield, seg1_time, seg1_stage, seg2_yield, seg2_time, seg2_stage, seg3_yield, seg3_time, seg3_stage\n",
    "1          , 10         , 1          , 1    , 10        , 1/3/2013 , 1         ,           ,          ,           ,           ,          , \n",
    "1          , 55         , 2          , 1    , 10        , 1/3/2013 , 1         , 6         , 2/3/2013 , 2         ,           ,          , \n",
    "2          , 306        , 3          , 1    , 4         , 3/13/2013, 1         , 4         , 4/13/2013, 2         , 12        , 5/13/2013, 3\n",
    "2          , 35         , 1          , 2    , 10        , 7/3/2013 , 1         ,           ,          ,           ,           ,          , \n",
    "'''\n",
    "\n",
    "data2 = '''\n",
    "cow_id     , total_yield, max_segment, cycle, seg_yield , seg_time , seg_stage \n",
    "1          , 10         , 1          , 1    , 10        , 1/3/2013 , 1         \n",
    "1          , 55         , 2          , 1    , 6         , 2/3/2013 , 2         \n",
    "2          ,            , 3          , 1    , 4         , 3/13/2013, 1         \n",
    "2          ,            , 3          , 1    , 6         , 4/13/2013, 2         \n",
    "2          , 306        , 3          , 1    , 12        , 5/13/2013, 3         \n",
    "2          , 35         , 1          , 2    , 10        , 7/3/2013 , 1               \n",
    "'''"
   ]
  },
  {
   "cell_type": "code",
   "execution_count": null,
   "metadata": {},
   "outputs": [],
   "source": [
    "import pandas as pd\n",
    "from io import StringIO\n",
    "\n",
    "df1 = pd.read_csv(StringIO(data1))\n",
    "df2 = pd.read_csv(StringIO(data2))"
   ]
  },
  {
   "cell_type": "code",
   "execution_count": null,
   "metadata": {},
   "outputs": [],
   "source": [
    "df1"
   ]
  },
  {
   "cell_type": "code",
   "execution_count": null,
   "metadata": {},
   "outputs": [],
   "source": [
    "df2"
   ]
  },
  {
   "cell_type": "markdown",
   "metadata": {},
   "source": [
    "## Problem 2\n",
    "\n",
    "Given an array of 1s and 2s, suppose that I need to count how many times it turns from being 1 to being 2. How many switches happen in this array?"
   ]
  },
  {
   "cell_type": "code",
   "execution_count": 1,
   "metadata": {},
   "outputs": [],
   "source": [
    "import numpy as np\n",
    "np.random.seed(444)\n",
    "\n",
    "x = np.random.choice([1, 2], size=100000)"
   ]
  },
  {
   "cell_type": "markdown",
   "metadata": {},
   "source": [
    "For reference, here is the for loop version"
   ]
  },
  {
   "cell_type": "code",
   "execution_count": 4,
   "metadata": {},
   "outputs": [
    {
     "data": {
      "text/plain": [
       "24984"
      ]
     },
     "execution_count": 4,
     "metadata": {},
     "output_type": "execute_result"
    }
   ],
   "source": [
    "def count_transitions(x) -> int:\n",
    "    count = 0\n",
    "    for i, j in zip(x[:-1], x[1:]):\n",
    "        if j==2 and i==1:\n",
    "            count += 1\n",
    "    return count\n",
    "\n",
    "count_transitions(x)"
   ]
  },
  {
   "cell_type": "markdown",
   "metadata": {},
   "source": [
    "How would you make this vectorized and do it in one line?"
   ]
  },
  {
   "cell_type": "markdown",
   "metadata": {},
   "source": [
    "## Problem 3\n",
    "Given panel data, how can you do a vectorized demeaning by group `i`?"
   ]
  },
  {
   "cell_type": "code",
   "execution_count": 21,
   "metadata": {},
   "outputs": [],
   "source": [
    "sample = pd.read_csv(\"panel_example.csv\")\n",
    "\n",
    "sample"
   ]
  }
 ],
 "metadata": {
  "kernelspec": {
   "display_name": "Python 3",
   "language": "python",
   "name": "python3"
  },
  "language_info": {
   "codemirror_mode": {
    "name": "ipython",
    "version": 3
   },
   "file_extension": ".py",
   "mimetype": "text/x-python",
   "name": "python",
   "nbconvert_exporter": "python",
   "pygments_lexer": "ipython3",
   "version": "3.8.3"
  }
 },
 "nbformat": 4,
 "nbformat_minor": 4
}
