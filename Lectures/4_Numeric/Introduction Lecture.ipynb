{
 "cells": [
  {
   "cell_type": "markdown",
   "metadata": {
    "slideshow": {
     "slide_type": "slide"
    }
   },
   "source": [
    "# <center> Numbers as data: A reintroduction </center>\n",
    "\n",
    "## <center> ACE 592 </center>\n"
   ]
  },
  {
   "cell_type": "markdown",
   "metadata": {
    "slideshow": {
     "slide_type": "slide"
    }
   },
   "source": [
    "We're mostly used to this category of data, so for this section we will mostly talk about the following, common issue with data analysis:\n",
    "\n",
    "## My data is too big for my computer!\n",
    "## WHAT DO I DO???"
   ]
  },
  {
   "cell_type": "markdown",
   "metadata": {
    "slideshow": {
     "slide_type": "slide"
    }
   },
   "source": [
    "First of all, what is __big data__?\n",
    "\n",
    "The three V's:\n",
    "1. Velocity\n",
    "    - Data is being collected in realtime and streamed in constantly.\n",
    "    - Class example: our Twitter streaming API.\n",
    "2. Variety\n",
    "    - Data that is in the form of images or text (as an example).\n",
    "    - Class example: our text data or image data.\n",
    "3. Volume\n",
    "    - The size of the data.\n",
    "    - In this module we will finally talk about data that is truly __big__."
   ]
  },
  {
   "cell_type": "markdown",
   "metadata": {
    "slideshow": {
     "slide_type": "slide"
    }
   },
   "source": [
    "### Why this is important:\n",
    "The practice of __data science__ involves knowing how to deal with data in all of its forms.\n",
    "\n",
    "We have already seen variety and some velocity, so now let's look at volume.\n",
    "\n",
    "__Knowing how to store and process data efficiently is absolutely crucial to workflow__."
   ]
  },
  {
   "cell_type": "markdown",
   "metadata": {
    "slideshow": {
     "slide_type": "slide"
    }
   },
   "source": [
    "### Data Processing Problem Solving:\n",
    "\n",
    "In the next three weeks, we will discuss a range of data processing by focusing on how to fix our code when data processing either 1) does not fit into memory or 2) is too slow.\n",
    "\n",
    "How we will usually approach it:\n",
    "1. Sketch the problem.\n",
    "2. Run through the checklist.\n",
    "3. If nothing above works, get more memory!\n",
    "\n"
   ]
  },
  {
   "cell_type": "markdown",
   "metadata": {
    "slideshow": {
     "slide_type": "slide"
    }
   },
   "source": [
    "__First thing__:\n",
    "\n",
    "First things first: sketch out what you are trying to do!\n",
    "\n",
    "Why should we do this?\n",
    "\n",
    "- Sometimes the solution is __not__ more memory, but rather __smarter code__!\n",
    "- By thinking of all the steps and connecting them it can be easier to see where the bottlenecks are and how to fix them"
   ]
  },
  {
   "cell_type": "markdown",
   "metadata": {
    "slideshow": {
     "slide_type": "slide"
    }
   },
   "source": [
    "__Second thing__:\n",
    "\n",
    "Once you've done that, run through these questions:\n",
    "\n",
    "1. Can we change the __data type__?\n",
    "2. Can we __vectorize__ the operation?\n",
    "3. Can the operation be __chunked__?\n",
    "4. Can the operation be __parallelized__?\n",
    "5. Can the operation be __distributed__?"
   ]
  },
  {
   "cell_type": "markdown",
   "metadata": {
    "slideshow": {
     "slide_type": "slide"
    }
   },
   "source": [
    "__Last thing__:\n",
    "\n",
    "Your last resort is to hop on a server.\n",
    "\n",
    "Some options:\n",
    "1. A mid-tier server, usually around 200 gigs of memory (usually shared with others).\n",
    "    - Such servers are usually available in the Department.\n",
    "2. A cluster, which has much more memory.\n",
    "    - Available at the college or university level, but only accepts __batched__ commands.\n",
    "3. A paid cloud computing service such as Google Cloud or AWS.\n",
    "    - A good solution if you have a grant or external source to pay for it."
   ]
  },
  {
   "cell_type": "markdown",
   "metadata": {
    "slideshow": {
     "slide_type": "slide"
    }
   },
   "source": [
    "### Mapping the problem\n",
    "\n",
    "Why is this important?\n",
    "- Sometimes the solution is __not__ more memory, but rather __smarter code__!\n",
    "- By thinking of all the steps and connecting them it can be easier to see where the bottlenecks are.\n",
    "- Naturally can lead to you the solution."
   ]
  },
  {
   "cell_type": "markdown",
   "metadata": {
    "slideshow": {
     "slide_type": "slide"
    }
   },
   "source": [
    "### Example 1: Hub Distance\n",
    "For a paper, I wanted to look at the effect of the __closest__ Production Credit Association, a type of credit institution, on crop yields for a given county.\n",
    "\n",
    "Here's the data I have so far:\n",
    "- County-level crop yields.\n",
    "- A county shape file.\n",
    "- A shapefile of the bank locations.\n",
    "- Data about the banks.\n",
    "\n",
    "How would I proceed?"
   ]
  },
  {
   "cell_type": "markdown",
   "metadata": {
    "slideshow": {
     "slide_type": "slide"
    }
   },
   "source": [
    "#### For each step, let's specify:\n",
    "- The inputs.\n",
    "- The operations.\n",
    "- The outputs."
   ]
  },
  {
   "cell_type": "markdown",
   "metadata": {
    "slideshow": {
     "slide_type": "slide"
    }
   },
   "source": [
    "#### Step 1: Find the closest bank to each county centroid.\n",
    "How would I do this? Given a county centroid, I could calculate all the distances to all the different banks. Then I could sort the bank locations to find the one that has the smallest distance. I could then find the ID of the one with the smallest distance and assign that id to each county centroid.\n",
    "\n",
    "Inputs:\n",
    "- Bank locations\n",
    "- County centroids\n",
    "\n",
    "Operations:\n",
    "- Centroid calculation.\n",
    "- Distance calculation for each centroid.\n",
    "- Value assign.\n",
    "\n",
    "Outputs: \n",
    "- A correspondence between a county id and a bank id."
   ]
  },
  {
   "cell_type": "markdown",
   "metadata": {
    "slideshow": {
     "slide_type": "slide"
    }
   },
   "source": [
    "#### Step 2: Execute a merge between the datasets.\n",
    "\n",
    "Would have to merge the correspondence to the county-level dataset, and then use this as the key to merge the datasets on.\n",
    "\n",
    "Inputs:\n",
    "- County data\n",
    "- Bank data\n",
    "- Correspondence\n",
    "\n",
    "Operations:\n",
    "- Merge\n",
    "\n",
    "Outputs:\n",
    "- Merged dataset."
   ]
  },
  {
   "cell_type": "markdown",
   "metadata": {
    "slideshow": {
     "slide_type": "slide"
    }
   },
   "source": [
    "#### What if you can't fit it in memory?\n",
    "- Read each country centroid in to data and calculate distances.\n",
    "- Then write out each distance matrix you calculate.\n",
    "\n",
    "#### What if it takes way too long?\n",
    "- Could theoretically parallelize this operation given that each draw is independent."
   ]
  },
  {
   "cell_type": "markdown",
   "metadata": {
    "slideshow": {
     "slide_type": "slide"
    }
   },
   "source": [
    "### Example 2: Pixel Counts\n",
    "\n",
    "In your assignment, it took a lot of time to count pixels and took a lot of memory.\n",
    "\n",
    "What's a better way?"
   ]
  },
  {
   "cell_type": "markdown",
   "metadata": {
    "slideshow": {
     "slide_type": "slide"
    }
   },
   "source": [
    "#### Step 1: Split the raster into columns.\n",
    "\n",
    "#### Step 2: Count the pixels in each column.\n",
    "\n",
    "#### Step 3: Sum all the pixel counts together."
   ]
  },
  {
   "attachments": {
    "image.png": {
     "image/png": "[encoded data removed]"
    }
   },
   "cell_type": "markdown",
   "metadata": {},
   "source": [
    "## Data Types\n",
    "Our first line of defense against memory problems is defining what our data types are.\n",
    "\n",
    "Recall that the more values a number can take, the more __bits__ it needs to store. The smallest data type would be a boolean (0 or 1) and the largest would be a 64 bit integer.\n",
    "\n",
    "![image.png](attachment:image.png)"
   ]
  },
  {
   "attachments": {
    "image.png": {
     "image/png": "[encoded data removed]"
    }
   },
   "cell_type": "markdown",
   "metadata": {},
   "source": [
    "![image.png](attachment:image.png)"
   ]
  },
  {
   "cell_type": "markdown",
   "metadata": {},
   "source": [
    "One thing you will notice about pandas is that it will automatically store things in the dataframe with 64 bits."
   ]
  },
  {
   "cell_type": "code",
   "execution_count": 1,
   "metadata": {},
   "outputs": [
    {
     "data": {
      "text/html": [
       "<div>\n",
       "<style scoped>\n",
       "    .dataframe tbody tr th:only-of-type {\n",
       "        vertical-align: middle;\n",
       "    }\n",
       "\n",
       "    .dataframe tbody tr th {\n",
       "        vertical-align: top;\n",
       "    }\n",
       "\n",
       "    .dataframe thead th {\n",
       "        text-align: right;\n",
       "    }\n",
       "</style>\n",
       "<table border=\"1\" class=\"dataframe\">\n",
       "  <thead>\n",
       "    <tr style=\"text-align: right;\">\n",
       "      <th></th>\n",
       "      <th>0</th>\n",
       "    </tr>\n",
       "  </thead>\n",
       "  <tbody>\n",
       "    <tr>\n",
       "      <th>0</th>\n",
       "      <td>0</td>\n",
       "    </tr>\n",
       "    <tr>\n",
       "      <th>1</th>\n",
       "      <td>1</td>\n",
       "    </tr>\n",
       "    <tr>\n",
       "      <th>2</th>\n",
       "      <td>0</td>\n",
       "    </tr>\n",
       "    <tr>\n",
       "      <th>3</th>\n",
       "      <td>1</td>\n",
       "    </tr>\n",
       "    <tr>\n",
       "      <th>4</th>\n",
       "      <td>1</td>\n",
       "    </tr>\n",
       "    <tr>\n",
       "      <th>...</th>\n",
       "      <td>...</td>\n",
       "    </tr>\n",
       "    <tr>\n",
       "      <th>599995</th>\n",
       "      <td>1</td>\n",
       "    </tr>\n",
       "    <tr>\n",
       "      <th>599996</th>\n",
       "      <td>0</td>\n",
       "    </tr>\n",
       "    <tr>\n",
       "      <th>599997</th>\n",
       "      <td>1</td>\n",
       "    </tr>\n",
       "    <tr>\n",
       "      <th>599998</th>\n",
       "      <td>1</td>\n",
       "    </tr>\n",
       "    <tr>\n",
       "      <th>599999</th>\n",
       "      <td>0</td>\n",
       "    </tr>\n",
       "  </tbody>\n",
       "</table>\n",
       "<p>600000 rows × 1 columns</p>\n",
       "</div>"
      ],
      "text/plain": [
       "        0\n",
       "0       0\n",
       "1       1\n",
       "2       0\n",
       "3       1\n",
       "4       1\n",
       "...    ..\n",
       "599995  1\n",
       "599996  0\n",
       "599997  1\n",
       "599998  1\n",
       "599999  0\n",
       "\n",
       "[600000 rows x 1 columns]"
      ]
     },
     "execution_count": 1,
     "metadata": {},
     "output_type": "execute_result"
    }
   ],
   "source": [
    "import pandas as pd\n",
    "ex = pd.DataFrame([0,1,0,1,1,0]*10**5)\n",
    "ex.to_csv(\"ex_big.csv\",index=False)\n",
    "\n",
    "ex"
   ]
  },
  {
   "cell_type": "code",
   "execution_count": 2,
   "metadata": {},
   "outputs": [
    {
     "name": "stdout",
     "output_type": "stream",
     "text": [
      "<class 'pandas.core.frame.DataFrame'>\n",
      "RangeIndex: 600000 entries, 0 to 599999\n",
      "Data columns (total 1 columns):\n",
      " #   Column  Non-Null Count   Dtype\n",
      "---  ------  --------------   -----\n",
      " 0   0       600000 non-null  int64\n",
      "dtypes: int64(1)\n",
      "memory usage: 4.6 MB\n"
     ]
    }
   ],
   "source": [
    "ex.info()"
   ]
  },
  {
   "cell_type": "code",
   "execution_count": 3,
   "metadata": {},
   "outputs": [],
   "source": [
    "ex_64 = ex[0].memory_usage()"
   ]
  },
  {
   "cell_type": "code",
   "execution_count": 4,
   "metadata": {},
   "outputs": [
    {
     "name": "stdout",
     "output_type": "stream",
     "text": [
      "<class 'pandas.core.frame.DataFrame'>\n",
      "RangeIndex: 600000 entries, 0 to 599999\n",
      "Data columns (total 1 columns):\n",
      " #   Column  Non-Null Count   Dtype\n",
      "---  ------  --------------   -----\n",
      " 0   0       600000 non-null  uint8\n",
      "dtypes: uint8(1)\n",
      "memory usage: 586.1 KB\n"
     ]
    }
   ],
   "source": [
    "ex[0] = ex[0].astype(\"uint8\")\n",
    "ex.to_csv(\"ex_small.csv\",index=False)\n",
    "ex.info()"
   ]
  },
  {
   "cell_type": "code",
   "execution_count": 5,
   "metadata": {},
   "outputs": [],
   "source": [
    "ex_8 = ex[0].memory_usage()"
   ]
  },
  {
   "cell_type": "code",
   "execution_count": 6,
   "metadata": {},
   "outputs": [
    {
     "data": {
      "text/plain": [
       "87.49766672888724"
      ]
     },
     "execution_count": 6,
     "metadata": {},
     "output_type": "execute_result"
    }
   ],
   "source": [
    "(1-ex_8/ex_64)*100"
   ]
  },
  {
   "cell_type": "markdown",
   "metadata": {},
   "source": [
    "An 87% reduction in memory usage just from changing one data type!"
   ]
  },
  {
   "cell_type": "code",
   "execution_count": 7,
   "metadata": {},
   "outputs": [
    {
     "name": "stdout",
     "output_type": "stream",
     "text": [
      "<class 'pandas.core.frame.DataFrame'>\n",
      "RangeIndex: 600000 entries, 0 to 599999\n",
      "Data columns (total 1 columns):\n",
      " #   Column  Non-Null Count   Dtype\n",
      "---  ------  --------------   -----\n",
      " 0   0       600000 non-null  int64\n",
      "dtypes: int64(1)\n",
      "memory usage: 4.6 MB\n"
     ]
    }
   ],
   "source": [
    "pd.read_csv(\"ex.csv\").info()"
   ]
  },
  {
   "cell_type": "markdown",
   "metadata": {},
   "source": [
    "Part of the pandas read_csv function always reads things in with 64 bits unless you tell it to otherwise. This is a common reason for bloated dataframes.\n",
    "\n",
    "To get around this, you can specify a dtype in the read function."
   ]
  },
  {
   "cell_type": "code",
   "execution_count": 8,
   "metadata": {},
   "outputs": [
    {
     "name": "stdout",
     "output_type": "stream",
     "text": [
      "<class 'pandas.core.frame.DataFrame'>\n",
      "RangeIndex: 600000 entries, 0 to 599999\n",
      "Data columns (total 1 columns):\n",
      " #   Column  Non-Null Count   Dtype\n",
      "---  ------  --------------   -----\n",
      " 0   0       600000 non-null  uint8\n",
      "dtypes: uint8(1)\n",
      "memory usage: 586.1 KB\n"
     ]
    }
   ],
   "source": [
    "pd.read_csv(\"ex.csv\",dtype={0:\"uint8\"}).info()"
   ]
  },
  {
   "cell_type": "markdown",
   "metadata": {},
   "source": [
    "Specifying a dictionary ahead of time can cut down on the memory footprint."
   ]
  },
  {
   "cell_type": "markdown",
   "metadata": {},
   "source": [
    "### Other types of data:\n",
    "- `float`, which is what the data must be to store `np.nan` as missing values.\n",
    "- `boolean`, which is similar to what we stored above.\n",
    "- `datetime`, which represents dates.\n",
    "- `category`, a special `pandas` object for variables with discrete levels."
   ]
  },
  {
   "cell_type": "markdown",
   "metadata": {},
   "source": [
    "An example dataset I have been looking at of traits of different dairy animals for sale."
   ]
  },
  {
   "cell_type": "code",
   "execution_count": 9,
   "metadata": {},
   "outputs": [],
   "source": [
    "df = pd.read_csv(\"C:/Users/jhtchns2/classes/naab_example.csv\")"
   ]
  },
  {
   "cell_type": "code",
   "execution_count": 10,
   "metadata": {},
   "outputs": [
    {
     "data": {
      "text/html": [
       "<div>\n",
       "<style scoped>\n",
       "    .dataframe tbody tr th:only-of-type {\n",
       "        vertical-align: middle;\n",
       "    }\n",
       "\n",
       "    .dataframe tbody tr th {\n",
       "        vertical-align: top;\n",
       "    }\n",
       "\n",
       "    .dataframe thead th {\n",
       "        text-align: right;\n",
       "    }\n",
       "</style>\n",
       "<table border=\"1\" class=\"dataframe\">\n",
       "  <thead>\n",
       "    <tr style=\"text-align: right;\">\n",
       "      <th></th>\n",
       "      <th>breed</th>\n",
       "      <th>country_of_origin</th>\n",
       "      <th>sire_code</th>\n",
       "      <th>period</th>\n",
       "      <th>price</th>\n",
       "      <th>birth_date</th>\n",
       "      <th>pta_milk</th>\n",
       "      <th>pta_fat_lb</th>\n",
       "      <th>pta_scs</th>\n",
       "      <th>pta_protein_lb</th>\n",
       "      <th>pta_dpr</th>\n",
       "    </tr>\n",
       "  </thead>\n",
       "  <tbody>\n",
       "    <tr>\n",
       "      <th>0</th>\n",
       "      <td>AY</td>\n",
       "      <td>CAN</td>\n",
       "      <td>10092</td>\n",
       "      <td>2000-02</td>\n",
       "      <td>12.0</td>\n",
       "      <td>1991-10-20</td>\n",
       "      <td>1124.0</td>\n",
       "      <td>41.0</td>\n",
       "      <td>3.32</td>\n",
       "      <td>32.0</td>\n",
       "      <td>NaN</td>\n",
       "    </tr>\n",
       "    <tr>\n",
       "      <th>1</th>\n",
       "      <td>AY</td>\n",
       "      <td>CAN</td>\n",
       "      <td>10094</td>\n",
       "      <td>2000-02</td>\n",
       "      <td>18.0</td>\n",
       "      <td>1992-06-15</td>\n",
       "      <td>1664.0</td>\n",
       "      <td>44.0</td>\n",
       "      <td>2.92</td>\n",
       "      <td>35.0</td>\n",
       "      <td>NaN</td>\n",
       "    </tr>\n",
       "    <tr>\n",
       "      <th>2</th>\n",
       "      <td>AY</td>\n",
       "      <td>CAN</td>\n",
       "      <td>10181</td>\n",
       "      <td>2000-02</td>\n",
       "      <td>12.0</td>\n",
       "      <td>1992-05-30</td>\n",
       "      <td>939.0</td>\n",
       "      <td>45.0</td>\n",
       "      <td>2.87</td>\n",
       "      <td>27.0</td>\n",
       "      <td>NaN</td>\n",
       "    </tr>\n",
       "    <tr>\n",
       "      <th>3</th>\n",
       "      <td>AY</td>\n",
       "      <td>CAN</td>\n",
       "      <td>10180</td>\n",
       "      <td>2000-02</td>\n",
       "      <td>12.0</td>\n",
       "      <td>1992-06-25</td>\n",
       "      <td>660.0</td>\n",
       "      <td>30.0</td>\n",
       "      <td>3.28</td>\n",
       "      <td>21.0</td>\n",
       "      <td>NaN</td>\n",
       "    </tr>\n",
       "    <tr>\n",
       "      <th>4</th>\n",
       "      <td>AY</td>\n",
       "      <td>CAN</td>\n",
       "      <td>10095</td>\n",
       "      <td>2000-02</td>\n",
       "      <td>15.0</td>\n",
       "      <td>1992-10-25</td>\n",
       "      <td>259.0</td>\n",
       "      <td>26.0</td>\n",
       "      <td>3.18</td>\n",
       "      <td>6.0</td>\n",
       "      <td>NaN</td>\n",
       "    </tr>\n",
       "  </tbody>\n",
       "</table>\n",
       "</div>"
      ],
      "text/plain": [
       "  breed country_of_origin  sire_code   period  price  birth_date  pta_milk  \\\n",
       "0    AY               CAN      10092  2000-02   12.0  1991-10-20    1124.0   \n",
       "1    AY               CAN      10094  2000-02   18.0  1992-06-15    1664.0   \n",
       "2    AY               CAN      10181  2000-02   12.0  1992-05-30     939.0   \n",
       "3    AY               CAN      10180  2000-02   12.0  1992-06-25     660.0   \n",
       "4    AY               CAN      10095  2000-02   15.0  1992-10-25     259.0   \n",
       "\n",
       "   pta_fat_lb  pta_scs  pta_protein_lb  pta_dpr  \n",
       "0        41.0     3.32            32.0      NaN  \n",
       "1        44.0     2.92            35.0      NaN  \n",
       "2        45.0     2.87            27.0      NaN  \n",
       "3        30.0     3.28            21.0      NaN  \n",
       "4        26.0     3.18             6.0      NaN  "
      ]
     },
     "execution_count": 10,
     "metadata": {},
     "output_type": "execute_result"
    }
   ],
   "source": [
    "df.head()"
   ]
  },
  {
   "cell_type": "code",
   "execution_count": 11,
   "metadata": {
    "scrolled": true
   },
   "outputs": [
    {
     "name": "stdout",
     "output_type": "stream",
     "text": [
      "<class 'pandas.core.frame.DataFrame'>\n",
      "RangeIndex: 150831 entries, 0 to 150830\n",
      "Data columns (total 11 columns):\n",
      " #   Column             Non-Null Count   Dtype  \n",
      "---  ------             --------------   -----  \n",
      " 0   breed              150831 non-null  object \n",
      " 1   country_of_origin  150831 non-null  object \n",
      " 2   sire_code          150831 non-null  int64  \n",
      " 3   period             150831 non-null  object \n",
      " 4   price              97467 non-null   float64\n",
      " 5   birth_date         150831 non-null  object \n",
      " 6   pta_milk           150828 non-null  float64\n",
      " 7   pta_fat_lb         150828 non-null  float64\n",
      " 8   pta_scs            150757 non-null  float64\n",
      " 9   pta_protein_lb     150828 non-null  float64\n",
      " 10  pta_dpr            138108 non-null  float64\n",
      "dtypes: float64(6), int64(1), object(4)\n",
      "memory usage: 12.7+ MB\n"
     ]
    }
   ],
   "source": [
    "df.info()"
   ]
  },
  {
   "cell_type": "markdown",
   "metadata": {},
   "source": [
    "How can I reduce the memory footprint of this dataset?"
   ]
  },
  {
   "cell_type": "markdown",
   "metadata": {},
   "source": [
    "### Downcasting Variables\n",
    "\n",
    "The `pandas` function `to_numeric` will, given an object, reduce it to the smalles byte object possible with `downcast=variable_type`:"
   ]
  },
  {
   "cell_type": "code",
   "execution_count": 12,
   "metadata": {},
   "outputs": [
    {
     "data": {
      "text/plain": [
       "0         12.0\n",
       "1         18.0\n",
       "2         12.0\n",
       "3         12.0\n",
       "4         15.0\n",
       "          ... \n",
       "150826     NaN\n",
       "150827     NaN\n",
       "150828     NaN\n",
       "150829     NaN\n",
       "150830    26.0\n",
       "Name: price, Length: 150831, dtype: float64"
      ]
     },
     "execution_count": 12,
     "metadata": {},
     "output_type": "execute_result"
    }
   ],
   "source": [
    "df.price"
   ]
  },
  {
   "cell_type": "code",
   "execution_count": 13,
   "metadata": {},
   "outputs": [
    {
     "data": {
      "text/plain": [
       "0    97467\n",
       "dtype: int64"
      ]
     },
     "execution_count": 13,
     "metadata": {},
     "output_type": "execute_result"
    }
   ],
   "source": [
    "pd.Series([str(x).split(\".\")[1] for x in df.price.dropna()]).value_counts()"
   ]
  },
  {
   "cell_type": "markdown",
   "metadata": {},
   "source": [
    "This is clearly just an integer. Let's try and downcast it:"
   ]
  },
  {
   "cell_type": "code",
   "execution_count": 16,
   "metadata": {},
   "outputs": [
    {
     "data": {
      "text/plain": [
       "0         12.0\n",
       "1         18.0\n",
       "2         12.0\n",
       "3         12.0\n",
       "4         15.0\n",
       "          ... \n",
       "150826     NaN\n",
       "150827     NaN\n",
       "150828     NaN\n",
       "150829     NaN\n",
       "150830    26.0\n",
       "Name: price, Length: 150831, dtype: float64"
      ]
     },
     "execution_count": 16,
     "metadata": {},
     "output_type": "execute_result"
    }
   ],
   "source": [
    "pd.to_numeric(df.price,downcast=\"integer\")"
   ]
  },
  {
   "cell_type": "markdown",
   "metadata": {},
   "source": [
    "It didnt work! Why? \n",
    "\n",
    "Currently, pandas only supports missing values in floats and not in integers.\n",
    "\n",
    "Two options:\n",
    "1. Downcast to float.\n",
    "2. Fill the missing values with another integer."
   ]
  },
  {
   "cell_type": "code",
   "execution_count": 18,
   "metadata": {},
   "outputs": [
    {
     "data": {
      "text/plain": [
       "1206776"
      ]
     },
     "execution_count": 18,
     "metadata": {},
     "output_type": "execute_result"
    }
   ],
   "source": [
    "df.price.memory_usage()"
   ]
  },
  {
   "cell_type": "code",
   "execution_count": 17,
   "metadata": {},
   "outputs": [
    {
     "data": {
      "text/plain": [
       "(0    12.0\n",
       " 1    18.0\n",
       " 2    12.0\n",
       " 3    12.0\n",
       " 4    15.0\n",
       " Name: price, dtype: float32,\n",
       " 603452)"
      ]
     },
     "execution_count": 17,
     "metadata": {},
     "output_type": "execute_result"
    }
   ],
   "source": [
    "pd.to_numeric(df.price,downcast=\"float\").head(), pd.to_numeric(df.price,downcast=\"float\").memory_usage()"
   ]
  },
  {
   "cell_type": "code",
   "execution_count": 19,
   "metadata": {},
   "outputs": [
    {
     "data": {
      "text/plain": [
       "(0    12\n",
       " 1    18\n",
       " 2    12\n",
       " 3    12\n",
       " 4    15\n",
       " Name: price, dtype: int16,\n",
       " 301790)"
      ]
     },
     "execution_count": 19,
     "metadata": {},
     "output_type": "execute_result"
    }
   ],
   "source": [
    "pd.to_numeric(df.price.fillna(-1),downcast=\"integer\").head(), \\\n",
    "pd.to_numeric(df.price.fillna(-1),downcast=\"integer\").memory_usage()"
   ]
  },
  {
   "cell_type": "markdown",
   "metadata": {},
   "source": [
    "Notice that filling a missing value in this case can get memory usage in half since it now only needs 16 bits to store it instead of 32.\n",
    "\n",
    "The pro of filling is that you an reduce memory even more.\n",
    "\n",
    "The con of filling is that you can accidentally run analysis without taking out your \"fill value,\" in this case -1, which will cause problems with the analysis."
   ]
  },
  {
   "cell_type": "code",
   "execution_count": 20,
   "metadata": {},
   "outputs": [],
   "source": [
    "def downcast(x):\n",
    "    return pd.to_numeric(x,downcast=\"float\")\n",
    "\n",
    "df_num = df.iloc[:,6:]\n",
    "df_num_red = df_num.apply(downcast,axis=1)"
   ]
  },
  {
   "cell_type": "code",
   "execution_count": 21,
   "metadata": {},
   "outputs": [
    {
     "data": {
      "text/plain": [
       "0.5000106076738564"
      ]
     },
     "execution_count": 21,
     "metadata": {},
     "output_type": "execute_result"
    }
   ],
   "source": [
    "df_num_red.memory_usage().sum()/df_num.memory_usage().sum()"
   ]
  },
  {
   "cell_type": "markdown",
   "metadata": {},
   "source": [
    "Casting everything to float32 from float64 cut memory in half (which makes sense)."
   ]
  },
  {
   "cell_type": "markdown",
   "metadata": {},
   "source": [
    "### Date Objects\n",
    "\n",
    "On occaison, an `object` will take up less memory if it is converted to a datetime object. In this case, the birth date is exactly the same so there will be no memory savings.\n",
    "\n",
    "But there could be memory savings if we saved this as an integer:"
   ]
  },
  {
   "cell_type": "code",
   "execution_count": 22,
   "metadata": {},
   "outputs": [
    {
     "data": {
      "text/plain": [
       "(0    1991-10-20\n",
       " 1    1992-06-15\n",
       " 2    1992-05-30\n",
       " 3    1992-06-25\n",
       " 4    1992-10-25\n",
       " Name: birth_date, dtype: object,\n",
       " 1206776)"
      ]
     },
     "execution_count": 22,
     "metadata": {},
     "output_type": "execute_result"
    }
   ],
   "source": [
    "df['birth_date'].head(),df['period'].memory_usage() "
   ]
  },
  {
   "cell_type": "code",
   "execution_count": 23,
   "metadata": {},
   "outputs": [
    {
     "data": {
      "text/plain": [
       "(0    19911020\n",
       " 1    19920615\n",
       " 2    19920530\n",
       " 3    19920625\n",
       " 4    19921025\n",
       " Name: birth_date, dtype: int32,\n",
       " 603452)"
      ]
     },
     "execution_count": 23,
     "metadata": {},
     "output_type": "execute_result"
    }
   ],
   "source": [
    "df.birth_date.str.replace(\"-\",\"\").astype(int).head(),\\\n",
    "df.birth_date.str.replace(\"-\",\"\").astype(int).memory_usage()"
   ]
  },
  {
   "cell_type": "markdown",
   "metadata": {},
   "source": [
    "Memory footprint gets cut in half just by taking out hyphens!"
   ]
  },
  {
   "cell_type": "markdown",
   "metadata": {},
   "source": [
    "### Categories\n",
    "\n",
    "One of these variables is a string that indicates the breed:"
   ]
  },
  {
   "cell_type": "code",
   "execution_count": 24,
   "metadata": {},
   "outputs": [
    {
     "data": {
      "text/plain": [
       "(0    AY\n",
       " 1    AY\n",
       " 2    AY\n",
       " 3    AY\n",
       " 4    AY\n",
       " Name: breed, dtype: object,\n",
       " 1206776)"
      ]
     },
     "execution_count": 24,
     "metadata": {},
     "output_type": "execute_result"
    }
   ],
   "source": [
    "df.breed.head(),df.breed.memory_usage()"
   ]
  },
  {
   "cell_type": "code",
   "execution_count": 25,
   "metadata": {},
   "outputs": [
    {
     "data": {
      "text/plain": [
       "14"
      ]
     },
     "execution_count": 25,
     "metadata": {},
     "output_type": "execute_result"
    }
   ],
   "source": [
    "df.breed.nunique()"
   ]
  },
  {
   "cell_type": "markdown",
   "metadata": {},
   "source": []
  },
  {
   "cell_type": "markdown",
   "metadata": {},
   "source": [
    "only 14 levels, which means this could benefit from the \"category\" object:"
   ]
  },
  {
   "cell_type": "code",
   "execution_count": 26,
   "metadata": {},
   "outputs": [
    {
     "data": {
      "text/plain": [
       "(0         AY\n",
       " 1         AY\n",
       " 2         AY\n",
       " 3         AY\n",
       " 4         AY\n",
       "           ..\n",
       " 150826    SR\n",
       " 150827    SR\n",
       " 150828    SR\n",
       " 150829    WW\n",
       " 150830    WW\n",
       " Name: breed, Length: 150831, dtype: category\n",
       " Categories (14, object): ['AY', 'BS', 'GU', 'HO', ..., 'RE', 'SM', 'SR', 'WW'],\n",
       " 151711)"
      ]
     },
     "execution_count": 26,
     "metadata": {},
     "output_type": "execute_result"
    }
   ],
   "source": [
    "df.breed.astype(\"category\"),df.breed.astype(\"category\").memory_usage()"
   ]
  },
  {
   "cell_type": "code",
   "execution_count": 27,
   "metadata": {},
   "outputs": [
    {
     "data": {
      "text/plain": [
       "87.42840427718151"
      ]
     },
     "execution_count": 27,
     "metadata": {},
     "output_type": "execute_result"
    }
   ],
   "source": [
    "(1-df.breed.astype(\"category\").memory_usage()/df.breed.memory_usage())*100"
   ]
  },
  {
   "cell_type": "markdown",
   "metadata": {},
   "source": [
    "An 87% reduction in memory just from changing type!\n",
    "\n",
    "Much like other programs like STATA, python is storing the labels and numbers separately and displaying them when necessary. The actual values it has been converted to are here:"
   ]
  },
  {
   "cell_type": "code",
   "execution_count": 28,
   "metadata": {},
   "outputs": [],
   "source": [
    "df['breed_cat'] = df.breed.astype(\"category\")"
   ]
  },
  {
   "cell_type": "code",
   "execution_count": 29,
   "metadata": {},
   "outputs": [
    {
     "data": {
      "text/plain": [
       "(0          0\n",
       " 1          0\n",
       " 2          0\n",
       " 3          0\n",
       " 4          0\n",
       "           ..\n",
       " 150826    12\n",
       " 150827    12\n",
       " 150828    12\n",
       " 150829    13\n",
       " 150830    13\n",
       " Length: 150831, dtype: int8,\n",
       " 150959)"
      ]
     },
     "execution_count": 29,
     "metadata": {},
     "output_type": "execute_result"
    }
   ],
   "source": [
    "df['breed_cat'].cat.codes,df['breed_cat'].cat.codes.memory_usage()"
   ]
  },
  {
   "cell_type": "markdown",
   "metadata": {},
   "source": [
    "Which is just an 8bit integer! No wonder it decreased the memory footprint so much...\n",
    "\n",
    "Most of the memory savings here come from the fact that labels are repeated:"
   ]
  },
  {
   "cell_type": "code",
   "execution_count": 30,
   "metadata": {},
   "outputs": [
    {
     "name": "stdout",
     "output_type": "stream",
     "text": [
      "Regular column takes 152 bytes, category takes 235 bytes\n"
     ]
    }
   ],
   "source": [
    "ABCD = pd.Series([\"AA\",\"BB\",\"CC\"]*1)\n",
    "print(\"Regular column takes {} bytes, category takes {} bytes\".format(ABCD.memory_usage(), ABCD.astype(\"category\").memory_usage()))"
   ]
  },
  {
   "cell_type": "markdown",
   "metadata": {},
   "source": [
    "The category is bigger because it has to hold text labels as well as integers.\n",
    "\n",
    "But if there are repeated labels, there will be memory savings:"
   ]
  },
  {
   "cell_type": "code",
   "execution_count": 31,
   "metadata": {},
   "outputs": [
    {
     "name": "stdout",
     "output_type": "stream",
     "text": [
      "Regular column takes 200 bytes, category takes 241 bytes\n"
     ]
    }
   ],
   "source": [
    "ABCD = pd.Series([\"AA\",\"BB\",\"CC\"]*3)\n",
    "print(\"Regular column takes {} bytes, category takes {} bytes\".format(ABCD.memory_usage(), ABCD.astype(\"category\").memory_usage()))"
   ]
  },
  {
   "cell_type": "code",
   "execution_count": 32,
   "metadata": {},
   "outputs": [
    {
     "data": {
      "text/plain": [
       "Text(0, 0.5, 'Memory Usage')"
      ]
     },
     "execution_count": 32,
     "metadata": {},
     "output_type": "execute_result"
    },
    {
     "data": {
      "image/png": "[encoded data removed]",
      "text/plain": [
       "<Figure size 432x288 with 1 Axes>"
      ]
     },
     "metadata": {
      "needs_background": "light"
     },
     "output_type": "display_data"
    }
   ],
   "source": [
    "import matplotlib.pyplot as plt\n",
    "import numpy as np\n",
    "\n",
    "def show_mem_cat(x):\n",
    "    ABCD = pd.Series([\"AAAAA\",\"BBBBB\"]*x)\n",
    "    return [len(ABCD),ABCD.memory_usage(),ABCD.astype(\"category\").memory_usage()]\n",
    "\n",
    "mem_df = pd.DataFrame([show_mem_cat(x) for x in np.arange(1,100)]).set_index(0)\n",
    "mem_df.columns= ['Normal Column',\"Category Column\"]\n",
    "\n",
    "mem_df.plot()\n",
    "plt.xlabel(\"Sample Size\")\n",
    "plt.ylabel(\"Memory Usage\")"
   ]
  },
  {
   "cell_type": "markdown",
   "metadata": {},
   "source": [
    "This reduces memory because pandas dataframes store all strings or columns with any strings as `objects` which typically take up the most memory.\n",
    "\n",
    "By figuring out what ever datatype is, you can drastically decrease the memory footprint of your dataframe.\n",
    "\n",
    "Let's try it:"
   ]
  },
  {
   "cell_type": "code",
   "execution_count": 33,
   "metadata": {},
   "outputs": [
    {
     "data": {
      "text/plain": [
       "(breed                  object\n",
       " country_of_origin      object\n",
       " sire_code               int64\n",
       " period                 object\n",
       " price                 float64\n",
       " birth_date             object\n",
       " pta_milk              float64\n",
       " pta_fat_lb            float64\n",
       " pta_scs               float64\n",
       " pta_protein_lb        float64\n",
       " pta_dpr               float64\n",
       " breed_cat            category\n",
       " dtype: object,\n",
       " 13424839)"
      ]
     },
     "execution_count": 33,
     "metadata": {},
     "output_type": "execute_result"
    }
   ],
   "source": [
    "base_mem = df.memory_usage().sum()\n",
    "df.dtypes, base_mem"
   ]
  },
  {
   "cell_type": "code",
   "execution_count": 34,
   "metadata": {},
   "outputs": [],
   "source": [
    "type_dict = df.dtypes.to_dict()"
   ]
  },
  {
   "cell_type": "code",
   "execution_count": 36,
   "metadata": {},
   "outputs": [],
   "source": [
    "for k,v in type_dict.items():\n",
    "    if v==np.float64:\n",
    "        df[k] = pd.to_numeric(df[k],downcast=\"float\")\n",
    "    if v==np.int64:\n",
    "        df[k] = pd.to_numeric(df[k],downcast=\"integer\")\n",
    "    else:\n",
    "        pass"
   ]
  },
  {
   "cell_type": "code",
   "execution_count": 37,
   "metadata": {},
   "outputs": [
    {
     "data": {
      "text/plain": [
       "8899909"
      ]
     },
     "execution_count": 37,
     "metadata": {},
     "output_type": "execute_result"
    }
   ],
   "source": [
    "df.memory_usage().sum()"
   ]
  },
  {
   "cell_type": "markdown",
   "metadata": {},
   "source": [
    "Better, but let's keep going."
   ]
  },
  {
   "cell_type": "code",
   "execution_count": 38,
   "metadata": {},
   "outputs": [],
   "source": [
    "object_cols = list(df.dtypes[df.dtypes==\"object\"].index)"
   ]
  },
  {
   "cell_type": "code",
   "execution_count": 39,
   "metadata": {},
   "outputs": [
    {
     "data": {
      "text/plain": [
       "['breed', 'country_of_origin', 'period', 'birth_date']"
      ]
     },
     "execution_count": 39,
     "metadata": {},
     "output_type": "execute_result"
    }
   ],
   "source": [
    "object_cols"
   ]
  },
  {
   "cell_type": "code",
   "execution_count": 40,
   "metadata": {},
   "outputs": [],
   "source": [
    "df['breed'] = df['breed'].astype(\"category\")\n",
    "df['country_of_origin'] = df['country_of_origin'].astype(\"category\")\n",
    "df['period'] = df['period'].astype(\"category\")\n",
    "\n",
    "df['birth_date'] = pd.to_numeric(df['birth_date'].str.replace(\"-\",\"\"),downcast=\"integer\")"
   ]
  },
  {
   "cell_type": "code",
   "execution_count": 41,
   "metadata": {},
   "outputs": [],
   "source": [
    "improved_mem = df.memory_usage().sum()"
   ]
  },
  {
   "cell_type": "code",
   "execution_count": 42,
   "metadata": {},
   "outputs": [
    {
     "data": {
      "text/plain": [
       "61.75371637603997"
      ]
     },
     "execution_count": 42,
     "metadata": {},
     "output_type": "execute_result"
    }
   ],
   "source": [
    "(1-improved_mem/base_mem)*100"
   ]
  },
  {
   "cell_type": "markdown",
   "metadata": {},
   "source": [
    "So we cut our memory footprint 61% just from doing variable changes. Not bad!\n",
    "\n",
    "We could have gotten it even lower if we had downcast some of the floats which were actually integers using fill values."
   ]
  },
  {
   "cell_type": "markdown",
   "metadata": {},
   "source": [
    "#### Writing Data\n",
    "\n",
    "How do we make sure that pandas retains these data types?\n",
    "\n",
    "A few options for \"serialized\" data formats which sacrifice readibility for storability:\n",
    "- __Pickle__, a serialized dataformat only used in python. Since its only in python its not great for across platform use.\n",
    "- __Apache Parquet__, an Apache format which is under the __Hadoop__ umbrella.\n",
    "- __HDF5__, which distributes the data as a system (can be distributed across multiple machines)."
   ]
  },
  {
   "cell_type": "markdown",
   "metadata": {},
   "source": [
    "#### When should we use `csv`? \n",
    "\n",
    "Still a very useful format, especially because it almost near universally able to be read across machines.\n",
    "\n",
    "Also can edit actual file as a text document which can be useful."
   ]
  },
  {
   "cell_type": "markdown",
   "metadata": {},
   "source": [
    "### Vectorizing\n",
    "What does it meant to vectorize an operation?\n",
    "\n",
    "Essentially it is working with values as a set rather than individually.\n",
    "\n"
   ]
  },
  {
   "cell_type": "code",
   "execution_count": null,
   "metadata": {},
   "outputs": [],
   "source": []
  },
  {
   "cell_type": "markdown",
   "metadata": {},
   "source": [
    "In this case, `numpy` uses compiled C code under the hood to make this operation very fast."
   ]
  },
  {
   "cell_type": "markdown",
   "metadata": {},
   "source": [
    "Another example of an operation we already vectorized:\n",
    "\n",
    "To look at crop rotation, we had to assign values to an array based on the values of other arrays.\n",
    "\n",
    "The non-vectorized version:"
   ]
  },
  {
   "cell_type": "code",
   "execution_count": null,
   "metadata": {},
   "outputs": [],
   "source": []
  },
  {
   "cell_type": "code",
   "execution_count": null,
   "metadata": {},
   "outputs": [],
   "source": []
  },
  {
   "cell_type": "code",
   "execution_count": null,
   "metadata": {},
   "outputs": [],
   "source": [
    "%timeit non_vect()"
   ]
  },
  {
   "cell_type": "markdown",
   "metadata": {},
   "source": [
    "The vectorized version"
   ]
  },
  {
   "cell_type": "code",
   "execution_count": null,
   "metadata": {},
   "outputs": [],
   "source": [
    "%timeit (1-y16)*y17"
   ]
  },
  {
   "cell_type": "markdown",
   "metadata": {},
   "source": [
    "Another example: demeaning a variable.\n",
    "\n",
    "Recall the dataset:"
   ]
  },
  {
   "cell_type": "code",
   "execution_count": null,
   "metadata": {},
   "outputs": [],
   "source": [
    "df"
   ]
  },
  {
   "cell_type": "code",
   "execution_count": null,
   "metadata": {},
   "outputs": [],
   "source": []
  }
 ],
 "metadata": {
  "celltoolbar": "Slideshow",
  "kernelspec": {
   "display_name": "Python 3",
   "language": "python",
   "name": "python3"
  },
  "language_info": {
   "codemirror_mode": {
    "name": "ipython",
    "version": 3
   },
   "file_extension": ".py",
   "mimetype": "text/x-python",
   "name": "python",
   "nbconvert_exporter": "python",
   "pygments_lexer": "ipython3",
   "version": "3.8.3"
  }
 },
 "nbformat": 4,
 "nbformat_minor": 4
}
