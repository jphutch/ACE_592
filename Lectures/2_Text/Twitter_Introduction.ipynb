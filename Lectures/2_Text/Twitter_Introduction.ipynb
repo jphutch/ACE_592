{
 "cells": [
  {
   "cell_type": "markdown",
   "metadata": {
    "slideshow": {
     "slide_type": "slide"
    }
   },
   "source": [
    "# Text Analysis Using Twitter"
   ]
  },
  {
   "cell_type": "markdown",
   "metadata": {
    "slideshow": {
     "slide_type": "slide"
    }
   },
   "source": [
    "Twitter is far and away becoming the most popular source of text to analyze. Why?\n",
    "- Huge user base.\n",
    "- Realtime updated.\n",
    "- Easy to use API.\n",
    "\n",
    "In this example I will discuss the difference between __extracting__ and __streaming__ Twitter data."
   ]
  },
  {
   "cell_type": "markdown",
   "metadata": {
    "slideshow": {
     "slide_type": "slide"
    }
   },
   "source": [
    "How to use the API?\n",
    "- Need a Twitter account.\n",
    "- Need to associate a phone number with it.\n",
    "- Then need to apply for a developer account.\n",
    "\n",
    "They will then provide you with four keys. The package __tweepy__ is the most handy way to use the API."
   ]
  },
  {
   "cell_type": "code",
   "execution_count": 2,
   "metadata": {
    "slideshow": {
     "slide_type": "-"
    }
   },
   "outputs": [],
   "source": [
    "import tweepy\n",
    "import json\n",
    "import pandas as pd"
   ]
  },
  {
   "cell_type": "markdown",
   "metadata": {
    "slideshow": {
     "slide_type": "slide"
    }
   },
   "source": [
    "## Extracting Tweets\n",
    "When do you want to do this? Usually when you want tweets from a specific user.\n",
    "\n",
    "First step: make an API instance using the package __tweepy__"
   ]
  },
  {
   "cell_type": "code",
   "execution_count": 3,
   "metadata": {
    "slideshow": {
     "slide_type": "-"
    }
   },
   "outputs": [],
   "source": [
    "auth = tweepy.OAuthHandler(key, key_secret)\n",
    "auth.set_access_token(access_key, access_secret)\n",
    "\n",
    "api = tweepy.API(auth,)"
   ]
  },
  {
   "cell_type": "markdown",
   "metadata": {
    "slideshow": {
     "slide_type": "slide"
    }
   },
   "source": [
    "Our API object has a lot of built-in methods. This one grabs the 20 most current tweets from my account's home timeline:"
   ]
  },
  {
   "cell_type": "code",
   "execution_count": 16,
   "metadata": {
    "slideshow": {
     "slide_type": "-"
    }
   },
   "outputs": [],
   "source": [
    "tweet = api.home_timeline(tweet_mode = 'extended')[5]._json"
   ]
  },
  {
   "cell_type": "markdown",
   "metadata": {
    "slideshow": {
     "slide_type": "slide"
    }
   },
   "source": [
    "Here I will look at a specific tweet."
   ]
  },
  {
   "cell_type": "code",
   "execution_count": 17,
   "metadata": {},
   "outputs": [
    {
     "data": {
      "text/plain": [
       "{'created_at': 'Thu Feb 25 22:54:27 +0000 2021',\n",
       " 'id': 1365072697705652224,\n",
       " 'id_str': '1365072697705652224',\n",
       " 'full_text': 'RT @BeaconPressBks: #JamesBaldwin’s documentation of his own troubled times in NOTHING PERSONAL cuts to the core of where we find ourselves…',\n",
       " 'truncated': False,\n",
       " 'display_text_range': [0, 140],\n",
       " 'entities': {'hashtags': [{'text': 'JamesBaldwin', 'indices': [20, 33]}],\n",
       "  'symbols': [],\n",
       "  'user_mentions': [{'screen_name': 'BeaconPressBks',\n",
       "    'name': 'Beacon Press',\n",
       "    'id': 18031870,\n",
       "    'id_str': '18031870',\n",
       "    'indices': [3, 18]}],\n",
       "  'urls': []},\n",
       " 'source': '<a href=\"http://twitter.com/download/iphone\" rel=\"nofollow\">Twitter for iPhone</a>',\n",
       " 'in_reply_to_status_id': None,\n",
       " 'in_reply_to_status_id_str': None,\n",
       " 'in_reply_to_user_id': None,\n",
       " 'in_reply_to_user_id_str': None,\n",
       " 'in_reply_to_screen_name': None,\n",
       " 'user': {'id': 1100989292543860736,\n",
       "  'id_str': '1100989292543860736',\n",
       "  'name': 'FutureDrChamblee✊🏾🇵🇭 LV ➡️Memphis',\n",
       "  'screen_name': 'HealthCommGuy',\n",
       "  'location': 'Memphis, TN  he/him/his',\n",
       "  'description': '2X UNLV Grad Comm Studies, 1st year PhD Student at UofMemphis. Studying Race, media, pop culture, & health. CancerFighter, DogDad, H2O,Coffee,Beer, &Whiskey.',\n",
       "  'url': 'https://t.co/gzXLXpxoDl',\n",
       "  'entities': {'url': {'urls': [{'url': 'https://t.co/gzXLXpxoDl',\n",
       "      'expanded_url': 'http://curtischamblee.com',\n",
       "      'display_url': 'curtischamblee.com',\n",
       "      'indices': [0, 23]}]},\n",
       "   'description': {'urls': []}},\n",
       "  'protected': False,\n",
       "  'followers_count': 930,\n",
       "  'friends_count': 4131,\n",
       "  'listed_count': 2,\n",
       "  'created_at': 'Thu Feb 28 05:21:17 +0000 2019',\n",
       "  'favourites_count': 7398,\n",
       "  'utc_offset': None,\n",
       "  'time_zone': None,\n",
       "  'geo_enabled': False,\n",
       "  'verified': False,\n",
       "  'statuses_count': 2254,\n",
       "  'lang': None,\n",
       "  'contributors_enabled': False,\n",
       "  'is_translator': False,\n",
       "  'is_translation_enabled': False,\n",
       "  'profile_background_color': 'F5F8FA',\n",
       "  'profile_background_image_url': None,\n",
       "  'profile_background_image_url_https': None,\n",
       "  'profile_background_tile': False,\n",
       "  'profile_image_url': 'http://pbs.twimg.com/profile_images/1299816491206889472/-65OCg8V_normal.jpg',\n",
       "  'profile_image_url_https': 'https://pbs.twimg.com/profile_images/1299816491206889472/-65OCg8V_normal.jpg',\n",
       "  'profile_banner_url': 'https://pbs.twimg.com/profile_banners/1100989292543860736/1551332849',\n",
       "  'profile_link_color': '1DA1F2',\n",
       "  'profile_sidebar_border_color': 'C0DEED',\n",
       "  'profile_sidebar_fill_color': 'DDEEF6',\n",
       "  'profile_text_color': '333333',\n",
       "  'profile_use_background_image': True,\n",
       "  'has_extended_profile': True,\n",
       "  'default_profile': True,\n",
       "  'default_profile_image': False,\n",
       "  'following': True,\n",
       "  'follow_request_sent': False,\n",
       "  'notifications': False,\n",
       "  'translator_type': 'none'},\n",
       " 'geo': None,\n",
       " 'coordinates': None,\n",
       " 'place': None,\n",
       " 'contributors': None,\n",
       " 'retweeted_status': {'created_at': 'Thu Feb 25 17:51:02 +0000 2021',\n",
       "  'id': 1364996340976025602,\n",
       "  'id_str': '1364996340976025602',\n",
       "  'full_text': '#JamesBaldwin’s documentation of his own troubled times in NOTHING PERSONAL cuts to the core of where we find ourselves today. With a foreword by @imaniperry &amp; an afterword by @esglaude, keep your eye out for it this May! 👀 #BlackHistoryMonth  https://t.co/mP0aYown0o https://t.co/SHcL0577y8',\n",
       "  'truncated': False,\n",
       "  'display_text_range': [0, 271],\n",
       "  'entities': {'hashtags': [{'text': 'JamesBaldwin', 'indices': [0, 13]},\n",
       "    {'text': 'BlackHistoryMonth', 'indices': [228, 246]}],\n",
       "   'symbols': [],\n",
       "   'user_mentions': [{'screen_name': 'imaniperry',\n",
       "     'name': 'Imani Perry',\n",
       "     'id': 23410776,\n",
       "     'id_str': '23410776',\n",
       "     'indices': [146, 157]},\n",
       "    {'screen_name': 'esglaude',\n",
       "     'name': 'Eddie S. Glaude Jr.',\n",
       "     'id': 180535644,\n",
       "     'id_str': '180535644',\n",
       "     'indices': [180, 189]}],\n",
       "   'urls': [{'url': 'https://t.co/mP0aYown0o',\n",
       "     'expanded_url': 'https://buff.ly/3dMGLrq',\n",
       "     'display_url': 'buff.ly/3dMGLrq',\n",
       "     'indices': [248, 271]}],\n",
       "   'media': [{'id': 1364996339516473350,\n",
       "     'id_str': '1364996339516473350',\n",
       "     'indices': [272, 295],\n",
       "     'media_url': 'http://pbs.twimg.com/media/EvFw8FCWgAYwXNn.jpg',\n",
       "     'media_url_https': 'https://pbs.twimg.com/media/EvFw8FCWgAYwXNn.jpg',\n",
       "     'url': 'https://t.co/SHcL0577y8',\n",
       "     'display_url': 'pic.twitter.com/SHcL0577y8',\n",
       "     'expanded_url': 'https://twitter.com/BeaconPressBks/status/1364996340976025602/photo/1',\n",
       "     'type': 'photo',\n",
       "     'sizes': {'thumb': {'w': 150, 'h': 150, 'resize': 'crop'},\n",
       "      'small': {'w': 300, 'h': 464, 'resize': 'fit'},\n",
       "      'large': {'w': 300, 'h': 464, 'resize': 'fit'},\n",
       "      'medium': {'w': 300, 'h': 464, 'resize': 'fit'}}}]},\n",
       "  'extended_entities': {'media': [{'id': 1364996339516473350,\n",
       "     'id_str': '1364996339516473350',\n",
       "     'indices': [272, 295],\n",
       "     'media_url': 'http://pbs.twimg.com/media/EvFw8FCWgAYwXNn.jpg',\n",
       "     'media_url_https': 'https://pbs.twimg.com/media/EvFw8FCWgAYwXNn.jpg',\n",
       "     'url': 'https://t.co/SHcL0577y8',\n",
       "     'display_url': 'pic.twitter.com/SHcL0577y8',\n",
       "     'expanded_url': 'https://twitter.com/BeaconPressBks/status/1364996340976025602/photo/1',\n",
       "     'type': 'photo',\n",
       "     'sizes': {'thumb': {'w': 150, 'h': 150, 'resize': 'crop'},\n",
       "      'small': {'w': 300, 'h': 464, 'resize': 'fit'},\n",
       "      'large': {'w': 300, 'h': 464, 'resize': 'fit'},\n",
       "      'medium': {'w': 300, 'h': 464, 'resize': 'fit'}}}]},\n",
       "  'source': '<a href=\"https://buffer.com\" rel=\"nofollow\">Buffer</a>',\n",
       "  'in_reply_to_status_id': None,\n",
       "  'in_reply_to_status_id_str': None,\n",
       "  'in_reply_to_user_id': None,\n",
       "  'in_reply_to_user_id_str': None,\n",
       "  'in_reply_to_screen_name': None,\n",
       "  'user': {'id': 18031870,\n",
       "   'id_str': '18031870',\n",
       "   'name': 'Beacon Press',\n",
       "   'screen_name': 'BeaconPressBks',\n",
       "   'location': 'Boston, MA',\n",
       "   'description': '#Publisher of #WhiteFragility, #TheHeritage, #NotesOfANativeSon, #MansSearchForMeaning, & more since 1854.\\n\\n#antiracism #activism #socialjustice',\n",
       "   'url': 'http://t.co/yP4ReWCY6s',\n",
       "   'entities': {'url': {'urls': [{'url': 'http://t.co/yP4ReWCY6s',\n",
       "       'expanded_url': 'http://www.beacon.org',\n",
       "       'display_url': 'beacon.org',\n",
       "       'indices': [0, 22]}]},\n",
       "    'description': {'urls': []}},\n",
       "   'protected': False,\n",
       "   'followers_count': 16738,\n",
       "   'friends_count': 5513,\n",
       "   'listed_count': 934,\n",
       "   'created_at': 'Wed Dec 10 21:51:40 +0000 2008',\n",
       "   'favourites_count': 5493,\n",
       "   'utc_offset': None,\n",
       "   'time_zone': None,\n",
       "   'geo_enabled': True,\n",
       "   'verified': False,\n",
       "   'statuses_count': 40522,\n",
       "   'lang': None,\n",
       "   'contributors_enabled': False,\n",
       "   'is_translator': False,\n",
       "   'is_translation_enabled': False,\n",
       "   'profile_background_color': 'FFF6EF',\n",
       "   'profile_background_image_url': 'http://abs.twimg.com/images/themes/theme1/bg.png',\n",
       "   'profile_background_image_url_https': 'https://abs.twimg.com/images/themes/theme1/bg.png',\n",
       "   'profile_background_tile': False,\n",
       "   'profile_image_url': 'http://pbs.twimg.com/profile_images/903670489448685571/jrKSP-2Q_normal.jpg',\n",
       "   'profile_image_url_https': 'https://pbs.twimg.com/profile_images/903670489448685571/jrKSP-2Q_normal.jpg',\n",
       "   'profile_banner_url': 'https://pbs.twimg.com/profile_banners/18031870/1504286575',\n",
       "   'profile_link_color': '05729F',\n",
       "   'profile_sidebar_border_color': 'FFFFFF',\n",
       "   'profile_sidebar_fill_color': '95C8E3',\n",
       "   'profile_text_color': '333333',\n",
       "   'profile_use_background_image': False,\n",
       "   'has_extended_profile': False,\n",
       "   'default_profile': False,\n",
       "   'default_profile_image': False,\n",
       "   'following': False,\n",
       "   'follow_request_sent': False,\n",
       "   'notifications': False,\n",
       "   'translator_type': 'none'},\n",
       "  'geo': None,\n",
       "  'coordinates': None,\n",
       "  'place': None,\n",
       "  'contributors': None,\n",
       "  'is_quote_status': False,\n",
       "  'retweet_count': 16,\n",
       "  'favorite_count': 57,\n",
       "  'favorited': False,\n",
       "  'retweeted': False,\n",
       "  'possibly_sensitive': False,\n",
       "  'possibly_sensitive_appealable': False,\n",
       "  'lang': 'en'},\n",
       " 'is_quote_status': False,\n",
       " 'retweet_count': 16,\n",
       " 'favorite_count': 0,\n",
       " 'favorited': False,\n",
       " 'retweeted': False,\n",
       " 'lang': 'en'}"
      ]
     },
     "execution_count": 17,
     "metadata": {},
     "output_type": "execute_result"
    }
   ],
   "source": [
    "tweet"
   ]
  },
  {
   "cell_type": "code",
   "execution_count": 11,
   "metadata": {
    "slideshow": {
     "slide_type": "-"
    }
   },
   "outputs": [
    {
     "ename": "TypeError",
     "evalue": "'int' object is not iterable",
     "output_type": "error",
     "traceback": [
      "\u001b[1;31m---------------------------------------------------------------------------\u001b[0m",
      "\u001b[1;31mTypeError\u001b[0m                                 Traceback (most recent call last)",
      "\u001b[1;32m<ipython-input-11-a425a3b5cf4c>\u001b[0m in \u001b[0;36m<module>\u001b[1;34m\u001b[0m\n\u001b[1;32m----> 1\u001b[1;33m \u001b[0mtweet\u001b[0m \u001b[1;33m=\u001b[0m \u001b[0mapi\u001b[0m\u001b[1;33m.\u001b[0m\u001b[0mstatuses_lookup\u001b[0m\u001b[1;33m(\u001b[0m\u001b[1;36m1364657276431179777\u001b[0m\u001b[1;33m)\u001b[0m\u001b[1;33m\u001b[0m\u001b[1;33m\u001b[0m\u001b[0m\n\u001b[0m\u001b[0;32m      2\u001b[0m \u001b[0mtweet\u001b[0m\u001b[1;33m\u001b[0m\u001b[1;33m\u001b[0m\u001b[0m\n",
      "\u001b[1;32mC:\\ProgramData\\Anaconda3\\lib\\site-packages\\tweepy\\api.py\u001b[0m in \u001b[0;36mstatuses_lookup\u001b[1;34m(self, id_, *args, **kwargs)\u001b[0m\n\u001b[0;32m    115\u001b[0m                            'include_ext_alt_text', 'include_card_uri'],\n\u001b[0;32m    116\u001b[0m             \u001b[0mrequire_auth\u001b[0m\u001b[1;33m=\u001b[0m\u001b[1;32mTrue\u001b[0m\u001b[1;33m\u001b[0m\u001b[1;33m\u001b[0m\u001b[0m\n\u001b[1;32m--> 117\u001b[1;33m         )(list_to_csv(id_), *args, **kwargs)\n\u001b[0m\u001b[0;32m    118\u001b[0m \u001b[1;33m\u001b[0m\u001b[0m\n\u001b[0;32m    119\u001b[0m     \u001b[1;33m@\u001b[0m\u001b[0mproperty\u001b[0m\u001b[1;33m\u001b[0m\u001b[1;33m\u001b[0m\u001b[0m\n",
      "\u001b[1;32mC:\\ProgramData\\Anaconda3\\lib\\site-packages\\tweepy\\utils.py\u001b[0m in \u001b[0;36mlist_to_csv\u001b[1;34m(item_list)\u001b[0m\n\u001b[0;32m     34\u001b[0m \u001b[1;32mdef\u001b[0m \u001b[0mlist_to_csv\u001b[0m\u001b[1;33m(\u001b[0m\u001b[0mitem_list\u001b[0m\u001b[1;33m)\u001b[0m\u001b[1;33m:\u001b[0m\u001b[1;33m\u001b[0m\u001b[1;33m\u001b[0m\u001b[0m\n\u001b[0;32m     35\u001b[0m     \u001b[1;32mif\u001b[0m \u001b[0mitem_list\u001b[0m\u001b[1;33m:\u001b[0m\u001b[1;33m\u001b[0m\u001b[1;33m\u001b[0m\u001b[0m\n\u001b[1;32m---> 36\u001b[1;33m         \u001b[1;32mreturn\u001b[0m \u001b[1;34m','\u001b[0m\u001b[1;33m.\u001b[0m\u001b[0mjoin\u001b[0m\u001b[1;33m(\u001b[0m\u001b[1;33m[\u001b[0m\u001b[0mstr\u001b[0m\u001b[1;33m(\u001b[0m\u001b[0mi\u001b[0m\u001b[1;33m)\u001b[0m \u001b[1;32mfor\u001b[0m \u001b[0mi\u001b[0m \u001b[1;32min\u001b[0m \u001b[0mitem_list\u001b[0m\u001b[1;33m]\u001b[0m\u001b[1;33m)\u001b[0m\u001b[1;33m\u001b[0m\u001b[1;33m\u001b[0m\u001b[0m\n\u001b[0m",
      "\u001b[1;31mTypeError\u001b[0m: 'int' object is not iterable"
     ]
    }
   ],
   "source": [
    "tweet = api.statuses_lookup(1364657276431179777)\n",
    "tweet"
   ]
  },
  {
   "cell_type": "markdown",
   "metadata": {
    "slideshow": {
     "slide_type": "slide"
    }
   },
   "source": [
    "To get the information in that tweet, convert it to json"
   ]
  },
  {
   "cell_type": "code",
   "execution_count": 21,
   "metadata": {
    "slideshow": {
     "slide_type": "-"
    }
   },
   "outputs": [
    {
     "data": {
      "text/plain": [
       "dict_keys(['created_at', 'id', 'id_str', 'full_text', 'truncated', 'display_text_range', 'entities', 'source', 'in_reply_to_status_id', 'in_reply_to_status_id_str', 'in_reply_to_user_id', 'in_reply_to_user_id_str', 'in_reply_to_screen_name', 'user', 'geo', 'coordinates', 'place', 'contributors', 'retweeted_status', 'is_quote_status', 'retweet_count', 'favorite_count', 'favorited', 'retweeted', 'lang'])"
      ]
     },
     "execution_count": 21,
     "metadata": {},
     "output_type": "execute_result"
    }
   ],
   "source": [
    "tweet_json = tweet\n",
    "tweet_json.keys()"
   ]
  },
  {
   "cell_type": "markdown",
   "metadata": {
    "slideshow": {
     "slide_type": "slide"
    }
   },
   "source": [
    "Some info we can get:"
   ]
  },
  {
   "cell_type": "code",
   "execution_count": 22,
   "metadata": {
    "slideshow": {
     "slide_type": "-"
    }
   },
   "outputs": [
    {
     "data": {
      "text/plain": [
       "('Thu Feb 25 22:54:27 +0000 2021',\n",
       " 'RT @BeaconPressBks: #JamesBaldwin’s documentation of his own troubled times in NOTHING PERSONAL cuts to the core of where we find ourselves…')"
      ]
     },
     "execution_count": 22,
     "metadata": {},
     "output_type": "execute_result"
    }
   ],
   "source": [
    "tweet_json['created_at'], tweet_json['full_text']"
   ]
  },
  {
   "cell_type": "markdown",
   "metadata": {},
   "source": [
    "But who is this?"
   ]
  },
  {
   "cell_type": "code",
   "execution_count": 23,
   "metadata": {
    "scrolled": true
   },
   "outputs": [
    {
     "data": {
      "text/plain": [
       "{'id': 1100989292543860736,\n",
       " 'id_str': '1100989292543860736',\n",
       " 'name': 'FutureDrChamblee✊🏾🇵🇭 LV ➡️Memphis',\n",
       " 'screen_name': 'HealthCommGuy',\n",
       " 'location': 'Memphis, TN  he/him/his',\n",
       " 'description': '2X UNLV Grad Comm Studies, 1st year PhD Student at UofMemphis. Studying Race, media, pop culture, & health. CancerFighter, DogDad, H2O,Coffee,Beer, &Whiskey.',\n",
       " 'url': 'https://t.co/gzXLXpxoDl',\n",
       " 'entities': {'url': {'urls': [{'url': 'https://t.co/gzXLXpxoDl',\n",
       "     'expanded_url': 'http://curtischamblee.com',\n",
       "     'display_url': 'curtischamblee.com',\n",
       "     'indices': [0, 23]}]},\n",
       "  'description': {'urls': []}},\n",
       " 'protected': False,\n",
       " 'followers_count': 930,\n",
       " 'friends_count': 4131,\n",
       " 'listed_count': 2,\n",
       " 'created_at': 'Thu Feb 28 05:21:17 +0000 2019',\n",
       " 'favourites_count': 7398,\n",
       " 'utc_offset': None,\n",
       " 'time_zone': None,\n",
       " 'geo_enabled': False,\n",
       " 'verified': False,\n",
       " 'statuses_count': 2254,\n",
       " 'lang': None,\n",
       " 'contributors_enabled': False,\n",
       " 'is_translator': False,\n",
       " 'is_translation_enabled': False,\n",
       " 'profile_background_color': 'F5F8FA',\n",
       " 'profile_background_image_url': None,\n",
       " 'profile_background_image_url_https': None,\n",
       " 'profile_background_tile': False,\n",
       " 'profile_image_url': 'http://pbs.twimg.com/profile_images/1299816491206889472/-65OCg8V_normal.jpg',\n",
       " 'profile_image_url_https': 'https://pbs.twimg.com/profile_images/1299816491206889472/-65OCg8V_normal.jpg',\n",
       " 'profile_banner_url': 'https://pbs.twimg.com/profile_banners/1100989292543860736/1551332849',\n",
       " 'profile_link_color': '1DA1F2',\n",
       " 'profile_sidebar_border_color': 'C0DEED',\n",
       " 'profile_sidebar_fill_color': 'DDEEF6',\n",
       " 'profile_text_color': '333333',\n",
       " 'profile_use_background_image': True,\n",
       " 'has_extended_profile': True,\n",
       " 'default_profile': True,\n",
       " 'default_profile_image': False,\n",
       " 'following': True,\n",
       " 'follow_request_sent': False,\n",
       " 'notifications': False,\n",
       " 'translator_type': 'none'}"
      ]
     },
     "execution_count": 23,
     "metadata": {},
     "output_type": "execute_result"
    }
   ],
   "source": [
    "tweet_json['user']"
   ]
  },
  {
   "cell_type": "markdown",
   "metadata": {},
   "source": [
    "Now we have a dictionary of info about the user. Including:"
   ]
  },
  {
   "cell_type": "code",
   "execution_count": 24,
   "metadata": {},
   "outputs": [
    {
     "data": {
      "text/plain": [
       "('FutureDrChamblee✊🏾🇵🇭 LV ➡️Memphis',\n",
       " '2X UNLV Grad Comm Studies, 1st year PhD Student at UofMemphis. Studying Race, media, pop culture, & health. CancerFighter, DogDad, H2O,Coffee,Beer, &Whiskey.',\n",
       " 930)"
      ]
     },
     "execution_count": 24,
     "metadata": {},
     "output_type": "execute_result"
    }
   ],
   "source": [
    "tweet_json['user']['name'],\\\n",
    "tweet_json['user']['description'],\\\n",
    "tweet_json['user']['followers_count']"
   ]
  },
  {
   "cell_type": "markdown",
   "metadata": {},
   "source": [
    "But who the heck was he replying to?"
   ]
  },
  {
   "cell_type": "code",
   "execution_count": 26,
   "metadata": {},
   "outputs": [
    {
     "data": {
      "text/plain": [
       "{'created_at': 'Thu Feb 25 17:51:02 +0000 2021',\n",
       " 'id': 1364996340976025602,\n",
       " 'id_str': '1364996340976025602',\n",
       " 'full_text': '#JamesBaldwin’s documentation of his own troubled times in NOTHING PERSONAL cuts to the core of where we find ourselves today. With a foreword by @imaniperry &amp; an afterword by @esglaude, keep your eye out for it this May! 👀 #BlackHistoryMonth  https://t.co/mP0aYown0o https://t.co/SHcL0577y8',\n",
       " 'truncated': False,\n",
       " 'display_text_range': [0, 271],\n",
       " 'entities': {'hashtags': [{'text': 'JamesBaldwin', 'indices': [0, 13]},\n",
       "   {'text': 'BlackHistoryMonth', 'indices': [228, 246]}],\n",
       "  'symbols': [],\n",
       "  'user_mentions': [{'screen_name': 'imaniperry',\n",
       "    'name': 'Imani Perry',\n",
       "    'id': 23410776,\n",
       "    'id_str': '23410776',\n",
       "    'indices': [146, 157]},\n",
       "   {'screen_name': 'esglaude',\n",
       "    'name': 'Eddie S. Glaude Jr.',\n",
       "    'id': 180535644,\n",
       "    'id_str': '180535644',\n",
       "    'indices': [180, 189]}],\n",
       "  'urls': [{'url': 'https://t.co/mP0aYown0o',\n",
       "    'expanded_url': 'https://buff.ly/3dMGLrq',\n",
       "    'display_url': 'buff.ly/3dMGLrq',\n",
       "    'indices': [248, 271]}],\n",
       "  'media': [{'id': 1364996339516473350,\n",
       "    'id_str': '1364996339516473350',\n",
       "    'indices': [272, 295],\n",
       "    'media_url': 'http://pbs.twimg.com/media/EvFw8FCWgAYwXNn.jpg',\n",
       "    'media_url_https': 'https://pbs.twimg.com/media/EvFw8FCWgAYwXNn.jpg',\n",
       "    'url': 'https://t.co/SHcL0577y8',\n",
       "    'display_url': 'pic.twitter.com/SHcL0577y8',\n",
       "    'expanded_url': 'https://twitter.com/BeaconPressBks/status/1364996340976025602/photo/1',\n",
       "    'type': 'photo',\n",
       "    'sizes': {'thumb': {'w': 150, 'h': 150, 'resize': 'crop'},\n",
       "     'small': {'w': 300, 'h': 464, 'resize': 'fit'},\n",
       "     'large': {'w': 300, 'h': 464, 'resize': 'fit'},\n",
       "     'medium': {'w': 300, 'h': 464, 'resize': 'fit'}}}]},\n",
       " 'extended_entities': {'media': [{'id': 1364996339516473350,\n",
       "    'id_str': '1364996339516473350',\n",
       "    'indices': [272, 295],\n",
       "    'media_url': 'http://pbs.twimg.com/media/EvFw8FCWgAYwXNn.jpg',\n",
       "    'media_url_https': 'https://pbs.twimg.com/media/EvFw8FCWgAYwXNn.jpg',\n",
       "    'url': 'https://t.co/SHcL0577y8',\n",
       "    'display_url': 'pic.twitter.com/SHcL0577y8',\n",
       "    'expanded_url': 'https://twitter.com/BeaconPressBks/status/1364996340976025602/photo/1',\n",
       "    'type': 'photo',\n",
       "    'sizes': {'thumb': {'w': 150, 'h': 150, 'resize': 'crop'},\n",
       "     'small': {'w': 300, 'h': 464, 'resize': 'fit'},\n",
       "     'large': {'w': 300, 'h': 464, 'resize': 'fit'},\n",
       "     'medium': {'w': 300, 'h': 464, 'resize': 'fit'}}}]},\n",
       " 'source': '<a href=\"https://buffer.com\" rel=\"nofollow\">Buffer</a>',\n",
       " 'in_reply_to_status_id': None,\n",
       " 'in_reply_to_status_id_str': None,\n",
       " 'in_reply_to_user_id': None,\n",
       " 'in_reply_to_user_id_str': None,\n",
       " 'in_reply_to_screen_name': None,\n",
       " 'user': {'id': 18031870,\n",
       "  'id_str': '18031870',\n",
       "  'name': 'Beacon Press',\n",
       "  'screen_name': 'BeaconPressBks',\n",
       "  'location': 'Boston, MA',\n",
       "  'description': '#Publisher of #WhiteFragility, #TheHeritage, #NotesOfANativeSon, #MansSearchForMeaning, & more since 1854.\\n\\n#antiracism #activism #socialjustice',\n",
       "  'url': 'http://t.co/yP4ReWCY6s',\n",
       "  'entities': {'url': {'urls': [{'url': 'http://t.co/yP4ReWCY6s',\n",
       "      'expanded_url': 'http://www.beacon.org',\n",
       "      'display_url': 'beacon.org',\n",
       "      'indices': [0, 22]}]},\n",
       "   'description': {'urls': []}},\n",
       "  'protected': False,\n",
       "  'followers_count': 16738,\n",
       "  'friends_count': 5513,\n",
       "  'listed_count': 934,\n",
       "  'created_at': 'Wed Dec 10 21:51:40 +0000 2008',\n",
       "  'favourites_count': 5493,\n",
       "  'utc_offset': None,\n",
       "  'time_zone': None,\n",
       "  'geo_enabled': True,\n",
       "  'verified': False,\n",
       "  'statuses_count': 40522,\n",
       "  'lang': None,\n",
       "  'contributors_enabled': False,\n",
       "  'is_translator': False,\n",
       "  'is_translation_enabled': False,\n",
       "  'profile_background_color': 'FFF6EF',\n",
       "  'profile_background_image_url': 'http://abs.twimg.com/images/themes/theme1/bg.png',\n",
       "  'profile_background_image_url_https': 'https://abs.twimg.com/images/themes/theme1/bg.png',\n",
       "  'profile_background_tile': False,\n",
       "  'profile_image_url': 'http://pbs.twimg.com/profile_images/903670489448685571/jrKSP-2Q_normal.jpg',\n",
       "  'profile_image_url_https': 'https://pbs.twimg.com/profile_images/903670489448685571/jrKSP-2Q_normal.jpg',\n",
       "  'profile_banner_url': 'https://pbs.twimg.com/profile_banners/18031870/1504286575',\n",
       "  'profile_link_color': '05729F',\n",
       "  'profile_sidebar_border_color': 'FFFFFF',\n",
       "  'profile_sidebar_fill_color': '95C8E3',\n",
       "  'profile_text_color': '333333',\n",
       "  'profile_use_background_image': False,\n",
       "  'has_extended_profile': False,\n",
       "  'default_profile': False,\n",
       "  'default_profile_image': False,\n",
       "  'following': False,\n",
       "  'follow_request_sent': False,\n",
       "  'notifications': False,\n",
       "  'translator_type': 'none'},\n",
       " 'geo': None,\n",
       " 'coordinates': None,\n",
       " 'place': None,\n",
       " 'contributors': None,\n",
       " 'is_quote_status': False,\n",
       " 'retweet_count': 16,\n",
       " 'favorite_count': 57,\n",
       " 'favorited': False,\n",
       " 'retweeted': False,\n",
       " 'possibly_sensitive': False,\n",
       " 'possibly_sensitive_appealable': False,\n",
       " 'lang': 'en'}"
      ]
     },
     "execution_count": 26,
     "metadata": {},
     "output_type": "execute_result"
    }
   ],
   "source": [
    "tweet_json['retweeted_status']"
   ]
  },
  {
   "cell_type": "code",
   "execution_count": 27,
   "metadata": {},
   "outputs": [],
   "source": [
    "quoted_tweet = tweet_json['retweeted_status']"
   ]
  },
  {
   "cell_type": "code",
   "execution_count": 28,
   "metadata": {},
   "outputs": [
    {
     "data": {
      "text/plain": [
       "('Beacon Press',\n",
       " 'BeaconPressBks',\n",
       " '#JamesBaldwin’s documentation of his own troubled times in NOTHING PERSONAL cuts to the core of where we find ourselves today. With a foreword by @imaniperry &amp; an afterword by @esglaude, keep your eye out for it this May! 👀 #BlackHistoryMonth  https://t.co/mP0aYown0o https://t.co/SHcL0577y8')"
      ]
     },
     "execution_count": 28,
     "metadata": {},
     "output_type": "execute_result"
    }
   ],
   "source": [
    "quoted_tweet['user']['name'],\\\n",
    "quoted_tweet['user']['screen_name'],\\\n",
    "quoted_tweet['full_text']"
   ]
  },
  {
   "cell_type": "markdown",
   "metadata": {},
   "source": [
    "But who was SHE referring to?"
   ]
  },
  {
   "cell_type": "code",
   "execution_count": 29,
   "metadata": {},
   "outputs": [],
   "source": [
    "quoted_tweet['in_reply_to_status_id']"
   ]
  },
  {
   "cell_type": "markdown",
   "metadata": {},
   "source": [
    "Let's use this ID to lookup the Tweet:"
   ]
  },
  {
   "cell_type": "code",
   "execution_count": 57,
   "metadata": {},
   "outputs": [],
   "source": [
    "original_tweet = api.statuses_lookup([quoted_tweet['in_reply_to_status_id']])[0]._json"
   ]
  },
  {
   "cell_type": "code",
   "execution_count": 58,
   "metadata": {},
   "outputs": [
    {
     "data": {
      "text/plain": [
       "{'created_at': 'Wed Feb 24 15:42:46 +0000 2021',\n",
       " 'id': 1364601671146369030,\n",
       " 'id_str': '1364601671146369030',\n",
       " 'text': 'A critical take on my pieces on Fox News. https://t.co/tMLHm3tEnk',\n",
       " 'truncated': False,\n",
       " 'entities': {'hashtags': [],\n",
       "  'symbols': [],\n",
       "  'user_mentions': [],\n",
       "  'urls': [{'url': 'https://t.co/tMLHm3tEnk',\n",
       "    'expanded_url': 'https://twitter.com/brithume/status/1364589946808451072',\n",
       "    'display_url': 'twitter.com/brithume/statu…',\n",
       "    'indices': [42, 65]}]},\n",
       " 'source': '<a href=\"https://about.twitter.com/products/tweetdeck\" rel=\"nofollow\">TweetDeck</a>',\n",
       " 'in_reply_to_status_id': None,\n",
       " 'in_reply_to_status_id_str': None,\n",
       " 'in_reply_to_user_id': None,\n",
       " 'in_reply_to_user_id_str': None,\n",
       " 'in_reply_to_screen_name': None,\n",
       " 'user': {'id': 17004618,\n",
       "  'id_str': '17004618',\n",
       "  'name': 'Nicholas Kristof',\n",
       "  'screen_name': 'NickKristof',\n",
       "  'location': 'Everywhere',\n",
       "  'description': \"Oregon farmboy turned NY Times columnist, author with my wife, @WuDunn, of Tightrope & Half the Sky. I'm on IG at @NickKristof and FB at https://t.co/Rbcd4lbWBD\",\n",
       "  'url': 'https://t.co/CO7uxBqpWU',\n",
       "  'entities': {'url': {'urls': [{'url': 'https://t.co/CO7uxBqpWU',\n",
       "      'expanded_url': 'http://www.nytimes.com/kristof',\n",
       "      'display_url': 'nytimes.com/kristof',\n",
       "      'indices': [0, 23]}]},\n",
       "   'description': {'urls': [{'url': 'https://t.co/Rbcd4lbWBD',\n",
       "      'expanded_url': 'http://Facebook.com/kristof',\n",
       "      'display_url': 'Facebook.com/kristof',\n",
       "      'indices': [137, 160]}]}},\n",
       "  'protected': False,\n",
       "  'followers_count': 2052373,\n",
       "  'friends_count': 2937,\n",
       "  'listed_count': 22088,\n",
       "  'created_at': 'Mon Oct 27 19:14:53 +0000 2008',\n",
       "  'favourites_count': 105,\n",
       "  'utc_offset': None,\n",
       "  'time_zone': None,\n",
       "  'geo_enabled': True,\n",
       "  'verified': True,\n",
       "  'statuses_count': 48317,\n",
       "  'lang': None,\n",
       "  'contributors_enabled': False,\n",
       "  'is_translator': False,\n",
       "  'is_translation_enabled': False,\n",
       "  'profile_background_color': '9AE4E8',\n",
       "  'profile_background_image_url': 'http://abs.twimg.com/images/themes/theme1/bg.png',\n",
       "  'profile_background_image_url_https': 'https://abs.twimg.com/images/themes/theme1/bg.png',\n",
       "  'profile_background_tile': True,\n",
       "  'profile_image_url': 'http://pbs.twimg.com/profile_images/680936862387589120/DfkrlW27_normal.jpg',\n",
       "  'profile_image_url_https': 'https://pbs.twimg.com/profile_images/680936862387589120/DfkrlW27_normal.jpg',\n",
       "  'profile_banner_url': 'https://pbs.twimg.com/profile_banners/17004618/1578340725',\n",
       "  'profile_link_color': '0084B4',\n",
       "  'profile_sidebar_border_color': 'BDDCAD',\n",
       "  'profile_sidebar_fill_color': 'DDFFCC',\n",
       "  'profile_text_color': '333333',\n",
       "  'profile_use_background_image': True,\n",
       "  'has_extended_profile': False,\n",
       "  'default_profile': False,\n",
       "  'default_profile_image': False,\n",
       "  'following': True,\n",
       "  'follow_request_sent': False,\n",
       "  'notifications': False,\n",
       "  'translator_type': 'none'},\n",
       " 'geo': None,\n",
       " 'coordinates': None,\n",
       " 'place': None,\n",
       " 'contributors': None,\n",
       " 'is_quote_status': True,\n",
       " 'quoted_status_id': 1364589946808451072,\n",
       " 'quoted_status_id_str': '1364589946808451072',\n",
       " 'quoted_status': {'created_at': 'Wed Feb 24 14:56:10 +0000 2021',\n",
       "  'id': 1364589946808451072,\n",
       "  'id_str': '1364589946808451072',\n",
       "  'text': 'What’s particularly sickening is that some journalists are cheering this stuff on, while nearly all the others rema… https://t.co/lQHpqIIlnF',\n",
       "  'truncated': True,\n",
       "  'entities': {'hashtags': [],\n",
       "   'symbols': [],\n",
       "   'user_mentions': [],\n",
       "   'urls': [{'url': 'https://t.co/lQHpqIIlnF',\n",
       "     'expanded_url': 'https://twitter.com/i/web/status/1364589946808451072',\n",
       "     'display_url': 'twitter.com/i/web/status/1…',\n",
       "     'indices': [117, 140]}]},\n",
       "  'source': '<a href=\"http://twitter.com/#!/download/ipad\" rel=\"nofollow\">Twitter for iPad</a>',\n",
       "  'in_reply_to_status_id': None,\n",
       "  'in_reply_to_status_id_str': None,\n",
       "  'in_reply_to_user_id': None,\n",
       "  'in_reply_to_user_id_str': None,\n",
       "  'in_reply_to_screen_name': None,\n",
       "  'user': {'id': 112047805,\n",
       "   'id_str': '112047805',\n",
       "   'name': 'Brit Hume',\n",
       "   'screen_name': 'brithume',\n",
       "   'location': 'Southwest Florida',\n",
       "   'description': 'Sr. Political Analyst, Fox News Channel. Arguments welcome. Name callers & verbal abusers blocked. Parler Acct: BritHumeFoxNews',\n",
       "   'url': None,\n",
       "   'entities': {'description': {'urls': []}},\n",
       "   'protected': False,\n",
       "   'followers_count': 1160438,\n",
       "   'friends_count': 830,\n",
       "   'listed_count': 5866,\n",
       "   'created_at': 'Sun Feb 07 02:55:13 +0000 2010',\n",
       "   'favourites_count': 2031,\n",
       "   'utc_offset': None,\n",
       "   'time_zone': None,\n",
       "   'geo_enabled': True,\n",
       "   'verified': True,\n",
       "   'statuses_count': 23910,\n",
       "   'lang': None,\n",
       "   'contributors_enabled': False,\n",
       "   'is_translator': False,\n",
       "   'is_translation_enabled': False,\n",
       "   'profile_background_color': 'C0DEED',\n",
       "   'profile_background_image_url': 'http://abs.twimg.com/images/themes/theme1/bg.png',\n",
       "   'profile_background_image_url_https': 'https://abs.twimg.com/images/themes/theme1/bg.png',\n",
       "   'profile_background_tile': False,\n",
       "   'profile_image_url': 'http://pbs.twimg.com/profile_images/1360242943546769408/1DcPCoE4_normal.jpg',\n",
       "   'profile_image_url_https': 'https://pbs.twimg.com/profile_images/1360242943546769408/1DcPCoE4_normal.jpg',\n",
       "   'profile_banner_url': 'https://pbs.twimg.com/profile_banners/112047805/1580002212',\n",
       "   'profile_link_color': '1DA1F2',\n",
       "   'profile_sidebar_border_color': 'C0DEED',\n",
       "   'profile_sidebar_fill_color': 'DDEEF6',\n",
       "   'profile_text_color': '333333',\n",
       "   'profile_use_background_image': True,\n",
       "   'has_extended_profile': False,\n",
       "   'default_profile': True,\n",
       "   'default_profile_image': False,\n",
       "   'following': False,\n",
       "   'follow_request_sent': False,\n",
       "   'notifications': False,\n",
       "   'translator_type': 'none'},\n",
       "  'geo': None,\n",
       "  'coordinates': None,\n",
       "  'place': None,\n",
       "  'contributors': None,\n",
       "  'is_quote_status': False,\n",
       "  'retweet_count': 433,\n",
       "  'favorite_count': 1441,\n",
       "  'favorited': False,\n",
       "  'retweeted': False,\n",
       "  'possibly_sensitive': False,\n",
       "  'lang': 'en'},\n",
       " 'retweet_count': 6,\n",
       " 'favorite_count': 14,\n",
       " 'favorited': False,\n",
       " 'retweeted': False,\n",
       " 'possibly_sensitive': False,\n",
       " 'lang': 'en'}"
      ]
     },
     "execution_count": 58,
     "metadata": {},
     "output_type": "execute_result"
    }
   ],
   "source": [
    "original_tweet"
   ]
  },
  {
   "cell_type": "markdown",
   "metadata": {},
   "source": [
    "And what Tweet was HE mentioning?"
   ]
  },
  {
   "cell_type": "code",
   "execution_count": 62,
   "metadata": {},
   "outputs": [
    {
     "data": {
      "text/plain": [
       "{'created_at': 'Wed Feb 24 14:56:10 +0000 2021',\n",
       " 'id': 1364589946808451072,\n",
       " 'id_str': '1364589946808451072',\n",
       " 'text': 'What’s particularly sickening is that some journalists are cheering this stuff on, while nearly all the others rema… https://t.co/lQHpqIIlnF',\n",
       " 'truncated': True,\n",
       " 'entities': {'hashtags': [],\n",
       "  'symbols': [],\n",
       "  'user_mentions': [],\n",
       "  'urls': [{'url': 'https://t.co/lQHpqIIlnF',\n",
       "    'expanded_url': 'https://twitter.com/i/web/status/1364589946808451072',\n",
       "    'display_url': 'twitter.com/i/web/status/1…',\n",
       "    'indices': [117, 140]}]},\n",
       " 'source': '<a href=\"http://twitter.com/#!/download/ipad\" rel=\"nofollow\">Twitter for iPad</a>',\n",
       " 'in_reply_to_status_id': None,\n",
       " 'in_reply_to_status_id_str': None,\n",
       " 'in_reply_to_user_id': None,\n",
       " 'in_reply_to_user_id_str': None,\n",
       " 'in_reply_to_screen_name': None,\n",
       " 'user': {'id': 112047805,\n",
       "  'id_str': '112047805',\n",
       "  'name': 'Brit Hume',\n",
       "  'screen_name': 'brithume',\n",
       "  'location': 'Southwest Florida',\n",
       "  'description': 'Sr. Political Analyst, Fox News Channel. Arguments welcome. Name callers & verbal abusers blocked. Parler Acct: BritHumeFoxNews',\n",
       "  'url': None,\n",
       "  'entities': {'description': {'urls': []}},\n",
       "  'protected': False,\n",
       "  'followers_count': 1160438,\n",
       "  'friends_count': 830,\n",
       "  'listed_count': 5866,\n",
       "  'created_at': 'Sun Feb 07 02:55:13 +0000 2010',\n",
       "  'favourites_count': 2031,\n",
       "  'utc_offset': None,\n",
       "  'time_zone': None,\n",
       "  'geo_enabled': True,\n",
       "  'verified': True,\n",
       "  'statuses_count': 23910,\n",
       "  'lang': None,\n",
       "  'contributors_enabled': False,\n",
       "  'is_translator': False,\n",
       "  'is_translation_enabled': False,\n",
       "  'profile_background_color': 'C0DEED',\n",
       "  'profile_background_image_url': 'http://abs.twimg.com/images/themes/theme1/bg.png',\n",
       "  'profile_background_image_url_https': 'https://abs.twimg.com/images/themes/theme1/bg.png',\n",
       "  'profile_background_tile': False,\n",
       "  'profile_image_url': 'http://pbs.twimg.com/profile_images/1360242943546769408/1DcPCoE4_normal.jpg',\n",
       "  'profile_image_url_https': 'https://pbs.twimg.com/profile_images/1360242943546769408/1DcPCoE4_normal.jpg',\n",
       "  'profile_banner_url': 'https://pbs.twimg.com/profile_banners/112047805/1580002212',\n",
       "  'profile_link_color': '1DA1F2',\n",
       "  'profile_sidebar_border_color': 'C0DEED',\n",
       "  'profile_sidebar_fill_color': 'DDEEF6',\n",
       "  'profile_text_color': '333333',\n",
       "  'profile_use_background_image': True,\n",
       "  'has_extended_profile': False,\n",
       "  'default_profile': True,\n",
       "  'default_profile_image': False,\n",
       "  'following': False,\n",
       "  'follow_request_sent': False,\n",
       "  'notifications': False,\n",
       "  'translator_type': 'none'},\n",
       " 'geo': None,\n",
       " 'coordinates': None,\n",
       " 'place': None,\n",
       " 'contributors': None,\n",
       " 'is_quote_status': False,\n",
       " 'retweet_count': 433,\n",
       " 'favorite_count': 1441,\n",
       " 'favorited': False,\n",
       " 'retweeted': False,\n",
       " 'possibly_sensitive': False,\n",
       " 'lang': 'en'}"
      ]
     },
     "execution_count": 62,
     "metadata": {},
     "output_type": "execute_result"
    }
   ],
   "source": [
    "original_tweet['quoted_status']"
   ]
  },
  {
   "cell_type": "markdown",
   "metadata": {},
   "source": [
    "And so on and so forth. Another important component of the tweet is \"entities\""
   ]
  },
  {
   "cell_type": "code",
   "execution_count": 30,
   "metadata": {},
   "outputs": [
    {
     "data": {
      "text/plain": [
       "{'hashtags': [{'text': 'JamesBaldwin', 'indices': [0, 13]},\n",
       "  {'text': 'BlackHistoryMonth', 'indices': [228, 246]}],\n",
       " 'symbols': [],\n",
       " 'user_mentions': [{'screen_name': 'imaniperry',\n",
       "   'name': 'Imani Perry',\n",
       "   'id': 23410776,\n",
       "   'id_str': '23410776',\n",
       "   'indices': [146, 157]},\n",
       "  {'screen_name': 'esglaude',\n",
       "   'name': 'Eddie S. Glaude Jr.',\n",
       "   'id': 180535644,\n",
       "   'id_str': '180535644',\n",
       "   'indices': [180, 189]}],\n",
       " 'urls': [{'url': 'https://t.co/mP0aYown0o',\n",
       "   'expanded_url': 'https://buff.ly/3dMGLrq',\n",
       "   'display_url': 'buff.ly/3dMGLrq',\n",
       "   'indices': [248, 271]}],\n",
       " 'media': [{'id': 1364996339516473350,\n",
       "   'id_str': '1364996339516473350',\n",
       "   'indices': [272, 295],\n",
       "   'media_url': 'http://pbs.twimg.com/media/EvFw8FCWgAYwXNn.jpg',\n",
       "   'media_url_https': 'https://pbs.twimg.com/media/EvFw8FCWgAYwXNn.jpg',\n",
       "   'url': 'https://t.co/SHcL0577y8',\n",
       "   'display_url': 'pic.twitter.com/SHcL0577y8',\n",
       "   'expanded_url': 'https://twitter.com/BeaconPressBks/status/1364996340976025602/photo/1',\n",
       "   'type': 'photo',\n",
       "   'sizes': {'thumb': {'w': 150, 'h': 150, 'resize': 'crop'},\n",
       "    'small': {'w': 300, 'h': 464, 'resize': 'fit'},\n",
       "    'large': {'w': 300, 'h': 464, 'resize': 'fit'},\n",
       "    'medium': {'w': 300, 'h': 464, 'resize': 'fit'}}}]}"
      ]
     },
     "execution_count": 30,
     "metadata": {},
     "output_type": "execute_result"
    }
   ],
   "source": [
    "quoted_tweet['entities']"
   ]
  },
  {
   "cell_type": "markdown",
   "metadata": {},
   "source": [
    "Which contains hashtags, symbols, and any urls or users they have mentioned."
   ]
  },
  {
   "cell_type": "markdown",
   "metadata": {},
   "source": [
    "### Extracting by User\n",
    "\n",
    "The function \"user_timeline\" in tweepy allows scraping one Twitter account."
   ]
  },
  {
   "cell_type": "code",
   "execution_count": 32,
   "metadata": {},
   "outputs": [],
   "source": [
    "def extract_by_user(user_id):\n",
    "    tweets = api.user_timeline(screen_name=user_id, \n",
    "                           # 200 is the maximum allowed count\n",
    "                           count=200,\n",
    "                           include_rts = False,\n",
    "                           # Necessary to keep full_text \n",
    "                           # otherwise only the first 140 words are extracted\n",
    "                           tweet_mode = 'extended'\n",
    "                           )\n",
    "    return tweets"
   ]
  },
  {
   "cell_type": "code",
   "execution_count": 33,
   "metadata": {},
   "outputs": [
    {
     "data": {
      "text/html": [
       "<div>\n",
       "<style scoped>\n",
       "    .dataframe tbody tr th:only-of-type {\n",
       "        vertical-align: middle;\n",
       "    }\n",
       "\n",
       "    .dataframe tbody tr th {\n",
       "        vertical-align: top;\n",
       "    }\n",
       "\n",
       "    .dataframe thead th {\n",
       "        text-align: right;\n",
       "    }\n",
       "</style>\n",
       "<table border=\"1\" class=\"dataframe\">\n",
       "  <thead>\n",
       "    <tr style=\"text-align: right;\">\n",
       "      <th></th>\n",
       "      <th>created_at</th>\n",
       "      <th>id</th>\n",
       "      <th>id_str</th>\n",
       "      <th>full_text</th>\n",
       "      <th>truncated</th>\n",
       "      <th>display_text_range</th>\n",
       "      <th>entities</th>\n",
       "      <th>extended_entities</th>\n",
       "      <th>source</th>\n",
       "      <th>in_reply_to_status_id</th>\n",
       "      <th>...</th>\n",
       "      <th>retweet_count</th>\n",
       "      <th>favorite_count</th>\n",
       "      <th>favorited</th>\n",
       "      <th>retweeted</th>\n",
       "      <th>possibly_sensitive</th>\n",
       "      <th>lang</th>\n",
       "      <th>quoted_status_id</th>\n",
       "      <th>quoted_status_id_str</th>\n",
       "      <th>quoted_status_permalink</th>\n",
       "      <th>quoted_status</th>\n",
       "    </tr>\n",
       "  </thead>\n",
       "  <tbody>\n",
       "    <tr>\n",
       "      <th>0</th>\n",
       "      <td>Thu Feb 25 22:08:03 +0000 2021</td>\n",
       "      <td>1365061022084698118</td>\n",
       "      <td>1365061022084698118</td>\n",
       "      <td>🙏 https://t.co/BBwnTndvoi</td>\n",
       "      <td>False</td>\n",
       "      <td>[0, 1]</td>\n",
       "      <td>{'hashtags': [], 'symbols': [], 'user_mentions...</td>\n",
       "      <td>{'media': [{'id': 1365061018829922305, 'id_str...</td>\n",
       "      <td>&lt;a href=\"http://twitter.com/download/iphone\" r...</td>\n",
       "      <td>NaN</td>\n",
       "      <td>...</td>\n",
       "      <td>5406</td>\n",
       "      <td>66354</td>\n",
       "      <td>False</td>\n",
       "      <td>False</td>\n",
       "      <td>False</td>\n",
       "      <td>und</td>\n",
       "      <td>NaN</td>\n",
       "      <td>NaN</td>\n",
       "      <td>NaN</td>\n",
       "      <td>NaN</td>\n",
       "    </tr>\n",
       "    <tr>\n",
       "      <th>1</th>\n",
       "      <td>Thu Feb 25 21:50:26 +0000 2021</td>\n",
       "      <td>1365056586096459786</td>\n",
       "      <td>1365056586096459786</td>\n",
       "      <td>@chicago_glenn @RationalEtienne @skorusARK We ...</td>\n",
       "      <td>False</td>\n",
       "      <td>[43, 126]</td>\n",
       "      <td>{'hashtags': [], 'symbols': [], 'user_mentions...</td>\n",
       "      <td>NaN</td>\n",
       "      <td>&lt;a href=\"http://twitter.com/download/iphone\" r...</td>\n",
       "      <td>1.365056e+18</td>\n",
       "      <td>...</td>\n",
       "      <td>142</td>\n",
       "      <td>2026</td>\n",
       "      <td>False</td>\n",
       "      <td>False</td>\n",
       "      <td>NaN</td>\n",
       "      <td>en</td>\n",
       "      <td>NaN</td>\n",
       "      <td>NaN</td>\n",
       "      <td>NaN</td>\n",
       "      <td>NaN</td>\n",
       "    </tr>\n",
       "    <tr>\n",
       "      <th>2</th>\n",
       "      <td>Thu Feb 25 21:47:26 +0000 2021</td>\n",
       "      <td>1365055830085763081</td>\n",
       "      <td>1365055830085763081</td>\n",
       "      <td>@RationalEtienne @skorusARK Nickel is our bigg...</td>\n",
       "      <td>False</td>\n",
       "      <td>[28, 195]</td>\n",
       "      <td>{'hashtags': [], 'symbols': [], 'user_mentions...</td>\n",
       "      <td>NaN</td>\n",
       "      <td>&lt;a href=\"http://twitter.com/download/iphone\" r...</td>\n",
       "      <td>1.365054e+18</td>\n",
       "      <td>...</td>\n",
       "      <td>167</td>\n",
       "      <td>1621</td>\n",
       "      <td>False</td>\n",
       "      <td>False</td>\n",
       "      <td>NaN</td>\n",
       "      <td>en</td>\n",
       "      <td>NaN</td>\n",
       "      <td>NaN</td>\n",
       "      <td>NaN</td>\n",
       "      <td>NaN</td>\n",
       "    </tr>\n",
       "    <tr>\n",
       "      <th>3</th>\n",
       "      <td>Thu Feb 25 21:44:01 +0000 2021</td>\n",
       "      <td>1365054971146829824</td>\n",
       "      <td>1365054971146829824</td>\n",
       "      <td>@harsimranbansal @skorusARK Absolutely</td>\n",
       "      <td>False</td>\n",
       "      <td>[28, 38]</td>\n",
       "      <td>{'hashtags': [], 'symbols': [], 'user_mentions...</td>\n",
       "      <td>NaN</td>\n",
       "      <td>&lt;a href=\"http://twitter.com/download/iphone\" r...</td>\n",
       "      <td>1.365054e+18</td>\n",
       "      <td>...</td>\n",
       "      <td>40</td>\n",
       "      <td>826</td>\n",
       "      <td>False</td>\n",
       "      <td>False</td>\n",
       "      <td>NaN</td>\n",
       "      <td>en</td>\n",
       "      <td>NaN</td>\n",
       "      <td>NaN</td>\n",
       "      <td>NaN</td>\n",
       "      <td>NaN</td>\n",
       "    </tr>\n",
       "    <tr>\n",
       "      <th>4</th>\n",
       "      <td>Thu Feb 25 21:36:35 +0000 2021</td>\n",
       "      <td>1365053102794153987</td>\n",
       "      <td>1365053102794153987</td>\n",
       "      <td>@MemesOfMars @skorusARK Fremont shut down for ...</td>\n",
       "      <td>False</td>\n",
       "      <td>[24, 98]</td>\n",
       "      <td>{'hashtags': [], 'symbols': [], 'user_mentions...</td>\n",
       "      <td>NaN</td>\n",
       "      <td>&lt;a href=\"http://twitter.com/download/iphone\" r...</td>\n",
       "      <td>1.365053e+18</td>\n",
       "      <td>...</td>\n",
       "      <td>240</td>\n",
       "      <td>1691</td>\n",
       "      <td>False</td>\n",
       "      <td>False</td>\n",
       "      <td>NaN</td>\n",
       "      <td>en</td>\n",
       "      <td>NaN</td>\n",
       "      <td>NaN</td>\n",
       "      <td>NaN</td>\n",
       "      <td>NaN</td>\n",
       "    </tr>\n",
       "  </tbody>\n",
       "</table>\n",
       "<p>5 rows × 30 columns</p>\n",
       "</div>"
      ],
      "text/plain": [
       "                       created_at                   id               id_str  \\\n",
       "0  Thu Feb 25 22:08:03 +0000 2021  1365061022084698118  1365061022084698118   \n",
       "1  Thu Feb 25 21:50:26 +0000 2021  1365056586096459786  1365056586096459786   \n",
       "2  Thu Feb 25 21:47:26 +0000 2021  1365055830085763081  1365055830085763081   \n",
       "3  Thu Feb 25 21:44:01 +0000 2021  1365054971146829824  1365054971146829824   \n",
       "4  Thu Feb 25 21:36:35 +0000 2021  1365053102794153987  1365053102794153987   \n",
       "\n",
       "                                           full_text  truncated  \\\n",
       "0                          🙏 https://t.co/BBwnTndvoi      False   \n",
       "1  @chicago_glenn @RationalEtienne @skorusARK We ...      False   \n",
       "2  @RationalEtienne @skorusARK Nickel is our bigg...      False   \n",
       "3             @harsimranbansal @skorusARK Absolutely      False   \n",
       "4  @MemesOfMars @skorusARK Fremont shut down for ...      False   \n",
       "\n",
       "  display_text_range                                           entities  \\\n",
       "0             [0, 1]  {'hashtags': [], 'symbols': [], 'user_mentions...   \n",
       "1          [43, 126]  {'hashtags': [], 'symbols': [], 'user_mentions...   \n",
       "2          [28, 195]  {'hashtags': [], 'symbols': [], 'user_mentions...   \n",
       "3           [28, 38]  {'hashtags': [], 'symbols': [], 'user_mentions...   \n",
       "4           [24, 98]  {'hashtags': [], 'symbols': [], 'user_mentions...   \n",
       "\n",
       "                                   extended_entities  \\\n",
       "0  {'media': [{'id': 1365061018829922305, 'id_str...   \n",
       "1                                                NaN   \n",
       "2                                                NaN   \n",
       "3                                                NaN   \n",
       "4                                                NaN   \n",
       "\n",
       "                                              source  in_reply_to_status_id  \\\n",
       "0  <a href=\"http://twitter.com/download/iphone\" r...                    NaN   \n",
       "1  <a href=\"http://twitter.com/download/iphone\" r...           1.365056e+18   \n",
       "2  <a href=\"http://twitter.com/download/iphone\" r...           1.365054e+18   \n",
       "3  <a href=\"http://twitter.com/download/iphone\" r...           1.365054e+18   \n",
       "4  <a href=\"http://twitter.com/download/iphone\" r...           1.365053e+18   \n",
       "\n",
       "   ... retweet_count  favorite_count favorited retweeted possibly_sensitive  \\\n",
       "0  ...          5406           66354     False     False              False   \n",
       "1  ...           142            2026     False     False                NaN   \n",
       "2  ...           167            1621     False     False                NaN   \n",
       "3  ...            40             826     False     False                NaN   \n",
       "4  ...           240            1691     False     False                NaN   \n",
       "\n",
       "  lang quoted_status_id quoted_status_id_str quoted_status_permalink  \\\n",
       "0  und              NaN                  NaN                     NaN   \n",
       "1   en              NaN                  NaN                     NaN   \n",
       "2   en              NaN                  NaN                     NaN   \n",
       "3   en              NaN                  NaN                     NaN   \n",
       "4   en              NaN                  NaN                     NaN   \n",
       "\n",
       "   quoted_status  \n",
       "0            NaN  \n",
       "1            NaN  \n",
       "2            NaN  \n",
       "3            NaN  \n",
       "4            NaN  \n",
       "\n",
       "[5 rows x 30 columns]"
      ]
     },
     "execution_count": 33,
     "metadata": {},
     "output_type": "execute_result"
    }
   ],
   "source": [
    "elonmusk_tweets = extract_by_user(\"elonmusk\")\n",
    "elon_tweets = [x._json for x in elonmusk_tweets]\n",
    "elon_df = pd.DataFrame(elon_tweets)\n",
    "elon_df.head()"
   ]
  },
  {
   "cell_type": "code",
   "execution_count": 45,
   "metadata": {},
   "outputs": [
    {
     "data": {
      "text/plain": [
       "'@RationalEtienne @skorusARK Nickel is our biggest concern for scaling lithium-ion cell production. That’s why we are shifting standard range cars to an iron cathode. Plenty of iron (and lithium)!'"
      ]
     },
     "execution_count": 45,
     "metadata": {},
     "output_type": "execute_result"
    }
   ],
   "source": [
    "elon_df['full_text'][2]"
   ]
  },
  {
   "cell_type": "markdown",
   "metadata": {},
   "source": [
    "Twitter has a limit of __200 tweets at a time__.\n",
    "\n",
    "What if we need more tweets than that?\n",
    "\n",
    "One clever trick:\n",
    "1. Do an initial scrape.\n",
    "2. Find the tweet ID of the oldest tweet.\n",
    "3. Feed that ID into the field \"max_id\" and subtract 1\n"
   ]
  },
  {
   "cell_type": "code",
   "execution_count": 46,
   "metadata": {},
   "outputs": [
    {
     "name": "stdout",
     "output_type": "stream",
     "text": [
      "N of tweets downloaded till now 3038 \r"
     ]
    },
    {
     "ename": "KeyboardInterrupt",
     "evalue": "",
     "output_type": "error",
     "traceback": [
      "\u001b[1;31m---------------------------------------------------------------------------\u001b[0m",
      "\u001b[1;31mKeyboardInterrupt\u001b[0m                         Traceback (most recent call last)",
      "\u001b[1;32m<ipython-input-46-e15548388963>\u001b[0m in \u001b[0;36m<module>\u001b[1;34m\u001b[0m\n\u001b[0;32m     19\u001b[0m         \u001b[0moldest_id\u001b[0m \u001b[1;33m=\u001b[0m \u001b[0mtweets\u001b[0m\u001b[1;33m[\u001b[0m\u001b[1;33m-\u001b[0m\u001b[1;36m1\u001b[0m\u001b[1;33m]\u001b[0m\u001b[1;33m.\u001b[0m\u001b[0mid\u001b[0m\u001b[1;33m\u001b[0m\u001b[1;33m\u001b[0m\u001b[0m\n\u001b[0;32m     20\u001b[0m         \u001b[0mall_tweets\u001b[0m\u001b[1;33m.\u001b[0m\u001b[0mextend\u001b[0m\u001b[1;33m(\u001b[0m\u001b[0mtweets\u001b[0m\u001b[1;33m)\u001b[0m\u001b[1;33m\u001b[0m\u001b[1;33m\u001b[0m\u001b[0m\n\u001b[1;32m---> 21\u001b[1;33m     \u001b[0mtime\u001b[0m\u001b[1;33m.\u001b[0m\u001b[0msleep\u001b[0m\u001b[1;33m(\u001b[0m\u001b[1;36m1\u001b[0m\u001b[1;33m)\u001b[0m\u001b[1;33m\u001b[0m\u001b[1;33m\u001b[0m\u001b[0m\n\u001b[0m\u001b[0;32m     22\u001b[0m     \u001b[0mprint\u001b[0m\u001b[1;33m(\u001b[0m\u001b[1;34m'N of tweets downloaded till now {} \\r'\u001b[0m\u001b[1;33m.\u001b[0m\u001b[0mformat\u001b[0m\u001b[1;33m(\u001b[0m\u001b[0mlen\u001b[0m\u001b[1;33m(\u001b[0m\u001b[0mall_tweets\u001b[0m\u001b[1;33m)\u001b[0m\u001b[1;33m)\u001b[0m\u001b[1;33m,\u001b[0m \u001b[0mend\u001b[0m\u001b[1;33m=\u001b[0m\u001b[1;34m''\u001b[0m\u001b[1;33m,\u001b[0m\u001b[0mflush\u001b[0m\u001b[1;33m=\u001b[0m\u001b[1;32mTrue\u001b[0m\u001b[1;33m)\u001b[0m\u001b[1;33m\u001b[0m\u001b[1;33m\u001b[0m\u001b[0m\n",
      "\u001b[1;31mKeyboardInterrupt\u001b[0m: "
     ]
    }
   ],
   "source": [
    "oldest_id = elonmusk_tweets[-1].id\n",
    "\n",
    "import time\n",
    "\n",
    "all_tweets = elonmusk_tweets\n",
    "while True:\n",
    "    tweets = api.user_timeline(screen_name=\"elonmusk\", \n",
    "                           # 200 is the maximum allowed count\n",
    "                           count=200,\n",
    "                           include_rts = False,\n",
    "                           max_id = oldest_id - 1,\n",
    "                           # Necessary to keep full_text \n",
    "                           # otherwise only the first 140 words are extracted\n",
    "                           tweet_mode = 'extended'\n",
    "                           )\n",
    "    if len(tweets) == 0:\n",
    "        pass\n",
    "    else:\n",
    "        oldest_id = tweets[-1].id\n",
    "        all_tweets.extend(tweets)\n",
    "    time.sleep(1)\n",
    "    print('N of tweets downloaded till now {} \\r'.format(len(all_tweets)), end='',flush=True)"
   ]
  },
  {
   "cell_type": "markdown",
   "metadata": {},
   "source": [
    "To write this in a file, it is best to use the json file format."
   ]
  },
  {
   "cell_type": "code",
   "execution_count": 47,
   "metadata": {},
   "outputs": [],
   "source": [
    "tweets_json = [x._json for x in all_tweets]\n",
    "\n",
    "import json\n",
    "\n",
    "with open(\"./Elon_tweets.json\", 'w') as outfile:\n",
    "    json.dump(tweets_json,outfile)"
   ]
  },
  {
   "cell_type": "markdown",
   "metadata": {},
   "source": [
    "### When do we use this?\n",
    "When you are interested in studying the Tweets of a specific user (like Elon Musk). This is quite simple to do, but it is only for times in which you need the Tweets of certain people.\n",
    "\n",
    "\n"
   ]
  },
  {
   "cell_type": "markdown",
   "metadata": {},
   "source": [
    "### but what about the rest of Twitter?\n",
    "## Streaming\n",
    "\n",
    "This is for when you essentially want to make a realtime download from Twitter to look for certain phrases.\n",
    "\n",
    "Useful for when you want to scrape from all of Twitter but with certain parameters. "
   ]
  },
  {
   "cell_type": "code",
   "execution_count": null,
   "metadata": {},
   "outputs": [],
   "source": [
    "python twitter_stream.py > tweets.txt"
   ]
  }
 ],
 "metadata": {
  "celltoolbar": "Slideshow",
  "kernelspec": {
   "display_name": "Python 3",
   "language": "python",
   "name": "python3"
  },
  "language_info": {
   "codemirror_mode": {
    "name": "ipython",
    "version": 3
   },
   "file_extension": ".py",
   "mimetype": "text/x-python",
   "name": "python",
   "nbconvert_exporter": "python",
   "pygments_lexer": "ipython3",
   "version": "3.8.3"
  }
 },
 "nbformat": 4,
 "nbformat_minor": 4
}
