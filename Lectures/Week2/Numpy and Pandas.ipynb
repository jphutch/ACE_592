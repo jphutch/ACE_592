{
 "cells": [
  {
   "cell_type": "markdown",
   "metadata": {
    "slideshow": {
     "slide_type": "slide"
    }
   },
   "source": [
    "# Numpy and Pandas"
   ]
  },
  {
   "cell_type": "markdown",
   "metadata": {
    "slideshow": {
     "slide_type": "slide"
    }
   },
   "source": [
    "## Numpy \n",
    "\n",
    "Numpy works mostly with arrays, much like Matlab and R.\n",
    "\n",
    "Here I'll briefly show some of the functionality of Numpy."
   ]
  },
  {
   "cell_type": "code",
   "execution_count": 3,
   "metadata": {
    "slideshow": {
     "slide_type": "-"
    }
   },
   "outputs": [],
   "source": [
    "import numpy as np"
   ]
  },
  {
   "cell_type": "markdown",
   "metadata": {
    "slideshow": {
     "slide_type": "slide"
    }
   },
   "source": [
    "#### Creating arrays"
   ]
  },
  {
   "cell_type": "code",
   "execution_count": null,
   "metadata": {
    "slideshow": {
     "slide_type": "-"
    }
   },
   "outputs": [],
   "source": [
    "np.ones(3)"
   ]
  },
  {
   "cell_type": "code",
   "execution_count": null,
   "metadata": {
    "slideshow": {
     "slide_type": "-"
    }
   },
   "outputs": [],
   "source": [
    "np.zeros(3)"
   ]
  },
  {
   "cell_type": "code",
   "execution_count": null,
   "metadata": {
    "slideshow": {
     "slide_type": "slide"
    }
   },
   "outputs": [],
   "source": [
    "np.identity(3)"
   ]
  },
  {
   "cell_type": "code",
   "execution_count": null,
   "metadata": {
    "slideshow": {
     "slide_type": "-"
    }
   },
   "outputs": [],
   "source": [
    "np.diagonal(np.identity(3))"
   ]
  },
  {
   "cell_type": "code",
   "execution_count": null,
   "metadata": {
    "slideshow": {
     "slide_type": "slide"
    }
   },
   "outputs": [],
   "source": [
    "np.arange(2,10,2) #(start, stop, step)"
   ]
  },
  {
   "cell_type": "code",
   "execution_count": null,
   "metadata": {
    "slideshow": {
     "slide_type": "-"
    }
   },
   "outputs": [],
   "source": [
    "np.linspace(2,8,4) #(start, stop, number of elements)"
   ]
  },
  {
   "cell_type": "markdown",
   "metadata": {
    "slideshow": {
     "slide_type": "slide"
    }
   },
   "source": [
    "Nested lists make a matrix:"
   ]
  },
  {
   "cell_type": "code",
   "execution_count": null,
   "metadata": {
    "slideshow": {
     "slide_type": "-"
    }
   },
   "outputs": [],
   "source": [
    "m = np.array([[1,2,3],[4,5,6],[7,8,9]])\n",
    "m"
   ]
  },
  {
   "cell_type": "markdown",
   "metadata": {
    "slideshow": {
     "slide_type": "slide"
    }
   },
   "source": [
    "Slicing works the same way as lists, but with two indices instead of one:"
   ]
  },
  {
   "cell_type": "code",
   "execution_count": null,
   "metadata": {
    "slideshow": {
     "slide_type": "-"
    }
   },
   "outputs": [],
   "source": [
    "m"
   ]
  },
  {
   "cell_type": "code",
   "execution_count": null,
   "metadata": {
    "slideshow": {
     "slide_type": "-"
    }
   },
   "outputs": [],
   "source": [
    "m[:2,:2]"
   ]
  },
  {
   "cell_type": "markdown",
   "metadata": {
    "slideshow": {
     "slide_type": "slide"
    }
   },
   "source": [
    "#### Linear Algebra Operations"
   ]
  },
  {
   "cell_type": "code",
   "execution_count": null,
   "metadata": {
    "slideshow": {
     "slide_type": "-"
    }
   },
   "outputs": [],
   "source": [
    "I = np.identity(3)/2\n",
    "I"
   ]
  },
  {
   "cell_type": "code",
   "execution_count": null,
   "metadata": {
    "slideshow": {
     "slide_type": "-"
    }
   },
   "outputs": [],
   "source": [
    "np.linalg.inv(I)"
   ]
  },
  {
   "cell_type": "code",
   "execution_count": null,
   "metadata": {},
   "outputs": [],
   "source": [
    "np.trace(I)"
   ]
  },
  {
   "cell_type": "code",
   "execution_count": null,
   "metadata": {
    "slideshow": {
     "slide_type": "slide"
    }
   },
   "outputs": [],
   "source": [
    "np.linalg.eigvals(I)"
   ]
  },
  {
   "cell_type": "markdown",
   "metadata": {
    "slideshow": {
     "slide_type": "slide"
    }
   },
   "source": [
    "### Warning: Copying in Numpy\n",
    "What is the difference between these two blocks?"
   ]
  },
  {
   "cell_type": "code",
   "execution_count": null,
   "metadata": {
    "slideshow": {
     "slide_type": "-"
    }
   },
   "outputs": [],
   "source": [
    "m = np.arange(1,10,1).reshape(3,3)\n",
    "m1 = m\n",
    "m1[0,1] = 0\n",
    "m"
   ]
  },
  {
   "cell_type": "code",
   "execution_count": null,
   "metadata": {
    "slideshow": {
     "slide_type": "-"
    }
   },
   "outputs": [],
   "source": [
    "m = np.arange(1,10,1).reshape(3,3)\n",
    "m2 = np.copy(m)\n",
    "m2[0,1] = 0\n",
    "m"
   ]
  },
  {
   "cell_type": "markdown",
   "metadata": {
    "slideshow": {
     "slide_type": "slide"
    }
   },
   "source": [
    "### Important thing about Arrays:\n",
    "When creating a subset of the array like m1, it is a __view__ and __not a copy__.\n",
    "\n",
    "This means if you edit it, it will actually edit the original one.\n",
    "\n",
    "Basic numpy practice is to use \"np.copy\" to create a new version that you can edit without affecting the underlying array."
   ]
  },
  {
   "cell_type": "markdown",
   "metadata": {
    "slideshow": {
     "slide_type": "slide"
    }
   },
   "source": [
    "Also edits it if you assign values to a slice."
   ]
  },
  {
   "cell_type": "code",
   "execution_count": null,
   "metadata": {
    "slideshow": {
     "slide_type": "-"
    }
   },
   "outputs": [],
   "source": [
    "ex = m[2]\n",
    "ex[1] = 0\n",
    "m"
   ]
  },
  {
   "cell_type": "markdown",
   "metadata": {
    "slideshow": {
     "slide_type": "slide"
    }
   },
   "source": [
    "### Random Number Generation\n",
    "In our last example, I prespecified a list. The way I made that list was using numpy functions.\n",
    "\n"
   ]
  },
  {
   "cell_type": "code",
   "execution_count": null,
   "metadata": {
    "scrolled": true,
    "slideshow": {
     "slide_type": "-"
    }
   },
   "outputs": [],
   "source": [
    "np.random.randn(100) # This generates 100 draws from N(0,1)"
   ]
  },
  {
   "cell_type": "markdown",
   "metadata": {
    "slideshow": {
     "slide_type": "slide"
    }
   },
   "source": [
    "Instead of using for loops, we can do matrix calculations."
   ]
  },
  {
   "cell_type": "code",
   "execution_count": 4,
   "metadata": {
    "slideshow": {
     "slide_type": "-"
    }
   },
   "outputs": [
    {
     "data": {
      "text/plain": [
       "array([[ 1.21709911],\n",
       "       [-0.26886886],\n",
       "       [-3.58767558],\n",
       "       [ 0.17387136],\n",
       "       [-0.66004256],\n",
       "       [ 1.75693309],\n",
       "       [ 0.69265597],\n",
       "       [-0.13307657],\n",
       "       [ 4.15727843],\n",
       "       [ 1.6844106 ],\n",
       "       [-5.93272768],\n",
       "       [-0.77130249],\n",
       "       [-2.43696428],\n",
       "       [-1.4390208 ],\n",
       "       [-3.04919791],\n",
       "       [ 0.60066223],\n",
       "       [-0.45489907],\n",
       "       [ 2.6790602 ],\n",
       "       [-0.67847506],\n",
       "       [ 2.94356729],\n",
       "       [ 0.58883599],\n",
       "       [ 0.07115315],\n",
       "       [-1.66681409],\n",
       "       [ 3.19146611],\n",
       "       [ 0.24686768],\n",
       "       [ 1.32141942],\n",
       "       [ 1.03558902],\n",
       "       [-2.44688689],\n",
       "       [ 2.11741648],\n",
       "       [-2.57094373],\n",
       "       [-4.61143476],\n",
       "       [-2.32013256],\n",
       "       [ 1.15471032],\n",
       "       [ 1.8998411 ],\n",
       "       [-3.76531958],\n",
       "       [-2.16177416],\n",
       "       [ 0.10089116],\n",
       "       [ 0.40431683],\n",
       "       [ 0.05190697],\n",
       "       [ 1.0670552 ],\n",
       "       [-0.27479148],\n",
       "       [-6.79701825],\n",
       "       [ 2.81347151],\n",
       "       [-5.64671562],\n",
       "       [ 3.77450114],\n",
       "       [ 1.35928936],\n",
       "       [-2.79987635],\n",
       "       [-4.65023004],\n",
       "       [-0.51045975],\n",
       "       [ 2.33687592],\n",
       "       [-4.36256206],\n",
       "       [-2.42028839],\n",
       "       [ 0.18107944],\n",
       "       [ 2.82449192],\n",
       "       [ 4.26770068],\n",
       "       [ 2.21975546],\n",
       "       [-0.42926554],\n",
       "       [ 2.51132269],\n",
       "       [ 1.24102894],\n",
       "       [ 0.57667864],\n",
       "       [ 7.46311853],\n",
       "       [-3.3499247 ],\n",
       "       [ 1.1358689 ],\n",
       "       [ 0.70609476],\n",
       "       [ 4.41660938],\n",
       "       [ 3.4762358 ],\n",
       "       [-1.61405947],\n",
       "       [-3.58763009],\n",
       "       [-0.79330609],\n",
       "       [ 4.7889546 ],\n",
       "       [ 0.62443691],\n",
       "       [-2.64642451],\n",
       "       [ 2.55822909],\n",
       "       [-6.61872757],\n",
       "       [-0.22712652],\n",
       "       [-1.12882971],\n",
       "       [ 0.88516317],\n",
       "       [ 0.8346429 ],\n",
       "       [ 2.05497015],\n",
       "       [-4.38337852],\n",
       "       [ 1.50543248],\n",
       "       [ 1.82176312],\n",
       "       [-0.89465184],\n",
       "       [ 4.00738706],\n",
       "       [ 0.01728345],\n",
       "       [ 1.41553847],\n",
       "       [-3.28321979],\n",
       "       [ 0.55212862],\n",
       "       [ 0.31793278],\n",
       "       [-0.49662637],\n",
       "       [-1.34993764],\n",
       "       [-1.42097757],\n",
       "       [-5.56580403],\n",
       "       [-2.74488377],\n",
       "       [-2.21779055],\n",
       "       [-1.18305484],\n",
       "       [ 0.47949548],\n",
       "       [ 0.55801103],\n",
       "       [ 0.17974343],\n",
       "       [-3.21638628]])"
      ]
     },
     "execution_count": 4,
     "metadata": {},
     "output_type": "execute_result"
    }
   ],
   "source": [
    "X = np.random.randn(100,1)\n",
    "e = np.random.randn(100,1)\n",
    "\n",
    "Y = 2*X + e\n",
    "Y"
   ]
  },
  {
   "cell_type": "markdown",
   "metadata": {
    "slideshow": {
     "slide_type": "slide"
    }
   },
   "source": [
    "Numpy could estimate the linear regression parameter two different ways:\n",
    "- Matrix way.\n",
    "- Numerical way."
   ]
  },
  {
   "cell_type": "markdown",
   "metadata": {
    "slideshow": {
     "slide_type": "slide"
    }
   },
   "source": [
    "#### The matrix way. \n",
    "\n",
    "What's the formula?\n",
    "\n",
    "$$ \\beta = (X'X)^{-1}(X'Y)?$$"
   ]
  },
  {
   "cell_type": "markdown",
   "metadata": {
    "slideshow": {
     "slide_type": "slide"
    }
   },
   "source": [
    "$\\beta = (X'X)^{-1}(X'Y)$"
   ]
  },
  {
   "cell_type": "code",
   "execution_count": null,
   "metadata": {
    "slideshow": {
     "slide_type": "-"
    }
   },
   "outputs": [],
   "source": [
    "XX_inv = np.linalg.inv(X.T@X)\n",
    "\n",
    "beta_hat = XX_inv@(X.T@Y)\n",
    "beta_hat"
   ]
  },
  {
   "cell_type": "markdown",
   "metadata": {
    "slideshow": {
     "slide_type": "-"
    }
   },
   "source": [
    "Easy as that!"
   ]
  },
  {
   "cell_type": "markdown",
   "metadata": {
    "slideshow": {
     "slide_type": "slide"
    }
   },
   "source": [
    "#### The numerical way\n",
    "\n",
    "I'll use the SSE function we used before, but instead of using a for loop to determine things I will use:\n",
    "- Matrix operations to find SSE\n",
    "- A list comprehension to calculate SSE for different $\\beta$\n",
    "- The function \"np.argmin\" to find the array element with the smallest value."
   ]
  },
  {
   "cell_type": "code",
   "execution_count": null,
   "metadata": {
    "slideshow": {
     "slide_type": "slide"
    }
   },
   "outputs": [],
   "source": [
    "def sse(beta,X,Y):\n",
    "    sse = ((Y- X*beta)**2).sum()\n",
    "    return sse\n",
    "\n",
    "beta_grid = [-1,0,1,2,3,4]\n",
    "\n",
    "sse_vals = np.array([sse(b,X,Y) for b in beta_grid])\n",
    "\n",
    "beta_grid[np.argmin(sse_vals)] # argmin tells me the index \n",
    "                               # for the element of the array with the smallest value"
   ]
  },
  {
   "cell_type": "markdown",
   "metadata": {
    "slideshow": {
     "slide_type": "-"
    }
   },
   "source": [
    "and __voila!__ We can do linear regression with numpy arrays either numerically or with the matrix formula."
   ]
  },
  {
   "attachments": {
    "image.png": {
     "image/png": "[encoded data removed]"
    }
   },
   "cell_type": "markdown",
   "metadata": {
    "slideshow": {
     "slide_type": "slide"
    }
   },
   "source": [
    "### Some other Numpy things that you will find to be useful\n",
    "- Indexing arrays:\n",
    "    - Just like lists, you can use slices like `array[::2]`\n",
    "    - Or pass Boolean vectors to subset: `array[array<2]`\n",
    "![image.png](attachment:image.png)\n",
    "<center>from PyEcon slideshow, slide 118: https://pyecon.org/down/pyecon.pdf </center>\n"
   ]
  },
  {
   "cell_type": "markdown",
   "metadata": {
    "slideshow": {
     "slide_type": "slide"
    }
   },
   "source": [
    "- Concatenating arrays:\n",
    "    - As long as the dimensions align, you can concatenate by specifying \"axis\": `np.concatenate([arr1,arr2],axis=0)`\n",
    "    - Cheat sheet: `axis=0` is the __row axis__, `axis=1` is the __column axis__."
   ]
  },
  {
   "cell_type": "code",
   "execution_count": null,
   "metadata": {},
   "outputs": [],
   "source": [
    "np.concatenate([m,m],axis=1)"
   ]
  },
  {
   "cell_type": "code",
   "execution_count": null,
   "metadata": {
    "slideshow": {
     "slide_type": "slide"
    }
   },
   "outputs": [],
   "source": [
    "np.concatenate([m,m],axis=0)"
   ]
  },
  {
   "cell_type": "markdown",
   "metadata": {
    "slideshow": {
     "slide_type": "slide"
    }
   },
   "source": [
    "## Pandas\n",
    "\n",
    "The two main objects of Pandas:\n",
    "\n",
    "- `pd.Series()`, which is only one dimension.\n",
    "- `pd.DataFrame()`, which is two dimensions.\n",
    "\n",
    "The functionality is similar to the dataframes in R.\n",
    "\n",
    "What I love about DataFrames, however, is the number of built-in methods!"
   ]
  },
  {
   "cell_type": "code",
   "execution_count": 1,
   "metadata": {
    "slideshow": {
     "slide_type": "-"
    }
   },
   "outputs": [],
   "source": [
    "import pandas as pd"
   ]
  },
  {
   "cell_type": "code",
   "execution_count": 5,
   "metadata": {
    "slideshow": {
     "slide_type": "slide"
    }
   },
   "outputs": [
    {
     "data": {
      "text/plain": [
       "array([[ 4.81828045e-01,  1.21709911e+00],\n",
       "       [ 1.80224518e-01, -2.68868861e-01],\n",
       "       [-1.20326413e+00, -3.58767558e+00],\n",
       "       [ 5.92191539e-02,  1.73871363e-01],\n",
       "       [-5.14027013e-01, -6.60042561e-01],\n",
       "       [ 4.42861633e-01,  1.75693309e+00],\n",
       "       [ 2.95100240e-01,  6.92655967e-01],\n",
       "       [-4.58394630e-01, -1.33076570e-01],\n",
       "       [ 1.78588915e+00,  4.15727843e+00],\n",
       "       [ 1.35706074e+00,  1.68441060e+00],\n",
       "       [-2.05168014e+00, -5.93272768e+00],\n",
       "       [-1.30391263e+00, -7.71302492e-01],\n",
       "       [-8.70622363e-01, -2.43696428e+00],\n",
       "       [-1.42984861e+00, -1.43902080e+00],\n",
       "       [-1.52769037e+00, -3.04919791e+00],\n",
       "       [ 8.61941498e-01,  6.00662225e-01],\n",
       "       [ 5.48884628e-01, -4.54899069e-01],\n",
       "       [ 7.52919257e-01,  2.67906020e+00],\n",
       "       [ 2.45605130e-01, -6.78475061e-01],\n",
       "       [ 1.00151821e+00,  2.94356729e+00],\n",
       "       [ 3.08694238e-01,  5.88835986e-01],\n",
       "       [-5.84257857e-02,  7.11531492e-02],\n",
       "       [-4.62007322e-01, -1.66681409e+00],\n",
       "       [ 1.33384059e+00,  3.19146611e+00],\n",
       "       [ 2.69596060e-01,  2.46867676e-01],\n",
       "       [ 9.43268362e-01,  1.32141942e+00],\n",
       "       [ 3.75341977e-01,  1.03558902e+00],\n",
       "       [-1.02182267e+00, -2.44688689e+00],\n",
       "       [ 1.37205282e+00,  2.11741648e+00],\n",
       "       [-7.39559628e-01, -2.57094373e+00],\n",
       "       [-2.07682489e+00, -4.61143476e+00],\n",
       "       [-1.25931923e+00, -2.32013256e+00],\n",
       "       [ 8.98024185e-01,  1.15471032e+00],\n",
       "       [ 6.77296682e-01,  1.89984110e+00],\n",
       "       [-1.34255700e+00, -3.76531958e+00],\n",
       "       [-2.37848871e-01, -2.16177416e+00],\n",
       "       [-6.02108727e-01,  1.00891155e-01],\n",
       "       [-1.69048561e-01,  4.04316828e-01],\n",
       "       [-1.23191474e-01,  5.19069735e-02],\n",
       "       [ 2.14202394e-01,  1.06705520e+00],\n",
       "       [ 6.21595103e-01, -2.74791484e-01],\n",
       "       [-2.66694516e+00, -6.79701825e+00],\n",
       "       [ 1.44191084e+00,  2.81347151e+00],\n",
       "       [-2.14432045e+00, -5.64671562e+00],\n",
       "       [ 1.72938650e+00,  3.77450114e+00],\n",
       "       [ 5.37885913e-01,  1.35928936e+00],\n",
       "       [-1.96999352e+00, -2.79987635e+00],\n",
       "       [-2.01980435e+00, -4.65023004e+00],\n",
       "       [-3.83419377e-01, -5.10459750e-01],\n",
       "       [ 5.59754085e-01,  2.33687592e+00],\n",
       "       [-1.62426499e+00, -4.36256206e+00],\n",
       "       [-1.30047103e+00, -2.42028839e+00],\n",
       "       [-4.56032497e-01,  1.81079444e-01],\n",
       "       [ 9.26109206e-01,  2.82449192e+00],\n",
       "       [ 2.82608113e+00,  4.26770068e+00],\n",
       "       [ 4.13829351e-01,  2.21975546e+00],\n",
       "       [ 8.82564329e-01, -4.29265536e-01],\n",
       "       [ 1.40048540e+00,  2.51132269e+00],\n",
       "       [ 1.86697805e-01,  1.24102894e+00],\n",
       "       [ 3.55375787e-01,  5.76678639e-01],\n",
       "       [ 3.07843038e+00,  7.46311853e+00],\n",
       "       [-2.02637656e+00, -3.34992470e+00],\n",
       "       [ 4.07391118e-01,  1.13586890e+00],\n",
       "       [ 5.96276924e-01,  7.06094759e-01],\n",
       "       [ 1.44694040e+00,  4.41660938e+00],\n",
       "       [ 2.29285064e+00,  3.47623580e+00],\n",
       "       [-3.64999774e-01, -1.61405947e+00],\n",
       "       [-9.92540719e-01, -3.58763009e+00],\n",
       "       [-1.48973382e+00, -7.93306091e-01],\n",
       "       [ 2.54818575e+00,  4.78895460e+00],\n",
       "       [ 5.28841971e-01,  6.24436915e-01],\n",
       "       [-7.28423307e-01, -2.64642451e+00],\n",
       "       [ 1.05707528e+00,  2.55822909e+00],\n",
       "       [-1.88393804e+00, -6.61872757e+00],\n",
       "       [ 8.31014820e-01, -2.27126517e-01],\n",
       "       [-5.98341749e-01, -1.12882971e+00],\n",
       "       [ 3.78839703e-01,  8.85163171e-01],\n",
       "       [-2.55743682e-01,  8.34642895e-01],\n",
       "       [ 3.30019585e-01,  2.05497015e+00],\n",
       "       [-2.68141494e+00, -4.38337852e+00],\n",
       "       [ 6.89450542e-01,  1.50543248e+00],\n",
       "       [ 7.22560283e-01,  1.82176312e+00],\n",
       "       [-4.06597994e-01, -8.94651836e-01],\n",
       "       [ 1.16194233e+00,  4.00738706e+00],\n",
       "       [ 1.61650030e-01,  1.72834470e-02],\n",
       "       [ 5.53358142e-01,  1.41553847e+00],\n",
       "       [-1.07027883e+00, -3.28321979e+00],\n",
       "       [-2.75703659e-01,  5.52128621e-01],\n",
       "       [-7.21068440e-03,  3.17932784e-01],\n",
       "       [ 7.66208976e-01, -4.96626369e-01],\n",
       "       [-2.66316976e-01, -1.34993764e+00],\n",
       "       [ 5.14566295e-01, -1.42097757e+00],\n",
       "       [-2.82625648e+00, -5.56580403e+00],\n",
       "       [-1.22119092e+00, -2.74488377e+00],\n",
       "       [-1.73454692e+00, -2.21779055e+00],\n",
       "       [ 1.70361245e-01, -1.18305484e+00],\n",
       "       [ 1.95564824e-02,  4.79495483e-01],\n",
       "       [ 9.53808764e-02,  5.58011032e-01],\n",
       "       [-3.76722325e-01,  1.79743433e-01],\n",
       "       [-8.71579709e-01, -3.21638628e+00]])"
      ]
     },
     "execution_count": 5,
     "metadata": {},
     "output_type": "execute_result"
    }
   ],
   "source": [
    "the_array = np.concatenate([X,Y],axis=1)\n",
    "the_array"
   ]
  },
  {
   "cell_type": "code",
   "execution_count": 6,
   "metadata": {
    "slideshow": {
     "slide_type": "slide"
    }
   },
   "outputs": [
    {
     "data": {
      "text/html": [
       "<div>\n",
       "<style scoped>\n",
       "    .dataframe tbody tr th:only-of-type {\n",
       "        vertical-align: middle;\n",
       "    }\n",
       "\n",
       "    .dataframe tbody tr th {\n",
       "        vertical-align: top;\n",
       "    }\n",
       "\n",
       "    .dataframe thead th {\n",
       "        text-align: right;\n",
       "    }\n",
       "</style>\n",
       "<table border=\"1\" class=\"dataframe\">\n",
       "  <thead>\n",
       "    <tr style=\"text-align: right;\">\n",
       "      <th></th>\n",
       "      <th>X</th>\n",
       "      <th>Y</th>\n",
       "    </tr>\n",
       "  </thead>\n",
       "  <tbody>\n",
       "    <tr>\n",
       "      <th>0</th>\n",
       "      <td>0.481828</td>\n",
       "      <td>1.217099</td>\n",
       "    </tr>\n",
       "    <tr>\n",
       "      <th>1</th>\n",
       "      <td>0.180225</td>\n",
       "      <td>-0.268869</td>\n",
       "    </tr>\n",
       "    <tr>\n",
       "      <th>2</th>\n",
       "      <td>-1.203264</td>\n",
       "      <td>-3.587676</td>\n",
       "    </tr>\n",
       "    <tr>\n",
       "      <th>3</th>\n",
       "      <td>0.059219</td>\n",
       "      <td>0.173871</td>\n",
       "    </tr>\n",
       "    <tr>\n",
       "      <th>4</th>\n",
       "      <td>-0.514027</td>\n",
       "      <td>-0.660043</td>\n",
       "    </tr>\n",
       "  </tbody>\n",
       "</table>\n",
       "</div>"
      ],
      "text/plain": [
       "          X         Y\n",
       "0  0.481828  1.217099\n",
       "1  0.180225 -0.268869\n",
       "2 -1.203264 -3.587676\n",
       "3  0.059219  0.173871\n",
       "4 -0.514027 -0.660043"
      ]
     },
     "execution_count": 6,
     "metadata": {},
     "output_type": "execute_result"
    }
   ],
   "source": [
    "df = pd.DataFrame(the_array,columns=['X','Y'])\n",
    "df.head()"
   ]
  },
  {
   "cell_type": "markdown",
   "metadata": {
    "slideshow": {
     "slide_type": "subslide"
    }
   },
   "source": [
    "Pandas can also convert dictionaries to DataFrames very easily:"
   ]
  },
  {
   "cell_type": "code",
   "execution_count": 7,
   "metadata": {
    "slideshow": {
     "slide_type": "skip"
    }
   },
   "outputs": [],
   "source": [
    "Babies = {\"Bart Harley Jarvis\":{\n",
    "                \"Description\" : \"Underbite, flat back of the head\",\n",
    "                \"Weight Percentile\" : 50,\n",
    "                \"Height Percentile\" : 80 },\n",
    "          \"Michael Patrick Porkins\":{\n",
    "                \"Description\" : \"Button nose, apple cheeks\",\n",
    "                \"Weight Percentile\" : 99,\n",
    "                \"Height Percentile\" : 10},\n",
    "          \"Taffy Lee Fubbins\" : {\n",
    "                \"Description\" : \"Tuna can\",\n",
    "                \"Weight Percentile\" : 90,\n",
    "                \"Height Percentile\" : 10}}"
   ]
  },
  {
   "cell_type": "code",
   "execution_count": 8,
   "metadata": {
    "slideshow": {
     "slide_type": "-"
    }
   },
   "outputs": [
    {
     "data": {
      "text/html": [
       "<div>\n",
       "<style scoped>\n",
       "    .dataframe tbody tr th:only-of-type {\n",
       "        vertical-align: middle;\n",
       "    }\n",
       "\n",
       "    .dataframe tbody tr th {\n",
       "        vertical-align: top;\n",
       "    }\n",
       "\n",
       "    .dataframe thead th {\n",
       "        text-align: right;\n",
       "    }\n",
       "</style>\n",
       "<table border=\"1\" class=\"dataframe\">\n",
       "  <thead>\n",
       "    <tr style=\"text-align: right;\">\n",
       "      <th></th>\n",
       "      <th>Description</th>\n",
       "      <th>Weight Percentile</th>\n",
       "      <th>Height Percentile</th>\n",
       "    </tr>\n",
       "  </thead>\n",
       "  <tbody>\n",
       "    <tr>\n",
       "      <th>Bart Harley Jarvis</th>\n",
       "      <td>Underbite, flat back of the head</td>\n",
       "      <td>50</td>\n",
       "      <td>80</td>\n",
       "    </tr>\n",
       "    <tr>\n",
       "      <th>Michael Patrick Porkins</th>\n",
       "      <td>Button nose, apple cheeks</td>\n",
       "      <td>99</td>\n",
       "      <td>10</td>\n",
       "    </tr>\n",
       "    <tr>\n",
       "      <th>Taffy Lee Fubbins</th>\n",
       "      <td>Tuna can</td>\n",
       "      <td>90</td>\n",
       "      <td>10</td>\n",
       "    </tr>\n",
       "  </tbody>\n",
       "</table>\n",
       "</div>"
      ],
      "text/plain": [
       "                                              Description Weight Percentile  \\\n",
       "Bart Harley Jarvis       Underbite, flat back of the head                50   \n",
       "Michael Patrick Porkins         Button nose, apple cheeks                99   \n",
       "Taffy Lee Fubbins                                Tuna can                90   \n",
       "\n",
       "                        Height Percentile  \n",
       "Bart Harley Jarvis                     80  \n",
       "Michael Patrick Porkins                10  \n",
       "Taffy Lee Fubbins                      10  "
      ]
     },
     "execution_count": 8,
     "metadata": {},
     "output_type": "execute_result"
    }
   ],
   "source": [
    "pd.DataFrame(Babies).T"
   ]
  },
  {
   "cell_type": "markdown",
   "metadata": {
    "slideshow": {
     "slide_type": "slide"
    }
   },
   "source": [
    "Selecting one column returns a Series:"
   ]
  },
  {
   "cell_type": "code",
   "execution_count": 15,
   "metadata": {
    "slideshow": {
     "slide_type": "-"
    }
   },
   "outputs": [
    {
     "data": {
      "text/plain": [
       "0    0.481828\n",
       "1    0.180225\n",
       "2   -1.203264\n",
       "3    0.059219\n",
       "4   -0.514027\n",
       "Name: X, dtype: float64"
      ]
     },
     "execution_count": 15,
     "metadata": {},
     "output_type": "execute_result"
    }
   ],
   "source": [
    "df['X'].head()"
   ]
  },
  {
   "cell_type": "markdown",
   "metadata": {
    "slideshow": {
     "slide_type": "slide"
    }
   },
   "source": [
    "Selecting more columns returns a DataFrame"
   ]
  },
  {
   "cell_type": "code",
   "execution_count": 16,
   "metadata": {
    "slideshow": {
     "slide_type": "-"
    }
   },
   "outputs": [
    {
     "data": {
      "text/html": [
       "<div>\n",
       "<style scoped>\n",
       "    .dataframe tbody tr th:only-of-type {\n",
       "        vertical-align: middle;\n",
       "    }\n",
       "\n",
       "    .dataframe tbody tr th {\n",
       "        vertical-align: top;\n",
       "    }\n",
       "\n",
       "    .dataframe thead th {\n",
       "        text-align: right;\n",
       "    }\n",
       "</style>\n",
       "<table border=\"1\" class=\"dataframe\">\n",
       "  <thead>\n",
       "    <tr style=\"text-align: right;\">\n",
       "      <th></th>\n",
       "      <th>X</th>\n",
       "      <th>Y</th>\n",
       "    </tr>\n",
       "  </thead>\n",
       "  <tbody>\n",
       "    <tr>\n",
       "      <th>0</th>\n",
       "      <td>0.481828</td>\n",
       "      <td>1.217099</td>\n",
       "    </tr>\n",
       "    <tr>\n",
       "      <th>1</th>\n",
       "      <td>0.180225</td>\n",
       "      <td>-0.268869</td>\n",
       "    </tr>\n",
       "    <tr>\n",
       "      <th>2</th>\n",
       "      <td>-1.203264</td>\n",
       "      <td>-3.587676</td>\n",
       "    </tr>\n",
       "    <tr>\n",
       "      <th>3</th>\n",
       "      <td>0.059219</td>\n",
       "      <td>0.173871</td>\n",
       "    </tr>\n",
       "    <tr>\n",
       "      <th>4</th>\n",
       "      <td>-0.514027</td>\n",
       "      <td>-0.660043</td>\n",
       "    </tr>\n",
       "  </tbody>\n",
       "</table>\n",
       "</div>"
      ],
      "text/plain": [
       "          X         Y\n",
       "0  0.481828  1.217099\n",
       "1  0.180225 -0.268869\n",
       "2 -1.203264 -3.587676\n",
       "3  0.059219  0.173871\n",
       "4 -0.514027 -0.660043"
      ]
     },
     "execution_count": 16,
     "metadata": {},
     "output_type": "execute_result"
    }
   ],
   "source": [
    "df[['X','Y']].head()"
   ]
  },
  {
   "cell_type": "markdown",
   "metadata": {
    "slideshow": {
     "slide_type": "slide"
    }
   },
   "source": [
    "You can also pass slices just like in arrays, with one critical difference: Pandas indices are __labeled__.\n",
    "\n",
    "Thus you need to tell Pandas whether you are giving it a label or a positional index.\n",
    "\n",
    "- `.loc` is for labeled indices.\n",
    "- `.iloc` is for positional indices (integer based)."
   ]
  },
  {
   "cell_type": "code",
   "execution_count": 17,
   "metadata": {
    "slideshow": {
     "slide_type": "slide"
    }
   },
   "outputs": [
    {
     "data": {
      "text/plain": [
       "0.48182804458025347"
      ]
     },
     "execution_count": 17,
     "metadata": {},
     "output_type": "execute_result"
    }
   ],
   "source": [
    "df.loc[0,\"X\"]"
   ]
  },
  {
   "cell_type": "code",
   "execution_count": 18,
   "metadata": {
    "scrolled": true,
    "slideshow": {
     "slide_type": "-"
    }
   },
   "outputs": [
    {
     "ename": "ValueError",
     "evalue": "Location based indexing can only have [integer, integer slice (START point is INCLUDED, END point is EXCLUDED), listlike of integers, boolean array] types",
     "output_type": "error",
     "traceback": [
      "\u001b[1;31m---------------------------------------------------------------------------\u001b[0m",
      "\u001b[1;31mValueError\u001b[0m                                Traceback (most recent call last)",
      "\u001b[1;32mC:\\ProgramData\\Anaconda3\\lib\\site-packages\\pandas\\core\\indexing.py\u001b[0m in \u001b[0;36m_has_valid_tuple\u001b[1;34m(self, key)\u001b[0m\n\u001b[0;32m    702\u001b[0m             \u001b[1;32mtry\u001b[0m\u001b[1;33m:\u001b[0m\u001b[1;33m\u001b[0m\u001b[1;33m\u001b[0m\u001b[0m\n\u001b[1;32m--> 703\u001b[1;33m                 \u001b[0mself\u001b[0m\u001b[1;33m.\u001b[0m\u001b[0m_validate_key\u001b[0m\u001b[1;33m(\u001b[0m\u001b[0mk\u001b[0m\u001b[1;33m,\u001b[0m \u001b[0mi\u001b[0m\u001b[1;33m)\u001b[0m\u001b[1;33m\u001b[0m\u001b[1;33m\u001b[0m\u001b[0m\n\u001b[0m\u001b[0;32m    704\u001b[0m             \u001b[1;32mexcept\u001b[0m \u001b[0mValueError\u001b[0m\u001b[1;33m:\u001b[0m\u001b[1;33m\u001b[0m\u001b[1;33m\u001b[0m\u001b[0m\n",
      "\u001b[1;32mC:\\ProgramData\\Anaconda3\\lib\\site-packages\\pandas\\core\\indexing.py\u001b[0m in \u001b[0;36m_validate_key\u001b[1;34m(self, key, axis)\u001b[0m\n\u001b[0;32m   2010\u001b[0m         \u001b[1;32melse\u001b[0m\u001b[1;33m:\u001b[0m\u001b[1;33m\u001b[0m\u001b[1;33m\u001b[0m\u001b[0m\n\u001b[1;32m-> 2011\u001b[1;33m             \u001b[1;32mraise\u001b[0m \u001b[0mValueError\u001b[0m\u001b[1;33m(\u001b[0m\u001b[1;34mf\"Can only index by location with a [{self._valid_types}]\"\u001b[0m\u001b[1;33m)\u001b[0m\u001b[1;33m\u001b[0m\u001b[1;33m\u001b[0m\u001b[0m\n\u001b[0m\u001b[0;32m   2012\u001b[0m \u001b[1;33m\u001b[0m\u001b[0m\n",
      "\u001b[1;31mValueError\u001b[0m: Can only index by location with a [integer, integer slice (START point is INCLUDED, END point is EXCLUDED), listlike of integers, boolean array]",
      "\nDuring handling of the above exception, another exception occurred:\n",
      "\u001b[1;31mValueError\u001b[0m                                Traceback (most recent call last)",
      "\u001b[1;32m<ipython-input-18-004ea9bc98cd>\u001b[0m in \u001b[0;36m<module>\u001b[1;34m\u001b[0m\n\u001b[1;32m----> 1\u001b[1;33m \u001b[0mdf\u001b[0m\u001b[1;33m.\u001b[0m\u001b[0miloc\u001b[0m\u001b[1;33m[\u001b[0m\u001b[1;36m0\u001b[0m\u001b[1;33m,\u001b[0m\u001b[1;34m\"X\"\u001b[0m\u001b[1;33m]\u001b[0m\u001b[1;33m\u001b[0m\u001b[1;33m\u001b[0m\u001b[0m\n\u001b[0m",
      "\u001b[1;32mC:\\ProgramData\\Anaconda3\\lib\\site-packages\\pandas\\core\\indexing.py\u001b[0m in \u001b[0;36m__getitem__\u001b[1;34m(self, key)\u001b[0m\n\u001b[0;32m   1760\u001b[0m                 \u001b[1;32mexcept\u001b[0m \u001b[1;33m(\u001b[0m\u001b[0mKeyError\u001b[0m\u001b[1;33m,\u001b[0m \u001b[0mIndexError\u001b[0m\u001b[1;33m,\u001b[0m \u001b[0mAttributeError\u001b[0m\u001b[1;33m)\u001b[0m\u001b[1;33m:\u001b[0m\u001b[1;33m\u001b[0m\u001b[1;33m\u001b[0m\u001b[0m\n\u001b[0;32m   1761\u001b[0m                     \u001b[1;32mpass\u001b[0m\u001b[1;33m\u001b[0m\u001b[1;33m\u001b[0m\u001b[0m\n\u001b[1;32m-> 1762\u001b[1;33m             \u001b[1;32mreturn\u001b[0m \u001b[0mself\u001b[0m\u001b[1;33m.\u001b[0m\u001b[0m_getitem_tuple\u001b[0m\u001b[1;33m(\u001b[0m\u001b[0mkey\u001b[0m\u001b[1;33m)\u001b[0m\u001b[1;33m\u001b[0m\u001b[1;33m\u001b[0m\u001b[0m\n\u001b[0m\u001b[0;32m   1763\u001b[0m         \u001b[1;32melse\u001b[0m\u001b[1;33m:\u001b[0m\u001b[1;33m\u001b[0m\u001b[1;33m\u001b[0m\u001b[0m\n\u001b[0;32m   1764\u001b[0m             \u001b[1;31m# we by definition only have the 0th axis\u001b[0m\u001b[1;33m\u001b[0m\u001b[1;33m\u001b[0m\u001b[1;33m\u001b[0m\u001b[0m\n",
      "\u001b[1;32mC:\\ProgramData\\Anaconda3\\lib\\site-packages\\pandas\\core\\indexing.py\u001b[0m in \u001b[0;36m_getitem_tuple\u001b[1;34m(self, tup)\u001b[0m\n\u001b[0;32m   2065\u001b[0m     \u001b[1;32mdef\u001b[0m \u001b[0m_getitem_tuple\u001b[0m\u001b[1;33m(\u001b[0m\u001b[0mself\u001b[0m\u001b[1;33m,\u001b[0m \u001b[0mtup\u001b[0m\u001b[1;33m:\u001b[0m \u001b[0mTuple\u001b[0m\u001b[1;33m)\u001b[0m\u001b[1;33m:\u001b[0m\u001b[1;33m\u001b[0m\u001b[1;33m\u001b[0m\u001b[0m\n\u001b[0;32m   2066\u001b[0m \u001b[1;33m\u001b[0m\u001b[0m\n\u001b[1;32m-> 2067\u001b[1;33m         \u001b[0mself\u001b[0m\u001b[1;33m.\u001b[0m\u001b[0m_has_valid_tuple\u001b[0m\u001b[1;33m(\u001b[0m\u001b[0mtup\u001b[0m\u001b[1;33m)\u001b[0m\u001b[1;33m\u001b[0m\u001b[1;33m\u001b[0m\u001b[0m\n\u001b[0m\u001b[0;32m   2068\u001b[0m         \u001b[1;32mtry\u001b[0m\u001b[1;33m:\u001b[0m\u001b[1;33m\u001b[0m\u001b[1;33m\u001b[0m\u001b[0m\n\u001b[0;32m   2069\u001b[0m             \u001b[1;32mreturn\u001b[0m \u001b[0mself\u001b[0m\u001b[1;33m.\u001b[0m\u001b[0m_getitem_lowerdim\u001b[0m\u001b[1;33m(\u001b[0m\u001b[0mtup\u001b[0m\u001b[1;33m)\u001b[0m\u001b[1;33m\u001b[0m\u001b[1;33m\u001b[0m\u001b[0m\n",
      "\u001b[1;32mC:\\ProgramData\\Anaconda3\\lib\\site-packages\\pandas\\core\\indexing.py\u001b[0m in \u001b[0;36m_has_valid_tuple\u001b[1;34m(self, key)\u001b[0m\n\u001b[0;32m    703\u001b[0m                 \u001b[0mself\u001b[0m\u001b[1;33m.\u001b[0m\u001b[0m_validate_key\u001b[0m\u001b[1;33m(\u001b[0m\u001b[0mk\u001b[0m\u001b[1;33m,\u001b[0m \u001b[0mi\u001b[0m\u001b[1;33m)\u001b[0m\u001b[1;33m\u001b[0m\u001b[1;33m\u001b[0m\u001b[0m\n\u001b[0;32m    704\u001b[0m             \u001b[1;32mexcept\u001b[0m \u001b[0mValueError\u001b[0m\u001b[1;33m:\u001b[0m\u001b[1;33m\u001b[0m\u001b[1;33m\u001b[0m\u001b[0m\n\u001b[1;32m--> 705\u001b[1;33m                 raise ValueError(\n\u001b[0m\u001b[0;32m    706\u001b[0m                     \u001b[1;34m\"Location based indexing can only have \"\u001b[0m\u001b[1;33m\u001b[0m\u001b[1;33m\u001b[0m\u001b[0m\n\u001b[0;32m    707\u001b[0m                     \u001b[1;34mf\"[{self._valid_types}] types\"\u001b[0m\u001b[1;33m\u001b[0m\u001b[1;33m\u001b[0m\u001b[0m\n",
      "\u001b[1;31mValueError\u001b[0m: Location based indexing can only have [integer, integer slice (START point is INCLUDED, END point is EXCLUDED), listlike of integers, boolean array] types"
     ]
    }
   ],
   "source": [
    "df.iloc[0,\"X\"]"
   ]
  },
  {
   "cell_type": "code",
   "execution_count": 19,
   "metadata": {
    "slideshow": {
     "slide_type": "slide"
    }
   },
   "outputs": [
    {
     "data": {
      "text/plain": [
       "-3.5876755819259794"
      ]
     },
     "execution_count": 19,
     "metadata": {},
     "output_type": "execute_result"
    }
   ],
   "source": [
    "df.iloc[2,1]"
   ]
  },
  {
   "cell_type": "code",
   "execution_count": 20,
   "metadata": {
    "scrolled": true,
    "slideshow": {
     "slide_type": "-"
    }
   },
   "outputs": [
    {
     "ename": "TypeError",
     "evalue": "cannot do label indexing on <class 'pandas.core.indexes.base.Index'> with these indexers [1] of <class 'int'>",
     "output_type": "error",
     "traceback": [
      "\u001b[1;31m---------------------------------------------------------------------------\u001b[0m",
      "\u001b[1;31mTypeError\u001b[0m                                 Traceback (most recent call last)",
      "\u001b[1;32m<ipython-input-20-51d7e51b12af>\u001b[0m in \u001b[0;36m<module>\u001b[1;34m\u001b[0m\n\u001b[1;32m----> 1\u001b[1;33m \u001b[0mdf\u001b[0m\u001b[1;33m.\u001b[0m\u001b[0mloc\u001b[0m\u001b[1;33m[\u001b[0m\u001b[1;36m2\u001b[0m\u001b[1;33m,\u001b[0m\u001b[1;36m1\u001b[0m\u001b[1;33m]\u001b[0m\u001b[1;33m\u001b[0m\u001b[1;33m\u001b[0m\u001b[0m\n\u001b[0m",
      "\u001b[1;32mC:\\ProgramData\\Anaconda3\\lib\\site-packages\\pandas\\core\\indexing.py\u001b[0m in \u001b[0;36m__getitem__\u001b[1;34m(self, key)\u001b[0m\n\u001b[0;32m   1760\u001b[0m                 \u001b[1;32mexcept\u001b[0m \u001b[1;33m(\u001b[0m\u001b[0mKeyError\u001b[0m\u001b[1;33m,\u001b[0m \u001b[0mIndexError\u001b[0m\u001b[1;33m,\u001b[0m \u001b[0mAttributeError\u001b[0m\u001b[1;33m)\u001b[0m\u001b[1;33m:\u001b[0m\u001b[1;33m\u001b[0m\u001b[1;33m\u001b[0m\u001b[0m\n\u001b[0;32m   1761\u001b[0m                     \u001b[1;32mpass\u001b[0m\u001b[1;33m\u001b[0m\u001b[1;33m\u001b[0m\u001b[0m\n\u001b[1;32m-> 1762\u001b[1;33m             \u001b[1;32mreturn\u001b[0m \u001b[0mself\u001b[0m\u001b[1;33m.\u001b[0m\u001b[0m_getitem_tuple\u001b[0m\u001b[1;33m(\u001b[0m\u001b[0mkey\u001b[0m\u001b[1;33m)\u001b[0m\u001b[1;33m\u001b[0m\u001b[1;33m\u001b[0m\u001b[0m\n\u001b[0m\u001b[0;32m   1763\u001b[0m         \u001b[1;32melse\u001b[0m\u001b[1;33m:\u001b[0m\u001b[1;33m\u001b[0m\u001b[1;33m\u001b[0m\u001b[0m\n\u001b[0;32m   1764\u001b[0m             \u001b[1;31m# we by definition only have the 0th axis\u001b[0m\u001b[1;33m\u001b[0m\u001b[1;33m\u001b[0m\u001b[1;33m\u001b[0m\u001b[0m\n",
      "\u001b[1;32mC:\\ProgramData\\Anaconda3\\lib\\site-packages\\pandas\\core\\indexing.py\u001b[0m in \u001b[0;36m_getitem_tuple\u001b[1;34m(self, tup)\u001b[0m\n\u001b[0;32m   1270\u001b[0m     \u001b[1;32mdef\u001b[0m \u001b[0m_getitem_tuple\u001b[0m\u001b[1;33m(\u001b[0m\u001b[0mself\u001b[0m\u001b[1;33m,\u001b[0m \u001b[0mtup\u001b[0m\u001b[1;33m:\u001b[0m \u001b[0mTuple\u001b[0m\u001b[1;33m)\u001b[0m\u001b[1;33m:\u001b[0m\u001b[1;33m\u001b[0m\u001b[1;33m\u001b[0m\u001b[0m\n\u001b[0;32m   1271\u001b[0m         \u001b[1;32mtry\u001b[0m\u001b[1;33m:\u001b[0m\u001b[1;33m\u001b[0m\u001b[1;33m\u001b[0m\u001b[0m\n\u001b[1;32m-> 1272\u001b[1;33m             \u001b[1;32mreturn\u001b[0m \u001b[0mself\u001b[0m\u001b[1;33m.\u001b[0m\u001b[0m_getitem_lowerdim\u001b[0m\u001b[1;33m(\u001b[0m\u001b[0mtup\u001b[0m\u001b[1;33m)\u001b[0m\u001b[1;33m\u001b[0m\u001b[1;33m\u001b[0m\u001b[0m\n\u001b[0m\u001b[0;32m   1273\u001b[0m         \u001b[1;32mexcept\u001b[0m \u001b[0mIndexingError\u001b[0m\u001b[1;33m:\u001b[0m\u001b[1;33m\u001b[0m\u001b[1;33m\u001b[0m\u001b[0m\n\u001b[0;32m   1274\u001b[0m             \u001b[1;32mpass\u001b[0m\u001b[1;33m\u001b[0m\u001b[1;33m\u001b[0m\u001b[0m\n",
      "\u001b[1;32mC:\\ProgramData\\Anaconda3\\lib\\site-packages\\pandas\\core\\indexing.py\u001b[0m in \u001b[0;36m_getitem_lowerdim\u001b[1;34m(self, tup)\u001b[0m\n\u001b[0;32m   1419\u001b[0m                     \u001b[1;32mreturn\u001b[0m \u001b[0msection\u001b[0m\u001b[1;33m\u001b[0m\u001b[1;33m\u001b[0m\u001b[0m\n\u001b[0;32m   1420\u001b[0m                 \u001b[1;31m# This is an elided recursive call to iloc/loc/etc'\u001b[0m\u001b[1;33m\u001b[0m\u001b[1;33m\u001b[0m\u001b[1;33m\u001b[0m\u001b[0m\n\u001b[1;32m-> 1421\u001b[1;33m                 \u001b[1;32mreturn\u001b[0m \u001b[0mgetattr\u001b[0m\u001b[1;33m(\u001b[0m\u001b[0msection\u001b[0m\u001b[1;33m,\u001b[0m \u001b[0mself\u001b[0m\u001b[1;33m.\u001b[0m\u001b[0mname\u001b[0m\u001b[1;33m)\u001b[0m\u001b[1;33m[\u001b[0m\u001b[0mnew_key\u001b[0m\u001b[1;33m]\u001b[0m\u001b[1;33m\u001b[0m\u001b[1;33m\u001b[0m\u001b[0m\n\u001b[0m\u001b[0;32m   1422\u001b[0m \u001b[1;33m\u001b[0m\u001b[0m\n\u001b[0;32m   1423\u001b[0m         \u001b[1;32mraise\u001b[0m \u001b[0mIndexingError\u001b[0m\u001b[1;33m(\u001b[0m\u001b[1;34m\"not applicable\"\u001b[0m\u001b[1;33m)\u001b[0m\u001b[1;33m\u001b[0m\u001b[1;33m\u001b[0m\u001b[0m\n",
      "\u001b[1;32mC:\\ProgramData\\Anaconda3\\lib\\site-packages\\pandas\\core\\indexing.py\u001b[0m in \u001b[0;36m__getitem__\u001b[1;34m(self, key)\u001b[0m\n\u001b[0;32m   1766\u001b[0m \u001b[1;33m\u001b[0m\u001b[0m\n\u001b[0;32m   1767\u001b[0m             \u001b[0mmaybe_callable\u001b[0m \u001b[1;33m=\u001b[0m \u001b[0mcom\u001b[0m\u001b[1;33m.\u001b[0m\u001b[0mapply_if_callable\u001b[0m\u001b[1;33m(\u001b[0m\u001b[0mkey\u001b[0m\u001b[1;33m,\u001b[0m \u001b[0mself\u001b[0m\u001b[1;33m.\u001b[0m\u001b[0mobj\u001b[0m\u001b[1;33m)\u001b[0m\u001b[1;33m\u001b[0m\u001b[1;33m\u001b[0m\u001b[0m\n\u001b[1;32m-> 1768\u001b[1;33m             \u001b[1;32mreturn\u001b[0m \u001b[0mself\u001b[0m\u001b[1;33m.\u001b[0m\u001b[0m_getitem_axis\u001b[0m\u001b[1;33m(\u001b[0m\u001b[0mmaybe_callable\u001b[0m\u001b[1;33m,\u001b[0m \u001b[0maxis\u001b[0m\u001b[1;33m=\u001b[0m\u001b[0maxis\u001b[0m\u001b[1;33m)\u001b[0m\u001b[1;33m\u001b[0m\u001b[1;33m\u001b[0m\u001b[0m\n\u001b[0m\u001b[0;32m   1769\u001b[0m \u001b[1;33m\u001b[0m\u001b[0m\n\u001b[0;32m   1770\u001b[0m     \u001b[1;32mdef\u001b[0m \u001b[0m_is_scalar_access\u001b[0m\u001b[1;33m(\u001b[0m\u001b[0mself\u001b[0m\u001b[1;33m,\u001b[0m \u001b[0mkey\u001b[0m\u001b[1;33m:\u001b[0m \u001b[0mTuple\u001b[0m\u001b[1;33m)\u001b[0m\u001b[1;33m:\u001b[0m\u001b[1;33m\u001b[0m\u001b[1;33m\u001b[0m\u001b[0m\n",
      "\u001b[1;32mC:\\ProgramData\\Anaconda3\\lib\\site-packages\\pandas\\core\\indexing.py\u001b[0m in \u001b[0;36m_getitem_axis\u001b[1;34m(self, key, axis)\u001b[0m\n\u001b[0;32m   1962\u001b[0m \u001b[1;33m\u001b[0m\u001b[0m\n\u001b[0;32m   1963\u001b[0m         \u001b[1;31m# fall thru to straight lookup\u001b[0m\u001b[1;33m\u001b[0m\u001b[1;33m\u001b[0m\u001b[1;33m\u001b[0m\u001b[0m\n\u001b[1;32m-> 1964\u001b[1;33m         \u001b[0mself\u001b[0m\u001b[1;33m.\u001b[0m\u001b[0m_validate_key\u001b[0m\u001b[1;33m(\u001b[0m\u001b[0mkey\u001b[0m\u001b[1;33m,\u001b[0m \u001b[0maxis\u001b[0m\u001b[1;33m)\u001b[0m\u001b[1;33m\u001b[0m\u001b[1;33m\u001b[0m\u001b[0m\n\u001b[0m\u001b[0;32m   1965\u001b[0m         \u001b[1;32mreturn\u001b[0m \u001b[0mself\u001b[0m\u001b[1;33m.\u001b[0m\u001b[0m_get_label\u001b[0m\u001b[1;33m(\u001b[0m\u001b[0mkey\u001b[0m\u001b[1;33m,\u001b[0m \u001b[0maxis\u001b[0m\u001b[1;33m=\u001b[0m\u001b[0maxis\u001b[0m\u001b[1;33m)\u001b[0m\u001b[1;33m\u001b[0m\u001b[1;33m\u001b[0m\u001b[0m\n\u001b[0;32m   1966\u001b[0m \u001b[1;33m\u001b[0m\u001b[0m\n",
      "\u001b[1;32mC:\\ProgramData\\Anaconda3\\lib\\site-packages\\pandas\\core\\indexing.py\u001b[0m in \u001b[0;36m_validate_key\u001b[1;34m(self, key, axis)\u001b[0m\n\u001b[0;32m   1829\u001b[0m \u001b[1;33m\u001b[0m\u001b[0m\n\u001b[0;32m   1830\u001b[0m         \u001b[1;32mif\u001b[0m \u001b[1;32mnot\u001b[0m \u001b[0mis_list_like_indexer\u001b[0m\u001b[1;33m(\u001b[0m\u001b[0mkey\u001b[0m\u001b[1;33m)\u001b[0m\u001b[1;33m:\u001b[0m\u001b[1;33m\u001b[0m\u001b[1;33m\u001b[0m\u001b[0m\n\u001b[1;32m-> 1831\u001b[1;33m             \u001b[0mself\u001b[0m\u001b[1;33m.\u001b[0m\u001b[0m_convert_scalar_indexer\u001b[0m\u001b[1;33m(\u001b[0m\u001b[0mkey\u001b[0m\u001b[1;33m,\u001b[0m \u001b[0maxis\u001b[0m\u001b[1;33m)\u001b[0m\u001b[1;33m\u001b[0m\u001b[1;33m\u001b[0m\u001b[0m\n\u001b[0m\u001b[0;32m   1832\u001b[0m \u001b[1;33m\u001b[0m\u001b[0m\n\u001b[0;32m   1833\u001b[0m     \u001b[1;32mdef\u001b[0m \u001b[0m_is_scalar_access\u001b[0m\u001b[1;33m(\u001b[0m\u001b[0mself\u001b[0m\u001b[1;33m,\u001b[0m \u001b[0mkey\u001b[0m\u001b[1;33m:\u001b[0m \u001b[0mTuple\u001b[0m\u001b[1;33m)\u001b[0m \u001b[1;33m->\u001b[0m \u001b[0mbool\u001b[0m\u001b[1;33m:\u001b[0m\u001b[1;33m\u001b[0m\u001b[1;33m\u001b[0m\u001b[0m\n",
      "\u001b[1;32mC:\\ProgramData\\Anaconda3\\lib\\site-packages\\pandas\\core\\indexing.py\u001b[0m in \u001b[0;36m_convert_scalar_indexer\u001b[1;34m(self, key, axis)\u001b[0m\n\u001b[0;32m    739\u001b[0m         \u001b[0max\u001b[0m \u001b[1;33m=\u001b[0m \u001b[0mself\u001b[0m\u001b[1;33m.\u001b[0m\u001b[0mobj\u001b[0m\u001b[1;33m.\u001b[0m\u001b[0m_get_axis\u001b[0m\u001b[1;33m(\u001b[0m\u001b[0mmin\u001b[0m\u001b[1;33m(\u001b[0m\u001b[0maxis\u001b[0m\u001b[1;33m,\u001b[0m \u001b[0mself\u001b[0m\u001b[1;33m.\u001b[0m\u001b[0mndim\u001b[0m \u001b[1;33m-\u001b[0m \u001b[1;36m1\u001b[0m\u001b[1;33m)\u001b[0m\u001b[1;33m)\u001b[0m\u001b[1;33m\u001b[0m\u001b[1;33m\u001b[0m\u001b[0m\n\u001b[0;32m    740\u001b[0m         \u001b[1;31m# a scalar\u001b[0m\u001b[1;33m\u001b[0m\u001b[1;33m\u001b[0m\u001b[1;33m\u001b[0m\u001b[0m\n\u001b[1;32m--> 741\u001b[1;33m         \u001b[1;32mreturn\u001b[0m \u001b[0max\u001b[0m\u001b[1;33m.\u001b[0m\u001b[0m_convert_scalar_indexer\u001b[0m\u001b[1;33m(\u001b[0m\u001b[0mkey\u001b[0m\u001b[1;33m,\u001b[0m \u001b[0mkind\u001b[0m\u001b[1;33m=\u001b[0m\u001b[0mself\u001b[0m\u001b[1;33m.\u001b[0m\u001b[0mname\u001b[0m\u001b[1;33m)\u001b[0m\u001b[1;33m\u001b[0m\u001b[1;33m\u001b[0m\u001b[0m\n\u001b[0m\u001b[0;32m    742\u001b[0m \u001b[1;33m\u001b[0m\u001b[0m\n\u001b[0;32m    743\u001b[0m     \u001b[1;32mdef\u001b[0m \u001b[0m_convert_slice_indexer\u001b[0m\u001b[1;33m(\u001b[0m\u001b[0mself\u001b[0m\u001b[1;33m,\u001b[0m \u001b[0mkey\u001b[0m\u001b[1;33m:\u001b[0m \u001b[0mslice\u001b[0m\u001b[1;33m,\u001b[0m \u001b[0maxis\u001b[0m\u001b[1;33m:\u001b[0m \u001b[0mint\u001b[0m\u001b[1;33m)\u001b[0m\u001b[1;33m:\u001b[0m\u001b[1;33m\u001b[0m\u001b[1;33m\u001b[0m\u001b[0m\n",
      "\u001b[1;32mC:\\ProgramData\\Anaconda3\\lib\\site-packages\\pandas\\core\\indexes\\base.py\u001b[0m in \u001b[0;36m_convert_scalar_indexer\u001b[1;34m(self, key, kind)\u001b[0m\n\u001b[0;32m   2886\u001b[0m             \u001b[1;32melif\u001b[0m \u001b[0mkind\u001b[0m \u001b[1;32min\u001b[0m \u001b[1;33m[\u001b[0m\u001b[1;34m\"loc\"\u001b[0m\u001b[1;33m]\u001b[0m \u001b[1;32mand\u001b[0m \u001b[0mis_integer\u001b[0m\u001b[1;33m(\u001b[0m\u001b[0mkey\u001b[0m\u001b[1;33m)\u001b[0m\u001b[1;33m:\u001b[0m\u001b[1;33m\u001b[0m\u001b[1;33m\u001b[0m\u001b[0m\n\u001b[0;32m   2887\u001b[0m                 \u001b[1;32mif\u001b[0m \u001b[1;32mnot\u001b[0m \u001b[0mself\u001b[0m\u001b[1;33m.\u001b[0m\u001b[0mholds_integer\u001b[0m\u001b[1;33m(\u001b[0m\u001b[1;33m)\u001b[0m\u001b[1;33m:\u001b[0m\u001b[1;33m\u001b[0m\u001b[1;33m\u001b[0m\u001b[0m\n\u001b[1;32m-> 2888\u001b[1;33m                     \u001b[0mself\u001b[0m\u001b[1;33m.\u001b[0m\u001b[0m_invalid_indexer\u001b[0m\u001b[1;33m(\u001b[0m\u001b[1;34m\"label\"\u001b[0m\u001b[1;33m,\u001b[0m \u001b[0mkey\u001b[0m\u001b[1;33m)\u001b[0m\u001b[1;33m\u001b[0m\u001b[1;33m\u001b[0m\u001b[0m\n\u001b[0m\u001b[0;32m   2889\u001b[0m \u001b[1;33m\u001b[0m\u001b[0m\n\u001b[0;32m   2890\u001b[0m         \u001b[1;32mreturn\u001b[0m \u001b[0mkey\u001b[0m\u001b[1;33m\u001b[0m\u001b[1;33m\u001b[0m\u001b[0m\n",
      "\u001b[1;32mC:\\ProgramData\\Anaconda3\\lib\\site-packages\\pandas\\core\\indexes\\base.py\u001b[0m in \u001b[0;36m_invalid_indexer\u001b[1;34m(self, form, key)\u001b[0m\n\u001b[0;32m   3074\u001b[0m         \u001b[0mConsistent\u001b[0m \u001b[0minvalid\u001b[0m \u001b[0mindexer\u001b[0m \u001b[0mmessage\u001b[0m\u001b[1;33m.\u001b[0m\u001b[1;33m\u001b[0m\u001b[1;33m\u001b[0m\u001b[0m\n\u001b[0;32m   3075\u001b[0m         \"\"\"\n\u001b[1;32m-> 3076\u001b[1;33m         raise TypeError(\n\u001b[0m\u001b[0;32m   3077\u001b[0m             \u001b[1;34mf\"cannot do {form} indexing on {type(self)} with these \"\u001b[0m\u001b[1;33m\u001b[0m\u001b[1;33m\u001b[0m\u001b[0m\n\u001b[0;32m   3078\u001b[0m             \u001b[1;34mf\"indexers [{key}] of {type(key)}\"\u001b[0m\u001b[1;33m\u001b[0m\u001b[1;33m\u001b[0m\u001b[0m\n",
      "\u001b[1;31mTypeError\u001b[0m: cannot do label indexing on <class 'pandas.core.indexes.base.Index'> with these indexers [1] of <class 'int'>"
     ]
    }
   ],
   "source": [
    "df.loc[2,1]"
   ]
  },
  {
   "cell_type": "markdown",
   "metadata": {
    "slideshow": {
     "slide_type": "slide"
    }
   },
   "source": [
    "### Indexing using Boolean arrays\n",
    "When you pass a DataFrame a Boolean array, it subsets the data to the rows where the value is `True`\n",
    "\n",
    "As long as you understand this, you can do subsetting __very__ easily in Pandas:"
   ]
  },
  {
   "cell_type": "code",
   "execution_count": 21,
   "metadata": {
    "slideshow": {
     "slide_type": "slide"
    }
   },
   "outputs": [
    {
     "data": {
      "text/html": [
       "<div>\n",
       "<style scoped>\n",
       "    .dataframe tbody tr th:only-of-type {\n",
       "        vertical-align: middle;\n",
       "    }\n",
       "\n",
       "    .dataframe tbody tr th {\n",
       "        vertical-align: top;\n",
       "    }\n",
       "\n",
       "    .dataframe thead th {\n",
       "        text-align: right;\n",
       "    }\n",
       "</style>\n",
       "<table border=\"1\" class=\"dataframe\">\n",
       "  <thead>\n",
       "    <tr style=\"text-align: right;\">\n",
       "      <th></th>\n",
       "      <th>X</th>\n",
       "    </tr>\n",
       "  </thead>\n",
       "  <tbody>\n",
       "    <tr>\n",
       "      <th>0</th>\n",
       "      <td>0.481828</td>\n",
       "    </tr>\n",
       "    <tr>\n",
       "      <th>1</th>\n",
       "      <td>0.180225</td>\n",
       "    </tr>\n",
       "    <tr>\n",
       "      <th>2</th>\n",
       "      <td>-1.203264</td>\n",
       "    </tr>\n",
       "    <tr>\n",
       "      <th>3</th>\n",
       "      <td>0.059219</td>\n",
       "    </tr>\n",
       "    <tr>\n",
       "      <th>4</th>\n",
       "      <td>-0.514027</td>\n",
       "    </tr>\n",
       "  </tbody>\n",
       "</table>\n",
       "</div>"
      ],
      "text/plain": [
       "          X\n",
       "0  0.481828\n",
       "1  0.180225\n",
       "2 -1.203264\n",
       "3  0.059219\n",
       "4 -0.514027"
      ]
     },
     "execution_count": 21,
     "metadata": {},
     "output_type": "execute_result"
    }
   ],
   "source": [
    "# On axis 1\n",
    "df.iloc[:,[True,False]].head()"
   ]
  },
  {
   "cell_type": "code",
   "execution_count": 23,
   "metadata": {
    "scrolled": true,
    "slideshow": {
     "slide_type": "slide"
    }
   },
   "outputs": [
    {
     "ename": "IndexError",
     "evalue": "Boolean index has wrong length: 40 instead of 100",
     "output_type": "error",
     "traceback": [
      "\u001b[1;31m---------------------------------------------------------------------------\u001b[0m",
      "\u001b[1;31mIndexError\u001b[0m                                Traceback (most recent call last)",
      "\u001b[1;32m<ipython-input-23-e6f5fa25b5b7>\u001b[0m in \u001b[0;36m<module>\u001b[1;34m\u001b[0m\n\u001b[0;32m      1\u001b[0m \u001b[1;31m# On axis 0\u001b[0m\u001b[1;33m\u001b[0m\u001b[1;33m\u001b[0m\u001b[1;33m\u001b[0m\u001b[0m\n\u001b[1;32m----> 2\u001b[1;33m \u001b[0mdf\u001b[0m\u001b[1;33m.\u001b[0m\u001b[0miloc\u001b[0m\u001b[1;33m[\u001b[0m\u001b[1;33m[\u001b[0m\u001b[1;32mTrue\u001b[0m\u001b[1;33m,\u001b[0m\u001b[1;32mFalse\u001b[0m\u001b[1;33m]\u001b[0m\u001b[1;33m*\u001b[0m\u001b[1;36m20\u001b[0m\u001b[1;33m,\u001b[0m\u001b[1;33m:\u001b[0m\u001b[1;33m]\u001b[0m\u001b[1;33m.\u001b[0m\u001b[0mhead\u001b[0m\u001b[1;33m(\u001b[0m\u001b[1;33m)\u001b[0m\u001b[1;33m\u001b[0m\u001b[1;33m\u001b[0m\u001b[0m\n\u001b[0m",
      "\u001b[1;32mC:\\ProgramData\\Anaconda3\\lib\\site-packages\\pandas\\core\\indexing.py\u001b[0m in \u001b[0;36m__getitem__\u001b[1;34m(self, key)\u001b[0m\n\u001b[0;32m   1760\u001b[0m                 \u001b[1;32mexcept\u001b[0m \u001b[1;33m(\u001b[0m\u001b[0mKeyError\u001b[0m\u001b[1;33m,\u001b[0m \u001b[0mIndexError\u001b[0m\u001b[1;33m,\u001b[0m \u001b[0mAttributeError\u001b[0m\u001b[1;33m)\u001b[0m\u001b[1;33m:\u001b[0m\u001b[1;33m\u001b[0m\u001b[1;33m\u001b[0m\u001b[0m\n\u001b[0;32m   1761\u001b[0m                     \u001b[1;32mpass\u001b[0m\u001b[1;33m\u001b[0m\u001b[1;33m\u001b[0m\u001b[0m\n\u001b[1;32m-> 1762\u001b[1;33m             \u001b[1;32mreturn\u001b[0m \u001b[0mself\u001b[0m\u001b[1;33m.\u001b[0m\u001b[0m_getitem_tuple\u001b[0m\u001b[1;33m(\u001b[0m\u001b[0mkey\u001b[0m\u001b[1;33m)\u001b[0m\u001b[1;33m\u001b[0m\u001b[1;33m\u001b[0m\u001b[0m\n\u001b[0m\u001b[0;32m   1763\u001b[0m         \u001b[1;32melse\u001b[0m\u001b[1;33m:\u001b[0m\u001b[1;33m\u001b[0m\u001b[1;33m\u001b[0m\u001b[0m\n\u001b[0;32m   1764\u001b[0m             \u001b[1;31m# we by definition only have the 0th axis\u001b[0m\u001b[1;33m\u001b[0m\u001b[1;33m\u001b[0m\u001b[1;33m\u001b[0m\u001b[0m\n",
      "\u001b[1;32mC:\\ProgramData\\Anaconda3\\lib\\site-packages\\pandas\\core\\indexing.py\u001b[0m in \u001b[0;36m_getitem_tuple\u001b[1;34m(self, tup)\u001b[0m\n\u001b[0;32m   2078\u001b[0m                 \u001b[1;32mcontinue\u001b[0m\u001b[1;33m\u001b[0m\u001b[1;33m\u001b[0m\u001b[0m\n\u001b[0;32m   2079\u001b[0m \u001b[1;33m\u001b[0m\u001b[0m\n\u001b[1;32m-> 2080\u001b[1;33m             \u001b[0mretval\u001b[0m \u001b[1;33m=\u001b[0m \u001b[0mgetattr\u001b[0m\u001b[1;33m(\u001b[0m\u001b[0mretval\u001b[0m\u001b[1;33m,\u001b[0m \u001b[0mself\u001b[0m\u001b[1;33m.\u001b[0m\u001b[0mname\u001b[0m\u001b[1;33m)\u001b[0m\u001b[1;33m.\u001b[0m\u001b[0m_getitem_axis\u001b[0m\u001b[1;33m(\u001b[0m\u001b[0mkey\u001b[0m\u001b[1;33m,\u001b[0m \u001b[0maxis\u001b[0m\u001b[1;33m=\u001b[0m\u001b[0maxis\u001b[0m\u001b[1;33m)\u001b[0m\u001b[1;33m\u001b[0m\u001b[1;33m\u001b[0m\u001b[0m\n\u001b[0m\u001b[0;32m   2081\u001b[0m \u001b[1;33m\u001b[0m\u001b[0m\n\u001b[0;32m   2082\u001b[0m             \u001b[1;31m# if the dim was reduced, then pass a lower-dim the next time\u001b[0m\u001b[1;33m\u001b[0m\u001b[1;33m\u001b[0m\u001b[1;33m\u001b[0m\u001b[0m\n",
      "\u001b[1;32mC:\\ProgramData\\Anaconda3\\lib\\site-packages\\pandas\\core\\indexing.py\u001b[0m in \u001b[0;36m_getitem_axis\u001b[1;34m(self, key, axis)\u001b[0m\n\u001b[0;32m   2123\u001b[0m         \u001b[1;32mif\u001b[0m \u001b[0mcom\u001b[0m\u001b[1;33m.\u001b[0m\u001b[0mis_bool_indexer\u001b[0m\u001b[1;33m(\u001b[0m\u001b[0mkey\u001b[0m\u001b[1;33m)\u001b[0m\u001b[1;33m:\u001b[0m\u001b[1;33m\u001b[0m\u001b[1;33m\u001b[0m\u001b[0m\n\u001b[0;32m   2124\u001b[0m             \u001b[0mself\u001b[0m\u001b[1;33m.\u001b[0m\u001b[0m_validate_key\u001b[0m\u001b[1;33m(\u001b[0m\u001b[0mkey\u001b[0m\u001b[1;33m,\u001b[0m \u001b[0maxis\u001b[0m\u001b[1;33m)\u001b[0m\u001b[1;33m\u001b[0m\u001b[1;33m\u001b[0m\u001b[0m\n\u001b[1;32m-> 2125\u001b[1;33m             \u001b[1;32mreturn\u001b[0m \u001b[0mself\u001b[0m\u001b[1;33m.\u001b[0m\u001b[0m_getbool_axis\u001b[0m\u001b[1;33m(\u001b[0m\u001b[0mkey\u001b[0m\u001b[1;33m,\u001b[0m \u001b[0maxis\u001b[0m\u001b[1;33m=\u001b[0m\u001b[0maxis\u001b[0m\u001b[1;33m)\u001b[0m\u001b[1;33m\u001b[0m\u001b[1;33m\u001b[0m\u001b[0m\n\u001b[0m\u001b[0;32m   2126\u001b[0m \u001b[1;33m\u001b[0m\u001b[0m\n\u001b[0;32m   2127\u001b[0m         \u001b[1;31m# a list of integers\u001b[0m\u001b[1;33m\u001b[0m\u001b[1;33m\u001b[0m\u001b[1;33m\u001b[0m\u001b[0m\n",
      "\u001b[1;32mC:\\ProgramData\\Anaconda3\\lib\\site-packages\\pandas\\core\\indexing.py\u001b[0m in \u001b[0;36m_getbool_axis\u001b[1;34m(self, key, axis)\u001b[0m\n\u001b[0;32m   1780\u001b[0m         \u001b[1;31m# caller is responsible for ensuring non-None axis\u001b[0m\u001b[1;33m\u001b[0m\u001b[1;33m\u001b[0m\u001b[1;33m\u001b[0m\u001b[0m\n\u001b[0;32m   1781\u001b[0m         \u001b[0mlabels\u001b[0m \u001b[1;33m=\u001b[0m \u001b[0mself\u001b[0m\u001b[1;33m.\u001b[0m\u001b[0mobj\u001b[0m\u001b[1;33m.\u001b[0m\u001b[0m_get_axis\u001b[0m\u001b[1;33m(\u001b[0m\u001b[0maxis\u001b[0m\u001b[1;33m)\u001b[0m\u001b[1;33m\u001b[0m\u001b[1;33m\u001b[0m\u001b[0m\n\u001b[1;32m-> 1782\u001b[1;33m         \u001b[0mkey\u001b[0m \u001b[1;33m=\u001b[0m \u001b[0mcheck_bool_indexer\u001b[0m\u001b[1;33m(\u001b[0m\u001b[0mlabels\u001b[0m\u001b[1;33m,\u001b[0m \u001b[0mkey\u001b[0m\u001b[1;33m)\u001b[0m\u001b[1;33m\u001b[0m\u001b[1;33m\u001b[0m\u001b[0m\n\u001b[0m\u001b[0;32m   1783\u001b[0m         \u001b[0minds\u001b[0m \u001b[1;33m=\u001b[0m \u001b[0mkey\u001b[0m\u001b[1;33m.\u001b[0m\u001b[0mnonzero\u001b[0m\u001b[1;33m(\u001b[0m\u001b[1;33m)\u001b[0m\u001b[1;33m[\u001b[0m\u001b[1;36m0\u001b[0m\u001b[1;33m]\u001b[0m\u001b[1;33m\u001b[0m\u001b[1;33m\u001b[0m\u001b[0m\n\u001b[0;32m   1784\u001b[0m         \u001b[1;32mreturn\u001b[0m \u001b[0mself\u001b[0m\u001b[1;33m.\u001b[0m\u001b[0mobj\u001b[0m\u001b[1;33m.\u001b[0m\u001b[0m_take_with_is_copy\u001b[0m\u001b[1;33m(\u001b[0m\u001b[0minds\u001b[0m\u001b[1;33m,\u001b[0m \u001b[0maxis\u001b[0m\u001b[1;33m=\u001b[0m\u001b[0maxis\u001b[0m\u001b[1;33m)\u001b[0m\u001b[1;33m\u001b[0m\u001b[1;33m\u001b[0m\u001b[0m\n",
      "\u001b[1;32mC:\\ProgramData\\Anaconda3\\lib\\site-packages\\pandas\\core\\indexing.py\u001b[0m in \u001b[0;36mcheck_bool_indexer\u001b[1;34m(index, key)\u001b[0m\n\u001b[0;32m   2326\u001b[0m         \u001b[0mresult\u001b[0m \u001b[1;33m=\u001b[0m \u001b[0mcheck_array_indexer\u001b[0m\u001b[1;33m(\u001b[0m\u001b[0mindex\u001b[0m\u001b[1;33m,\u001b[0m \u001b[0mresult\u001b[0m\u001b[1;33m)\u001b[0m\u001b[1;33m\u001b[0m\u001b[1;33m\u001b[0m\u001b[0m\n\u001b[0;32m   2327\u001b[0m     \u001b[1;32melse\u001b[0m\u001b[1;33m:\u001b[0m\u001b[1;33m\u001b[0m\u001b[1;33m\u001b[0m\u001b[0m\n\u001b[1;32m-> 2328\u001b[1;33m         \u001b[0mresult\u001b[0m \u001b[1;33m=\u001b[0m \u001b[0mcheck_array_indexer\u001b[0m\u001b[1;33m(\u001b[0m\u001b[0mindex\u001b[0m\u001b[1;33m,\u001b[0m \u001b[0mresult\u001b[0m\u001b[1;33m)\u001b[0m\u001b[1;33m\u001b[0m\u001b[1;33m\u001b[0m\u001b[0m\n\u001b[0m\u001b[0;32m   2329\u001b[0m \u001b[1;33m\u001b[0m\u001b[0m\n\u001b[0;32m   2330\u001b[0m     \u001b[1;32mreturn\u001b[0m \u001b[0mresult\u001b[0m\u001b[1;33m\u001b[0m\u001b[1;33m\u001b[0m\u001b[0m\n",
      "\u001b[1;32mC:\\ProgramData\\Anaconda3\\lib\\site-packages\\pandas\\core\\indexers.py\u001b[0m in \u001b[0;36mcheck_array_indexer\u001b[1;34m(array, indexer)\u001b[0m\n\u001b[0;32m    398\u001b[0m         \u001b[1;31m# GH26658\u001b[0m\u001b[1;33m\u001b[0m\u001b[1;33m\u001b[0m\u001b[1;33m\u001b[0m\u001b[0m\n\u001b[0;32m    399\u001b[0m         \u001b[1;32mif\u001b[0m \u001b[0mlen\u001b[0m\u001b[1;33m(\u001b[0m\u001b[0mindexer\u001b[0m\u001b[1;33m)\u001b[0m \u001b[1;33m!=\u001b[0m \u001b[0mlen\u001b[0m\u001b[1;33m(\u001b[0m\u001b[0marray\u001b[0m\u001b[1;33m)\u001b[0m\u001b[1;33m:\u001b[0m\u001b[1;33m\u001b[0m\u001b[1;33m\u001b[0m\u001b[0m\n\u001b[1;32m--> 400\u001b[1;33m             raise IndexError(\n\u001b[0m\u001b[0;32m    401\u001b[0m                 \u001b[1;34mf\"Boolean index has wrong length: \"\u001b[0m\u001b[1;33m\u001b[0m\u001b[1;33m\u001b[0m\u001b[0m\n\u001b[0;32m    402\u001b[0m                 \u001b[1;34mf\"{len(indexer)} instead of {len(array)}\"\u001b[0m\u001b[1;33m\u001b[0m\u001b[1;33m\u001b[0m\u001b[0m\n",
      "\u001b[1;31mIndexError\u001b[0m: Boolean index has wrong length: 40 instead of 100"
     ]
    }
   ],
   "source": [
    "# On axis 0\n",
    "df.iloc[[True,False]*20,:].head()"
   ]
  },
  {
   "cell_type": "markdown",
   "metadata": {
    "slideshow": {
     "slide_type": "-"
    }
   },
   "source": [
    "__What did I just do with the code  `df.iloc[[True,False]*50,:].head()`__?"
   ]
  },
  {
   "cell_type": "markdown",
   "metadata": {
    "slideshow": {
     "slide_type": "slide"
    }
   },
   "source": [
    "Step by step:\n",
    "\n",
    "`[True,False]` is a list with two booleans.\n",
    "\n",
    "\n",
    "`[True,False]*50` is that array duplicated 50 times (total length 100)\n",
    "\n",
    "`df.iloc[[True,False]*50,:]` passed the 100 length list to the first axis (rows). This subsets the dataframe to be every other row.\n",
    "\n",
    "`df.iloc[[True,False]*50,:].head()` returns the first 5 rows of the dataframe.\n",
    "\n",
    "Writing good code, I would have spelled these steps out one by one instead of doing only one line and being lazy..."
   ]
  },
  {
   "cell_type": "markdown",
   "metadata": {
    "slideshow": {
     "slide_type": "slide"
    }
   },
   "source": [
    "__Why is this useful?__\n",
    "\n",
    "I can create a boolean Series just by applying a condition to a Series:\n",
    "\n",
    "`df['X'] > 0`\n",
    "\n",
    "I can feed this boolean array into the index:"
   ]
  },
  {
   "cell_type": "code",
   "execution_count": 29,
   "metadata": {
    "slideshow": {
     "slide_type": "slide"
    }
   },
   "outputs": [
    {
     "data": {
      "text/plain": [
       "-0.227126517352908"
      ]
     },
     "execution_count": 29,
     "metadata": {},
     "output_type": "execute_result"
    }
   ],
   "source": [
    "df[(df['X']>0)&(df['Y']<0)]['Y'].max()"
   ]
  },
  {
   "cell_type": "markdown",
   "metadata": {
    "slideshow": {
     "slide_type": "-"
    }
   },
   "source": [
    "By default, feeding it into brackets feeds it into the first axis.\n",
    "\n",
    "But if I feed it a label, it also knows to first check whether this is a column.\n",
    "\n",
    "This is part of why Python is easy to use, but also __easy to screw things up__."
   ]
  },
  {
   "cell_type": "markdown",
   "metadata": {
    "slideshow": {
     "slide_type": "slide"
    }
   },
   "source": [
    "### Methods\n",
    "This is one of the reasons I got hooked on Python. Pandas DataFrames have several built-in methods that make data manipulation __very easy__.\n",
    "\n",
    "Also, there are ways to easily apply your own functions to dataframes, which is good for data cleaning.\n",
    "\n",
    "Some key ones:\n",
    "- built in data frame methods\n",
    "- `groupby()`\n",
    "- `apply()` and `map()`"
   ]
  },
  {
   "cell_type": "markdown",
   "metadata": {
    "slideshow": {
     "slide_type": "slide"
    }
   },
   "source": [
    "#### Stats functions.\n",
    "All of the major moments:"
   ]
  },
  {
   "cell_type": "code",
   "execution_count": 34,
   "metadata": {
    "scrolled": true,
    "slideshow": {
     "slide_type": "-"
    }
   },
   "outputs": [
    {
     "data": {
      "text/plain": [
       "(X   -0.054574\n",
       " Y   -0.205073\n",
       " dtype: float64,\n",
       " X    1.202435\n",
       " Y    2.677916\n",
       " dtype: float64,\n",
       " X    1.445850\n",
       " Y    7.171232\n",
       " dtype: float64,\n",
       " X   -0.086326\n",
       " Y   -0.207869\n",
       " dtype: float64,\n",
       " X    0.020696\n",
       " Y    0.175279\n",
       " dtype: float64)"
      ]
     },
     "execution_count": 34,
     "metadata": {},
     "output_type": "execute_result"
    }
   ],
   "source": [
    "df.mean(), df.std(), df.var(), df.skew(), df.kurtosis()"
   ]
  },
  {
   "cell_type": "markdown",
   "metadata": {
    "slideshow": {
     "slide_type": "slide"
    }
   },
   "source": [
    "Correlations:"
   ]
  },
  {
   "cell_type": "code",
   "execution_count": 36,
   "metadata": {
    "scrolled": false,
    "slideshow": {
     "slide_type": "-"
    }
   },
   "outputs": [
    {
     "data": {
      "text/plain": [
       "X    0.919251\n",
       "Y    1.000000\n",
       "Name: Y, dtype: float64"
      ]
     },
     "execution_count": 36,
     "metadata": {},
     "output_type": "execute_result"
    }
   ],
   "source": [
    "df.corr()['Y']"
   ]
  },
  {
   "cell_type": "markdown",
   "metadata": {
    "slideshow": {
     "slide_type": "slide"
    }
   },
   "source": [
    "#### Sequential operations.\n",
    "Such as differences and shifts:"
   ]
  },
  {
   "cell_type": "code",
   "execution_count": 37,
   "metadata": {
    "slideshow": {
     "slide_type": "-"
    }
   },
   "outputs": [
    {
     "data": {
      "text/html": [
       "<div>\n",
       "<style scoped>\n",
       "    .dataframe tbody tr th:only-of-type {\n",
       "        vertical-align: middle;\n",
       "    }\n",
       "\n",
       "    .dataframe tbody tr th {\n",
       "        vertical-align: top;\n",
       "    }\n",
       "\n",
       "    .dataframe thead th {\n",
       "        text-align: right;\n",
       "    }\n",
       "</style>\n",
       "<table border=\"1\" class=\"dataframe\">\n",
       "  <thead>\n",
       "    <tr style=\"text-align: right;\">\n",
       "      <th></th>\n",
       "      <th>X</th>\n",
       "      <th>Y</th>\n",
       "      <th>D_X</th>\n",
       "      <th>L_X</th>\n",
       "    </tr>\n",
       "  </thead>\n",
       "  <tbody>\n",
       "    <tr>\n",
       "      <th>0</th>\n",
       "      <td>0.481828</td>\n",
       "      <td>1.217099</td>\n",
       "      <td>NaN</td>\n",
       "      <td>NaN</td>\n",
       "    </tr>\n",
       "    <tr>\n",
       "      <th>1</th>\n",
       "      <td>0.180225</td>\n",
       "      <td>-0.268869</td>\n",
       "      <td>-0.301604</td>\n",
       "      <td>0.481828</td>\n",
       "    </tr>\n",
       "    <tr>\n",
       "      <th>2</th>\n",
       "      <td>-1.203264</td>\n",
       "      <td>-3.587676</td>\n",
       "      <td>-1.383489</td>\n",
       "      <td>0.180225</td>\n",
       "    </tr>\n",
       "    <tr>\n",
       "      <th>3</th>\n",
       "      <td>0.059219</td>\n",
       "      <td>0.173871</td>\n",
       "      <td>1.262483</td>\n",
       "      <td>-1.203264</td>\n",
       "    </tr>\n",
       "    <tr>\n",
       "      <th>4</th>\n",
       "      <td>-0.514027</td>\n",
       "      <td>-0.660043</td>\n",
       "      <td>-0.573246</td>\n",
       "      <td>0.059219</td>\n",
       "    </tr>\n",
       "  </tbody>\n",
       "</table>\n",
       "</div>"
      ],
      "text/plain": [
       "          X         Y       D_X       L_X\n",
       "0  0.481828  1.217099       NaN       NaN\n",
       "1  0.180225 -0.268869 -0.301604  0.481828\n",
       "2 -1.203264 -3.587676 -1.383489  0.180225\n",
       "3  0.059219  0.173871  1.262483 -1.203264\n",
       "4 -0.514027 -0.660043 -0.573246  0.059219"
      ]
     },
     "execution_count": 37,
     "metadata": {},
     "output_type": "execute_result"
    }
   ],
   "source": [
    "df['D_X'] = df['X'].diff()\n",
    "df['L_X'] = df['X'].shift()\n",
    "\n",
    "df.head()"
   ]
  },
  {
   "cell_type": "markdown",
   "metadata": {
    "slideshow": {
     "slide_type": "-"
    }
   },
   "source": [
    "Even random things like \"percent change\""
   ]
  },
  {
   "cell_type": "code",
   "execution_count": 38,
   "metadata": {
    "slideshow": {
     "slide_type": "-"
    }
   },
   "outputs": [
    {
     "data": {
      "text/plain": [
       "0          NaN\n",
       "1    -0.625957\n",
       "2    -7.676473\n",
       "3    -1.049215\n",
       "4    -9.680080\n",
       "        ...   \n",
       "95   -1.098217\n",
       "96   -0.885206\n",
       "97    3.877200\n",
       "98   -4.949663\n",
       "99    1.313587\n",
       "Name: X, Length: 100, dtype: float64"
      ]
     },
     "execution_count": 38,
     "metadata": {},
     "output_type": "execute_result"
    }
   ],
   "source": [
    "df['X'].pct_change()"
   ]
  },
  {
   "cell_type": "markdown",
   "metadata": {
    "slideshow": {
     "slide_type": "slide"
    }
   },
   "source": [
    "#### Useful data exploration ones:"
   ]
  },
  {
   "cell_type": "code",
   "execution_count": 39,
   "metadata": {
    "slideshow": {
     "slide_type": "-"
    }
   },
   "outputs": [
    {
     "data": {
      "text/plain": [
       "99"
      ]
     },
     "execution_count": 39,
     "metadata": {},
     "output_type": "execute_result"
    }
   ],
   "source": [
    "# How many non-null values are there?\n",
    "df['D_X'].count()"
   ]
  },
  {
   "cell_type": "code",
   "execution_count": 40,
   "metadata": {
    "slideshow": {
     "slide_type": "-"
    }
   },
   "outputs": [
    {
     "data": {
      "text/plain": [
       "2"
      ]
     },
     "execution_count": 40,
     "metadata": {},
     "output_type": "execute_result"
    }
   ],
   "source": [
    "df['D_X_neg'] = df['D_X']<0\n",
    "# How many unique values are there?\n",
    "df['D_X_neg'].nunique()"
   ]
  },
  {
   "cell_type": "code",
   "execution_count": 46,
   "metadata": {},
   "outputs": [
    {
     "data": {
      "text/plain": [
       "False    51\n",
       "True     49\n",
       "Name: D_X_neg, dtype: int64"
      ]
     },
     "execution_count": 46,
     "metadata": {},
     "output_type": "execute_result"
    }
   ],
   "source": [
    "df['D_X_neg'].value_counts()"
   ]
  },
  {
   "cell_type": "code",
   "execution_count": 41,
   "metadata": {
    "slideshow": {
     "slide_type": "-"
    }
   },
   "outputs": [
    {
     "data": {
      "text/plain": [
       "array([False,  True])"
      ]
     },
     "execution_count": 41,
     "metadata": {},
     "output_type": "execute_result"
    }
   ],
   "source": [
    "# What are those unique values?\n",
    "df['D_X_neg'].unique()"
   ]
  },
  {
   "cell_type": "code",
   "execution_count": 51,
   "metadata": {
    "slideshow": {
     "slide_type": "slide"
    }
   },
   "outputs": [
    {
     "data": {
      "text/html": [
       "<div>\n",
       "<style scoped>\n",
       "    .dataframe tbody tr th:only-of-type {\n",
       "        vertical-align: middle;\n",
       "    }\n",
       "\n",
       "    .dataframe tbody tr th {\n",
       "        vertical-align: top;\n",
       "    }\n",
       "\n",
       "    .dataframe thead th {\n",
       "        text-align: right;\n",
       "    }\n",
       "</style>\n",
       "<table border=\"1\" class=\"dataframe\">\n",
       "  <thead>\n",
       "    <tr style=\"text-align: right;\">\n",
       "      <th></th>\n",
       "      <th>X</th>\n",
       "      <th>Y</th>\n",
       "      <th>D_X</th>\n",
       "      <th>L_X</th>\n",
       "    </tr>\n",
       "  </thead>\n",
       "  <tbody>\n",
       "    <tr>\n",
       "      <th>count</th>\n",
       "      <td>100.000000</td>\n",
       "      <td>100.000000</td>\n",
       "      <td>99.000000</td>\n",
       "      <td>99.000000</td>\n",
       "    </tr>\n",
       "    <tr>\n",
       "      <th>mean</th>\n",
       "      <td>-0.054574</td>\n",
       "      <td>-0.205073</td>\n",
       "      <td>-0.013671</td>\n",
       "      <td>-0.046321</td>\n",
       "    </tr>\n",
       "    <tr>\n",
       "      <th>std</th>\n",
       "      <td>1.202435</td>\n",
       "      <td>2.677916</td>\n",
       "      <td>1.718540</td>\n",
       "      <td>1.205705</td>\n",
       "    </tr>\n",
       "    <tr>\n",
       "      <th>min</th>\n",
       "      <td>-2.826256</td>\n",
       "      <td>-6.797018</td>\n",
       "      <td>-5.104807</td>\n",
       "      <td>-2.826256</td>\n",
       "    </tr>\n",
       "    <tr>\n",
       "      <th>25%</th>\n",
       "      <td>-0.870862</td>\n",
       "      <td>-2.175778</td>\n",
       "      <td>-1.016409</td>\n",
       "      <td>-0.805091</td>\n",
       "    </tr>\n",
       "    <tr>\n",
       "      <th>50%</th>\n",
       "      <td>0.166006</td>\n",
       "      <td>0.137381</td>\n",
       "      <td>0.033110</td>\n",
       "      <td>0.170361</td>\n",
       "    </tr>\n",
       "    <tr>\n",
       "      <th>75%</th>\n",
       "      <td>0.680335</td>\n",
       "      <td>1.373352</td>\n",
       "      <td>0.848287</td>\n",
       "      <td>0.683374</td>\n",
       "    </tr>\n",
       "    <tr>\n",
       "      <th>max</th>\n",
       "      <td>3.078430</td>\n",
       "      <td>7.463119</td>\n",
       "      <td>4.108856</td>\n",
       "      <td>3.078430</td>\n",
       "    </tr>\n",
       "  </tbody>\n",
       "</table>\n",
       "</div>"
      ],
      "text/plain": [
       "                X           Y        D_X        L_X\n",
       "count  100.000000  100.000000  99.000000  99.000000\n",
       "mean    -0.054574   -0.205073  -0.013671  -0.046321\n",
       "std      1.202435    2.677916   1.718540   1.205705\n",
       "min     -2.826256   -6.797018  -5.104807  -2.826256\n",
       "25%     -0.870862   -2.175778  -1.016409  -0.805091\n",
       "50%      0.166006    0.137381   0.033110   0.170361\n",
       "75%      0.680335    1.373352   0.848287   0.683374\n",
       "max      3.078430    7.463119   4.108856   3.078430"
      ]
     },
     "execution_count": 51,
     "metadata": {},
     "output_type": "execute_result"
    }
   ],
   "source": [
    "df.describe()"
   ]
  },
  {
   "cell_type": "code",
   "execution_count": 56,
   "metadata": {
    "collapsed": true,
    "slideshow": {
     "slide_type": "-"
    }
   },
   "outputs": [
    {
     "data": {
      "text/html": [
       "<div>\n",
       "<style scoped>\n",
       "    .dataframe tbody tr th:only-of-type {\n",
       "        vertical-align: middle;\n",
       "    }\n",
       "\n",
       "    .dataframe tbody tr th {\n",
       "        vertical-align: top;\n",
       "    }\n",
       "\n",
       "    .dataframe thead th {\n",
       "        text-align: right;\n",
       "    }\n",
       "</style>\n",
       "<table border=\"1\" class=\"dataframe\">\n",
       "  <thead>\n",
       "    <tr style=\"text-align: right;\">\n",
       "      <th></th>\n",
       "      <th>D_X</th>\n",
       "      <th>Y</th>\n",
       "    </tr>\n",
       "  </thead>\n",
       "  <tbody>\n",
       "    <tr>\n",
       "      <th>0</th>\n",
       "      <td>NaN</td>\n",
       "      <td>1.217099</td>\n",
       "    </tr>\n",
       "    <tr>\n",
       "      <th>1</th>\n",
       "      <td>-0.301604</td>\n",
       "      <td>-0.268869</td>\n",
       "    </tr>\n",
       "    <tr>\n",
       "      <th>2</th>\n",
       "      <td>-1.383489</td>\n",
       "      <td>-3.587676</td>\n",
       "    </tr>\n",
       "    <tr>\n",
       "      <th>3</th>\n",
       "      <td>1.262483</td>\n",
       "      <td>0.173871</td>\n",
       "    </tr>\n",
       "    <tr>\n",
       "      <th>4</th>\n",
       "      <td>-0.573246</td>\n",
       "      <td>-0.660043</td>\n",
       "    </tr>\n",
       "    <tr>\n",
       "      <th>...</th>\n",
       "      <td>...</td>\n",
       "      <td>...</td>\n",
       "    </tr>\n",
       "    <tr>\n",
       "      <th>95</th>\n",
       "      <td>1.904908</td>\n",
       "      <td>-1.183055</td>\n",
       "    </tr>\n",
       "    <tr>\n",
       "      <th>96</th>\n",
       "      <td>-0.150805</td>\n",
       "      <td>0.479495</td>\n",
       "    </tr>\n",
       "    <tr>\n",
       "      <th>97</th>\n",
       "      <td>0.075824</td>\n",
       "      <td>0.558011</td>\n",
       "    </tr>\n",
       "    <tr>\n",
       "      <th>98</th>\n",
       "      <td>-0.472103</td>\n",
       "      <td>0.179743</td>\n",
       "    </tr>\n",
       "    <tr>\n",
       "      <th>99</th>\n",
       "      <td>-0.494857</td>\n",
       "      <td>-3.216386</td>\n",
       "    </tr>\n",
       "  </tbody>\n",
       "</table>\n",
       "<p>100 rows × 2 columns</p>\n",
       "</div>"
      ],
      "text/plain": [
       "         D_X         Y\n",
       "0        NaN  1.217099\n",
       "1  -0.301604 -0.268869\n",
       "2  -1.383489 -3.587676\n",
       "3   1.262483  0.173871\n",
       "4  -0.573246 -0.660043\n",
       "..       ...       ...\n",
       "95  1.904908 -1.183055\n",
       "96 -0.150805  0.479495\n",
       "97  0.075824  0.558011\n",
       "98 -0.472103  0.179743\n",
       "99 -0.494857 -3.216386\n",
       "\n",
       "[100 rows x 2 columns]"
      ]
     },
     "execution_count": 56,
     "metadata": {},
     "output_type": "execute_result"
    }
   ],
   "source": [
    "df[['D_X',\"Y\"]].drop_duplicates()"
   ]
  },
  {
   "cell_type": "markdown",
   "metadata": {
    "slideshow": {
     "slide_type": "slide"
    }
   },
   "source": [
    "#### Making quick plots:"
   ]
  },
  {
   "cell_type": "code",
   "execution_count": 60,
   "metadata": {
    "scrolled": true,
    "slideshow": {
     "slide_type": "-"
    }
   },
   "outputs": [
    {
     "data": {
      "text/plain": [
       "<matplotlib.axes._subplots.AxesSubplot at 0x22803c785b0>"
      ]
     },
     "execution_count": 60,
     "metadata": {},
     "output_type": "execute_result"
    },
    {
     "data": {
      "image/png": "[encoded data removed]",
      "text/plain": [
       "<Figure size 432x288 with 1 Axes>"
      ]
     },
     "metadata": {
      "needs_background": "light"
     },
     "output_type": "display_data"
    }
   ],
   "source": [
    "df['X'].plot(kind='hist',bins=100,color=\"C2\")"
   ]
  },
  {
   "cell_type": "code",
   "execution_count": 66,
   "metadata": {
    "slideshow": {
     "slide_type": "slide"
    }
   },
   "outputs": [
    {
     "data": {
      "text/plain": [
       "<matplotlib.axes._subplots.AxesSubplot at 0x22805e96eb0>"
      ]
     },
     "execution_count": 66,
     "metadata": {},
     "output_type": "execute_result"
    },
    {
     "data": {
      "image/png": "[encoded data removed]",
      "text/plain": [
       "<Figure size 432x288 with 1 Axes>"
      ]
     },
     "metadata": {
      "needs_background": "light"
     },
     "output_type": "display_data"
    }
   ],
   "source": [
    "df.plot(kind='density',color=[\"C0\",\"C2\",\"C3\"])"
   ]
  },
  {
   "cell_type": "code",
   "execution_count": 67,
   "metadata": {
    "scrolled": true,
    "slideshow": {
     "slide_type": "slide"
    }
   },
   "outputs": [
    {
     "data": {
      "text/plain": [
       "<matplotlib.axes._subplots.AxesSubplot at 0x22805f09e50>"
      ]
     },
     "execution_count": 67,
     "metadata": {},
     "output_type": "execute_result"
    },
    {
     "data": {
      "image/png": "[encoded data removed]",
      "text/plain": [
       "<Figure size 432x288 with 1 Axes>"
      ]
     },
     "metadata": {
      "needs_background": "light"
     },
     "output_type": "display_data"
    }
   ],
   "source": [
    "df.plot(kind='scatter',x=\"X\",y=\"Y\")"
   ]
  },
  {
   "cell_type": "markdown",
   "metadata": {
    "slideshow": {
     "slide_type": "slide"
    }
   },
   "source": [
    "#### Groupby\n",
    "\n",
    "Ok, now for the really cool one: `groupby`\n",
    "\n",
    "Groupby takes an argument that is a discrete variable and then applies whatever built in function you call to each group."
   ]
  },
  {
   "cell_type": "code",
   "execution_count": 75,
   "metadata": {
    "slideshow": {
     "slide_type": "-"
    }
   },
   "outputs": [
    {
     "data": {
      "text/html": [
       "<div>\n",
       "<style scoped>\n",
       "    .dataframe tbody tr th:only-of-type {\n",
       "        vertical-align: middle;\n",
       "    }\n",
       "\n",
       "    .dataframe tbody tr th {\n",
       "        vertical-align: top;\n",
       "    }\n",
       "\n",
       "    .dataframe thead th {\n",
       "        text-align: right;\n",
       "    }\n",
       "</style>\n",
       "<table border=\"1\" class=\"dataframe\">\n",
       "  <thead>\n",
       "    <tr style=\"text-align: right;\">\n",
       "      <th></th>\n",
       "      <th>X</th>\n",
       "      <th>Y</th>\n",
       "      <th>D_X</th>\n",
       "      <th>L_X</th>\n",
       "    </tr>\n",
       "    <tr>\n",
       "      <th>D_X_neg</th>\n",
       "      <th></th>\n",
       "      <th></th>\n",
       "      <th></th>\n",
       "      <th></th>\n",
       "    </tr>\n",
       "  </thead>\n",
       "  <tbody>\n",
       "    <tr>\n",
       "      <th>False</th>\n",
       "      <td>0.606347</td>\n",
       "      <td>1.223307</td>\n",
       "      <td>1.280795</td>\n",
       "      <td>-0.671957</td>\n",
       "    </tr>\n",
       "    <tr>\n",
       "      <th>True</th>\n",
       "      <td>-0.742471</td>\n",
       "      <td>-1.691754</td>\n",
       "      <td>-1.334554</td>\n",
       "      <td>0.592083</td>\n",
       "    </tr>\n",
       "  </tbody>\n",
       "</table>\n",
       "</div>"
      ],
      "text/plain": [
       "                X         Y       D_X       L_X\n",
       "D_X_neg                                        \n",
       "False    0.606347  1.223307  1.280795 -0.671957\n",
       "True    -0.742471 -1.691754 -1.334554  0.592083"
      ]
     },
     "execution_count": 75,
     "metadata": {},
     "output_type": "execute_result"
    }
   ],
   "source": [
    "df.groupby(\"D_X_neg\").mean()"
   ]
  },
  {
   "cell_type": "code",
   "execution_count": 76,
   "metadata": {
    "slideshow": {
     "slide_type": "-"
    }
   },
   "outputs": [
    {
     "data": {
      "text/html": [
       "<div>\n",
       "<style scoped>\n",
       "    .dataframe tbody tr th:only-of-type {\n",
       "        vertical-align: middle;\n",
       "    }\n",
       "\n",
       "    .dataframe tbody tr th {\n",
       "        vertical-align: top;\n",
       "    }\n",
       "\n",
       "    .dataframe thead th {\n",
       "        text-align: right;\n",
       "    }\n",
       "</style>\n",
       "<table border=\"1\" class=\"dataframe\">\n",
       "  <thead>\n",
       "    <tr style=\"text-align: right;\">\n",
       "      <th></th>\n",
       "      <th>X</th>\n",
       "      <th>Y</th>\n",
       "      <th>D_X</th>\n",
       "      <th>L_X</th>\n",
       "    </tr>\n",
       "    <tr>\n",
       "      <th>D_X_neg</th>\n",
       "      <th></th>\n",
       "      <th></th>\n",
       "      <th></th>\n",
       "      <th></th>\n",
       "    </tr>\n",
       "  </thead>\n",
       "  <tbody>\n",
       "    <tr>\n",
       "      <th>False</th>\n",
       "      <td>30.923710</td>\n",
       "      <td>62.388675</td>\n",
       "      <td>64.039742</td>\n",
       "      <td>-33.597860</td>\n",
       "    </tr>\n",
       "    <tr>\n",
       "      <th>True</th>\n",
       "      <td>-36.381085</td>\n",
       "      <td>-82.895936</td>\n",
       "      <td>-65.393149</td>\n",
       "      <td>29.012064</td>\n",
       "    </tr>\n",
       "  </tbody>\n",
       "</table>\n",
       "</div>"
      ],
      "text/plain": [
       "                 X          Y        D_X        L_X\n",
       "D_X_neg                                            \n",
       "False    30.923710  62.388675  64.039742 -33.597860\n",
       "True    -36.381085 -82.895936 -65.393149  29.012064"
      ]
     },
     "execution_count": 76,
     "metadata": {},
     "output_type": "execute_result"
    }
   ],
   "source": [
    "df.groupby(\"D_X_neg\").sum()"
   ]
  },
  {
   "cell_type": "markdown",
   "metadata": {
    "slideshow": {
     "slide_type": "slide"
    }
   },
   "source": [
    "A really useful application is __panel data__. If you have individual $i$ in time $t$, you can produce first differences of any variable by writing:\n",
    "\n",
    "`df = df.sort_values([\"i\",\"t\"])`\n",
    "\n",
    "`df.groupby('i')['var'].diff()`\n",
    "\n",
    "The first statement is key, because the `diff` function takes the difference based on the order its in the dataframe. By putting it in order first, you can use `diff` or `shift` to produce differences or lags.\n",
    "\n",
    "__Note:__ `diff` and `shift` take an argument, which is how many periods you want to shift or diff (order of the lag or difference)"
   ]
  },
  {
   "cell_type": "markdown",
   "metadata": {
    "slideshow": {
     "slide_type": "slide"
    }
   },
   "source": [
    "#### Apply and map\n",
    "Crucially, you can also use your own functions in the dataframe.\n",
    "\n",
    "- Element by element functions.\n",
    "- Group by group functions.\n",
    "\n",
    "__map__ is for Series, whereas __apply__ is for dataframes.\n",
    "\n",
    "Suppose I wanted to add the word \"dog\" to the end of every value of a column. We want to use map for this, and you must write the function as if it is receiving a scalar input."
   ]
  },
  {
   "cell_type": "code",
   "execution_count": 77,
   "metadata": {
    "slideshow": {
     "slide_type": "slide"
    }
   },
   "outputs": [
    {
     "data": {
      "text/plain": [
       "0     0.48dog\n",
       "1     0.18dog\n",
       "2     -1.2dog\n",
       "3     0.06dog\n",
       "4    -0.51dog\n",
       "Name: X, dtype: object"
      ]
     },
     "execution_count": 77,
     "metadata": {},
     "output_type": "execute_result"
    }
   ],
   "source": [
    "def add_dog(x):\n",
    "    return str(round(x,2))+ \"dog\"\n",
    "\n",
    "df['X'].map(add_dog).head()"
   ]
  },
  {
   "cell_type": "markdown",
   "metadata": {
    "slideshow": {
     "slide_type": "slide"
    }
   },
   "source": [
    "Lambda function version, for when you need a simple on the fly function:"
   ]
  },
  {
   "cell_type": "code",
   "execution_count": null,
   "metadata": {
    "slideshow": {
     "slide_type": "-"
    }
   },
   "outputs": [],
   "source": [
    "df['X'].map(lambda x: str(round(x,2)) + \"dog\").head()"
   ]
  },
  {
   "cell_type": "markdown",
   "metadata": {
    "slideshow": {
     "slide_type": "slide"
    }
   },
   "source": [
    "If we need a function that applies across an axis, that is when we need __apply__, and you must write the function as if it is receiving a column or row."
   ]
  },
  {
   "cell_type": "code",
   "execution_count": 79,
   "metadata": {
    "slideshow": {
     "slide_type": "-"
    }
   },
   "outputs": [],
   "source": [
    "def stringify(column):\n",
    "    return column.astype(str).sum()"
   ]
  },
  {
   "cell_type": "code",
   "execution_count": 80,
   "metadata": {
    "collapsed": true,
    "slideshow": {
     "slide_type": "slide"
    }
   },
   "outputs": [
    {
     "data": {
      "text/plain": [
       "0       0.481828044580253471.217099107425075nannanFalse\n",
       "1     0.18022451772387396-0.2688688610143923-0.30160...\n",
       "2     -1.2032641254002712-3.5876755819259794-1.38348...\n",
       "3     0.059219153942448540.173871362996467051.262483...\n",
       "4     -0.5140270131960792-0.6600425609476952-0.57324...\n",
       "                            ...                        \n",
       "95    0.17036124511175355-1.18305484488419221.904908...\n",
       "96    0.0195564823998832450.4794954828258715-0.15080...\n",
       "97    0.095380876383265620.55801103231722960.0758243...\n",
       "98    -0.376722324995807050.1797434325962376-0.47210...\n",
       "99    -0.8715797089294298-3.2163862810762582-0.49485...\n",
       "Length: 100, dtype: object"
      ]
     },
     "execution_count": 80,
     "metadata": {},
     "output_type": "execute_result"
    }
   ],
   "source": [
    "df.apply(stringify,axis=1)"
   ]
  },
  {
   "cell_type": "code",
   "execution_count": 82,
   "metadata": {
    "slideshow": {
     "slide_type": "-"
    }
   },
   "outputs": [
    {
     "data": {
      "text/plain": [
       "X          0.481828044580253470.18022451772387396-1.20326...\n",
       "Y          1.217099107425075-0.2688688610143923-3.5876755...\n",
       "D_X        nan-0.3016035268563795-1.3834886431241451.2624...\n",
       "L_X        nan0.481828044580253470.18022451772387396-1.20...\n",
       "D_X_neg    FalseTrueTrueFalseTrueFalseTrueTrueFalseTrueTr...\n",
       "dtype: object"
      ]
     },
     "execution_count": 82,
     "metadata": {},
     "output_type": "execute_result"
    }
   ],
   "source": [
    "df.apply(stringify,axis=0)"
   ]
  },
  {
   "cell_type": "markdown",
   "metadata": {
    "slideshow": {
     "slide_type": "slide"
    }
   },
   "source": [
    "#### Group functions\n",
    "\n",
    "Suppose we wanted to standardize a variable to mean 0 and standard deviation 1."
   ]
  },
  {
   "cell_type": "code",
   "execution_count": 86,
   "metadata": {
    "scrolled": true,
    "slideshow": {
     "slide_type": "-"
    }
   },
   "outputs": [
    {
     "data": {
      "text/plain": [
       "count    100.000000\n",
       "mean       5.010012\n",
       "std        0.196541\n",
       "min        4.491432\n",
       "25%        4.914904\n",
       "50%        5.013010\n",
       "75%        5.091749\n",
       "max        5.446700\n",
       "Name: Z, dtype: float64"
      ]
     },
     "execution_count": 86,
     "metadata": {},
     "output_type": "execute_result"
    }
   ],
   "source": [
    "df[\"Z\"] = np.random.randn(100)*.2 +5\n",
    "df['Z'].describe()"
   ]
  },
  {
   "cell_type": "markdown",
   "metadata": {
    "slideshow": {
     "slide_type": "slide"
    }
   },
   "source": [
    "Let's write a function that does that:"
   ]
  },
  {
   "cell_type": "code",
   "execution_count": 87,
   "metadata": {
    "slideshow": {
     "slide_type": "-"
    }
   },
   "outputs": [],
   "source": [
    "def standardize(column):\n",
    "    return (column - column.mean())/column.std()"
   ]
  },
  {
   "cell_type": "code",
   "execution_count": 88,
   "metadata": {
    "slideshow": {
     "slide_type": "-"
    }
   },
   "outputs": [
    {
     "data": {
      "text/plain": [
       "(-6.282196984841448e-15, 1.0)"
      ]
     },
     "execution_count": 88,
     "metadata": {},
     "output_type": "execute_result"
    }
   ],
   "source": [
    "standardize(df['Z']).mean(),standardize(df['Z']).std()"
   ]
  },
  {
   "cell_type": "markdown",
   "metadata": {
    "slideshow": {
     "slide_type": "slide"
    }
   },
   "source": [
    "__We can also do this operation group by group:__"
   ]
  },
  {
   "cell_type": "code",
   "execution_count": 89,
   "metadata": {
    "slideshow": {
     "slide_type": "-"
    }
   },
   "outputs": [],
   "source": [
    "df['Z_stdized_g'] = df.groupby(\"D_X_neg\")['Z'].apply(standardize)"
   ]
  },
  {
   "cell_type": "code",
   "execution_count": 90,
   "metadata": {
    "slideshow": {
     "slide_type": "-"
    }
   },
   "outputs": [
    {
     "data": {
      "text/plain": [
       "D_X_neg\n",
       "False   -1.393221e-15\n",
       "True     1.533920e-15\n",
       "Name: Z_stdized_g, dtype: float64"
      ]
     },
     "execution_count": 90,
     "metadata": {},
     "output_type": "execute_result"
    }
   ],
   "source": [
    "df.groupby(\"D_X_neg\")['Z_stdized_g'].mean()"
   ]
  },
  {
   "cell_type": "markdown",
   "metadata": {
    "slideshow": {
     "slide_type": "-"
    }
   },
   "source": [
    "Super handy for doing data cleaning procedures by groups."
   ]
  },
  {
   "cell_type": "markdown",
   "metadata": {
    "slideshow": {
     "slide_type": "slide"
    }
   },
   "source": [
    "### Another handy use of \".loc\"\n",
    "You can do a \"find and replace\" using .loc in your dataframe.\n",
    "\n",
    "Suppose that you think all values of `X` below zero create mistakes in `Z`, and you want to replace values of `Z` with `NaN` if that is the case.\n",
    "\n",
    "`.loc` allows you to do this kind of conditional replacement."
   ]
  },
  {
   "cell_type": "code",
   "execution_count": 91,
   "metadata": {
    "slideshow": {
     "slide_type": "slide"
    }
   },
   "outputs": [
    {
     "data": {
      "text/html": [
       "<div>\n",
       "<style scoped>\n",
       "    .dataframe tbody tr th:only-of-type {\n",
       "        vertical-align: middle;\n",
       "    }\n",
       "\n",
       "    .dataframe tbody tr th {\n",
       "        vertical-align: top;\n",
       "    }\n",
       "\n",
       "    .dataframe thead th {\n",
       "        text-align: right;\n",
       "    }\n",
       "</style>\n",
       "<table border=\"1\" class=\"dataframe\">\n",
       "  <thead>\n",
       "    <tr style=\"text-align: right;\">\n",
       "      <th></th>\n",
       "      <th>X</th>\n",
       "      <th>Y</th>\n",
       "      <th>D_X</th>\n",
       "      <th>L_X</th>\n",
       "      <th>D_X_neg</th>\n",
       "      <th>Z</th>\n",
       "      <th>Z_stdized_g</th>\n",
       "    </tr>\n",
       "  </thead>\n",
       "  <tbody>\n",
       "    <tr>\n",
       "      <th>0</th>\n",
       "      <td>0.481828</td>\n",
       "      <td>1.217099</td>\n",
       "      <td>NaN</td>\n",
       "      <td>NaN</td>\n",
       "      <td>False</td>\n",
       "      <td>5.295837</td>\n",
       "      <td>1.494195</td>\n",
       "    </tr>\n",
       "    <tr>\n",
       "      <th>1</th>\n",
       "      <td>0.180225</td>\n",
       "      <td>-0.268869</td>\n",
       "      <td>-0.301604</td>\n",
       "      <td>0.481828</td>\n",
       "      <td>True</td>\n",
       "      <td>5.374618</td>\n",
       "      <td>1.810738</td>\n",
       "    </tr>\n",
       "    <tr>\n",
       "      <th>2</th>\n",
       "      <td>-1.203264</td>\n",
       "      <td>-3.587676</td>\n",
       "      <td>-1.383489</td>\n",
       "      <td>0.180225</td>\n",
       "      <td>True</td>\n",
       "      <td>NaN</td>\n",
       "      <td>-0.828647</td>\n",
       "    </tr>\n",
       "    <tr>\n",
       "      <th>3</th>\n",
       "      <td>0.059219</td>\n",
       "      <td>0.173871</td>\n",
       "      <td>1.262483</td>\n",
       "      <td>-1.203264</td>\n",
       "      <td>False</td>\n",
       "      <td>5.238748</td>\n",
       "      <td>1.209160</td>\n",
       "    </tr>\n",
       "    <tr>\n",
       "      <th>4</th>\n",
       "      <td>-0.514027</td>\n",
       "      <td>-0.660043</td>\n",
       "      <td>-0.573246</td>\n",
       "      <td>0.059219</td>\n",
       "      <td>True</td>\n",
       "      <td>NaN</td>\n",
       "      <td>1.937817</td>\n",
       "    </tr>\n",
       "    <tr>\n",
       "      <th>5</th>\n",
       "      <td>0.442862</td>\n",
       "      <td>1.756933</td>\n",
       "      <td>0.956889</td>\n",
       "      <td>-0.514027</td>\n",
       "      <td>False</td>\n",
       "      <td>5.141830</td>\n",
       "      <td>0.725260</td>\n",
       "    </tr>\n",
       "    <tr>\n",
       "      <th>6</th>\n",
       "      <td>0.295100</td>\n",
       "      <td>0.692656</td>\n",
       "      <td>-0.147761</td>\n",
       "      <td>0.442862</td>\n",
       "      <td>True</td>\n",
       "      <td>5.200913</td>\n",
       "      <td>0.913648</td>\n",
       "    </tr>\n",
       "    <tr>\n",
       "      <th>7</th>\n",
       "      <td>-0.458395</td>\n",
       "      <td>-0.133077</td>\n",
       "      <td>-0.753495</td>\n",
       "      <td>0.295100</td>\n",
       "      <td>True</td>\n",
       "      <td>NaN</td>\n",
       "      <td>0.091188</td>\n",
       "    </tr>\n",
       "    <tr>\n",
       "      <th>8</th>\n",
       "      <td>1.785889</td>\n",
       "      <td>4.157278</td>\n",
       "      <td>2.244284</td>\n",
       "      <td>-0.458395</td>\n",
       "      <td>False</td>\n",
       "      <td>4.806441</td>\n",
       "      <td>-0.949280</td>\n",
       "    </tr>\n",
       "    <tr>\n",
       "      <th>9</th>\n",
       "      <td>1.357061</td>\n",
       "      <td>1.684411</td>\n",
       "      <td>-0.428828</td>\n",
       "      <td>1.785889</td>\n",
       "      <td>True</td>\n",
       "      <td>5.088238</td>\n",
       "      <td>0.331740</td>\n",
       "    </tr>\n",
       "  </tbody>\n",
       "</table>\n",
       "</div>"
      ],
      "text/plain": [
       "          X         Y       D_X       L_X  D_X_neg         Z  Z_stdized_g\n",
       "0  0.481828  1.217099       NaN       NaN    False  5.295837     1.494195\n",
       "1  0.180225 -0.268869 -0.301604  0.481828     True  5.374618     1.810738\n",
       "2 -1.203264 -3.587676 -1.383489  0.180225     True       NaN    -0.828647\n",
       "3  0.059219  0.173871  1.262483 -1.203264    False  5.238748     1.209160\n",
       "4 -0.514027 -0.660043 -0.573246  0.059219     True       NaN     1.937817\n",
       "5  0.442862  1.756933  0.956889 -0.514027    False  5.141830     0.725260\n",
       "6  0.295100  0.692656 -0.147761  0.442862     True  5.200913     0.913648\n",
       "7 -0.458395 -0.133077 -0.753495  0.295100     True       NaN     0.091188\n",
       "8  1.785889  4.157278  2.244284 -0.458395    False  4.806441    -0.949280\n",
       "9  1.357061  1.684411 -0.428828  1.785889     True  5.088238     0.331740"
      ]
     },
     "execution_count": 91,
     "metadata": {},
     "output_type": "execute_result"
    }
   ],
   "source": [
    "df.loc[df['X']<0,\"Z\"] = np.nan\n",
    "df.head(10)"
   ]
  },
  {
   "cell_type": "markdown",
   "metadata": {
    "slideshow": {
     "slide_type": "-"
    }
   },
   "source": [
    "__Now what just happened there?__"
   ]
  },
  {
   "cell_type": "markdown",
   "metadata": {
    "slideshow": {
     "slide_type": "slide"
    }
   },
   "source": [
    "Step by step:\n",
    "- Inside `.loc`, it evaluated a condition: `df['X']<0`, which created a Boolean vector.\n",
    "- We fed that boolean vector into the \"row\" position, and gave it the label `Z` for the column vector.\n",
    "- We then __assigned a value__ to this __view__ of the dataframe, which was the missing value object `NaN`\n",
    "\n",
    "We saw before how changing views of the data can lead to issues, but this is a case where it's very useful."
   ]
  },
  {
   "cell_type": "markdown",
   "metadata": {
    "slideshow": {
     "slide_type": "slide"
    }
   },
   "source": [
    "Still, be careful..."
   ]
  },
  {
   "cell_type": "code",
   "execution_count": 92,
   "metadata": {
    "slideshow": {
     "slide_type": "-"
    }
   },
   "outputs": [
    {
     "data": {
      "text/html": [
       "<div>\n",
       "<style scoped>\n",
       "    .dataframe tbody tr th:only-of-type {\n",
       "        vertical-align: middle;\n",
       "    }\n",
       "\n",
       "    .dataframe tbody tr th {\n",
       "        vertical-align: top;\n",
       "    }\n",
       "\n",
       "    .dataframe thead th {\n",
       "        text-align: right;\n",
       "    }\n",
       "</style>\n",
       "<table border=\"1\" class=\"dataframe\">\n",
       "  <thead>\n",
       "    <tr style=\"text-align: right;\">\n",
       "      <th></th>\n",
       "      <th>X</th>\n",
       "      <th>Y</th>\n",
       "      <th>D_X</th>\n",
       "      <th>L_X</th>\n",
       "      <th>D_X_neg</th>\n",
       "      <th>Z</th>\n",
       "      <th>Z_stdized_g</th>\n",
       "    </tr>\n",
       "  </thead>\n",
       "  <tbody>\n",
       "    <tr>\n",
       "      <th>0</th>\n",
       "      <td>0.481828</td>\n",
       "      <td>1.217099</td>\n",
       "      <td>NaN</td>\n",
       "      <td>NaN</td>\n",
       "      <td>False</td>\n",
       "      <td>5.29584</td>\n",
       "      <td>1.494195</td>\n",
       "    </tr>\n",
       "    <tr>\n",
       "      <th>1</th>\n",
       "      <td>0.180225</td>\n",
       "      <td>-0.268869</td>\n",
       "      <td>-0.301604</td>\n",
       "      <td>0.481828</td>\n",
       "      <td>True</td>\n",
       "      <td>5.37462</td>\n",
       "      <td>1.810738</td>\n",
       "    </tr>\n",
       "    <tr>\n",
       "      <th>2</th>\n",
       "      <td>-1.203264</td>\n",
       "      <td>-3.587676</td>\n",
       "      <td>-1.383489</td>\n",
       "      <td>0.180225</td>\n",
       "      <td>True</td>\n",
       "      <td>Jim Davis</td>\n",
       "      <td>-0.828647</td>\n",
       "    </tr>\n",
       "    <tr>\n",
       "      <th>3</th>\n",
       "      <td>0.059219</td>\n",
       "      <td>0.173871</td>\n",
       "      <td>1.262483</td>\n",
       "      <td>-1.203264</td>\n",
       "      <td>False</td>\n",
       "      <td>5.23875</td>\n",
       "      <td>1.209160</td>\n",
       "    </tr>\n",
       "    <tr>\n",
       "      <th>4</th>\n",
       "      <td>-0.514027</td>\n",
       "      <td>-0.660043</td>\n",
       "      <td>-0.573246</td>\n",
       "      <td>0.059219</td>\n",
       "      <td>True</td>\n",
       "      <td>Jim Davis</td>\n",
       "      <td>1.937817</td>\n",
       "    </tr>\n",
       "  </tbody>\n",
       "</table>\n",
       "</div>"
      ],
      "text/plain": [
       "          X         Y       D_X       L_X  D_X_neg          Z  Z_stdized_g\n",
       "0  0.481828  1.217099       NaN       NaN    False    5.29584     1.494195\n",
       "1  0.180225 -0.268869 -0.301604  0.481828     True    5.37462     1.810738\n",
       "2 -1.203264 -3.587676 -1.383489  0.180225     True  Jim Davis    -0.828647\n",
       "3  0.059219  0.173871  1.262483 -1.203264    False    5.23875     1.209160\n",
       "4 -0.514027 -0.660043 -0.573246  0.059219     True  Jim Davis     1.937817"
      ]
     },
     "execution_count": 92,
     "metadata": {},
     "output_type": "execute_result"
    }
   ],
   "source": [
    "df_new = df\n",
    "\n",
    "df_new['Z'] = df_new['Z'].fillna(\"Jim Davis\")\n",
    "\n",
    "df.head()"
   ]
  },
  {
   "cell_type": "markdown",
   "metadata": {
    "slideshow": {
     "slide_type": "slide"
    }
   },
   "source": [
    "It does __not do this__ when doing certain operations, however..."
   ]
  },
  {
   "cell_type": "code",
   "execution_count": 95,
   "metadata": {
    "scrolled": true,
    "slideshow": {
     "slide_type": "-"
    }
   },
   "outputs": [
    {
     "name": "stderr",
     "output_type": "stream",
     "text": [
      "<ipython-input-95-89bb8de01125>:3: SettingWithCopyWarning: \n",
      "A value is trying to be set on a copy of a slice from a DataFrame.\n",
      "Try using .loc[row_indexer,col_indexer] = value instead\n",
      "\n",
      "See the caveats in the documentation: https://pandas.pydata.org/pandas-docs/stable/user_guide/indexing.html#returning-a-view-versus-a-copy\n",
      "  df_head['X'] = \"all Garfield\"\n"
     ]
    },
    {
     "data": {
      "text/html": [
       "<div>\n",
       "<style scoped>\n",
       "    .dataframe tbody tr th:only-of-type {\n",
       "        vertical-align: middle;\n",
       "    }\n",
       "\n",
       "    .dataframe tbody tr th {\n",
       "        vertical-align: top;\n",
       "    }\n",
       "\n",
       "    .dataframe thead th {\n",
       "        text-align: right;\n",
       "    }\n",
       "</style>\n",
       "<table border=\"1\" class=\"dataframe\">\n",
       "  <thead>\n",
       "    <tr style=\"text-align: right;\">\n",
       "      <th></th>\n",
       "      <th>X</th>\n",
       "      <th>Y</th>\n",
       "      <th>D_X</th>\n",
       "      <th>L_X</th>\n",
       "      <th>D_X_neg</th>\n",
       "      <th>Z</th>\n",
       "      <th>Z_stdized_g</th>\n",
       "    </tr>\n",
       "  </thead>\n",
       "  <tbody>\n",
       "    <tr>\n",
       "      <th>0</th>\n",
       "      <td>0.481828</td>\n",
       "      <td>1.217099</td>\n",
       "      <td>NaN</td>\n",
       "      <td>NaN</td>\n",
       "      <td>False</td>\n",
       "      <td>5.29584</td>\n",
       "      <td>1.494195</td>\n",
       "    </tr>\n",
       "    <tr>\n",
       "      <th>1</th>\n",
       "      <td>0.180225</td>\n",
       "      <td>-0.268869</td>\n",
       "      <td>-0.301604</td>\n",
       "      <td>0.481828</td>\n",
       "      <td>True</td>\n",
       "      <td>5.37462</td>\n",
       "      <td>1.810738</td>\n",
       "    </tr>\n",
       "    <tr>\n",
       "      <th>2</th>\n",
       "      <td>-1.203264</td>\n",
       "      <td>-3.587676</td>\n",
       "      <td>-1.383489</td>\n",
       "      <td>0.180225</td>\n",
       "      <td>True</td>\n",
       "      <td>Jim Davis</td>\n",
       "      <td>-0.828647</td>\n",
       "    </tr>\n",
       "    <tr>\n",
       "      <th>3</th>\n",
       "      <td>0.059219</td>\n",
       "      <td>0.173871</td>\n",
       "      <td>1.262483</td>\n",
       "      <td>-1.203264</td>\n",
       "      <td>False</td>\n",
       "      <td>5.23875</td>\n",
       "      <td>1.209160</td>\n",
       "    </tr>\n",
       "    <tr>\n",
       "      <th>4</th>\n",
       "      <td>-0.514027</td>\n",
       "      <td>-0.660043</td>\n",
       "      <td>-0.573246</td>\n",
       "      <td>0.059219</td>\n",
       "      <td>True</td>\n",
       "      <td>Jim Davis</td>\n",
       "      <td>1.937817</td>\n",
       "    </tr>\n",
       "  </tbody>\n",
       "</table>\n",
       "</div>"
      ],
      "text/plain": [
       "          X         Y       D_X       L_X  D_X_neg          Z  Z_stdized_g\n",
       "0  0.481828  1.217099       NaN       NaN    False    5.29584     1.494195\n",
       "1  0.180225 -0.268869 -0.301604  0.481828     True    5.37462     1.810738\n",
       "2 -1.203264 -3.587676 -1.383489  0.180225     True  Jim Davis    -0.828647\n",
       "3  0.059219  0.173871  1.262483 -1.203264    False    5.23875     1.209160\n",
       "4 -0.514027 -0.660043 -0.573246  0.059219     True  Jim Davis     1.937817"
      ]
     },
     "execution_count": 95,
     "metadata": {},
     "output_type": "execute_result"
    }
   ],
   "source": [
    "df_head = df.head()\n",
    "\n",
    "df_head['X'] = \"all Garfield\"\n",
    "\n",
    "df.head()"
   ]
  },
  {
   "cell_type": "markdown",
   "metadata": {
    "slideshow": {
     "slide_type": "-"
    }
   },
   "source": [
    "__Why didn't it change every row of `X` to \"all Garfield\"?__"
   ]
  },
  {
   "cell_type": "markdown",
   "metadata": {
    "slideshow": {
     "slide_type": "slide"
    }
   },
   "source": [
    "__The short answer:__ Operations in Pandas (e.g. `.head()`) __always__ create copies of DataFrames. Therefore we edited a totally new DataFrame.\n",
    "\n",
    "Pandas sends us a `SettingWithCopyWarning` to inform us that we are not modifying the original DataFrame.\n",
    "\n",
    "__The good part:__ You can test out edits before doing it to your main DataFrame. I do this sometimes when I'm not sure what a data cleaning process will do and my data takes a long time to read in.\n",
    "\n",
    "__The bad part:__ if you create a lot of dataframes, you can eat up memory very quickly."
   ]
  },
  {
   "cell_type": "markdown",
   "metadata": {
    "slideshow": {
     "slide_type": "slide"
    }
   },
   "source": [
    "If we wanted to make the first five rows of X \"all Garfield,\" we can use `.loc` instead:"
   ]
  },
  {
   "cell_type": "code",
   "execution_count": 97,
   "metadata": {
    "collapsed": true,
    "slideshow": {
     "slide_type": "-"
    }
   },
   "outputs": [
    {
     "data": {
      "text/html": [
       "<div>\n",
       "<style scoped>\n",
       "    .dataframe tbody tr th:only-of-type {\n",
       "        vertical-align: middle;\n",
       "    }\n",
       "\n",
       "    .dataframe tbody tr th {\n",
       "        vertical-align: top;\n",
       "    }\n",
       "\n",
       "    .dataframe thead th {\n",
       "        text-align: right;\n",
       "    }\n",
       "</style>\n",
       "<table border=\"1\" class=\"dataframe\">\n",
       "  <thead>\n",
       "    <tr style=\"text-align: right;\">\n",
       "      <th></th>\n",
       "      <th>X</th>\n",
       "      <th>Y</th>\n",
       "      <th>D_X</th>\n",
       "      <th>L_X</th>\n",
       "      <th>D_X_neg</th>\n",
       "      <th>Z</th>\n",
       "      <th>Z_stdized_g</th>\n",
       "    </tr>\n",
       "  </thead>\n",
       "  <tbody>\n",
       "    <tr>\n",
       "      <th>0</th>\n",
       "      <td>all Garfield</td>\n",
       "      <td>1.217099</td>\n",
       "      <td>NaN</td>\n",
       "      <td>NaN</td>\n",
       "      <td>False</td>\n",
       "      <td>5.29584</td>\n",
       "      <td>1.494195</td>\n",
       "    </tr>\n",
       "    <tr>\n",
       "      <th>1</th>\n",
       "      <td>all Garfield</td>\n",
       "      <td>-0.268869</td>\n",
       "      <td>-0.301604</td>\n",
       "      <td>0.481828</td>\n",
       "      <td>True</td>\n",
       "      <td>5.37462</td>\n",
       "      <td>1.810738</td>\n",
       "    </tr>\n",
       "    <tr>\n",
       "      <th>2</th>\n",
       "      <td>all Garfield</td>\n",
       "      <td>-3.587676</td>\n",
       "      <td>-1.383489</td>\n",
       "      <td>0.180225</td>\n",
       "      <td>True</td>\n",
       "      <td>Jim Davis</td>\n",
       "      <td>-0.828647</td>\n",
       "    </tr>\n",
       "    <tr>\n",
       "      <th>3</th>\n",
       "      <td>all Garfield</td>\n",
       "      <td>0.173871</td>\n",
       "      <td>1.262483</td>\n",
       "      <td>-1.203264</td>\n",
       "      <td>False</td>\n",
       "      <td>5.23875</td>\n",
       "      <td>1.209160</td>\n",
       "    </tr>\n",
       "    <tr>\n",
       "      <th>4</th>\n",
       "      <td>all Garfield</td>\n",
       "      <td>-0.660043</td>\n",
       "      <td>-0.573246</td>\n",
       "      <td>0.059219</td>\n",
       "      <td>True</td>\n",
       "      <td>Jim Davis</td>\n",
       "      <td>1.937817</td>\n",
       "    </tr>\n",
       "    <tr>\n",
       "      <th>5</th>\n",
       "      <td>all Garfield</td>\n",
       "      <td>1.756933</td>\n",
       "      <td>0.956889</td>\n",
       "      <td>-0.514027</td>\n",
       "      <td>False</td>\n",
       "      <td>5.14183</td>\n",
       "      <td>0.725260</td>\n",
       "    </tr>\n",
       "    <tr>\n",
       "      <th>6</th>\n",
       "      <td>0.2951</td>\n",
       "      <td>0.692656</td>\n",
       "      <td>-0.147761</td>\n",
       "      <td>0.442862</td>\n",
       "      <td>True</td>\n",
       "      <td>5.20091</td>\n",
       "      <td>0.913648</td>\n",
       "    </tr>\n",
       "    <tr>\n",
       "      <th>7</th>\n",
       "      <td>-0.458395</td>\n",
       "      <td>-0.133077</td>\n",
       "      <td>-0.753495</td>\n",
       "      <td>0.295100</td>\n",
       "      <td>True</td>\n",
       "      <td>Jim Davis</td>\n",
       "      <td>0.091188</td>\n",
       "    </tr>\n",
       "    <tr>\n",
       "      <th>8</th>\n",
       "      <td>1.78589</td>\n",
       "      <td>4.157278</td>\n",
       "      <td>2.244284</td>\n",
       "      <td>-0.458395</td>\n",
       "      <td>False</td>\n",
       "      <td>4.80644</td>\n",
       "      <td>-0.949280</td>\n",
       "    </tr>\n",
       "    <tr>\n",
       "      <th>9</th>\n",
       "      <td>1.35706</td>\n",
       "      <td>1.684411</td>\n",
       "      <td>-0.428828</td>\n",
       "      <td>1.785889</td>\n",
       "      <td>True</td>\n",
       "      <td>5.08824</td>\n",
       "      <td>0.331740</td>\n",
       "    </tr>\n",
       "    <tr>\n",
       "      <th>10</th>\n",
       "      <td>-2.05168</td>\n",
       "      <td>-5.932728</td>\n",
       "      <td>-3.408741</td>\n",
       "      <td>1.357061</td>\n",
       "      <td>True</td>\n",
       "      <td>Jim Davis</td>\n",
       "      <td>0.331318</td>\n",
       "    </tr>\n",
       "    <tr>\n",
       "      <th>11</th>\n",
       "      <td>-1.30391</td>\n",
       "      <td>-0.771302</td>\n",
       "      <td>0.747768</td>\n",
       "      <td>-2.051680</td>\n",
       "      <td>False</td>\n",
       "      <td>Jim Davis</td>\n",
       "      <td>-1.513751</td>\n",
       "    </tr>\n",
       "    <tr>\n",
       "      <th>12</th>\n",
       "      <td>-0.870622</td>\n",
       "      <td>-2.436964</td>\n",
       "      <td>0.433290</td>\n",
       "      <td>-1.303913</td>\n",
       "      <td>False</td>\n",
       "      <td>Jim Davis</td>\n",
       "      <td>0.155670</td>\n",
       "    </tr>\n",
       "    <tr>\n",
       "      <th>13</th>\n",
       "      <td>-1.42985</td>\n",
       "      <td>-1.439021</td>\n",
       "      <td>-0.559226</td>\n",
       "      <td>-0.870622</td>\n",
       "      <td>True</td>\n",
       "      <td>Jim Davis</td>\n",
       "      <td>-0.650942</td>\n",
       "    </tr>\n",
       "    <tr>\n",
       "      <th>14</th>\n",
       "      <td>-1.52769</td>\n",
       "      <td>-3.049198</td>\n",
       "      <td>-0.097842</td>\n",
       "      <td>-1.429849</td>\n",
       "      <td>True</td>\n",
       "      <td>Jim Davis</td>\n",
       "      <td>1.634899</td>\n",
       "    </tr>\n",
       "    <tr>\n",
       "      <th>15</th>\n",
       "      <td>0.861941</td>\n",
       "      <td>0.600662</td>\n",
       "      <td>2.389632</td>\n",
       "      <td>-1.527690</td>\n",
       "      <td>False</td>\n",
       "      <td>4.98896</td>\n",
       "      <td>-0.037991</td>\n",
       "    </tr>\n",
       "    <tr>\n",
       "      <th>16</th>\n",
       "      <td>0.548885</td>\n",
       "      <td>-0.454899</td>\n",
       "      <td>-0.313057</td>\n",
       "      <td>0.861941</td>\n",
       "      <td>True</td>\n",
       "      <td>4.85559</td>\n",
       "      <td>-0.869757</td>\n",
       "    </tr>\n",
       "    <tr>\n",
       "      <th>17</th>\n",
       "      <td>0.752919</td>\n",
       "      <td>2.679060</td>\n",
       "      <td>0.204035</td>\n",
       "      <td>0.548885</td>\n",
       "      <td>False</td>\n",
       "      <td>4.77468</td>\n",
       "      <td>-1.107855</td>\n",
       "    </tr>\n",
       "    <tr>\n",
       "      <th>18</th>\n",
       "      <td>0.245605</td>\n",
       "      <td>-0.678475</td>\n",
       "      <td>-0.507314</td>\n",
       "      <td>0.752919</td>\n",
       "      <td>True</td>\n",
       "      <td>4.99597</td>\n",
       "      <td>-0.144780</td>\n",
       "    </tr>\n",
       "    <tr>\n",
       "      <th>19</th>\n",
       "      <td>1.00152</td>\n",
       "      <td>2.943567</td>\n",
       "      <td>0.755913</td>\n",
       "      <td>0.245605</td>\n",
       "      <td>False</td>\n",
       "      <td>5.19833</td>\n",
       "      <td>1.007355</td>\n",
       "    </tr>\n",
       "  </tbody>\n",
       "</table>\n",
       "</div>"
      ],
      "text/plain": [
       "               X         Y       D_X       L_X  D_X_neg          Z  \\\n",
       "0   all Garfield  1.217099       NaN       NaN    False    5.29584   \n",
       "1   all Garfield -0.268869 -0.301604  0.481828     True    5.37462   \n",
       "2   all Garfield -3.587676 -1.383489  0.180225     True  Jim Davis   \n",
       "3   all Garfield  0.173871  1.262483 -1.203264    False    5.23875   \n",
       "4   all Garfield -0.660043 -0.573246  0.059219     True  Jim Davis   \n",
       "5   all Garfield  1.756933  0.956889 -0.514027    False    5.14183   \n",
       "6         0.2951  0.692656 -0.147761  0.442862     True    5.20091   \n",
       "7      -0.458395 -0.133077 -0.753495  0.295100     True  Jim Davis   \n",
       "8        1.78589  4.157278  2.244284 -0.458395    False    4.80644   \n",
       "9        1.35706  1.684411 -0.428828  1.785889     True    5.08824   \n",
       "10      -2.05168 -5.932728 -3.408741  1.357061     True  Jim Davis   \n",
       "11      -1.30391 -0.771302  0.747768 -2.051680    False  Jim Davis   \n",
       "12     -0.870622 -2.436964  0.433290 -1.303913    False  Jim Davis   \n",
       "13      -1.42985 -1.439021 -0.559226 -0.870622     True  Jim Davis   \n",
       "14      -1.52769 -3.049198 -0.097842 -1.429849     True  Jim Davis   \n",
       "15      0.861941  0.600662  2.389632 -1.527690    False    4.98896   \n",
       "16      0.548885 -0.454899 -0.313057  0.861941     True    4.85559   \n",
       "17      0.752919  2.679060  0.204035  0.548885    False    4.77468   \n",
       "18      0.245605 -0.678475 -0.507314  0.752919     True    4.99597   \n",
       "19       1.00152  2.943567  0.755913  0.245605    False    5.19833   \n",
       "\n",
       "    Z_stdized_g  \n",
       "0      1.494195  \n",
       "1      1.810738  \n",
       "2     -0.828647  \n",
       "3      1.209160  \n",
       "4      1.937817  \n",
       "5      0.725260  \n",
       "6      0.913648  \n",
       "7      0.091188  \n",
       "8     -0.949280  \n",
       "9      0.331740  \n",
       "10     0.331318  \n",
       "11    -1.513751  \n",
       "12     0.155670  \n",
       "13    -0.650942  \n",
       "14     1.634899  \n",
       "15    -0.037991  \n",
       "16    -0.869757  \n",
       "17    -1.107855  \n",
       "18    -0.144780  \n",
       "19     1.007355  "
      ]
     },
     "execution_count": 97,
     "metadata": {},
     "output_type": "execute_result"
    }
   ],
   "source": [
    "df.loc[:5,\"X\"] = \"all Garfield\"\n",
    "\n",
    "df.head(20)"
   ]
  },
  {
   "cell_type": "markdown",
   "metadata": {
    "slideshow": {
     "slide_type": "slide"
    }
   },
   "source": [
    "__Pandas almost never does \"in place\" operations unless you tell it to__.\n",
    "\n",
    "An example is if you wanted to drop columns. The following code will generate an entirely new dataframe without the column."
   ]
  },
  {
   "cell_type": "code",
   "execution_count": 99,
   "metadata": {
    "collapsed": true
   },
   "outputs": [
    {
     "data": {
      "text/html": [
       "<div>\n",
       "<style scoped>\n",
       "    .dataframe tbody tr th:only-of-type {\n",
       "        vertical-align: middle;\n",
       "    }\n",
       "\n",
       "    .dataframe tbody tr th {\n",
       "        vertical-align: top;\n",
       "    }\n",
       "\n",
       "    .dataframe thead th {\n",
       "        text-align: right;\n",
       "    }\n",
       "</style>\n",
       "<table border=\"1\" class=\"dataframe\">\n",
       "  <thead>\n",
       "    <tr style=\"text-align: right;\">\n",
       "      <th></th>\n",
       "      <th>X</th>\n",
       "      <th>Y</th>\n",
       "      <th>D_X</th>\n",
       "      <th>L_X</th>\n",
       "      <th>D_X_neg</th>\n",
       "      <th>Z</th>\n",
       "      <th>Z_stdized_g</th>\n",
       "    </tr>\n",
       "  </thead>\n",
       "  <tbody>\n",
       "    <tr>\n",
       "      <th>0</th>\n",
       "      <td>all Garfield</td>\n",
       "      <td>1.217099</td>\n",
       "      <td>NaN</td>\n",
       "      <td>NaN</td>\n",
       "      <td>False</td>\n",
       "      <td>5.29584</td>\n",
       "      <td>1.494195</td>\n",
       "    </tr>\n",
       "    <tr>\n",
       "      <th>1</th>\n",
       "      <td>all Garfield</td>\n",
       "      <td>-0.268869</td>\n",
       "      <td>-0.301604</td>\n",
       "      <td>0.481828</td>\n",
       "      <td>True</td>\n",
       "      <td>5.37462</td>\n",
       "      <td>1.810738</td>\n",
       "    </tr>\n",
       "    <tr>\n",
       "      <th>2</th>\n",
       "      <td>all Garfield</td>\n",
       "      <td>-3.587676</td>\n",
       "      <td>-1.383489</td>\n",
       "      <td>0.180225</td>\n",
       "      <td>True</td>\n",
       "      <td>Jim Davis</td>\n",
       "      <td>-0.828647</td>\n",
       "    </tr>\n",
       "    <tr>\n",
       "      <th>3</th>\n",
       "      <td>all Garfield</td>\n",
       "      <td>0.173871</td>\n",
       "      <td>1.262483</td>\n",
       "      <td>-1.203264</td>\n",
       "      <td>False</td>\n",
       "      <td>5.23875</td>\n",
       "      <td>1.209160</td>\n",
       "    </tr>\n",
       "    <tr>\n",
       "      <th>4</th>\n",
       "      <td>all Garfield</td>\n",
       "      <td>-0.660043</td>\n",
       "      <td>-0.573246</td>\n",
       "      <td>0.059219</td>\n",
       "      <td>True</td>\n",
       "      <td>Jim Davis</td>\n",
       "      <td>1.937817</td>\n",
       "    </tr>\n",
       "    <tr>\n",
       "      <th>...</th>\n",
       "      <td>...</td>\n",
       "      <td>...</td>\n",
       "      <td>...</td>\n",
       "      <td>...</td>\n",
       "      <td>...</td>\n",
       "      <td>...</td>\n",
       "      <td>...</td>\n",
       "    </tr>\n",
       "    <tr>\n",
       "      <th>95</th>\n",
       "      <td>0.170361</td>\n",
       "      <td>-1.183055</td>\n",
       "      <td>1.904908</td>\n",
       "      <td>-1.734547</td>\n",
       "      <td>False</td>\n",
       "      <td>5.30889</td>\n",
       "      <td>1.559364</td>\n",
       "    </tr>\n",
       "    <tr>\n",
       "      <th>96</th>\n",
       "      <td>0.0195565</td>\n",
       "      <td>0.479495</td>\n",
       "      <td>-0.150805</td>\n",
       "      <td>0.170361</td>\n",
       "      <td>True</td>\n",
       "      <td>4.76326</td>\n",
       "      <td>-1.346612</td>\n",
       "    </tr>\n",
       "    <tr>\n",
       "      <th>97</th>\n",
       "      <td>0.0953809</td>\n",
       "      <td>0.558011</td>\n",
       "      <td>0.075824</td>\n",
       "      <td>0.019556</td>\n",
       "      <td>False</td>\n",
       "      <td>4.60341</td>\n",
       "      <td>-1.962981</td>\n",
       "    </tr>\n",
       "    <tr>\n",
       "      <th>98</th>\n",
       "      <td>-0.376722</td>\n",
       "      <td>0.179743</td>\n",
       "      <td>-0.472103</td>\n",
       "      <td>0.095381</td>\n",
       "      <td>True</td>\n",
       "      <td>Jim Davis</td>\n",
       "      <td>0.520737</td>\n",
       "    </tr>\n",
       "    <tr>\n",
       "      <th>99</th>\n",
       "      <td>-0.87158</td>\n",
       "      <td>-3.216386</td>\n",
       "      <td>-0.494857</td>\n",
       "      <td>-0.376722</td>\n",
       "      <td>True</td>\n",
       "      <td>Jim Davis</td>\n",
       "      <td>0.340283</td>\n",
       "    </tr>\n",
       "  </tbody>\n",
       "</table>\n",
       "<p>100 rows × 7 columns</p>\n",
       "</div>"
      ],
      "text/plain": [
       "               X         Y       D_X       L_X  D_X_neg          Z  \\\n",
       "0   all Garfield  1.217099       NaN       NaN    False    5.29584   \n",
       "1   all Garfield -0.268869 -0.301604  0.481828     True    5.37462   \n",
       "2   all Garfield -3.587676 -1.383489  0.180225     True  Jim Davis   \n",
       "3   all Garfield  0.173871  1.262483 -1.203264    False    5.23875   \n",
       "4   all Garfield -0.660043 -0.573246  0.059219     True  Jim Davis   \n",
       "..           ...       ...       ...       ...      ...        ...   \n",
       "95      0.170361 -1.183055  1.904908 -1.734547    False    5.30889   \n",
       "96     0.0195565  0.479495 -0.150805  0.170361     True    4.76326   \n",
       "97     0.0953809  0.558011  0.075824  0.019556    False    4.60341   \n",
       "98     -0.376722  0.179743 -0.472103  0.095381     True  Jim Davis   \n",
       "99      -0.87158 -3.216386 -0.494857 -0.376722     True  Jim Davis   \n",
       "\n",
       "    Z_stdized_g  \n",
       "0      1.494195  \n",
       "1      1.810738  \n",
       "2     -0.828647  \n",
       "3      1.209160  \n",
       "4      1.937817  \n",
       "..          ...  \n",
       "95     1.559364  \n",
       "96    -1.346612  \n",
       "97    -1.962981  \n",
       "98     0.520737  \n",
       "99     0.340283  \n",
       "\n",
       "[100 rows x 7 columns]"
      ]
     },
     "execution_count": 99,
     "metadata": {},
     "output_type": "execute_result"
    }
   ],
   "source": [
    "df"
   ]
  },
  {
   "cell_type": "code",
   "execution_count": 100,
   "metadata": {
    "slideshow": {
     "slide_type": "-"
    }
   },
   "outputs": [
    {
     "data": {
      "text/html": [
       "<div>\n",
       "<style scoped>\n",
       "    .dataframe tbody tr th:only-of-type {\n",
       "        vertical-align: middle;\n",
       "    }\n",
       "\n",
       "    .dataframe tbody tr th {\n",
       "        vertical-align: top;\n",
       "    }\n",
       "\n",
       "    .dataframe thead th {\n",
       "        text-align: right;\n",
       "    }\n",
       "</style>\n",
       "<table border=\"1\" class=\"dataframe\">\n",
       "  <thead>\n",
       "    <tr style=\"text-align: right;\">\n",
       "      <th></th>\n",
       "      <th>X</th>\n",
       "      <th>Y</th>\n",
       "      <th>L_X</th>\n",
       "      <th>D_X_neg</th>\n",
       "      <th>Z</th>\n",
       "      <th>Z_stdized_g</th>\n",
       "    </tr>\n",
       "  </thead>\n",
       "  <tbody>\n",
       "    <tr>\n",
       "      <th>0</th>\n",
       "      <td>all Garfield</td>\n",
       "      <td>1.217099</td>\n",
       "      <td>NaN</td>\n",
       "      <td>False</td>\n",
       "      <td>5.29584</td>\n",
       "      <td>1.494195</td>\n",
       "    </tr>\n",
       "    <tr>\n",
       "      <th>1</th>\n",
       "      <td>all Garfield</td>\n",
       "      <td>-0.268869</td>\n",
       "      <td>0.481828</td>\n",
       "      <td>True</td>\n",
       "      <td>5.37462</td>\n",
       "      <td>1.810738</td>\n",
       "    </tr>\n",
       "    <tr>\n",
       "      <th>2</th>\n",
       "      <td>all Garfield</td>\n",
       "      <td>-3.587676</td>\n",
       "      <td>0.180225</td>\n",
       "      <td>True</td>\n",
       "      <td>Jim Davis</td>\n",
       "      <td>-0.828647</td>\n",
       "    </tr>\n",
       "    <tr>\n",
       "      <th>3</th>\n",
       "      <td>all Garfield</td>\n",
       "      <td>0.173871</td>\n",
       "      <td>-1.203264</td>\n",
       "      <td>False</td>\n",
       "      <td>5.23875</td>\n",
       "      <td>1.209160</td>\n",
       "    </tr>\n",
       "    <tr>\n",
       "      <th>4</th>\n",
       "      <td>all Garfield</td>\n",
       "      <td>-0.660043</td>\n",
       "      <td>0.059219</td>\n",
       "      <td>True</td>\n",
       "      <td>Jim Davis</td>\n",
       "      <td>1.937817</td>\n",
       "    </tr>\n",
       "    <tr>\n",
       "      <th>...</th>\n",
       "      <td>...</td>\n",
       "      <td>...</td>\n",
       "      <td>...</td>\n",
       "      <td>...</td>\n",
       "      <td>...</td>\n",
       "      <td>...</td>\n",
       "    </tr>\n",
       "    <tr>\n",
       "      <th>95</th>\n",
       "      <td>0.170361</td>\n",
       "      <td>-1.183055</td>\n",
       "      <td>-1.734547</td>\n",
       "      <td>False</td>\n",
       "      <td>5.30889</td>\n",
       "      <td>1.559364</td>\n",
       "    </tr>\n",
       "    <tr>\n",
       "      <th>96</th>\n",
       "      <td>0.0195565</td>\n",
       "      <td>0.479495</td>\n",
       "      <td>0.170361</td>\n",
       "      <td>True</td>\n",
       "      <td>4.76326</td>\n",
       "      <td>-1.346612</td>\n",
       "    </tr>\n",
       "    <tr>\n",
       "      <th>97</th>\n",
       "      <td>0.0953809</td>\n",
       "      <td>0.558011</td>\n",
       "      <td>0.019556</td>\n",
       "      <td>False</td>\n",
       "      <td>4.60341</td>\n",
       "      <td>-1.962981</td>\n",
       "    </tr>\n",
       "    <tr>\n",
       "      <th>98</th>\n",
       "      <td>-0.376722</td>\n",
       "      <td>0.179743</td>\n",
       "      <td>0.095381</td>\n",
       "      <td>True</td>\n",
       "      <td>Jim Davis</td>\n",
       "      <td>0.520737</td>\n",
       "    </tr>\n",
       "    <tr>\n",
       "      <th>99</th>\n",
       "      <td>-0.87158</td>\n",
       "      <td>-3.216386</td>\n",
       "      <td>-0.376722</td>\n",
       "      <td>True</td>\n",
       "      <td>Jim Davis</td>\n",
       "      <td>0.340283</td>\n",
       "    </tr>\n",
       "  </tbody>\n",
       "</table>\n",
       "<p>100 rows × 6 columns</p>\n",
       "</div>"
      ],
      "text/plain": [
       "               X         Y       L_X  D_X_neg          Z  Z_stdized_g\n",
       "0   all Garfield  1.217099       NaN    False    5.29584     1.494195\n",
       "1   all Garfield -0.268869  0.481828     True    5.37462     1.810738\n",
       "2   all Garfield -3.587676  0.180225     True  Jim Davis    -0.828647\n",
       "3   all Garfield  0.173871 -1.203264    False    5.23875     1.209160\n",
       "4   all Garfield -0.660043  0.059219     True  Jim Davis     1.937817\n",
       "..           ...       ...       ...      ...        ...          ...\n",
       "95      0.170361 -1.183055 -1.734547    False    5.30889     1.559364\n",
       "96     0.0195565  0.479495  0.170361     True    4.76326    -1.346612\n",
       "97     0.0953809  0.558011  0.019556    False    4.60341    -1.962981\n",
       "98     -0.376722  0.179743  0.095381     True  Jim Davis     0.520737\n",
       "99      -0.87158 -3.216386 -0.376722     True  Jim Davis     0.340283\n",
       "\n",
       "[100 rows x 6 columns]"
      ]
     },
     "execution_count": 100,
     "metadata": {},
     "output_type": "execute_result"
    }
   ],
   "source": [
    "df.drop(\"D_X\",axis=1)"
   ]
  },
  {
   "cell_type": "markdown",
   "metadata": {
    "slideshow": {
     "slide_type": "slide"
    }
   },
   "source": [
    "So you must assign it back if that's the DataFrame you want."
   ]
  },
  {
   "cell_type": "code",
   "execution_count": 101,
   "metadata": {
    "scrolled": true,
    "slideshow": {
     "slide_type": "-"
    }
   },
   "outputs": [
    {
     "data": {
      "text/html": [
       "<div>\n",
       "<style scoped>\n",
       "    .dataframe tbody tr th:only-of-type {\n",
       "        vertical-align: middle;\n",
       "    }\n",
       "\n",
       "    .dataframe tbody tr th {\n",
       "        vertical-align: top;\n",
       "    }\n",
       "\n",
       "    .dataframe thead th {\n",
       "        text-align: right;\n",
       "    }\n",
       "</style>\n",
       "<table border=\"1\" class=\"dataframe\">\n",
       "  <thead>\n",
       "    <tr style=\"text-align: right;\">\n",
       "      <th></th>\n",
       "      <th>X</th>\n",
       "      <th>Y</th>\n",
       "      <th>L_X</th>\n",
       "      <th>D_X_neg</th>\n",
       "      <th>Z</th>\n",
       "      <th>Z_stdized_g</th>\n",
       "    </tr>\n",
       "  </thead>\n",
       "  <tbody>\n",
       "    <tr>\n",
       "      <th>0</th>\n",
       "      <td>all Garfield</td>\n",
       "      <td>1.217099</td>\n",
       "      <td>NaN</td>\n",
       "      <td>False</td>\n",
       "      <td>5.29584</td>\n",
       "      <td>1.494195</td>\n",
       "    </tr>\n",
       "    <tr>\n",
       "      <th>1</th>\n",
       "      <td>all Garfield</td>\n",
       "      <td>-0.268869</td>\n",
       "      <td>0.481828</td>\n",
       "      <td>True</td>\n",
       "      <td>5.37462</td>\n",
       "      <td>1.810738</td>\n",
       "    </tr>\n",
       "    <tr>\n",
       "      <th>2</th>\n",
       "      <td>all Garfield</td>\n",
       "      <td>-3.587676</td>\n",
       "      <td>0.180225</td>\n",
       "      <td>True</td>\n",
       "      <td>Jim Davis</td>\n",
       "      <td>-0.828647</td>\n",
       "    </tr>\n",
       "    <tr>\n",
       "      <th>3</th>\n",
       "      <td>all Garfield</td>\n",
       "      <td>0.173871</td>\n",
       "      <td>-1.203264</td>\n",
       "      <td>False</td>\n",
       "      <td>5.23875</td>\n",
       "      <td>1.209160</td>\n",
       "    </tr>\n",
       "    <tr>\n",
       "      <th>4</th>\n",
       "      <td>all Garfield</td>\n",
       "      <td>-0.660043</td>\n",
       "      <td>0.059219</td>\n",
       "      <td>True</td>\n",
       "      <td>Jim Davis</td>\n",
       "      <td>1.937817</td>\n",
       "    </tr>\n",
       "  </tbody>\n",
       "</table>\n",
       "</div>"
      ],
      "text/plain": [
       "              X         Y       L_X  D_X_neg          Z  Z_stdized_g\n",
       "0  all Garfield  1.217099       NaN    False    5.29584     1.494195\n",
       "1  all Garfield -0.268869  0.481828     True    5.37462     1.810738\n",
       "2  all Garfield -3.587676  0.180225     True  Jim Davis    -0.828647\n",
       "3  all Garfield  0.173871 -1.203264    False    5.23875     1.209160\n",
       "4  all Garfield -0.660043  0.059219     True  Jim Davis     1.937817"
      ]
     },
     "execution_count": 101,
     "metadata": {},
     "output_type": "execute_result"
    }
   ],
   "source": [
    "df = df.drop(\"D_X\",axis=1).head()\n",
    "df.head()"
   ]
  },
  {
   "cell_type": "markdown",
   "metadata": {
    "slideshow": {
     "slide_type": "slide"
    }
   },
   "source": [
    "You can, however, specify that it does it \"in place,\" meaning it will modify the object and not generate a new one."
   ]
  },
  {
   "cell_type": "code",
   "execution_count": 103,
   "metadata": {},
   "outputs": [
    {
     "data": {
      "text/html": [
       "<div>\n",
       "<style scoped>\n",
       "    .dataframe tbody tr th:only-of-type {\n",
       "        vertical-align: middle;\n",
       "    }\n",
       "\n",
       "    .dataframe tbody tr th {\n",
       "        vertical-align: top;\n",
       "    }\n",
       "\n",
       "    .dataframe thead th {\n",
       "        text-align: right;\n",
       "    }\n",
       "</style>\n",
       "<table border=\"1\" class=\"dataframe\">\n",
       "  <thead>\n",
       "    <tr style=\"text-align: right;\">\n",
       "      <th></th>\n",
       "      <th>X</th>\n",
       "      <th>Y</th>\n",
       "      <th>D_X_neg</th>\n",
       "      <th>Z</th>\n",
       "      <th>Z_stdized_g</th>\n",
       "    </tr>\n",
       "  </thead>\n",
       "  <tbody>\n",
       "    <tr>\n",
       "      <th>0</th>\n",
       "      <td>all Garfield</td>\n",
       "      <td>1.217099</td>\n",
       "      <td>False</td>\n",
       "      <td>5.29584</td>\n",
       "      <td>1.494195</td>\n",
       "    </tr>\n",
       "    <tr>\n",
       "      <th>1</th>\n",
       "      <td>all Garfield</td>\n",
       "      <td>-0.268869</td>\n",
       "      <td>True</td>\n",
       "      <td>5.37462</td>\n",
       "      <td>1.810738</td>\n",
       "    </tr>\n",
       "    <tr>\n",
       "      <th>2</th>\n",
       "      <td>all Garfield</td>\n",
       "      <td>-3.587676</td>\n",
       "      <td>True</td>\n",
       "      <td>Jim Davis</td>\n",
       "      <td>-0.828647</td>\n",
       "    </tr>\n",
       "    <tr>\n",
       "      <th>3</th>\n",
       "      <td>all Garfield</td>\n",
       "      <td>0.173871</td>\n",
       "      <td>False</td>\n",
       "      <td>5.23875</td>\n",
       "      <td>1.209160</td>\n",
       "    </tr>\n",
       "    <tr>\n",
       "      <th>4</th>\n",
       "      <td>all Garfield</td>\n",
       "      <td>-0.660043</td>\n",
       "      <td>True</td>\n",
       "      <td>Jim Davis</td>\n",
       "      <td>1.937817</td>\n",
       "    </tr>\n",
       "  </tbody>\n",
       "</table>\n",
       "</div>"
      ],
      "text/plain": [
       "              X         Y  D_X_neg          Z  Z_stdized_g\n",
       "0  all Garfield  1.217099    False    5.29584     1.494195\n",
       "1  all Garfield -0.268869     True    5.37462     1.810738\n",
       "2  all Garfield -3.587676     True  Jim Davis    -0.828647\n",
       "3  all Garfield  0.173871    False    5.23875     1.209160\n",
       "4  all Garfield -0.660043     True  Jim Davis     1.937817"
      ]
     },
     "execution_count": 103,
     "metadata": {},
     "output_type": "execute_result"
    }
   ],
   "source": [
    "df"
   ]
  },
  {
   "cell_type": "code",
   "execution_count": 102,
   "metadata": {},
   "outputs": [],
   "source": [
    "df.drop(\"L_X\",axis=1,inplace=True)"
   ]
  },
  {
   "cell_type": "markdown",
   "metadata": {
    "slideshow": {
     "slide_type": "slide"
    }
   },
   "source": [
    "### Data Merging in Pandas:\n",
    "- `join` is for merging on indices; DataFrames must be the same size for this.\n",
    "- `concat` is for concatenation like in Numpy.\n",
    "- `merge` is for any of the above but includes many to one merges.\n",
    "    - Instead of the \"m:1\" stuff Stata uses, it uses `left`, `right`, `outer` and `inner` (which comes from SQL)."
   ]
  },
  {
   "attachments": {
    "image.png": {
     "image/png": "[encoded data removed]"
    }
   },
   "cell_type": "markdown",
   "metadata": {
    "slideshow": {
     "slide_type": "slide"
    }
   },
   "source": [
    "![image.png](attachment:image.png)\n",
    "\n",
    "\n",
    "[Link to image](https://medium.com/swlh/merging-dataframes-with-pandas-pd-merge-7764c7e2d46d)"
   ]
  },
  {
   "cell_type": "markdown",
   "metadata": {
    "slideshow": {
     "slide_type": "slide"
    }
   },
   "source": [
    "- inner: keep rows that match on the keys in __both__ dataframes.\n",
    "- outer: keep __all__ rows __regardless__ of whether keys match.\n",
    "- left: keep all rows in the right that match and all the left.\n",
    "- right: inverse of left."
   ]
  },
  {
   "cell_type": "code",
   "execution_count": 104,
   "metadata": {
    "slideshow": {
     "slide_type": "slide"
    }
   },
   "outputs": [
    {
     "data": {
      "text/html": [
       "<div>\n",
       "<style scoped>\n",
       "    .dataframe tbody tr th:only-of-type {\n",
       "        vertical-align: middle;\n",
       "    }\n",
       "\n",
       "    .dataframe tbody tr th {\n",
       "        vertical-align: top;\n",
       "    }\n",
       "\n",
       "    .dataframe thead th {\n",
       "        text-align: right;\n",
       "    }\n",
       "</style>\n",
       "<table border=\"1\" class=\"dataframe\">\n",
       "  <thead>\n",
       "    <tr style=\"text-align: right;\">\n",
       "      <th></th>\n",
       "      <th>X</th>\n",
       "      <th>Y</th>\n",
       "      <th>D_X_neg</th>\n",
       "      <th>Z</th>\n",
       "      <th>Z_stdized_g</th>\n",
       "      <th>Jim Davis</th>\n",
       "      <th>Y_mean</th>\n",
       "    </tr>\n",
       "  </thead>\n",
       "  <tbody>\n",
       "    <tr>\n",
       "      <th>0</th>\n",
       "      <td>all Garfield</td>\n",
       "      <td>1.217099</td>\n",
       "      <td>False</td>\n",
       "      <td>5.29584</td>\n",
       "      <td>1.494195</td>\n",
       "      <td>False</td>\n",
       "      <td>0.374034</td>\n",
       "    </tr>\n",
       "    <tr>\n",
       "      <th>1</th>\n",
       "      <td>all Garfield</td>\n",
       "      <td>-0.268869</td>\n",
       "      <td>True</td>\n",
       "      <td>5.37462</td>\n",
       "      <td>1.810738</td>\n",
       "      <td>False</td>\n",
       "      <td>0.374034</td>\n",
       "    </tr>\n",
       "    <tr>\n",
       "      <th>2</th>\n",
       "      <td>all Garfield</td>\n",
       "      <td>-3.587676</td>\n",
       "      <td>True</td>\n",
       "      <td>Jim Davis</td>\n",
       "      <td>-0.828647</td>\n",
       "      <td>True</td>\n",
       "      <td>-2.123859</td>\n",
       "    </tr>\n",
       "    <tr>\n",
       "      <th>3</th>\n",
       "      <td>all Garfield</td>\n",
       "      <td>0.173871</td>\n",
       "      <td>False</td>\n",
       "      <td>5.23875</td>\n",
       "      <td>1.209160</td>\n",
       "      <td>False</td>\n",
       "      <td>0.374034</td>\n",
       "    </tr>\n",
       "    <tr>\n",
       "      <th>4</th>\n",
       "      <td>all Garfield</td>\n",
       "      <td>-0.660043</td>\n",
       "      <td>True</td>\n",
       "      <td>Jim Davis</td>\n",
       "      <td>1.937817</td>\n",
       "      <td>True</td>\n",
       "      <td>-2.123859</td>\n",
       "    </tr>\n",
       "  </tbody>\n",
       "</table>\n",
       "</div>"
      ],
      "text/plain": [
       "              X         Y  D_X_neg          Z  Z_stdized_g  Jim Davis  \\\n",
       "0  all Garfield  1.217099    False    5.29584     1.494195      False   \n",
       "1  all Garfield -0.268869     True    5.37462     1.810738      False   \n",
       "2  all Garfield -3.587676     True  Jim Davis    -0.828647       True   \n",
       "3  all Garfield  0.173871    False    5.23875     1.209160      False   \n",
       "4  all Garfield -0.660043     True  Jim Davis     1.937817       True   \n",
       "\n",
       "     Y_mean  \n",
       "0  0.374034  \n",
       "1  0.374034  \n",
       "2 -2.123859  \n",
       "3  0.374034  \n",
       "4 -2.123859  "
      ]
     },
     "execution_count": 104,
     "metadata": {},
     "output_type": "execute_result"
    }
   ],
   "source": [
    "df['Jim Davis'] = df['Z'] == \"Jim Davis\"\n",
    "\n",
    "Y_means = df.groupby(\"Jim Davis\")['Y'].mean().reset_index()\n",
    "\n",
    "df.merge(Y_means,on=\"Jim Davis\",how=\"left\",suffixes=(\"\",\"_mean\"))"
   ]
  },
  {
   "cell_type": "markdown",
   "metadata": {
    "slideshow": {
     "slide_type": "-"
    }
   },
   "source": [
    "__What did this code just do?__"
   ]
  },
  {
   "cell_type": "markdown",
   "metadata": {
    "slideshow": {
     "slide_type": "slide"
    }
   },
   "source": [
    "Step-by-step:\n",
    "- `df['Jim Davis'] = df['Z'] == \"Jim Davis\"` created a column called \"Jim Davis\" that is a Boolean vector.\n",
    "- `Y_means = df.groupby(\"Jim Davis\")['Y'].mean().reset_index()`\n",
    "    - Groupby the variable \"Jim Davis\"\n",
    "    - For the column Y, take the average for all levels of \"Jim Davis\"\n",
    "    - Reset the index so that you have a DataFrame that looks like this:"
   ]
  },
  {
   "cell_type": "code",
   "execution_count": 105,
   "metadata": {
    "slideshow": {
     "slide_type": "-"
    }
   },
   "outputs": [
    {
     "data": {
      "text/html": [
       "<div>\n",
       "<style scoped>\n",
       "    .dataframe tbody tr th:only-of-type {\n",
       "        vertical-align: middle;\n",
       "    }\n",
       "\n",
       "    .dataframe tbody tr th {\n",
       "        vertical-align: top;\n",
       "    }\n",
       "\n",
       "    .dataframe thead th {\n",
       "        text-align: right;\n",
       "    }\n",
       "</style>\n",
       "<table border=\"1\" class=\"dataframe\">\n",
       "  <thead>\n",
       "    <tr style=\"text-align: right;\">\n",
       "      <th></th>\n",
       "      <th>Jim Davis</th>\n",
       "      <th>Y</th>\n",
       "    </tr>\n",
       "  </thead>\n",
       "  <tbody>\n",
       "    <tr>\n",
       "      <th>0</th>\n",
       "      <td>False</td>\n",
       "      <td>0.374034</td>\n",
       "    </tr>\n",
       "    <tr>\n",
       "      <th>1</th>\n",
       "      <td>True</td>\n",
       "      <td>-2.123859</td>\n",
       "    </tr>\n",
       "  </tbody>\n",
       "</table>\n",
       "</div>"
      ],
      "text/plain": [
       "   Jim Davis         Y\n",
       "0      False  0.374034\n",
       "1       True -2.123859"
      ]
     },
     "execution_count": 105,
     "metadata": {},
     "output_type": "execute_result"
    }
   ],
   "source": [
    "df.groupby(\"Jim Davis\")['Y'].mean().reset_index()"
   ]
  },
  {
   "cell_type": "markdown",
   "metadata": {
    "slideshow": {
     "slide_type": "slide"
    }
   },
   "source": [
    "- `df.merge(Y_means,on=\"Jim Davis\",how=\"left\",suffixes=(\"\",\"_mean\"))`\n",
    "    - Do a left merge with the DataFrame I just created.\n",
    "    - Merge on the variable \"Jim Davis.\"\n",
    "    - When there are overlapping columns, give the one on in the \"right\" DataFrame the suffix \"_mean\"\n",
    "    - The above option is because \"Y\" is in both DataFrames."
   ]
  },
  {
   "cell_type": "code",
   "execution_count": 106,
   "metadata": {
    "slideshow": {
     "slide_type": "-"
    }
   },
   "outputs": [
    {
     "data": {
      "text/html": [
       "<div>\n",
       "<style scoped>\n",
       "    .dataframe tbody tr th:only-of-type {\n",
       "        vertical-align: middle;\n",
       "    }\n",
       "\n",
       "    .dataframe tbody tr th {\n",
       "        vertical-align: top;\n",
       "    }\n",
       "\n",
       "    .dataframe thead th {\n",
       "        text-align: right;\n",
       "    }\n",
       "</style>\n",
       "<table border=\"1\" class=\"dataframe\">\n",
       "  <thead>\n",
       "    <tr style=\"text-align: right;\">\n",
       "      <th></th>\n",
       "      <th>X</th>\n",
       "      <th>Y</th>\n",
       "      <th>D_X_neg</th>\n",
       "      <th>Z</th>\n",
       "      <th>Z_stdized_g</th>\n",
       "      <th>Jim Davis</th>\n",
       "      <th>Y_mean</th>\n",
       "    </tr>\n",
       "  </thead>\n",
       "  <tbody>\n",
       "    <tr>\n",
       "      <th>0</th>\n",
       "      <td>all Garfield</td>\n",
       "      <td>1.217099</td>\n",
       "      <td>False</td>\n",
       "      <td>5.29584</td>\n",
       "      <td>1.494195</td>\n",
       "      <td>False</td>\n",
       "      <td>0.374034</td>\n",
       "    </tr>\n",
       "    <tr>\n",
       "      <th>1</th>\n",
       "      <td>all Garfield</td>\n",
       "      <td>-0.268869</td>\n",
       "      <td>True</td>\n",
       "      <td>5.37462</td>\n",
       "      <td>1.810738</td>\n",
       "      <td>False</td>\n",
       "      <td>0.374034</td>\n",
       "    </tr>\n",
       "    <tr>\n",
       "      <th>2</th>\n",
       "      <td>all Garfield</td>\n",
       "      <td>-3.587676</td>\n",
       "      <td>True</td>\n",
       "      <td>Jim Davis</td>\n",
       "      <td>-0.828647</td>\n",
       "      <td>True</td>\n",
       "      <td>-2.123859</td>\n",
       "    </tr>\n",
       "    <tr>\n",
       "      <th>3</th>\n",
       "      <td>all Garfield</td>\n",
       "      <td>0.173871</td>\n",
       "      <td>False</td>\n",
       "      <td>5.23875</td>\n",
       "      <td>1.209160</td>\n",
       "      <td>False</td>\n",
       "      <td>0.374034</td>\n",
       "    </tr>\n",
       "    <tr>\n",
       "      <th>4</th>\n",
       "      <td>all Garfield</td>\n",
       "      <td>-0.660043</td>\n",
       "      <td>True</td>\n",
       "      <td>Jim Davis</td>\n",
       "      <td>1.937817</td>\n",
       "      <td>True</td>\n",
       "      <td>-2.123859</td>\n",
       "    </tr>\n",
       "  </tbody>\n",
       "</table>\n",
       "</div>"
      ],
      "text/plain": [
       "              X         Y  D_X_neg          Z  Z_stdized_g  Jim Davis  \\\n",
       "0  all Garfield  1.217099    False    5.29584     1.494195      False   \n",
       "1  all Garfield -0.268869     True    5.37462     1.810738      False   \n",
       "2  all Garfield -3.587676     True  Jim Davis    -0.828647       True   \n",
       "3  all Garfield  0.173871    False    5.23875     1.209160      False   \n",
       "4  all Garfield -0.660043     True  Jim Davis     1.937817       True   \n",
       "\n",
       "     Y_mean  \n",
       "0  0.374034  \n",
       "1  0.374034  \n",
       "2 -2.123859  \n",
       "3  0.374034  \n",
       "4 -2.123859  "
      ]
     },
     "execution_count": 106,
     "metadata": {},
     "output_type": "execute_result"
    }
   ],
   "source": [
    "df.merge(Y_means,on=\"Jim Davis\",how=\"left\",suffixes=(\"\",\"_mean\"))"
   ]
  },
  {
   "cell_type": "markdown",
   "metadata": {
    "slideshow": {
     "slide_type": "slide"
    }
   },
   "source": [
    "Another useful argument for `pd.merge()` is `indicator=\"string\"`, which creates something like the Stata `_merge` variable."
   ]
  },
  {
   "cell_type": "code",
   "execution_count": 107,
   "metadata": {
    "slideshow": {
     "slide_type": "-"
    }
   },
   "outputs": [
    {
     "data": {
      "text/plain": [
       "0    both\n",
       "1    both\n",
       "2    both\n",
       "3    both\n",
       "4    both\n",
       "Name: i, dtype: category\n",
       "Categories (3, object): [left_only, right_only, both]"
      ]
     },
     "execution_count": 107,
     "metadata": {},
     "output_type": "execute_result"
    }
   ],
   "source": [
    "df.merge(Y_means,on=\"Jim Davis\",how=\"left\",suffixes=(\"\",\"_mean\"),indicator=\"i\")['i']"
   ]
  },
  {
   "cell_type": "markdown",
   "metadata": {
    "slideshow": {
     "slide_type": "-"
    }
   },
   "source": [
    "Labeled \"both\" because the values of `Jim Davis` are found in both DataFrames. If we had something else it would mess up:"
   ]
  },
  {
   "cell_type": "code",
   "execution_count": 108,
   "metadata": {
    "slideshow": {
     "slide_type": "slide"
    }
   },
   "outputs": [],
   "source": [
    "df.loc[df.Y>1,\"Jim Davis\"] = \"Not Jim Davis\""
   ]
  },
  {
   "cell_type": "code",
   "execution_count": 109,
   "metadata": {
    "slideshow": {
     "slide_type": "-"
    }
   },
   "outputs": [
    {
     "data": {
      "text/html": [
       "<div>\n",
       "<style scoped>\n",
       "    .dataframe tbody tr th:only-of-type {\n",
       "        vertical-align: middle;\n",
       "    }\n",
       "\n",
       "    .dataframe tbody tr th {\n",
       "        vertical-align: top;\n",
       "    }\n",
       "\n",
       "    .dataframe thead th {\n",
       "        text-align: right;\n",
       "    }\n",
       "</style>\n",
       "<table border=\"1\" class=\"dataframe\">\n",
       "  <thead>\n",
       "    <tr style=\"text-align: right;\">\n",
       "      <th></th>\n",
       "      <th>X</th>\n",
       "      <th>Y</th>\n",
       "      <th>D_X_neg</th>\n",
       "      <th>Z</th>\n",
       "      <th>Z_stdized_g</th>\n",
       "      <th>Jim Davis</th>\n",
       "    </tr>\n",
       "  </thead>\n",
       "  <tbody>\n",
       "    <tr>\n",
       "      <th>0</th>\n",
       "      <td>all Garfield</td>\n",
       "      <td>1.217099</td>\n",
       "      <td>False</td>\n",
       "      <td>5.29584</td>\n",
       "      <td>1.494195</td>\n",
       "      <td>Not Jim Davis</td>\n",
       "    </tr>\n",
       "    <tr>\n",
       "      <th>1</th>\n",
       "      <td>all Garfield</td>\n",
       "      <td>-0.268869</td>\n",
       "      <td>True</td>\n",
       "      <td>5.37462</td>\n",
       "      <td>1.810738</td>\n",
       "      <td>False</td>\n",
       "    </tr>\n",
       "    <tr>\n",
       "      <th>2</th>\n",
       "      <td>all Garfield</td>\n",
       "      <td>-3.587676</td>\n",
       "      <td>True</td>\n",
       "      <td>Jim Davis</td>\n",
       "      <td>-0.828647</td>\n",
       "      <td>True</td>\n",
       "    </tr>\n",
       "    <tr>\n",
       "      <th>3</th>\n",
       "      <td>all Garfield</td>\n",
       "      <td>0.173871</td>\n",
       "      <td>False</td>\n",
       "      <td>5.23875</td>\n",
       "      <td>1.209160</td>\n",
       "      <td>False</td>\n",
       "    </tr>\n",
       "    <tr>\n",
       "      <th>4</th>\n",
       "      <td>all Garfield</td>\n",
       "      <td>-0.660043</td>\n",
       "      <td>True</td>\n",
       "      <td>Jim Davis</td>\n",
       "      <td>1.937817</td>\n",
       "      <td>True</td>\n",
       "    </tr>\n",
       "  </tbody>\n",
       "</table>\n",
       "</div>"
      ],
      "text/plain": [
       "              X         Y  D_X_neg          Z  Z_stdized_g      Jim Davis\n",
       "0  all Garfield  1.217099    False    5.29584     1.494195  Not Jim Davis\n",
       "1  all Garfield -0.268869     True    5.37462     1.810738          False\n",
       "2  all Garfield -3.587676     True  Jim Davis    -0.828647           True\n",
       "3  all Garfield  0.173871    False    5.23875     1.209160          False\n",
       "4  all Garfield -0.660043     True  Jim Davis     1.937817           True"
      ]
     },
     "execution_count": 109,
     "metadata": {},
     "output_type": "execute_result"
    }
   ],
   "source": [
    "df"
   ]
  },
  {
   "cell_type": "code",
   "execution_count": 112,
   "metadata": {
    "slideshow": {
     "slide_type": "slide"
    }
   },
   "outputs": [
    {
     "data": {
      "text/html": [
       "<div>\n",
       "<style scoped>\n",
       "    .dataframe tbody tr th:only-of-type {\n",
       "        vertical-align: middle;\n",
       "    }\n",
       "\n",
       "    .dataframe tbody tr th {\n",
       "        vertical-align: top;\n",
       "    }\n",
       "\n",
       "    .dataframe thead th {\n",
       "        text-align: right;\n",
       "    }\n",
       "</style>\n",
       "<table border=\"1\" class=\"dataframe\">\n",
       "  <thead>\n",
       "    <tr style=\"text-align: right;\">\n",
       "      <th></th>\n",
       "      <th>X</th>\n",
       "      <th>Y</th>\n",
       "      <th>D_X_neg</th>\n",
       "      <th>Z</th>\n",
       "      <th>Z_stdized_g</th>\n",
       "      <th>Jim Davis</th>\n",
       "      <th>Y_mean</th>\n",
       "      <th>_merge</th>\n",
       "    </tr>\n",
       "  </thead>\n",
       "  <tbody>\n",
       "    <tr>\n",
       "      <th>0</th>\n",
       "      <td>all Garfield</td>\n",
       "      <td>1.217099</td>\n",
       "      <td>False</td>\n",
       "      <td>5.29584</td>\n",
       "      <td>1.494195</td>\n",
       "      <td>Not Jim Davis</td>\n",
       "      <td>NaN</td>\n",
       "      <td>left_only</td>\n",
       "    </tr>\n",
       "    <tr>\n",
       "      <th>1</th>\n",
       "      <td>all Garfield</td>\n",
       "      <td>-0.268869</td>\n",
       "      <td>True</td>\n",
       "      <td>5.37462</td>\n",
       "      <td>1.810738</td>\n",
       "      <td>False</td>\n",
       "      <td>0.374034</td>\n",
       "      <td>both</td>\n",
       "    </tr>\n",
       "    <tr>\n",
       "      <th>2</th>\n",
       "      <td>all Garfield</td>\n",
       "      <td>-3.587676</td>\n",
       "      <td>True</td>\n",
       "      <td>Jim Davis</td>\n",
       "      <td>-0.828647</td>\n",
       "      <td>True</td>\n",
       "      <td>-2.123859</td>\n",
       "      <td>both</td>\n",
       "    </tr>\n",
       "    <tr>\n",
       "      <th>3</th>\n",
       "      <td>all Garfield</td>\n",
       "      <td>0.173871</td>\n",
       "      <td>False</td>\n",
       "      <td>5.23875</td>\n",
       "      <td>1.209160</td>\n",
       "      <td>False</td>\n",
       "      <td>0.374034</td>\n",
       "      <td>both</td>\n",
       "    </tr>\n",
       "    <tr>\n",
       "      <th>4</th>\n",
       "      <td>all Garfield</td>\n",
       "      <td>-0.660043</td>\n",
       "      <td>True</td>\n",
       "      <td>Jim Davis</td>\n",
       "      <td>1.937817</td>\n",
       "      <td>True</td>\n",
       "      <td>-2.123859</td>\n",
       "      <td>both</td>\n",
       "    </tr>\n",
       "  </tbody>\n",
       "</table>\n",
       "</div>"
      ],
      "text/plain": [
       "              X         Y  D_X_neg          Z  Z_stdized_g      Jim Davis  \\\n",
       "0  all Garfield  1.217099    False    5.29584     1.494195  Not Jim Davis   \n",
       "1  all Garfield -0.268869     True    5.37462     1.810738          False   \n",
       "2  all Garfield -3.587676     True  Jim Davis    -0.828647           True   \n",
       "3  all Garfield  0.173871    False    5.23875     1.209160          False   \n",
       "4  all Garfield -0.660043     True  Jim Davis     1.937817           True   \n",
       "\n",
       "     Y_mean     _merge  \n",
       "0       NaN  left_only  \n",
       "1  0.374034       both  \n",
       "2 -2.123859       both  \n",
       "3  0.374034       both  \n",
       "4 -2.123859       both  "
      ]
     },
     "execution_count": 112,
     "metadata": {},
     "output_type": "execute_result"
    }
   ],
   "source": [
    "df.merge(Y_means,on=\"Jim Davis\",how=\"left\",suffixes=(\"\",\"_mean\"),indicator=\"_merge\")"
   ]
  },
  {
   "cell_type": "markdown",
   "metadata": {
    "slideshow": {
     "slide_type": "slide"
    }
   },
   "source": [
    "### Reading data in to Pandas.\n",
    "In addition to converting from dictionaries and arrays, Pandas reads from almost every file format.\n",
    "- `pd.read_csv` for .csv files.\n",
    "- `pd.read_html` for .html files (we will use this when doing scraping).\n",
    "- `pd.read_stata` for Stata data files.\n",
    "- `pd.read_json` for .json files (we will use this when retreiving API data)."
   ]
  },
  {
   "cell_type": "markdown",
   "metadata": {
    "slideshow": {
     "slide_type": "slide"
    }
   },
   "source": [
    "### Pandas vs. Stata\n",
    "- In Stata, there is __only one dataframe in memory at a time__. In Pandas these are objects and there can be as many in memory as you can hold.\n",
    "- Everything you do in Stata is \"in place.\" In Pandas this will __only happen if you specify it__.\n",
    "- When merging or joining, Pandas needs both DataFrames read into memory; this can be an issue if they are very big and requires you to use \"chunking\" or other work arounds.\n",
    "\n",
    "For other questions comparing pandas and Stata, I recommend consulting [this link](http://www.danielmsullivan.com/pages/tutorial_stata_to_python.html)\n",
    "\n",
    "If you want to compare to R, [consult this link](https://towardsdatascience.com/cheat-sheet-for-python-dataframe-r-dataframe-syntax-conversions-450f656b44ca)"
   ]
  }
 ],
 "metadata": {
  "celltoolbar": "Slideshow",
  "kernelspec": {
   "display_name": "Python 3",
   "language": "python",
   "name": "python3"
  },
  "language_info": {
   "codemirror_mode": {
    "name": "ipython",
    "version": 3
   },
   "file_extension": ".py",
   "mimetype": "text/x-python",
   "name": "python",
   "nbconvert_exporter": "python",
   "pygments_lexer": "ipython3",
   "version": "3.8.3"
  },
  "rise": {
   "transition": "none"
  }
 },
 "nbformat": 4,
 "nbformat_minor": 4
}
