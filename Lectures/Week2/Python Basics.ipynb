{
 "cells": [
  {
   "cell_type": "markdown",
   "metadata": {
    "slideshow": {
     "slide_type": "slide"
    }
   },
   "source": [
    "### Objective: Let's make a LinearRegression object!\n",
    "\n",
    "Needs:\n",
    "- inputs\n",
    "- methods\n",
    "- a class to wrap it all together!\n"
   ]
  },
  {
   "cell_type": "markdown",
   "metadata": {
    "slideshow": {
     "slide_type": "slide"
    }
   },
   "source": [
    "First, lets demonstrate what data objects there are."
   ]
  },
  {
   "cell_type": "code",
   "execution_count": 1,
   "metadata": {
    "slideshow": {
     "slide_type": "-"
    }
   },
   "outputs": [],
   "source": [
    "obj_str = \"2\"\n",
    "obj_int = 2\n",
    "obj_float = 2.0\n",
    "obj_bool = 2>1"
   ]
  },
  {
   "cell_type": "markdown",
   "metadata": {
    "slideshow": {
     "slide_type": "slide"
    }
   },
   "source": [
    "Here's what the types look like."
   ]
  },
  {
   "cell_type": "code",
   "execution_count": 4,
   "metadata": {
    "slideshow": {
     "slide_type": "-"
    }
   },
   "outputs": [
    {
     "name": "stdout",
     "output_type": "stream",
     "text": [
      "<class 'str'>\n",
      "<class 'int'>\n",
      "<class 'float'>\n",
      "<class 'bool'>\n"
     ]
    }
   ],
   "source": [
    "obj_list = [obj_str,obj_int,obj_float,obj_bool]\n",
    "\n",
    "for object in obj_list:\n",
    "    print(type(object))"
   ]
  },
  {
   "cell_type": "markdown",
   "metadata": {
    "slideshow": {
     "slide_type": "slide"
    }
   },
   "source": [
    "### Numeric objects:\n",
    "Integers and floats obey the usual math operations:"
   ]
  },
  {
   "cell_type": "code",
   "execution_count": 5,
   "metadata": {
    "slideshow": {
     "slide_type": "-"
    }
   },
   "outputs": [
    {
     "data": {
      "text/plain": [
       "(6, 4, 8.0)"
      ]
     },
     "execution_count": 5,
     "metadata": {},
     "output_type": "execute_result"
    }
   ],
   "source": [
    "obj_int*3,\\\n",
    "obj_int +2,\\\n",
    "obj_float**3"
   ]
  },
  {
   "cell_type": "markdown",
   "metadata": {
    "slideshow": {
     "slide_type": "slide"
    }
   },
   "source": [
    "Notice the difference above between the float and integer. Python will say they are the same thing:"
   ]
  },
  {
   "cell_type": "code",
   "execution_count": 6,
   "metadata": {
    "slideshow": {
     "slide_type": "-"
    }
   },
   "outputs": [
    {
     "data": {
      "text/plain": [
       "True"
      ]
     },
     "execution_count": 6,
     "metadata": {},
     "output_type": "execute_result"
    }
   ],
   "source": [
    "obj_int==obj_float"
   ]
  },
  {
   "cell_type": "markdown",
   "metadata": {
    "slideshow": {
     "slide_type": "-"
    }
   },
   "source": [
    "but if you add them then it will become a float:"
   ]
  },
  {
   "cell_type": "code",
   "execution_count": 7,
   "metadata": {
    "slideshow": {
     "slide_type": "-"
    }
   },
   "outputs": [
    {
     "data": {
      "text/plain": [
       "4.0"
      ]
     },
     "execution_count": 7,
     "metadata": {},
     "output_type": "execute_result"
    }
   ],
   "source": [
    "obj_int + obj_float"
   ]
  },
  {
   "cell_type": "markdown",
   "metadata": {
    "slideshow": {
     "slide_type": "slide"
    }
   },
   "source": [
    "__Notice:__ In most languages, you must __declare__ variable types. __Python automatically did this__ on the fly.\n",
    "\n",
    "This makes it easy to define objects, but also can be a pain if Python infers the wrong thing.\n",
    "\n",
    "As long as you remember how Python does it, it can be quite useful. If you forget, it can lead to big problems. If you throw an error it will remind you of your mistake, but the worst mistakes are __ones you don't know you are making__.\n",
    "\n",
    "__Make sure you know what each thing is supposed to be!__"
   ]
  },
  {
   "cell_type": "markdown",
   "metadata": {
    "slideshow": {
     "slide_type": "slide"
    }
   },
   "source": [
    "### Strings\n",
    "\n",
    "Strings, unlike numeric objects, have \"length.\""
   ]
  },
  {
   "cell_type": "code",
   "execution_count": 8,
   "metadata": {
    "slideshow": {
     "slide_type": "-"
    }
   },
   "outputs": [
    {
     "data": {
      "text/plain": [
       "1"
      ]
     },
     "execution_count": 8,
     "metadata": {},
     "output_type": "execute_result"
    }
   ],
   "source": [
    "len(obj_str)"
   ]
  },
  {
   "cell_type": "code",
   "execution_count": 9,
   "metadata": {
    "slideshow": {
     "slide_type": "-"
    }
   },
   "outputs": [
    {
     "ename": "TypeError",
     "evalue": "object of type 'int' has no len()",
     "output_type": "error",
     "traceback": [
      "\u001b[1;31m---------------------------------------------------------------------------\u001b[0m",
      "\u001b[1;31mTypeError\u001b[0m                                 Traceback (most recent call last)",
      "\u001b[1;32m<ipython-input-9-8a2188fb6691>\u001b[0m in \u001b[0;36m<module>\u001b[1;34m\u001b[0m\n\u001b[1;32m----> 1\u001b[1;33m \u001b[0mlen\u001b[0m\u001b[1;33m(\u001b[0m\u001b[0mobj_int\u001b[0m\u001b[1;33m)\u001b[0m\u001b[1;33m\u001b[0m\u001b[1;33m\u001b[0m\u001b[0m\n\u001b[0m",
      "\u001b[1;31mTypeError\u001b[0m: object of type 'int' has no len()"
     ]
    }
   ],
   "source": [
    "len(obj_int)"
   ]
  },
  {
   "cell_type": "markdown",
   "metadata": {
    "slideshow": {
     "slide_type": "-"
    }
   },
   "source": [
    "Above I tried to call a function on an \"int\" object, but this object does not have length."
   ]
  },
  {
   "cell_type": "markdown",
   "metadata": {
    "slideshow": {
     "slide_type": "slide"
    }
   },
   "source": [
    "Here I can call \"len()\" on a string and it gives me the number of characters."
   ]
  },
  {
   "cell_type": "code",
   "execution_count": 10,
   "metadata": {
    "slideshow": {
     "slide_type": "-"
    }
   },
   "outputs": [
    {
     "data": {
      "text/plain": [
       "23"
      ]
     },
     "execution_count": 10,
     "metadata": {},
     "output_type": "execute_result"
    }
   ],
   "source": [
    "example_string = \"Do Re Mi Fa So La Ti Do\"\n",
    "len(example_string)"
   ]
  },
  {
   "cell_type": "markdown",
   "metadata": {
    "slideshow": {
     "slide_type": "slide"
    }
   },
   "source": [
    "Like other languages, I can \"index\" strings."
   ]
  },
  {
   "cell_type": "code",
   "execution_count": 26,
   "metadata": {
    "slideshow": {
     "slide_type": "-"
    }
   },
   "outputs": [
    {
     "data": {
      "text/plain": [
       "('R', 'Do ', 'D iT aL oS aF iM eR oD', 'Do Re Mi Fa So La Ti')"
      ]
     },
     "execution_count": 26,
     "metadata": {},
     "output_type": "execute_result"
    }
   ],
   "source": [
    "example_string[3], \\\n",
    "example_string[:3], \\\n",
    "example_string[-2::-1],\\\n",
    "example_string[:-3],"
   ]
  },
  {
   "cell_type": "markdown",
   "metadata": {
    "slideshow": {
     "slide_type": "-"
    }
   },
   "source": [
    "__Important:__ Python indexes from __zero__ not one, so the first element M is \"example_string[0]\"\n",
    "\n",
    "__Question: What do you think the third one did?__\n",
    "\n",
    "Note that in the last one I used \"negative indexing\"; I told it to give me up to the last two elements. This is handy for when you do not know how long the string is."
   ]
  },
  {
   "cell_type": "markdown",
   "metadata": {
    "slideshow": {
     "slide_type": "slide"
    }
   },
   "source": [
    "Weirdly, you can apply some \"math\" operations to strings in Python to do different things:\n",
    "- Use \"+\" will \"concatenate\"\n",
    "- Use \"*\" will duplicate."
   ]
  },
  {
   "cell_type": "code",
   "execution_count": 29,
   "metadata": {
    "slideshow": {
     "slide_type": "-"
    }
   },
   "outputs": [
    {
     "data": {
      "text/plain": [
       "('23 dog', '2222222222')"
      ]
     },
     "execution_count": 29,
     "metadata": {},
     "output_type": "execute_result"
    }
   ],
   "source": [
    "obj_str+\"3 dog\" , obj_str*10 "
   ]
  },
  {
   "cell_type": "markdown",
   "metadata": {
    "slideshow": {
     "slide_type": "slide"
    }
   },
   "source": [
    "### Booleans\n",
    "These are essentially binary objects: True or False.\n",
    "\n",
    "Handy when using functions if you only want something to happen if a condition is met.\n",
    "\n",
    "For example, here's a \"while loop\" that trims a string until its 3 characters long:"
   ]
  },
  {
   "cell_type": "code",
   "execution_count": 34,
   "metadata": {
    "scrolled": true,
    "slideshow": {
     "slide_type": "slide"
    }
   },
   "outputs": [
    {
     "name": "stdout",
     "output_type": "stream",
     "text": [
      "Do Re Mi Fa So La Ti D\n",
      "Do Re Mi Fa So La Ti \n",
      "Do Re Mi Fa So La Ti\n",
      "Do Re Mi Fa So La T\n",
      "Do Re Mi Fa So La \n",
      "Do Re Mi Fa So La\n",
      "Do Re Mi Fa So L\n",
      "Do Re Mi Fa So \n",
      "Do Re Mi Fa So\n",
      "Do Re Mi Fa S\n",
      "Do Re Mi Fa \n",
      "Do Re Mi Fa\n",
      "Do Re Mi F\n",
      "Do Re Mi \n",
      "Do Re Mi\n",
      "Do Re M\n",
      "Do Re \n",
      "Do Re\n",
      "Do R\n",
      "Do \n"
     ]
    },
    {
     "data": {
      "text/plain": [
       "'Do '"
      ]
     },
     "execution_count": 34,
     "metadata": {},
     "output_type": "execute_result"
    }
   ],
   "source": [
    "while len(example_string)>3:\n",
    "    example_string = example_string[:-1]\n",
    "    print(example_string)\n",
    "    \n",
    "example_string"
   ]
  },
  {
   "cell_type": "markdown",
   "metadata": {
    "slideshow": {
     "slide_type": "slide"
    }
   },
   "source": [
    "What did this just do?\n",
    "- I just re-assigned the object \"example_string\" each time with a version of it without the last character.\n",
    "\n",
    "But the \"condition\" is actually an object itself:"
   ]
  },
  {
   "cell_type": "code",
   "execution_count": 35,
   "metadata": {
    "slideshow": {
     "slide_type": "-"
    }
   },
   "outputs": [
    {
     "data": {
      "text/plain": [
       "False"
      ]
     },
     "execution_count": 35,
     "metadata": {},
     "output_type": "execute_result"
    }
   ],
   "source": [
    "is_it_more_than_three = len(example_string)>3\n",
    "is_it_more_than_three"
   ]
  },
  {
   "cell_type": "markdown",
   "metadata": {
    "slideshow": {
     "slide_type": "slide"
    }
   },
   "source": [
    "Weird little handy thing: if you interact them with numeric objects, they become binary (zero or one) numeric objects."
   ]
  },
  {
   "cell_type": "code",
   "execution_count": 36,
   "metadata": {
    "slideshow": {
     "slide_type": "-"
    }
   },
   "outputs": [
    {
     "data": {
      "text/plain": [
       "(5, 0)"
      ]
     },
     "execution_count": 36,
     "metadata": {},
     "output_type": "execute_result"
    }
   ],
   "source": [
    "is_it_more_than_three + 5,\\\n",
    "is_it_more_than_three*2"
   ]
  },
  {
   "cell_type": "code",
   "execution_count": 37,
   "metadata": {
    "slideshow": {
     "slide_type": "-"
    }
   },
   "outputs": [
    {
     "ename": "ZeroDivisionError",
     "evalue": "division by zero",
     "output_type": "error",
     "traceback": [
      "\u001b[1;31m---------------------------------------------------------------------------\u001b[0m",
      "\u001b[1;31mZeroDivisionError\u001b[0m                         Traceback (most recent call last)",
      "\u001b[1;32m<ipython-input-37-131eca24acd1>\u001b[0m in \u001b[0;36m<module>\u001b[1;34m\u001b[0m\n\u001b[1;32m----> 1\u001b[1;33m \u001b[1;36m1\u001b[0m\u001b[1;33m/\u001b[0m\u001b[0mis_it_more_than_three\u001b[0m\u001b[1;33m\u001b[0m\u001b[1;33m\u001b[0m\u001b[0m\n\u001b[0m",
      "\u001b[1;31mZeroDivisionError\u001b[0m: division by zero"
     ]
    }
   ],
   "source": [
    "1/is_it_more_than_three"
   ]
  },
  {
   "cell_type": "markdown",
   "metadata": {
    "slideshow": {
     "slide_type": "slide"
    }
   },
   "source": [
    "### Lists and Dictionaries\n",
    "- First one is an __ordered__ array.\n",
    "- The second one is an __unordered__ mapping."
   ]
  },
  {
   "cell_type": "code",
   "execution_count": 38,
   "metadata": {
    "slideshow": {
     "slide_type": "-"
    }
   },
   "outputs": [
    {
     "data": {
      "text/plain": [
       "['2', 2, 2.0, True]"
      ]
     },
     "execution_count": 38,
     "metadata": {},
     "output_type": "execute_result"
    }
   ],
   "source": [
    "obj_list"
   ]
  },
  {
   "cell_type": "code",
   "execution_count": 39,
   "metadata": {
    "slideshow": {
     "slide_type": "-"
    }
   },
   "outputs": [
    {
     "data": {
      "text/plain": [
       "2.0"
      ]
     },
     "execution_count": 39,
     "metadata": {},
     "output_type": "execute_result"
    }
   ],
   "source": [
    "obj_list[2]"
   ]
  },
  {
   "cell_type": "markdown",
   "metadata": {
    "slideshow": {
     "slide_type": "-"
    }
   },
   "source": [
    "The third object (index 2) is __always__ the float."
   ]
  },
  {
   "cell_type": "markdown",
   "metadata": {
    "slideshow": {
     "slide_type": "slide"
    }
   },
   "source": [
    "A dictionary is not ordered, but the mapping keeps relationships between objects consistently."
   ]
  },
  {
   "cell_type": "code",
   "execution_count": 44,
   "metadata": {
    "slideshow": {
     "slide_type": "-"
    }
   },
   "outputs": [],
   "source": [
    "obj_dict = {\"string\":obj_str,\"integer\":obj_int,\"float\":obj_float,\"boolean\":obj_bool,2:\"integer\",\"bool\":True}"
   ]
  },
  {
   "cell_type": "code",
   "execution_count": 45,
   "metadata": {
    "slideshow": {
     "slide_type": "-"
    }
   },
   "outputs": [
    {
     "name": "stdout",
     "output_type": "stream",
     "text": [
      "yay!\n"
     ]
    }
   ],
   "source": [
    "if obj_dict[\"bool\"]:\n",
    "    print(\"yay!\")"
   ]
  },
  {
   "cell_type": "markdown",
   "metadata": {
    "slideshow": {
     "slide_type": "-"
    }
   },
   "source": [
    "So passing the string \"float\" retrieves whatever the dictionary relates to \"float.\"\n",
    "\n",
    "This is how you \"look things up\" in the dictionary."
   ]
  },
  {
   "cell_type": "markdown",
   "metadata": {
    "slideshow": {
     "slide_type": "slide"
    }
   },
   "source": [
    "### Another dictionary example:\n",
    "\n",
    "Suppose you had data about three individuals. For each individual, you have a description and some anthropometric data. How do you represent all of this data in one python object?\n",
    "\n",
    "A common way is using a __nested dictionary__:"
   ]
  },
  {
   "cell_type": "code",
   "execution_count": 46,
   "metadata": {
    "slideshow": {
     "slide_type": "slide"
    }
   },
   "outputs": [],
   "source": [
    "Babies = {\"Bart Harley Jarvis\":{\n",
    "                \"Description\" : \"Underbite, flat back of the head\",\n",
    "                \"Weight Percentile\" : 50,\n",
    "                \"Height Percentile\" : 80 },\n",
    "          \"Michael Patrick Porkins\":{\n",
    "                \"Description\" : \"Button nose, apple cheeks\",\n",
    "                \"Weight Percentile\" : 99,\n",
    "                \"Height Percentile\" : 10},\n",
    "          \"Taffy Lee Fubbins\" : {\n",
    "                \"Description\" : \"Tuna can\",\n",
    "                \"Weight Percentile\" : 90,\n",
    "                \"Height Percentile\" : 10}}"
   ]
  },
  {
   "cell_type": "markdown",
   "metadata": {
    "slideshow": {
     "slide_type": "slide"
    }
   },
   "source": [
    "The `.keys()` method accesses the first layer:"
   ]
  },
  {
   "cell_type": "code",
   "execution_count": 51,
   "metadata": {
    "slideshow": {
     "slide_type": "-"
    }
   },
   "outputs": [
    {
     "data": {
      "text/plain": [
       "dict_keys(['Bart Harley Jarvis', 'Michael Patrick Porkins', 'Taffy Lee Fubbins'])"
      ]
     },
     "execution_count": 51,
     "metadata": {},
     "output_type": "execute_result"
    }
   ],
   "source": [
    "Babies.keys()"
   ]
  },
  {
   "cell_type": "markdown",
   "metadata": {
    "slideshow": {
     "slide_type": "-"
    }
   },
   "source": [
    "And we can use those keys to access the next dictionary level:"
   ]
  },
  {
   "cell_type": "code",
   "execution_count": 52,
   "metadata": {
    "slideshow": {
     "slide_type": "slide"
    }
   },
   "outputs": [
    {
     "data": {
      "text/plain": [
       "{'Description': 'Underbite, flat back of the head',\n",
       " 'Weight Percentile': 50,\n",
       " 'Height Percentile': 80}"
      ]
     },
     "execution_count": 52,
     "metadata": {},
     "output_type": "execute_result"
    }
   ],
   "source": [
    "Babies['Bart Harley Jarvis']"
   ]
  },
  {
   "cell_type": "code",
   "execution_count": 53,
   "metadata": {
    "slideshow": {
     "slide_type": "-"
    }
   },
   "outputs": [
    {
     "data": {
      "text/plain": [
       "80"
      ]
     },
     "execution_count": 53,
     "metadata": {},
     "output_type": "execute_result"
    }
   ],
   "source": [
    "Babies['Bart Harley Jarvis']['Height Percentile']"
   ]
  },
  {
   "cell_type": "markdown",
   "metadata": {
    "slideshow": {
     "slide_type": "-"
    }
   },
   "source": [
    "This kind of data hierarchy is common in __json files__, which is a common way to store data."
   ]
  },
  {
   "cell_type": "markdown",
   "metadata": {
    "slideshow": {
     "slide_type": "slide"
    }
   },
   "source": [
    "### Towards Data\n",
    "\n",
    "Dictionaries can refer not just to individual objects but to lists.\n",
    "\n",
    "To get to our linear regression example, let's assume that we have two lists of data $x$ and $y$.\n",
    "\n",
    "How do we calculate the linear regression parameter $\\beta$ in the equation $y = \\beta x$?"
   ]
  },
  {
   "cell_type": "markdown",
   "metadata": {
    "slideshow": {
     "slide_type": "slide"
    }
   },
   "source": [
    "The estimator for OLS is that we find the value of $\\beta$ that minimizes this function:\n",
    "$$ SSE(\\beta) = \\sum_i (y_i - \\beta x_i)^2 $$\n",
    "Now we will:\n",
    "1. Write a function that does that.\n",
    "2. Write a class that combines everything together!"
   ]
  },
  {
   "cell_type": "code",
   "execution_count": 54,
   "metadata": {
    "slideshow": {
     "slide_type": "slide"
    }
   },
   "outputs": [],
   "source": [
    "x = [ 0.72238169,  0.81319053,  1.02818518, -0.13406947, -0.32687184,\n",
    "       -0.8436763 , -0.11656874,  1.26557628, -1.30864275, -1.11902229]\n",
    "e = [-0.02545513,  0.2013095 ,  0.15369068,  0.77728519,  0.39257324,\n",
    "       -0.04470027, -1.02603586,  0.21550981,  0.23245853, -0.06602041]\n",
    "\n",
    "y = [] # Start an empty list.\n",
    "\n",
    "beta = 2 \n",
    "\n",
    "for i in range(len(x)): # The function \"range\" makes a series of integers from \"0\" to whatever you put in.\n",
    "                        # This is going to go over each index of the lists.\n",
    "    y += [x[i]*beta + e[i]] # += adds whatever is on the right side to the left side.\n",
    "                            # Because they are list objects, it concatenates them."
   ]
  },
  {
   "cell_type": "code",
   "execution_count": 55,
   "metadata": {
    "collapsed": true
   },
   "outputs": [
    {
     "data": {
      "text/plain": [
       "[1.4193082499999998,\n",
       " 1.82769056,\n",
       " 2.21006104,\n",
       " 0.5091462499999999,\n",
       " -0.26117044000000006,\n",
       " -1.7320528700000002,\n",
       " -1.2591733399999998,\n",
       " 2.74666237,\n",
       " -2.3848269699999998,\n",
       " -2.30406499]"
      ]
     },
     "execution_count": 55,
     "metadata": {},
     "output_type": "execute_result"
    }
   ],
   "source": [
    "y"
   ]
  },
  {
   "cell_type": "code",
   "execution_count": 56,
   "metadata": {
    "slideshow": {
     "slide_type": "-"
    }
   },
   "outputs": [],
   "source": [
    "data = {\"y\":y,\"x\":x}"
   ]
  },
  {
   "cell_type": "markdown",
   "metadata": {
    "slideshow": {
     "slide_type": "slide"
    }
   },
   "source": [
    "Now we have data. If we wanted to do a linear regression, we could just try and find which value of $\\beta$ minimizes the sum of squared error between these two variables.\n",
    "\n",
    "First, we need an SSE function:"
   ]
  },
  {
   "cell_type": "code",
   "execution_count": 57,
   "metadata": {
    "slideshow": {
     "slide_type": "-"
    }
   },
   "outputs": [],
   "source": [
    "def sse(beta):\n",
    "    sse = 0\n",
    "    for i in range(len(x)):\n",
    "        sse += (data['y'][i] - beta*data['x'][i])**2\n",
    "    return sse"
   ]
  },
  {
   "cell_type": "code",
   "execution_count": 58,
   "metadata": {
    "slideshow": {
     "slide_type": "-"
    }
   },
   "outputs": [
    {
     "data": {
      "text/plain": [
       "(10.180663510029161, 1.9826681599664406, 9.098506318986834)"
      ]
     },
     "execution_count": 58,
     "metadata": {},
     "output_type": "execute_result"
    }
   ],
   "source": [
    "sse(1),sse(2),sse(3)"
   ]
  },
  {
   "cell_type": "markdown",
   "metadata": {
    "slideshow": {
     "slide_type": "-"
    }
   },
   "source": [
    "Looks like 2 could be the winner..."
   ]
  },
  {
   "cell_type": "markdown",
   "metadata": {
    "slideshow": {
     "slide_type": "slide"
    }
   },
   "source": [
    "### Getting Classy\n",
    "\n",
    "\"Classes\" are the __ultimate__ python object in that they can hold all the above information in one object!"
   ]
  },
  {
   "cell_type": "code",
   "execution_count": 67,
   "metadata": {
    "slideshow": {
     "slide_type": "-"
    }
   },
   "outputs": [],
   "source": [
    "class LinearRegression:\n",
    "    def __init__(self, x,y):\n",
    "        self.indep_var = x\n",
    "        self.dep_var = y\n",
    "    \n",
    "    def sse(self,beta):\n",
    "        sse_val = 0\n",
    "        for i in range(len(self.indep_var)):\n",
    "            sse_val += (self.dep_var[i] - beta*self.indep_var[i])**2\n",
    "        return sse_val\n",
    "    \n",
    "    def estimate(self,betagrid):\n",
    "        sse_vals =[]\n",
    "        for beta in betagrid:\n",
    "            sse_vals += [self.sse(beta)]\n",
    "        \n",
    "        the_min = min(sse_vals)\n",
    "        \n",
    "        for i in range(len(sse_vals)):\n",
    "            if sse_vals[i] == the_min:\n",
    "                return betagrid[i]"
   ]
  },
  {
   "cell_type": "markdown",
   "metadata": {
    "slideshow": {
     "slide_type": "slide"
    }
   },
   "source": [
    "#### The \"__init__\"\n",
    "This \"initializes\" the class. Here we ask it for two arguments, \"x\" and \"y\", and then assign them to two \"attributes\" indep_var and dep_var\n"
   ]
  },
  {
   "cell_type": "code",
   "execution_count": 59,
   "metadata": {
    "slideshow": {
     "slide_type": "-"
    }
   },
   "outputs": [],
   "source": [
    "class LinearRegression:\n",
    "\n",
    "    def __init__(self, x,y):\n",
    "        self.indep_var = x\n",
    "        self.dep_var = y"
   ]
  },
  {
   "cell_type": "code",
   "execution_count": 60,
   "metadata": {
    "slideshow": {
     "slide_type": "-"
    }
   },
   "outputs": [
    {
     "data": {
      "text/plain": [
       "[0.72238169, 0.81319053]"
      ]
     },
     "execution_count": 60,
     "metadata": {},
     "output_type": "execute_result"
    }
   ],
   "source": [
    "lm_obj = LinearRegression(data['x'],data['y'])\n",
    "lm_obj.indep_var[:2]"
   ]
  },
  {
   "cell_type": "markdown",
   "metadata": {
    "slideshow": {
     "slide_type": "slide"
    }
   },
   "source": [
    "#### The method\n",
    "Now we can give it our SSE method. Each function in a class needs to have the argument \"self\" to work, and this stands in for whatever you created in \"init\""
   ]
  },
  {
   "cell_type": "code",
   "execution_count": 62,
   "metadata": {
    "slideshow": {
     "slide_type": "-"
    }
   },
   "outputs": [],
   "source": [
    "class LinearRegression:\n",
    "\n",
    "    def __init__(self, x,y):\n",
    "        self.indep_var = x\n",
    "        self.dep_var = y\n",
    "    \n",
    "    def sse(self,beta):\n",
    "        sse_val = 0\n",
    "        for i in range(len(self.indep_var)):\n",
    "            sse_val += (self.dep_var[i] - beta*self.indep_var[i])**2\n",
    "        return sse_val"
   ]
  },
  {
   "cell_type": "code",
   "execution_count": 63,
   "metadata": {
    "slideshow": {
     "slide_type": "-"
    }
   },
   "outputs": [
    {
     "data": {
      "text/plain": [
       "5.063805348914101"
      ]
     },
     "execution_count": 63,
     "metadata": {},
     "output_type": "execute_result"
    }
   ],
   "source": [
    "lm_obj = LinearRegression(data['x'],data['y'])\n",
    "lm_obj.sse(1.4)"
   ]
  },
  {
   "cell_type": "markdown",
   "metadata": {
    "slideshow": {
     "slide_type": "slide"
    }
   },
   "source": [
    "Finally, let's give it an \"estimate\" method to find the $\\beta$ that makes sse as small as possible."
   ]
  },
  {
   "cell_type": "code",
   "execution_count": null,
   "metadata": {
    "slideshow": {
     "slide_type": "skip"
    }
   },
   "outputs": [],
   "source": [
    "class LinearRegression:\n",
    "    def __init__(self, x,y):\n",
    "        self.indep_var = x\n",
    "        self.dep_var = y\n",
    "    \n",
    "    def sse(self,beta):\n",
    "        sse_val = 0\n",
    "        for i in range(len(self.indep_var)):\n",
    "            sse_val += (self.dep_var[i] - beta*self.indep_var[i])**2\n",
    "        return sse_val\n",
    "    \n",
    "    def estimate(self,betagrid):\n",
    "        sse_vals =[]\n",
    "        for beta in betagrid:\n",
    "            sse_vals += [self.sse(beta)]\n",
    "        \n",
    "        the_min = min(sse_vals)\n",
    "        \n",
    "        for i in range(len(sse_vals)):\n",
    "            if sse_vals[i] == the_min:\n",
    "                return betagrid[i]"
   ]
  },
  {
   "cell_type": "code",
   "execution_count": 65,
   "metadata": {
    "slideshow": {
     "slide_type": "-"
    }
   },
   "outputs": [],
   "source": [
    "    def estimate(self,betagrid):\n",
    "        sse_vals =[]\n",
    "        for beta in betagrid:\n",
    "            sse_vals += [self.sse(beta)]\n",
    "        \n",
    "        the_min = min(sse_vals)\n",
    "        \n",
    "        for i in range(len(sse_vals)):\n",
    "            if sse_vals[i] == the_min:\n",
    "                return betagrid[i]"
   ]
  },
  {
   "cell_type": "code",
   "execution_count": 68,
   "metadata": {
    "slideshow": {
     "slide_type": "slide"
    }
   },
   "outputs": [
    {
     "data": {
      "text/plain": [
       "2"
      ]
     },
     "execution_count": 68,
     "metadata": {},
     "output_type": "execute_result"
    }
   ],
   "source": [
    "lm_obj = LinearRegression(data['x'],data['y'])\n",
    "lm_obj.estimate([0,1,2,3,4])"
   ]
  },
  {
   "cell_type": "markdown",
   "metadata": {},
   "source": [
    "Given that grid, it determined that $\\beta=2$ gives the lowest SSE value.\n",
    "\n",
    "__WE DID IT!__\n"
   ]
  }
 ],
 "metadata": {
  "celltoolbar": "Slideshow",
  "kernelspec": {
   "display_name": "Python 3",
   "language": "python",
   "name": "python3"
  },
  "language_info": {
   "codemirror_mode": {
    "name": "ipython",
    "version": 3
   },
   "file_extension": ".py",
   "mimetype": "text/x-python",
   "name": "python",
   "nbconvert_exporter": "python",
   "pygments_lexer": "ipython3",
   "version": "3.8.3"
  },
  "rise": {
   "transition": "none"
  }
 },
 "nbformat": 4,
 "nbformat_minor": 4
}
