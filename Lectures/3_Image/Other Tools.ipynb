{
 "cells": [
  {
   "cell_type": "markdown",
   "metadata": {
    "slideshow": {
     "slide_type": "slide"
    }
   },
   "source": [
    "## Other Tools for GIS\n",
    "\n",
    "We have barely gone over all the tools we could possibly use in GIS at this point. Here are some things that might be worth looking into:"
   ]
  },
  {
   "cell_type": "markdown",
   "metadata": {
    "slideshow": {
     "slide_type": "slide"
    }
   },
   "source": [
    "### Advanced Topics\n",
    "That we didn't have time for:\n",
    "- Making buffers\n",
    "- Polygonizing rasters\n",
    "- Calculating \"hub distance\"\n",
    "\n",
    "The hope is that with the baseline knowledge you have here you can figure these out on your own."
   ]
  },
  {
   "cell_type": "markdown",
   "metadata": {
    "slideshow": {
     "slide_type": "slide"
    }
   },
   "source": [
    "### Better Plotting Libraries\n",
    "- [plotly](https://plotly.com/python/maps/): very nice and easy to use plotting that can make your geographic plots interactive fairly easily.\n",
    "- [bokeh](https://docs.bokeh.org/en/latest/docs/user_guide/geo.html): similar capabilities to plotly, but not as expansive.\n",
    "\n",
    "Some of these can be deployed to websites to be interactive.\n",
    "\n",
    "__We will return to some of these packages later in the semester__\n",
    "\n"
   ]
  },
  {
   "cell_type": "markdown",
   "metadata": {
    "slideshow": {
     "slide_type": "slide"
    }
   },
   "source": [
    "### Google Maps API\n",
    "Conditional on paying for it, Google Maps has some nice functionality for geolocating or getting directions.\n",
    "\n",
    "It can also calculate things like road distance between points as opposed to straight distance.\n",
    "\n",
    "The problem is that you need to pay for it (though it isn't super expensive)."
   ]
  },
  {
   "cell_type": "markdown",
   "metadata": {
    "slideshow": {
     "slide_type": "slide"
    }
   },
   "source": [
    "### OpenStreetMap\n",
    "The open source version of Google Maps.\n",
    "\n",
    "Has some great functionality for large cities where things are well identified.\n",
    "\n",
    "One of its main features is being able to identify \"amenities\" (restaurants, hospitals, etc.) and also road networks.\n",
    "\n",
    "From my own experience, powerful but it has a steep learning curve."
   ]
  },
  {
   "cell_type": "markdown",
   "metadata": {
    "slideshow": {
     "slide_type": "slide"
    }
   },
   "source": [
    "OpenStreetMap can be accessed using the [Overpass API](https://wiki.openstreetmap.org/wiki/Overpass_API/Language_Guide).\n",
    "\n",
    "One promising way to learn to use this API would be fooling around with [Overpass turbo](https://overpass-turbo.eu/) which can help with construction of queries."
   ]
  }
 ],
 "metadata": {
  "celltoolbar": "Slideshow",
  "kernelspec": {
   "display_name": "Python 3",
   "language": "python",
   "name": "python3"
  },
  "language_info": {
   "codemirror_mode": {
    "name": "ipython",
    "version": 3
   },
   "file_extension": ".py",
   "mimetype": "text/x-python",
   "name": "python",
   "nbconvert_exporter": "python",
   "pygments_lexer": "ipython3",
   "version": "3.8.5"
  }
 },
 "nbformat": 4,
 "nbformat_minor": 4
}
