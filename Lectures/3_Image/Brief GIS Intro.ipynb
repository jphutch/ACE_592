{
 "cells": [
  {
   "cell_type": "markdown",
   "metadata": {
    "slideshow": {
     "slide_type": "slide"
    }
   },
   "source": [
    "# <center> Spatial Data Types </center>\n",
    "\n",
    "## <center> ACE 592 </center>"
   ]
  },
  {
   "cell_type": "markdown",
   "metadata": {
    "slideshow": {
     "slide_type": "slide"
    }
   },
   "source": [
    "## Satelite Images\n",
    "<img src=\"satelite.png\" width=\"600\">\n",
    "\n",
    "Without the text labels, I could just read this in as an image like last class.\n",
    "\n",
    "The issue is, I would be missing information...\n"
   ]
  },
  {
   "cell_type": "markdown",
   "metadata": {
    "slideshow": {
     "slide_type": "slide"
    }
   },
   "source": [
    "__Example__: what if I read in an image from Chicago and one from Champaign? Could I relate them in any way?\n",
    "\n",
    "Numpy arrays are not enough because I need to __reference what I'm seeing with everything else in the world.__\n",
    "\n",
    "How do we solve this \"referencing problem\"? A system! \n",
    "\n",
    "Hence why we have __Coordinate Reference Systems__ (CRS).\n"
   ]
  },
  {
   "cell_type": "markdown",
   "metadata": {
    "slideshow": {
     "slide_type": "slide"
    }
   },
   "source": [
    "## How to Make a Reference System\n",
    "Imagine a world where no maps exist but we have two images of Champaign and Chicago. How would we make a system that allows us to find the distance between them?"
   ]
  },
  {
   "cell_type": "markdown",
   "metadata": {
    "slideshow": {
     "slide_type": "slide"
    }
   },
   "source": [
    "1. Measure the earth.\n",
    "    - We would want to understand the entire planet and what its dimensions are.\n",
    "2. Make a useful approximation of the earth.\n",
    "    - We could mock up a sphere, ellipsoid, or other shape that roughly approximates the earth.\n",
    "3. Project your three-dimensional earth onto a two dimensional surface.\n",
    "    - We use some formula to translate the geographic coordinates to a grid system."
   ]
  },
  {
   "cell_type": "markdown",
   "metadata": {
    "slideshow": {
     "slide_type": "slide"
    }
   },
   "source": [
    "1. Measure the earth.\n",
    "    - Called __geodosy__, the study of the measurement of the earth.\n",
    "2. Make a useful approximation of the earth.\n",
    "    - A three dimensional model results in a __geographic coordinate system__.\n",
    "    - These coordinates are degrees, not distance. A popular measurement is angular distance from a fixed point such as \"latitude\" and \"longitude.\"\n",
    "3. Project your three-dimensional earth onto a two dimensional surface.\n",
    "    - An approximation of 3-dimensions onto 2-dimensions is a __projected coordinate system__."
   ]
  },
  {
   "cell_type": "markdown",
   "metadata": {
    "slideshow": {
     "slide_type": "slide"
    }
   },
   "source": [
    "### Geographic Reference System\n",
    "<center>\n",
    "<img src=\"GRS.png\" width=\"400\">\n",
    "</center>\n",
    "\n",
    "[figure source](https://en.wikipedia.org/wiki/Geographic_coordinate_system#/media/File:ECEF.svg)\n",
    "\n",
    "- With a reference ellipsoid, a coordinate system can simply be angular distance from some reference point.\n"
   ]
  },
  {
   "cell_type": "markdown",
   "metadata": {
    "slideshow": {
     "slide_type": "slide"
    }
   },
   "source": [
    "- __Note__: the Earth is NOT a perfect sphere or ellipsoid. It is instead a lumpy, awkward rock floating through space.\n",
    "- What this means: over large distances a sphere is a good approximation. Over short distances you should get distortions due to the lumpiness of the Earth.\n",
    "- Different reference ellipsoids (called __datums__) can be used for different parts of the earth to correct for this."
   ]
  },
  {
   "cell_type": "markdown",
   "metadata": {
    "slideshow": {
     "slide_type": "slide"
    }
   },
   "source": [
    "<center>\n",
    "<img src=\"GRS_details.png\" width=\"400\">\n",
    "</center>\n",
    "\n",
    "[figure source](https://www.esri.com/arcgis-blog/products/arcgis-pro/mapping/coordinate-systems-difference/)\n",
    "\n",
    "This is the kind of information that goes into a GRS, for example __WGS 1984__ (a very popular one)."
   ]
  },
  {
   "cell_type": "markdown",
   "metadata": {
    "slideshow": {
     "slide_type": "slide"
    }
   },
   "source": [
    "### A way to solve the \"distance problem\"\n",
    "#### Haversine Distance\n",
    "[figure source](https://github.com/DaniilSydorenko/haversine-geolocation)\n",
    "<center>\n",
    "<img src=\"haversine.png\" width=\"400\">\n",
    "</center>\n",
    "\n",
    "- A mathematical approach to calculating distance on a sphere which accepts lat and long.\n",
    "- Assumes a perfect sphere, which works well enough at some distances."
   ]
  },
  {
   "cell_type": "markdown",
   "metadata": {
    "slideshow": {
     "slide_type": "slide"
    }
   },
   "source": [
    "## Projected Reference Systems\n",
    "\n",
    "<center>\n",
    "<img src=\"CRS.png\" width=\"400\">\n",
    "</center>\n",
    "\n",
    "[figure source](https://docs.qgis.org/3.16/en/docs/gentle_gis_introduction/coordinate_reference_systems.html)\n",
    "\n",
    "They are always technically wrong. Three things PRS has to balance:\n",
    "- Angluar conformity\n",
    "- Distance\n",
    "- Area"
   ]
  },
  {
   "cell_type": "markdown",
   "metadata": {
    "slideshow": {
     "slide_type": "slide"
    }
   },
   "source": [
    "### Angular Conformity Preserving\n",
    "The __Mercator Projection__ preserves angles since it was used by Europeans to sail across oceans in the 16th century.\n",
    "<center>\n",
    "<img src=\"mercator.jpg\" width=\"400\">\n",
    "</center>\n"
   ]
  },
  {
   "cell_type": "markdown",
   "metadata": {
    "slideshow": {
     "slide_type": "slide"
    }
   },
   "source": [
    "As a result, it severely distorts the relative sizes of countries that are far away from the equator.\n",
    "\n",
    "<center>\n",
    "<img src=\"mercator-vs-truesize.gif\" width=\"600\">\n",
    "</center>\n"
   ]
  },
  {
   "cell_type": "markdown",
   "metadata": {
    "slideshow": {
     "slide_type": "slide"
    }
   },
   "source": [
    "### Distance Preserving\n",
    "#### Plate-Carree Equidistant Cylindrical\n",
    "\n",
    "This one preserves distances, and has become near universal standard for raster data sets.\n",
    "<center>\n",
    "<img src=\"plateecaree.jpg\" width=\"400\">\n",
    "</center>\n"
   ]
  },
  {
   "cell_type": "markdown",
   "metadata": {
    "slideshow": {
     "slide_type": "slide"
    }
   },
   "source": [
    "### Area Preserving\n",
    "#### Albers Equal Area Conic\n",
    "\n",
    "This one preserves area of objects (important for area calculations and densities). Used by Census Bureau and most Atlas of the US.\n",
    "\n",
    "<center>\n",
    "<img src=\"albers.jpg\" width=\"400\">\n",
    "</center>\n",
    "\n",
    "\n"
   ]
  },
  {
   "cell_type": "markdown",
   "metadata": {
    "slideshow": {
     "slide_type": "slide"
    }
   },
   "source": [
    "### A Compromise\n",
    "#### UTM Zones\n",
    "The Universal Transverse Mercator (UTM) coordinate system is a Mercator projection which can be projected into 60 different zones. The idea is that there are less distortions within its UTM zone.\n",
    "\n",
    "<center>\n",
    "<img src=\"utm_zones.png\" width=\"600\">\n",
    "</center>\n"
   ]
  },
  {
   "cell_type": "markdown",
   "metadata": {
    "slideshow": {
     "slide_type": "slide"
    }
   },
   "source": [
    "## So... who cares?\n",
    "\n",
    "- Since all projections have their own issues, which one you need depends on what you want to do.\n",
    "- For area calculations will want an equal area and for distances want an equal distance projection.\n",
    "\n",
    "__However__, in most applications we end up using the __WGS84__ GRS (EPGS: 4326) which has become a standard GRS for storing the data.\n",
    "\n",
    "When projecting, __Plate-Carree__ PRS (EPSG: 54001) is used for most rastermaps. \n",
    "\n",
    "Google projects all of its maps in __Pseudo-Mercator__ (EPSG: 3857) since 2005, as does Mapbox, OpenStreetMap, and basically every other mapping app. Its now known as \"Web Mercator\" since it is the standard for web apps."
   ]
  },
  {
   "cell_type": "markdown",
   "metadata": {
    "slideshow": {
     "slide_type": "slide"
    }
   },
   "source": [
    "### Common pitfalls:\n",
    "- Trying to find \"distance\" with only a GRS.\n",
    "    - In this case, either project to an equi-distance projection or use haversine distance.\n",
    "- __Using two files that are not the same CRS__.\n",
    "    - A check that needs to be in every workflow is \"are they the same CRS\"?"
   ]
  },
  {
   "cell_type": "markdown",
   "metadata": {
    "slideshow": {
     "slide_type": "slide"
    }
   },
   "source": [
    "## Spatial Data Types\n",
    "- Rasters\n",
    "    - Essentially the pixels of an image that is geo-referenced.\n",
    "    - Attributes: CRS, resolution (e.g. 100 km grid).\n",
    "    - Usually Stored as .tiff\n",
    "\n",
    "- Vectors\n",
    "    - Either points, lines, or polygons made up of vertices.\n",
    "    - Attributes: CRS.\n",
    "    - Usually stored as .shp or .geojson\n"
   ]
  },
  {
   "cell_type": "markdown",
   "metadata": {
    "slideshow": {
     "slide_type": "slide"
    }
   },
   "source": [
    "### Python Packages\n",
    "- Rasters: `rasterio`.\n",
    "- Vectors: `shapely`, `fiona`.\n",
    "- Vector statistics (zonal statistics): `rasterstats`.\n",
    "- Handling spatial data: `geopandas`.\n",
    "\n",
    "Most of these use the packages `gdal` or `osgeo` as dependencies."
   ]
  },
  {
   "cell_type": "markdown",
   "metadata": {
    "slideshow": {
     "slide_type": "slide"
    }
   },
   "source": [
    "### Installing packages\n",
    "<img src=\"gdal_meme.jpeg\">"
   ]
  },
  {
   "cell_type": "markdown",
   "metadata": {
    "slideshow": {
     "slide_type": "slide"
    }
   },
   "source": [
    "### Geospatial package setup in Python\n",
    "\n",
    "These packages tend to depend on older dependencies. The effect of this is that, for example, using newest `numpy` will not allow `geopandas` to work.\n",
    "\n",
    "Typical ways to take care of this problem:\n",
    "- Build packages from source (annoying).\n",
    "- Create a new conda environment and install __geopandas first__.\n",
    "    - This allows it to specifically install the versions it wants to use.\n",
    "\n",
    "I typically have a seperate environment in Python for geospatial work altogether because of this."
   ]
  },
  {
   "cell_type": "code",
   "execution_count": null,
   "metadata": {},
   "outputs": [],
   "source": []
  }
 ],
 "metadata": {
  "celltoolbar": "Slideshow",
  "kernelspec": {
   "display_name": "Python 3",
   "language": "python",
   "name": "python3"
  },
  "language_info": {
   "codemirror_mode": {
    "name": "ipython",
    "version": 3
   },
   "file_extension": ".py",
   "mimetype": "text/x-python",
   "name": "python",
   "nbconvert_exporter": "python",
   "pygments_lexer": "ipython3",
   "version": "3.8.5"
  }
 },
 "nbformat": 4,
 "nbformat_minor": 4
}
