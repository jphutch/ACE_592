{
 "cells": [
  {
   "cell_type": "markdown",
   "metadata": {},
   "source": [
    "# All the President's Moods\n",
    "\n",
    "During his tenure as US President, Donald Trump maintained a steady presence on Twitter. Since the words of the politicians tend to affect the behavior of other people, including markets, there is a sizable literature quantifying the effect of politician speeches on market behavior in the aggregate. \n",
    "\n",
    "Unllke other politicians, Trump's tweets were both impassioned and plentiful. This means Twitter can give a large volume of reactions to work with that have a distribution of \"sentiment.\"\n",
    "\n",
    "In this assignment:\n",
    "1. (2 points) Load a json file of all the president's tweets from August 30 to November 5th. After loading them, put the following information into a dataframe:\n",
    "    - The full text of the Tweet. (string)\n",
    "    - Any users mentioned in the Tweet. (string)\n",
    "    - The timestamp. (datetime)\n",
    "    - The date (YYYY-MM-DD) of the Tweet. (date)\n",
    "    - Retweets (numeric)\n",
    "    - Favorites (numeric)\n",
    "    - Whether the Tweet was censored, meaning zero retweets (binary/boolean).\n",
    "    \n",
    "   __Hint: list comprehensions can be your best friend!__\n",
    "   \n",
    "2. (2 points) Create a \"clean_text\" column by doing the following to \"full_text\":\n",
    "    - removing links, which are strings that start with \"http\"\n",
    "    - removing hashtags, which are strings that start with \"#\"\n",
    "    - removing mentions, which are strings that start with \"@\"\n",
    "    - converting text to lower case.\n",
    "    - removing punctuation.\n",
    "    \n",
    "   Now report:\n",
    "    - The top 10 most common words (omitting stop words).\n",
    "    - The top 5 Twitter accounts that are mentioned.\n",
    "    - The top 5 most liked (\"favorited\") tweets.\n",
    "    - The top 5 hashtags (hint: use a regular expression).\n",
    "3. (4 points) Graph the daily volme of tweets over time, while annotating any major events.\n",
    "4. (6 points) Run the tweets through sentiment analysis, and report:\n",
    "    - The 20 most \"negative\" and \"positive\" words.\n",
    "    - A graph of the sentiment over time.\n",
    "    \n",
    "5. (6 points) Trump and the Stock Market\n",
    "    - Read in the time series dataset of S&P 500 closing, daily prices. Then merge this data to Trump's daily sentiment scores. __Graph both of them (EXTRA CREDIT GRAPH)__, calculate their correlation, and interpret what you see.\n",
    "\n",
    "    - Since Trump often comments on the stock market but the stock market may also react to his tweets, it is not clear how the causal relationship should work. Describe in detail how you would answer the question: \"Did President Trump's tweet sentiment influence the stock market?\" Specifically describe:\n",
    "        - The data you would need in addition to these data sources.\n",
    "        - The way you would read in the data and manipulate it.\n",
    "        - The sort of analysis or statistics you would calculate to answer the question.\n",
    "    "
   ]
  },
  {
   "cell_type": "code",
   "execution_count": 1,
   "metadata": {},
   "outputs": [],
   "source": [
    "import pandas as pd\n",
    "import json \n",
    "import matplotlib.pyplot as plt\n",
    "import matplotlib\n",
    "import re\n",
    "import string\n",
    "from nltk.corpus import stopwords\n",
    "import regex\n",
    "import nltk\n",
    "from nltk.sentiment.vader import SentimentIntensityAnalyzer"
   ]
  }
 ],
 "metadata": {
  "kernelspec": {
   "display_name": "Python 3",
   "language": "python",
   "name": "python3"
  },
  "language_info": {
   "codemirror_mode": {
    "name": "ipython",
    "version": 3
   },
   "file_extension": ".py",
   "mimetype": "text/x-python",
   "name": "python",
   "nbconvert_exporter": "python",
   "pygments_lexer": "ipython3",
   "version": "3.8.3"
  }
 },
 "nbformat": 4,
 "nbformat_minor": 4
}
