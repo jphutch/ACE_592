{
 "cells": [
  {
   "cell_type": "markdown",
   "metadata": {},
   "source": [
    "# A Very Bullish Market\n",
    "When dairy farmers decide to breed their cows, they have several dairy bulls to choose from. The data set you have contains bulls with genetic indices that describe its production, health, and physical characteristics:\n",
    "\n",
    "Production\n",
    "- pta_milk, a measure of milk output.\n",
    "- pta_fat_lb, a measure of fat output (a component of milk).\n",
    "- pta_protein_lb, a measure of protein output (a component of protein).\n",
    "\n",
    "Health\n",
    "- pta_scs, a measure of udder health.\n",
    "- pta_dpr, a measure of fertility.\n",
    "- pta_pl, a measure of lifespan.\n",
    "\n",
    "Physical\n",
    "- pta_dairy_form, udder_composite, pta_type, pta_stature\n",
    "\n",
    "The goal of this assignment is to characterize the market for bull genetics."
   ]
  },
  {
   "cell_type": "markdown",
   "metadata": {},
   "source": [
    "### Part 1: Unsupervised Learning\n",
    "1. First apply PCA to the space of bull traits. What is the best choice of K? Do the components seem meaningful?\n",
    "2. Next apply K-means clustering to the first two principal components. What is the best choice of K? Do the groupings give any good information?"
   ]
  },
  {
   "cell_type": "markdown",
   "metadata": {},
   "source": [
    "### Part 2: Supervised Learning\n",
    "1. To study the characteristics that matter to price, apply a LASSO regression model to discover which traits predict price the best. What did you find?\n",
    "2. Calibrate a Random Forest model to predict price using traits and any other relevant information. Which hyperparameters give the best predictions?\n",
    "3. Finally, use your Random Forest model to predict price for those observations where price is missing. What do you predictions look like? Do they look sensible?\n"
   ]
  }
 ],
 "metadata": {
  "kernelspec": {
   "display_name": "Python 3",
   "language": "python",
   "name": "python3"
  },
  "language_info": {
   "codemirror_mode": {
    "name": "ipython",
    "version": 3
   },
   "file_extension": ".py",
   "mimetype": "text/x-python",
   "name": "python",
   "nbconvert_exporter": "python",
   "pygments_lexer": "ipython3",
   "version": "3.8.3"
  }
 },
 "nbformat": 4,
 "nbformat_minor": 4
}
