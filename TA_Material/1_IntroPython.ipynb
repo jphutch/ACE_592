{
 "cells": [
  {
   "cell_type": "markdown",
   "metadata": {},
   "source": [
    "# Introduction to Python\n",
    "\n",
    "This notebook provides a very basic introduction to <b>Jupyter Notebooks</b>:\n",
    "\n",
    "## Notebook Outline:\n",
    "- [Introduction](#intro)\n",
    "- [Setup](#setup) (run this first!)\n",
    "- [The Jupyter Ecosystem](#eco)\n",
    "    - [Command Mode and Edit Mode](#cmd_and_edit)\n",
    "    - [Common Keyboard Shortcuts](#shortcuts)\n",
    "    - [Markdown](#markdown)\n"
   ]
  },
  {
   "cell_type": "markdown",
   "metadata": {},
   "source": [
    "<a id='intro'></a>\n",
    "## Introduction"
   ]
  },
  {
   "cell_type": "markdown",
   "metadata": {},
   "source": [
    "The Jupyter Notebook interface makes interactive computing easily accessible. It contains a web interface for dynamic programming and visualization and stores all the content in a file for reproducibility.\n",
    "\n",
    "- General documentation: https://jupyter.org/documentation\n",
    "- Introduction to the Jupyter Notebook: https://jupyter-notebook.readthedocs.io/en/stable/notebook.html\n",
    "- Jupyter Notebook Basics: https://jupyter-notebook.readthedocs.io/en/stable/examples/Notebook/Notebook%20Basics.html"
   ]
  },
  {
   "cell_type": "markdown",
   "metadata": {},
   "source": [
    "<a id='setup'></a>\n",
    "## Setup"
   ]
  },
  {
   "cell_type": "code",
   "execution_count": 1,
   "metadata": {},
   "outputs": [],
   "source": [
    "#Setup\n",
    "import os\n",
    "from IPython.display import Image\n"
   ]
  },
  {
   "cell_type": "markdown",
   "metadata": {},
   "source": [
    "<a id='eco'></a>\n",
    "## Jupyter Ecosystem\n",
    "\n",
    "The Jupyter project has a variety of features that support and extend Jupyter Notebook functionality. Here we will focus on the <b>Jupyter Notebook</b>, which makes use of [IPython](https://ipython.readthedocs.io/en/stable/) for interactive scripting. Other programming languages can be used in a Jupyter Notebook through [kernels](https://jupyter.readthedocs.io/en/latest/projects/kernels.html) (IPython is a kernel maintained by Project Jupyter). Finally, [Widgets](https://ipywidgets.readthedocs.io/en/stable/examples/Widget%20Basics.html) can be used to create a graphic interface for interacting with scripts and displaying results. This is just a small part of the Jupyter Ecosystem - there is more to explore in future notebooks!"
   ]
  },
  {
   "cell_type": "markdown",
   "metadata": {},
   "source": [
    "<a id='cmd_and_edit'></a>\n",
    "### Command Mode and Edit Mode\n",
    "\n",
    "There are two <b>modes</b> that are used when working with a Jupyter Notebook, <b>Command Mode</b> and <b>Edit Mode</b>: "
   ]
  },
  {
   "cell_type": "markdown",
   "metadata": {},
   "source": [
    "<b>Command Mode</b>:\n",
    "- Cell has a <font color=\"blue\"><b>blue</b></font> border\n",
    "- You can edit features of the notebook as a whole, but not text within the selected cell\n",
    "\n",
    "Below is a cell in Command Mode:"
   ]
  },
  {
   "cell_type": "code",
   "execution_count": 2,
   "metadata": {},
   "outputs": [
    {
     "data": {
      "image/png": "[encoded data removed]",
      "text/plain": [
       "<IPython.core.display.Image object>"
      ]
     },
     "execution_count": 2,
     "metadata": {},
     "output_type": "execute_result"
    }
   ],
   "source": [
    "Image(os.path.join('pyintro_resources/img', 'command_mode.png'))"
   ]
  },
  {
   "cell_type": "markdown",
   "metadata": {},
   "source": [
    "<b>Edit Mode</b>:\n",
    "- Cell has a <font color=\"green\"><b>green</b></font> border\n",
    "- You can enter text at the cursor position\n",
    "\n",
    "Below is a cell in Edit Mode. Note the cursor after the end of `world'`."
   ]
  },
  {
   "cell_type": "code",
   "execution_count": 3,
   "metadata": {},
   "outputs": [
    {
     "data": {
      "image/png": "[encoded data removed]",
      "text/plain": [
       "<IPython.core.display.Image object>"
      ]
     },
     "execution_count": 3,
     "metadata": {},
     "output_type": "execute_result"
    }
   ],
   "source": [
    "Image(os.path.join('pyintro_resources/img/edit_mode.png'))"
   ]
  },
  {
   "cell_type": "markdown",
   "metadata": {},
   "source": [
    "**Switching between Command and Edit modes**\n",
    "\n",
    "**Clicking in a cell** currently displayed with a grey box (a code cell) will take you to Edit Mode. **Double clicking** on a cell without a grey box will take you to Command Mode and clicking once more will take you to Edit Mode. **Pressing Esc** or **clicking outside the cell** while in Edit Mode will switch to Command Mode."
   ]
  },
  {
   "cell_type": "markdown",
   "metadata": {},
   "source": [
    "<a id='shortcuts'></a>\n",
    "### Common Keyboard Shortcuts \n"
   ]
  },
  {
   "cell_type": "markdown",
   "metadata": {},
   "source": [
    "**Save:**\n",
    "\n",
    "You can save the notebook by **hitting** `s` in Command Mode, by clicking the `Save button` on the toolbar, or by **File -> Save and Checkpoint**\n"
   ]
  },
  {
   "cell_type": "markdown",
   "metadata": {},
   "source": [
    "\n",
    "**Run Cell:**\n",
    "\n",
    "You can run a cell by **hitting** `Enter` (or `Shift+Return`) in Command or Edit Mode. If the cell produces output, that will typically be displayed directly below the cell."
   ]
  },
  {
   "cell_type": "code",
   "execution_count": 4,
   "metadata": {},
   "outputs": [
    {
     "name": "stdout",
     "output_type": "stream",
     "text": [
      "You ran this cell!\n"
     ]
    }
   ],
   "source": [
    "# run me!\n",
    "\n",
    "print('You ran this cell!')"
   ]
  },
  {
   "cell_type": "markdown",
   "metadata": {},
   "source": [
    "**Inserting a Cell Above the Current Cell:**\n",
    "\n",
    "You can insert a cell above the currently selected cell by **hitting** `a` in Command Mode."
   ]
  },
  {
   "cell_type": "code",
   "execution_count": null,
   "metadata": {},
   "outputs": [],
   "source": [
    "# Insert a cell above  this one"
   ]
  },
  {
   "cell_type": "markdown",
   "metadata": {},
   "source": [
    "**Inserting a Cell Below the Current Cell:**\n",
    "\n",
    "You can insert a cell above the currently selected cell by **hitting** `b` in Command Mode."
   ]
  },
  {
   "cell_type": "code",
   "execution_count": null,
   "metadata": {},
   "outputs": [],
   "source": [
    "# Insert a cell below this one"
   ]
  },
  {
   "cell_type": "markdown",
   "metadata": {},
   "source": [
    "**Copy and Paste a Cell:**\n",
    "\n",
    "\n",
    "You can copy a cell by **hitting** `c` in Command Mode and paste below the current cell by **hitting** `v` or paste above the current cell by **hitting** `Shift+v` in Command Mode."
   ]
  },
  {
   "cell_type": "code",
   "execution_count": null,
   "metadata": {},
   "outputs": [],
   "source": [
    "# copy this cell"
   ]
  },
  {
   "cell_type": "code",
   "execution_count": null,
   "metadata": {},
   "outputs": [],
   "source": [
    "# copy this cell"
   ]
  },
  {
   "cell_type": "markdown",
   "metadata": {},
   "source": [
    "<b>Delete a Cell</b>:\n",
    "\n",
    "You can delete a cell by **hitting** `d` twice in Command Mode."
   ]
  },
  {
   "cell_type": "code",
   "execution_count": null,
   "metadata": {},
   "outputs": [],
   "source": [
    "# delete me"
   ]
  },
  {
   "cell_type": "markdown",
   "metadata": {},
   "source": [
    "**Change a Cell Mode from Code to Markdown:**\n",
    "\n",
    "You can change a cell from code to markdown by **hitting** `m` in Command Mode. The cell below is a code cell - practice changing this cell to a markdown cell."
   ]
  },
  {
   "cell_type": "code",
   "execution_count": null,
   "metadata": {},
   "outputs": [],
   "source": [
    "#### Change me to Markdown!"
   ]
  },
  {
   "cell_type": "markdown",
   "metadata": {},
   "source": [
    "**Change a Cell Mode from Markdown to Code**:\n",
    "\n",
    "You can change a cell from code to markdown by **hitting** `y` in Command Mode (don't forget to double click on a Markdown Cell to edit it). The cell below is a markdown cell - practice changing this cell to a code cell (and run it)."
   ]
  },
  {
   "cell_type": "markdown",
   "metadata": {},
   "source": [
    "#### Change me to Code!\n",
    "\n",
    "print ('hello')"
   ]
  },
  {
   "cell_type": "markdown",
   "metadata": {},
   "source": [
    "**Using Tab:**\n",
    "\n",
    "The **Tab** key is good for giving coding suggestions. If you have a partially complete keyword or object name, Tab will suggest ways to complete the word. If you have a function, pressing Tab within the parentheses will show arguments.\n"
   ]
  },
  {
   "cell_type": "code",
   "execution_count": null,
   "metadata": {},
   "outputs": [],
   "source": [
    "# place the cursor after the 'r' and press tab to see possible words starting with 'pr'\n",
    "# !!note, running this cell will raise an error because 'pr' is not complete!\n",
    "\n",
    "#pr\n",
    "\n",
    "# place the cursor in the parentheses and press tab to see arguments\n",
    "\n",
    "print()"
   ]
  },
  {
   "cell_type": "markdown",
   "metadata": {},
   "source": [
    "**Help:**\n",
    "\n",
    "You can use `help()`, `?` or `??` to get information about functions. "
   ]
  },
  {
   "cell_type": "code",
   "execution_count": null,
   "metadata": {},
   "outputs": [],
   "source": [
    "help(len)"
   ]
  },
  {
   "cell_type": "code",
   "execution_count": null,
   "metadata": {},
   "outputs": [],
   "source": [
    "len?"
   ]
  },
  {
   "cell_type": "markdown",
   "metadata": {},
   "source": [
    "<a id='markdown'></a>\n",
    "### Markdown"
   ]
  },
  {
   "cell_type": "markdown",
   "metadata": {},
   "source": [
    "<b>Headings</b>:\n",
    "<br><br>\n",
    "Headings are useful to organize text. Place one or multiple **# signs** in front of text at the beginning of a line to create a heading. Double click the next (markdown) cell to see how these headings are created."
   ]
  },
  {
   "cell_type": "markdown",
   "metadata": {},
   "source": [
    "# Big\n",
    "## Medium\n",
    "### Small\n",
    "#### Smaller\n",
    "##### Tiny"
   ]
  },
  {
   "cell_type": "markdown",
   "metadata": {},
   "source": [
    "**Numbered List:**\n",
    "1. Thing one\n",
    "4. Thing two\n",
    "3. Thing three\n",
    "\n",
    "**Bulleted List:**\n",
    "- Thing one\n",
    "    - Thing one a\n",
    "- Thing two\n",
    "    - Thing two a\n",
    "        - Thing two double a\n",
    "            - Too many things\n",
    "- Thing three"
   ]
  },
  {
   "cell_type": "markdown",
   "metadata": {},
   "source": [
    "**Links:**\n",
    "\n",
    "Links help for referencing information. Create a link using **square brackets** followed by **parentheses**. You can link to a website, another file or notebook in your Notebook Dashboard, or even to another section of the current notebook. Double click the next (markdown) cell to see how these links are created."
   ]
  },
  {
   "cell_type": "markdown",
   "metadata": {},
   "source": [
    "- [link to the Python for Data Science Handbook](https://jakevdp.github.io/PythonDataScienceHandbook/index.html)\n",
    "- [link to an image](pyintro_resources/img/command_mode.png) (note path is relative to this notebook)\n",
    "- [link to a Markdown cell by header](#Markdown) (type heading after # for internal link)\n",
    "- [link to a Markdown cell by section id](#markdown) (link to HTML anchor in cell above Markdown heading)"
   ]
  },
  {
   "cell_type": "markdown",
   "metadata": {},
   "source": [
    "**Equations:**\n",
    "<br><br>\n",
    "Equations are written using <b>LaTeX</b>. Surrounding the equation with <b>one dollar sign ($)</b> on each end makes it inline. With <b>two dollar signs</b>, the equation is displayed on its own line. Double click the next (markdown) cell to see how these equations are created. Some symbols are found on the keyboard, like +, ^, and *. Others are formed using a slash followed by a text tag, like \\times.\n",
    "  \n",
    "See a list of LaTeX math symbols [here](https://artofproblemsolving.com/wiki/index.php/LaTeX:Symbols)"
   ]
  },
  {
   "cell_type": "markdown",
   "metadata": {},
   "source": [
    "Here is an in line equation: $y_i = \\alpha + \\beta x_i + \\varepsilon_i$"
   ]
  },
  {
   "cell_type": "markdown",
   "metadata": {},
   "source": [
    "Here is another equation, this one not in line: $$y_i = \\alpha + \\beta x_i + \\varepsilon_i$$"
   ]
  }
 ],
 "metadata": {
  "kernelspec": {
   "display_name": "Python 3",
   "language": "python",
   "name": "python3"
  },
  "language_info": {
   "codemirror_mode": {
    "name": "ipython",
    "version": 3
   },
   "file_extension": ".py",
   "mimetype": "text/x-python",
   "name": "python",
   "nbconvert_exporter": "python",
   "pygments_lexer": "ipython3",
   "version": "3.8.3"
  }
 },
 "nbformat": 4,
 "nbformat_minor": 4
}
