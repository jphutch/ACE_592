{
 "cells": [
  {
   "cell_type": "markdown",
   "id": "metallic-generator",
   "metadata": {},
   "source": [
    "# Matplotlib\n",
    "\n",
    "Data visualization library that includes:\n",
    "- Image plot, contour plots, scatter plots, line plots, 3D plots\n",
    "- Variety of hardcopy formats\n",
    "- Interactie environments\n",
    "\n",
    "`matplotlib` has a vast number of functions. Don't worry, it is hard to remember all of them.\n",
    "\n",
    "We can always guide our work by getting codes from here: https://matplotlib.org/stable/gallery/index.html\n",
    "\n",
    "\n",
    "\n"
   ]
  },
  {
   "cell_type": "code",
   "execution_count": null,
   "id": "romantic-message",
   "metadata": {},
   "outputs": [],
   "source": [
    "import numpy as np\n",
    "import pandas as pd\n",
    "import matplotlib.pyplot as plt\n",
    "%matplotlib inline"
   ]
  },
  {
   "cell_type": "markdown",
   "id": "blond-fitting",
   "metadata": {},
   "source": [
    "As we saw in class, we can plot either by **the plt way** or **the fig and axes way**. "
   ]
  },
  {
   "cell_type": "code",
   "execution_count": null,
   "id": "average-curtis",
   "metadata": {},
   "outputs": [],
   "source": [
    "x = np.random.randn(100,1)\n",
    "y = np.random.randn(100,1)\n",
    "\n",
    "the_array = np.concatenate([x,y],axis=1)\n",
    "\n",
    "df = pd.DataFrame(the_array,columns=['X','Y'])"
   ]
  },
  {
   "cell_type": "markdown",
   "id": "christian-active",
   "metadata": {},
   "source": [
    "In the object oriented way (fig and axes), we edit the objects that we want"
   ]
  },
  {
   "cell_type": "code",
   "execution_count": null,
   "id": "prepared-delhi",
   "metadata": {},
   "outputs": [],
   "source": [
    "fig, ax = plt.subplots()  # Create a figure containing a single axes."
   ]
  },
  {
   "cell_type": "code",
   "execution_count": null,
   "id": "exciting-lawsuit",
   "metadata": {},
   "outputs": [],
   "source": [
    "fig, ax = plt.subplots(2,2) "
   ]
  },
  {
   "cell_type": "markdown",
   "id": "designed-analyst",
   "metadata": {},
   "source": [
    "The syntax for plotting is: `ax.plot(data, linestyle, color, marker)` "
   ]
  },
  {
   "cell_type": "code",
   "execution_count": null,
   "id": "strategic-evaluation",
   "metadata": {},
   "outputs": [],
   "source": [
    "fig, ax = plt.subplots()  # Create a figure containing a single axes.\n",
    "ax.plot(np.linspace(100,200,100), df['Y'])  # Plot some data on the axes."
   ]
  },
  {
   "cell_type": "code",
   "execution_count": null,
   "id": "original-scanning",
   "metadata": {},
   "outputs": [],
   "source": [
    "fig, ax = plt.subplots()  # Create a figure containing a single axes.\n",
    "ax.plot(np.linspace(100,200,100), df['Y'], linestyle=\"--\",color=\"darkcyan\",marker=\"p\");\n"
   ]
  },
  {
   "cell_type": "code",
   "execution_count": null,
   "id": "christian-titanium",
   "metadata": {},
   "outputs": [],
   "source": [
    "fig, ax = plt.subplots()  # Create a figure containing a single axes.\n",
    "ax.plot(np.linspace(100,200,100), df['Y'], linestyle=\"--\",color=\"darkcyan\",marker=\"p\");\n",
    "ax.set_title(\"Title of the plot\");\n",
    "ax.set_xlabel(\"label x\");\n",
    "ax.set_ylabel(\"label y\");\n"
   ]
  },
  {
   "cell_type": "code",
   "execution_count": null,
   "id": "worldwide-knock",
   "metadata": {},
   "outputs": [],
   "source": [
    "fig, axes = plt.subplots(2,1, figsize=(12,5))\n",
    "axes[0].plot(np.linspace(100,200,100), df['Y'], color=\"darkred\");\n",
    "axes[1].hist(df['Y'], bins=10, color=\"darkcyan\");\n",
    "axes[0].set_title(\"Top Plot\", fontsize=15);\n",
    "axes[0].set_ylabel(\"Y label top\");\n",
    "axes[1].set_title(\"Bottom Plot\", fontsize=15);\n",
    "axes[1].set_ylabel(\"Y label bottom\");\n",
    "fig.savefig(\"export_figure.pdf\")"
   ]
  },
  {
   "cell_type": "markdown",
   "id": "republican-humanity",
   "metadata": {},
   "source": [
    "What if we need different data in the same plot:"
   ]
  },
  {
   "cell_type": "code",
   "execution_count": null,
   "id": "running-hudson",
   "metadata": {},
   "outputs": [],
   "source": [
    "fig, ax = plt.subplots(1, figsize=(10, 6))\n",
    "ax.plot(np.random.randn(100).cumsum(), linestyle=\"--\", marker = \".\", label=\"first\");\n",
    "ax.plot(np.random.randn(100).cumsum(), linestyle=\":\" , marker = \"o\", label=\"second\");\n",
    "ax.plot(np.random.randn(100).cumsum(), linestyle=\"-.\", marker = \"s\", label=\"third\");\n",
    "ax.legend(loc=\"best\", fontsize=15);\n",
    "ax.set_title(\"multiple plots in one subplot\", fontsize=18)"
   ]
  },
  {
   "cell_type": "markdown",
   "id": "distributed-saint",
   "metadata": {},
   "source": [
    "We can also add some text inside the subplot with:\n",
    "- `ax.text(x, y, \"text\", fontsize)`: Inserts text into subplot\n",
    "- `ax.annotate(\"text\",xy,xytext, arrowprops)`: inserts an arrow with . Using ax.annotate() the arrow head points at xy and the bottom left corner of the text will be placed at xytext."
   ]
  },
  {
   "cell_type": "code",
   "execution_count": null,
   "id": "primary-milwaukee",
   "metadata": {},
   "outputs": [],
   "source": [
    "fig, ax = plt.subplots(1, figsize=(10, 5))\n",
    "ax.plot(np.random.randn(100).cumsum(), linestyle=\"--\", marker = \".\", label=\"first\");\n",
    "ax.plot(np.random.randn(100).cumsum(), linestyle=\":\" , marker = \"o\", label=\"second\");\n",
    "ax.plot(np.random.randn(100).cumsum(), linestyle=\"-.\", marker = \"s\", label=\"third\");\n",
    "ax.legend(loc=\"best\", fontsize=15);\n",
    "ax.set_title(\"multiple plots in one subplot\", fontsize=18)\n",
    "ax.text(0,0, \"here\", fontsize=20)\n",
    "ax.annotate(\"there\",fontsize=20, xy=(0,0),xytext=(60,0),arrowprops=dict(facecolor=\"black\"))"
   ]
  },
  {
   "cell_type": "markdown",
   "id": "republican-baseline",
   "metadata": {},
   "source": [
    "#### Best practice: an overall\n",
    "1. Step 1: Create a figure object and subplots:\n",
    "2. Step 2: Plot data\n",
    "3. Step 3: Set colors, markers and line styles\n",
    "4. Step 4: Set title, axis labels and ticks\n",
    "5. Step 5: Add legend or other parameters\n",
    "6. Step 6: Save plot."
   ]
  },
  {
   "cell_type": "markdown",
   "id": "silver-rover",
   "metadata": {},
   "source": [
    "In case that you want to read some data and plot it, it is the same intuition."
   ]
  },
  {
   "cell_type": "code",
   "execution_count": null,
   "id": "listed-needle",
   "metadata": {},
   "outputs": [],
   "source": [
    "data = pd.read_csv('pyintro_resources/fivethirtyeight/alcohol-consumption/drinks.csv')"
   ]
  },
  {
   "cell_type": "code",
   "execution_count": null,
   "id": "located-moscow",
   "metadata": {},
   "outputs": [],
   "source": [
    "data.head()"
   ]
  },
  {
   "cell_type": "code",
   "execution_count": null,
   "id": "adopted-poultry",
   "metadata": {},
   "outputs": [],
   "source": [
    "data.sort_values(['total_litres_of_pure_alcohol'], ascending=False).head(10)"
   ]
  },
  {
   "cell_type": "code",
   "execution_count": null,
   "id": "higher-timer",
   "metadata": {},
   "outputs": [],
   "source": [
    "# Step 1:\n",
    "fig, ax = plt.subplots(2,2, figsize=(12,7))\n",
    "\n",
    "# Step 2 and 3: plot data, decide style, colors. \n",
    "\n",
    "ax[0,0].scatter(range(0,193),data['beer_servings'], color=\"lightcoral\", alpha=0.5);\n",
    "ax[0,1].plot(range(0,193),data['spirit_servings'],color=\"goldenrod\", linewidth=3);\n",
    "ax[1,0].plot(range(0,193),data['wine_servings'], color=\"skyblue\", marker=\"+\");\n",
    "ax[1,1].plot(range(0,193),data['total_litres_of_pure_alcohol'], color=\"g\", linestyle=\"--\", label = \"total litres\");\n",
    "\n",
    "\n",
    "# Step 4: set titles and others labels to the subfigures\n",
    "\n",
    "ax[0,0].set_title(\"Scatter plot - Beer\");\n",
    "ax[0,1].set_title(\"Plot Spirit\");\n",
    "ax[1,0].set_title(\"Wine\");\n",
    "ax[1,1].set_title(\"Total litres\");\n",
    "\n",
    "# Step 5: Adding other parameters (Legends)\n",
    "\n",
    "ax[1,1].legend(fontsize=10);\n",
    "fig.suptitle('This is a long figure title', fontsize=16)\n",
    "# Step 6: Saveplot:\n",
    "\n",
    "fig.savefig(\"myplot.pdf\")"
   ]
  }
 ],
 "metadata": {
  "kernelspec": {
   "display_name": "Python 3",
   "language": "python",
   "name": "python3"
  },
  "language_info": {
   "codemirror_mode": {
    "name": "ipython",
    "version": 3
   },
   "file_extension": ".py",
   "mimetype": "text/x-python",
   "name": "python",
   "nbconvert_exporter": "python",
   "pygments_lexer": "ipython3",
   "version": "3.8.5"
  }
 },
 "nbformat": 4,
 "nbformat_minor": 5
}
