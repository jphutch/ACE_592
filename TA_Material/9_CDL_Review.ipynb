{
 "cells": [
  {
   "cell_type": "markdown",
   "id": "amended-canal",
   "metadata": {},
   "source": [
    "# Cropland Data Later - Review"
   ]
  },
  {
   "cell_type": "code",
   "execution_count": null,
   "id": "powerful-transformation",
   "metadata": {},
   "outputs": [],
   "source": [
    "import numpy as np\n",
    "import matplotlib.pyplot as plt\n",
    "import geopandas\n",
    "import pyproj\n",
    "import rasterio\n",
    "import rasterstats\n",
    "import pandas as pd\n",
    "import json\n",
    "from rasterio.mask import mask\n",
    "from rasterio.plot import show\n",
    "import matplotlib\n",
    "import matplotlib.patches as mpatches\n",
    "import matplotlib.colors"
   ]
  },
  {
   "cell_type": "markdown",
   "id": "solid-salem",
   "metadata": {},
   "source": [
    "## Reading shapefile"
   ]
  },
  {
   "cell_type": "code",
   "execution_count": null,
   "id": "funded-connecticut",
   "metadata": {},
   "outputs": [],
   "source": [
    "counties = geopandas.read_file(\"../Data/Images/cb_2017_us_county_500k/cb_2017_us_county_500k.shp\")\n",
    "CA = counties[counties.STATEFP==\"06\"]"
   ]
  },
  {
   "cell_type": "code",
   "execution_count": null,
   "id": "confidential-market",
   "metadata": {},
   "outputs": [],
   "source": [
    "CA.plot()"
   ]
  },
  {
   "cell_type": "markdown",
   "id": "athletic-brook",
   "metadata": {},
   "source": [
    "## Reading the raster"
   ]
  },
  {
   "cell_type": "code",
   "execution_count": null,
   "id": "stock-local",
   "metadata": {},
   "outputs": [],
   "source": [
    "r20 = rasterio.open(\"../Data/Images/CDL_2020_clip_20210316212728_848680512.tif\")"
   ]
  },
  {
   "cell_type": "code",
   "execution_count": null,
   "id": "broken-stocks",
   "metadata": {},
   "outputs": [],
   "source": [
    "plt.imshow(r20.read(1))"
   ]
  },
  {
   "cell_type": "code",
   "execution_count": null,
   "id": "strategic-vault",
   "metadata": {},
   "outputs": [],
   "source": [
    "r20.bounds"
   ]
  },
  {
   "cell_type": "markdown",
   "id": "manufactured-detection",
   "metadata": {},
   "source": [
    "The value of bounds attribute is derived from a more fundamental attribute: the dataset’s geospatial transform."
   ]
  },
  {
   "cell_type": "code",
   "execution_count": null,
   "id": "substantial-wings",
   "metadata": {},
   "outputs": [],
   "source": [
    "r20.transform"
   ]
  },
  {
   "cell_type": "markdown",
   "id": "animal-grade",
   "metadata": {},
   "source": [
    "A dataset’s `transform` is an affine transformation matrix that maps pixel locations in (row, col) coordinates to (x, y) spatial positions"
   ]
  },
  {
   "cell_type": "code",
   "execution_count": null,
   "id": "exclusive-strip",
   "metadata": {},
   "outputs": [],
   "source": [
    "r20.transform * (0, 0)"
   ]
  },
  {
   "cell_type": "markdown",
   "id": "employed-portable",
   "metadata": {},
   "source": [
    "Note that these coordinate values are relative to the origin of the dataset’s coordinate reference system (CRS). In this case:"
   ]
  },
  {
   "cell_type": "code",
   "execution_count": null,
   "id": "signal-agenda",
   "metadata": {},
   "outputs": [],
   "source": [
    "r20.crs"
   ]
  },
  {
   "cell_type": "markdown",
   "id": "numerical-ireland",
   "metadata": {},
   "source": [
    "## Check CRS"
   ]
  },
  {
   "cell_type": "code",
   "execution_count": null,
   "id": "changed-arrival",
   "metadata": {},
   "outputs": [],
   "source": [
    "print(r20.crs==CA.crs)\n",
    "print(r20.crs,CA.crs)"
   ]
  },
  {
   "cell_type": "code",
   "execution_count": null,
   "id": "invalid-season",
   "metadata": {},
   "outputs": [],
   "source": [
    "CA = CA.to_crs(r20.crs)"
   ]
  },
  {
   "cell_type": "code",
   "execution_count": null,
   "id": "foreign-forest",
   "metadata": {},
   "outputs": [],
   "source": [
    "CA.plot()"
   ]
  },
  {
   "cell_type": "markdown",
   "id": "phantom-first",
   "metadata": {},
   "source": [
    "## Clipping"
   ]
  },
  {
   "cell_type": "markdown",
   "id": "concerned-portsmouth",
   "metadata": {},
   "source": [
    "But before, we need to know what is the shape that we will use to perform the clipping!"
   ]
  },
  {
   "cell_type": "code",
   "execution_count": null,
   "id": "turkish-legislation",
   "metadata": {},
   "outputs": [],
   "source": [
    "CA_State = CA.dissolve(by=\"STATEFP\",aggfunc=\"sum\")"
   ]
  },
  {
   "cell_type": "code",
   "execution_count": null,
   "id": "persistent-silver",
   "metadata": {},
   "outputs": [],
   "source": [
    "CA_State.plot()"
   ]
  },
  {
   "cell_type": "markdown",
   "id": "junior-swing",
   "metadata": {},
   "source": [
    "If we are going to use a geopandas object (our case) to perform the clip, we need to run define this function first. Which will read geopandas geometry column in a way that rasterio can get."
   ]
  },
  {
   "cell_type": "code",
   "execution_count": null,
   "id": "seventh-danish",
   "metadata": {},
   "outputs": [],
   "source": [
    "def getFeatures(gdf):\n",
    "    \"\"\"Function to parse features from GeoDataFrame in such a manner that rasterio wants them\"\"\"\n",
    "    import json\n",
    "    return [json.loads(gdf.to_json())['features'][0]['geometry']]"
   ]
  },
  {
   "cell_type": "markdown",
   "id": "pregnant-input",
   "metadata": {},
   "source": [
    "Now, we are ready to create a NEW RASTER. "
   ]
  },
  {
   "cell_type": "code",
   "execution_count": null,
   "id": "boring-phoenix",
   "metadata": {},
   "outputs": [],
   "source": [
    "img_out, img_transform = mask(r20,getFeatures(CA_State))\n",
    "\n",
    "out_meta = r20.meta.copy()\n",
    "\n",
    "out_meta['height'] = img_out.shape[1]\n",
    "out_meta['width'] = img_out.shape[2]\n",
    "out_meta['transform'] = img_transform\n",
    "\n",
    "with rasterio.open(\"./CA20_CDL.tif\", \"w\", **out_meta) as dest:\n",
    "    dest.write(img_out)"
   ]
  },
  {
   "cell_type": "code",
   "execution_count": null,
   "id": "sunset-election",
   "metadata": {},
   "outputs": [],
   "source": [
    "r20_c = rasterio.open(\"./CA20_CDL.tif\")"
   ]
  },
  {
   "cell_type": "code",
   "execution_count": null,
   "id": "touched-cinema",
   "metadata": {},
   "outputs": [],
   "source": [
    "fig, ax = plt.subplots(1,3,figsize=(15, 20));\n",
    "rasterio.plot.show(r20, ax=ax[0]);\n",
    "CA_State.plot(ax=ax[1], facecolor='none', edgecolor='black');\n",
    "rasterio.plot.show(r20_c,ax=ax[2]);\n",
    "\n",
    "ax[0].set_title(\"Original Raster (to be clipped)\");\n",
    "ax[1].set_title(\"Polygon used to clip\");\n",
    "ax[2].set_title(\"Resulting raster\");\n",
    "\n",
    "ax[0].axis('off');\n",
    "ax[1].axis('off');\n",
    "ax[2].axis('off');"
   ]
  },
  {
   "cell_type": "code",
   "execution_count": null,
   "id": "mobile-principle",
   "metadata": {},
   "outputs": [],
   "source": [
    "fig, ax = plt.subplots(figsize=(10, 10))\n",
    "show(r20_c, ax=ax,cmap=\"Greens\")\n",
    "CA.plot(ax=ax, facecolor='none', edgecolor='black')"
   ]
  },
  {
   "cell_type": "markdown",
   "id": "labeled-presentation",
   "metadata": {},
   "source": [
    "# Reading the variable inside the raster"
   ]
  },
  {
   "cell_type": "code",
   "execution_count": null,
   "id": "desperate-hunter",
   "metadata": {},
   "outputs": [],
   "source": [
    "r20_c_array = r20_c.read(1)   # The function read from a raster object will give us the data inside it.\n",
    "r20_c_array "
   ]
  },
  {
   "cell_type": "code",
   "execution_count": null,
   "id": "unlimited-calculator",
   "metadata": {},
   "outputs": [],
   "source": [
    "pixels = pd.Series(r20_c_array.flatten())   # We can transform that into a Series (DataFrame column)"
   ]
  },
  {
   "cell_type": "code",
   "execution_count": null,
   "id": "vocational-details",
   "metadata": {},
   "outputs": [],
   "source": [
    "pixels"
   ]
  },
  {
   "cell_type": "code",
   "execution_count": null,
   "id": "quantitative-object",
   "metadata": {},
   "outputs": [],
   "source": [
    "pixels = pixels[pixels!=0]   # Removing everything that is not zero."
   ]
  },
  {
   "cell_type": "code",
   "execution_count": null,
   "id": "hollow-rebound",
   "metadata": {},
   "outputs": [],
   "source": [
    "pixels"
   ]
  },
  {
   "cell_type": "code",
   "execution_count": null,
   "id": "collaborative-pricing",
   "metadata": {},
   "outputs": [],
   "source": [
    "pixels_counts = pixels.value_counts()\n",
    "pixels_counts.head(10)"
   ]
  },
  {
   "cell_type": "code",
   "execution_count": null,
   "id": "banner-worship",
   "metadata": {},
   "outputs": [],
   "source": [
    "with open(\"../Data/Images/CDL_dict.json\") as f:\n",
    "    pixel_names = json.load(f)[0]"
   ]
  },
  {
   "cell_type": "code",
   "execution_count": null,
   "id": "therapeutic-spice",
   "metadata": {},
   "outputs": [],
   "source": [
    "pixel_names"
   ]
  },
  {
   "cell_type": "markdown",
   "id": "alpine-reserve",
   "metadata": {},
   "source": [
    "## Visualizing "
   ]
  },
  {
   "cell_type": "markdown",
   "id": "filled-township",
   "metadata": {},
   "source": [
    "Let's say that we want to see ONLY grapes.\n",
    "\n",
    "Remember that up to this point, we have two main objects related to our raster:\n",
    "- r20_c: The resulting raster after clipping\n",
    "- r20_c_array: Is the \"read\" part of the raster (where the data is contained). \n"
   ]
  },
  {
   "cell_type": "markdown",
   "id": "remarkable-crisis",
   "metadata": {},
   "source": [
    "### Step 1: Deciding which type of code we want to see"
   ]
  },
  {
   "cell_type": "code",
   "execution_count": null,
   "id": "arabic-central",
   "metadata": {},
   "outputs": [],
   "source": [
    "# Boolean expression: TRUE if grapes / FALSE if not grape. \n",
    "grapes_mask = r20_c_array==69"
   ]
  },
  {
   "cell_type": "code",
   "execution_count": null,
   "id": "fluid-suicide",
   "metadata": {},
   "outputs": [],
   "source": [
    "# Assigning (replacing) zero to everything that is NOT grape:\n",
    "r20_c_array[~grapes_mask]=0"
   ]
  },
  {
   "cell_type": "markdown",
   "id": "right-wright",
   "metadata": {},
   "source": [
    "### Step 2:  Let's create the raster with the information that we need"
   ]
  },
  {
   "cell_type": "code",
   "execution_count": null,
   "id": "starting-blues",
   "metadata": {},
   "outputs": [],
   "source": [
    "img_out = np.zeros(r20_c_array.shape)  # Dimension of the img_out is the same as the original raster data. \n",
    "img_out[grapes_mask] = 1  # Assigning 1 for grapes\n",
    "img_out = img_out[np.newaxis,:,:].astype(np.uint8)  # Adding a dimension to have a 3-D array\n",
    "\n",
    "out_meta = r20_c.meta.copy()\n",
    "\n",
    "out_meta['height'] = img_out.shape[1]\n",
    "out_meta['width'] = img_out.shape[2]\n",
    "out_meta['dtype'] = \"uint8\"\n",
    "out_meta['transform'] = r20_c.transform\n",
    "\n",
    "with rasterio.open(\"./grapes_layer20.tif\", \"w\", **out_meta) as dest:\n",
    "    dest.write(img_out)"
   ]
  },
  {
   "cell_type": "code",
   "execution_count": null,
   "id": "exciting-vinyl",
   "metadata": {},
   "outputs": [],
   "source": [
    "grapes20 = rasterio.open(\"./grapes_layer20.tif\")"
   ]
  },
  {
   "cell_type": "markdown",
   "id": "gothic-while",
   "metadata": {},
   "source": [
    "Just to confirm that we are actually getting what we need (just grapes)"
   ]
  },
  {
   "cell_type": "code",
   "execution_count": null,
   "id": "entitled-damage",
   "metadata": {},
   "outputs": [],
   "source": [
    "pd.Series(grapes20.read(1).flatten()).value_counts()"
   ]
  },
  {
   "cell_type": "code",
   "execution_count": null,
   "id": "rational-fitness",
   "metadata": {},
   "outputs": [],
   "source": [
    "plt.imshow(grapes20.read(1).astype(float), cmap=\"Blues\")"
   ]
  },
  {
   "cell_type": "code",
   "execution_count": null,
   "id": "ultimate-lyric",
   "metadata": {},
   "outputs": [],
   "source": [
    "grapes20.crs == CA.crs"
   ]
  },
  {
   "cell_type": "markdown",
   "id": "above-substitute",
   "metadata": {},
   "source": [
    "### Step 3: Crate labels for the data inside the raster and plot"
   ]
  },
  {
   "cell_type": "code",
   "execution_count": null,
   "id": "dense-agriculture",
   "metadata": {},
   "outputs": [],
   "source": [
    "labels = {0:\"No-grapes\",\n",
    "          1:\"Grapes\"}\n",
    "\n",
    "cmap_grapes = matplotlib.colors.ListedColormap(['white', \"C3\"])\n",
    "patches =[mpatches.Patch(color=cmap_grapes(i),label=labels[i]) for i in labels.keys()]"
   ]
  },
  {
   "cell_type": "code",
   "execution_count": null,
   "id": "treated-singer",
   "metadata": {},
   "outputs": [],
   "source": [
    "fig, ax = plt.subplots(figsize=(10, 10));\n",
    "CA.plot(ax=ax, facecolor='none', edgecolor='black');\n",
    "rasterio.plot.show(grapes20, ax=ax,cmap=cmap_grapes);\n",
    "plt.legend(handles=patches,fontsize=12);\n",
    "ax.axis(\"off\");"
   ]
  },
  {
   "cell_type": "code",
   "execution_count": null,
   "id": "brazilian-elephant",
   "metadata": {},
   "outputs": [],
   "source": []
  }
 ],
 "metadata": {
  "kernelspec": {
   "display_name": "Python 3",
   "language": "python",
   "name": "python3"
  },
  "language_info": {
   "codemirror_mode": {
    "name": "ipython",
    "version": 3
   },
   "file_extension": ".py",
   "mimetype": "text/x-python",
   "name": "python",
   "nbconvert_exporter": "python",
   "pygments_lexer": "ipython3",
   "version": "3.8.5"
  }
 },
 "nbformat": 4,
 "nbformat_minor": 5
}
