{
 "cells": [
  {
   "cell_type": "markdown",
   "id": "dental-intervention",
   "metadata": {},
   "source": [
    "# US Wildfires\n",
    "## A Review of the class example\n",
    "\n",
    "Main library to manage geospatial data: \n",
    "- Geopandas https://geopandas.org/index.html"
   ]
  },
  {
   "cell_type": "code",
   "execution_count": null,
   "id": "other-lighting",
   "metadata": {},
   "outputs": [],
   "source": [
    "import numpy\n",
    "import matplotlib.pyplot as plt\n",
    "import geopandas\n",
    "import pyproj\n",
    "import rasterio\n",
    "import rasterstats\n",
    "import os\n",
    "import json"
   ]
  },
  {
   "cell_type": "code",
   "execution_count": null,
   "id": "solar-infection",
   "metadata": {},
   "outputs": [],
   "source": [
    "os.getcwd()"
   ]
  },
  {
   "cell_type": "markdown",
   "id": "played-alabama",
   "metadata": {},
   "source": [
    "## Reading  State json file"
   ]
  },
  {
   "cell_type": "code",
   "execution_count": null,
   "id": "dependent-manner",
   "metadata": {},
   "outputs": [],
   "source": [
    "state_file = \"Data/us_states.json\"\n",
    "country = geopandas.read_file(state_file)"
   ]
  },
  {
   "cell_type": "code",
   "execution_count": null,
   "id": "posted-electricity",
   "metadata": {},
   "outputs": [],
   "source": [
    "country.head()"
   ]
  },
  {
   "cell_type": "code",
   "execution_count": null,
   "id": "worldwide-prerequisite",
   "metadata": {},
   "outputs": [],
   "source": [
    "type(country)"
   ]
  },
  {
   "cell_type": "code",
   "execution_count": null,
   "id": "headed-driving",
   "metadata": {},
   "outputs": [],
   "source": [
    "country.crs"
   ]
  },
  {
   "cell_type": "code",
   "execution_count": null,
   "id": "celtic-poetry",
   "metadata": {},
   "outputs": [],
   "source": [
    "# pip install descartes"
   ]
  },
  {
   "cell_type": "code",
   "execution_count": null,
   "id": "analyzed-compatibility",
   "metadata": {},
   "outputs": [],
   "source": [
    "country.plot()\n"
   ]
  },
  {
   "cell_type": "code",
   "execution_count": null,
   "id": "indian-howard",
   "metadata": {},
   "outputs": [],
   "source": [
    "country = country[~country['NAME'].isin([\"Alaska\",\"Hawaii\",\"Puerto Rico\"])]\n",
    "\n"
   ]
  },
  {
   "cell_type": "code",
   "execution_count": null,
   "id": "sustainable-supplement",
   "metadata": {},
   "outputs": [],
   "source": [
    "country.plot();"
   ]
  },
  {
   "cell_type": "code",
   "execution_count": null,
   "id": "divine-trust",
   "metadata": {},
   "outputs": [],
   "source": [
    "f,a = plt.subplots(figsize=(10,7));\n",
    "country.plot(ax=a,\n",
    "             column=\"CENSUSAREA\",\n",
    "             legend=True);\n",
    "plt.axis(\"off\");"
   ]
  },
  {
   "cell_type": "markdown",
   "id": "thermal-maine",
   "metadata": {},
   "source": [
    "## Reading Wildfires shapefile"
   ]
  },
  {
   "cell_type": "code",
   "execution_count": null,
   "id": "romance-collapse",
   "metadata": {},
   "outputs": [],
   "source": [
    "fires = geopandas.read_file(\"Data/MODIS_C6_USA_contiguous_and_Hawaii_7d/MODIS_C6_USA_contiguous_and_Hawaii_7d.shp\")\n",
    "fires.head()\n"
   ]
  },
  {
   "cell_type": "code",
   "execution_count": null,
   "id": "associate-surgery",
   "metadata": {},
   "outputs": [],
   "source": [
    "fires.geometry"
   ]
  },
  {
   "cell_type": "code",
   "execution_count": null,
   "id": "pretty-packet",
   "metadata": {},
   "outputs": [],
   "source": [
    "fires.plot()"
   ]
  },
  {
   "cell_type": "markdown",
   "id": "romantic-affair",
   "metadata": {},
   "source": [
    "## Plot both together\n",
    "#### BEFORE! Always check projections"
   ]
  },
  {
   "cell_type": "code",
   "execution_count": null,
   "id": "dynamic-tablet",
   "metadata": {},
   "outputs": [],
   "source": [
    "country.crs == fires.crs"
   ]
  },
  {
   "cell_type": "code",
   "execution_count": null,
   "id": "seventh-click",
   "metadata": {},
   "outputs": [],
   "source": [
    "f,a = plt.subplots(figsize=(15,10))  # Figure and Axis way \n",
    "country.plot(ax=a,color=\"grey\") # Plotting the first layer: country  (ax=a means the we want to add that plot to the axis)\n",
    "fires.plot(color=\"C3\",markersize=10,ax=a)  # Plotting the second layer: Fires\n",
    "plt.axis(\"off\");  # Removes axis "
   ]
  },
  {
   "cell_type": "markdown",
   "id": "suspended-worship",
   "metadata": {},
   "source": [
    "## Clipping \n",
    "Both layers must be in the same Coordinate Reference System (CRS)\n",
    "\n",
    "Syntax: `geopandas.clip(gdp, mask)`.\n",
    "- `gdp` geopandas data frame (points, polygons) to be clipped\n",
    "- `mask` polygon vector layer used to clip gdf."
   ]
  },
  {
   "cell_type": "code",
   "execution_count": null,
   "id": "distinguished-student",
   "metadata": {},
   "outputs": [],
   "source": [
    "fires_clipped=geopandas.clip(fires,country)"
   ]
  },
  {
   "cell_type": "code",
   "execution_count": null,
   "id": "indoor-branch",
   "metadata": {},
   "outputs": [],
   "source": [
    "f,a = plt.subplots(figsize=(15,10))\n",
    "\n",
    "country.plot(ax=a,color=\"grey\")\n",
    "fires_clipped.plot(color=\"C3\",markersize=10,ax=a);\n",
    "plt.axis(\"off\");"
   ]
  },
  {
   "cell_type": "code",
   "execution_count": null,
   "id": "funky-aruba",
   "metadata": {},
   "outputs": [],
   "source": [
    "f,a = plt.subplots(figsize=(15,8))\n",
    "\n",
    "country.plot(ax=a,color=\"grey\")\n",
    "fires_clipped.plot(markersize=10, # set the markersize \n",
    "                    ax=a, # use the current axis we created\n",
    "                    column='BRIGHTNESS', #column to use\n",
    "                    cmap=\"OrRd\", # colormap to use\n",
    "                    #scheme='quantiles', # this keyword breaks the categories on quantiles.  \n",
    "                    # The 'mapclassify' >= 2.2.0 package is required to use the 'scheme' keyword\n",
    "                    legend=True); # show a legend"
   ]
  },
  {
   "cell_type": "markdown",
   "id": "comparable-exclusive",
   "metadata": {},
   "source": [
    "## Spatial operations\n",
    "\n",
    "### Left vs right spatial joins\n",
    "\n",
    "Syntax: `geopandas.sjoin(left_df, right_df, how='inner', lsuffix='left', rsuffix='right')`\n",
    "\n",
    "- `left`: use keys from left_df; retain only left_df geometry column\n",
    "\n",
    "- `right`: use keys from right_df; retain only right_df geometry column\n",
    "\n",
    "- `inner`: use intersection of keys from both dfs; retain only left_df geometry column"
   ]
  },
  {
   "cell_type": "code",
   "execution_count": null,
   "id": "ecological-colors",
   "metadata": {},
   "outputs": [],
   "source": [
    "fires_clipped.head(3)"
   ]
  },
  {
   "cell_type": "code",
   "execution_count": null,
   "id": "structural-interference",
   "metadata": {},
   "outputs": [],
   "source": [
    "country.head(3)"
   ]
  },
  {
   "cell_type": "markdown",
   "id": "trying-ceramic",
   "metadata": {},
   "source": [
    "### Fires with state - left"
   ]
  },
  {
   "cell_type": "code",
   "execution_count": null,
   "id": "heavy-segment",
   "metadata": {},
   "outputs": [],
   "source": [
    "fires_w_state = geopandas.sjoin(fires_clipped,\\\n",
    "                                country,\\\n",
    "                                how='left')\n",
    "\n"
   ]
  },
  {
   "cell_type": "code",
   "execution_count": null,
   "id": "martial-workplace",
   "metadata": {},
   "outputs": [],
   "source": [
    "fires_w_state.head(5)"
   ]
  },
  {
   "cell_type": "code",
   "execution_count": null,
   "id": "little-framework",
   "metadata": {},
   "outputs": [],
   "source": [
    "f,a = plt.subplots();\n",
    "country.plot(color='gray',ax=a);\n",
    "fires_w_state.plot(column=\"CENSUSAREA\",ax=a);  #Now we can add here columns that used to be part of country  gpd \n",
    "plt.title(\"Fires Colored by Census Area\");"
   ]
  },
  {
   "cell_type": "markdown",
   "id": "enhanced-entrepreneur",
   "metadata": {},
   "source": [
    "### States with fires - right"
   ]
  },
  {
   "cell_type": "code",
   "execution_count": null,
   "id": "exciting-fleece",
   "metadata": {},
   "outputs": [],
   "source": [
    "state_w_fires = geopandas.sjoin(fires_clipped,\\\n",
    "                                country,\\\n",
    "                                how='right')\n"
   ]
  },
  {
   "cell_type": "code",
   "execution_count": null,
   "id": "alleged-racing",
   "metadata": {},
   "outputs": [],
   "source": [
    "state_w_fires.head(5)"
   ]
  },
  {
   "cell_type": "code",
   "execution_count": null,
   "id": "perfect-staff",
   "metadata": {},
   "outputs": [],
   "source": [
    "state_fire_counts = state_w_fires.groupby(\"NAME\")['index_left'].count().reset_index()\n",
    "\n",
    "state_fire_counts.columns = [\"NAME\",\"fire_number\"]\n",
    "\n",
    "state_fire_counts.head()"
   ]
  },
  {
   "cell_type": "code",
   "execution_count": null,
   "id": "mysterious-sheffield",
   "metadata": {},
   "outputs": [],
   "source": [
    "country = country.merge(state_fire_counts,how='left')\n",
    "country.head()"
   ]
  },
  {
   "cell_type": "code",
   "execution_count": null,
   "id": "senior-marking",
   "metadata": {},
   "outputs": [],
   "source": [
    "f,a = plt.subplots(figsize=(15,8));\n",
    "country.plot(column=\"fire_number\",\n",
    "             ax=a,\n",
    "             cmap=\"OrRd\",\n",
    "            legend=True);"
   ]
  },
  {
   "cell_type": "markdown",
   "id": "interracial-contractor",
   "metadata": {},
   "source": [
    "# Raster files"
   ]
  },
  {
   "cell_type": "code",
   "execution_count": null,
   "id": "instant-edwards",
   "metadata": {},
   "outputs": [],
   "source": [
    "#historical weather data\n",
    "raster_file = \"Data/Prism_ppt/PRISM_ppt_stable_4kmM3_2017_bil.bil\"\n",
    "raster = rasterio.open(raster_file)"
   ]
  },
  {
   "cell_type": "code",
   "execution_count": null,
   "id": "outside-computer",
   "metadata": {},
   "outputs": [],
   "source": [
    "raster"
   ]
  },
  {
   "cell_type": "code",
   "execution_count": null,
   "id": "ideal-french",
   "metadata": {},
   "outputs": [],
   "source": [
    "raster.read(1)"
   ]
  },
  {
   "cell_type": "code",
   "execution_count": null,
   "id": "apparent-cleaning",
   "metadata": {},
   "outputs": [],
   "source": [
    "plt.imshow(raster.read(1))"
   ]
  },
  {
   "cell_type": "code",
   "execution_count": null,
   "id": "recent-formula",
   "metadata": {},
   "outputs": [],
   "source": [
    "raster.bounds"
   ]
  },
  {
   "cell_type": "code",
   "execution_count": null,
   "id": "featured-alignment",
   "metadata": {},
   "outputs": [],
   "source": [
    "raster.crs"
   ]
  },
  {
   "cell_type": "code",
   "execution_count": null,
   "id": "detected-enclosure",
   "metadata": {},
   "outputs": [],
   "source": [
    "country.crs"
   ]
  },
  {
   "cell_type": "markdown",
   "id": "blocked-uruguay",
   "metadata": {},
   "source": [
    "Reprojection:\n",
    "- Reproject the raster file to match the shapefile (harder).\n",
    "- Reproject the shapefile to match the raster (easier)."
   ]
  },
  {
   "cell_type": "code",
   "execution_count": null,
   "id": "german-trace",
   "metadata": {},
   "outputs": [],
   "source": [
    "country_proj = country.to_crs(epsg=4087) # WGS 84 Equidistant Cylndrical (Look how easy is to reproject a geopandas df)\n",
    "country_proj.crs"
   ]
  },
  {
   "cell_type": "code",
   "execution_count": null,
   "id": "colonial-kelly",
   "metadata": {},
   "outputs": [],
   "source": [
    "import numpy as np\n",
    "import rasterio\n",
    "from rasterio.warp import calculate_default_transform, reproject, Resampling\n",
    "import geopandas\n",
    "\n",
    "src_file = raster_file\n",
    "dst_file = 'ppt_reproj.tif'\n",
    "dst_crs = rasterio.crs.CRS.from_dict({'init': 'EPSG:4087'})"
   ]
  },
  {
   "cell_type": "code",
   "execution_count": null,
   "id": "accepted-burst",
   "metadata": {},
   "outputs": [],
   "source": [
    "with rasterio.open(src_file) as src: \n",
    "    transform, width, height = calculate_default_transform(\n",
    "        src.crs, dst_crs, src.width, src.height, *src.bounds) \n",
    "    kwargs = src.meta.copy() \n",
    "    kwargs.update({\n",
    "        'crs': dst_crs,\n",
    "        'transform': transform,\n",
    "        'width': width,\n",
    "        'height': height\n",
    "    })\n",
    "    with rasterio.open(dst_file, 'w', **kwargs) as dst: \n",
    "        for i in range(1, src.count + 1):\n",
    "            reproject(\n",
    "                source=rasterio.band(src, i),\n",
    "                destination=rasterio.band(dst, i),\n",
    "                src_transform=src.transform,\n",
    "                src_crs=src.crs,\n",
    "                dst_transform=transform,\n",
    "                dst_crs=dst_crs,\n",
    "                resampling=Resampling.nearest)"
   ]
  },
  {
   "cell_type": "code",
   "execution_count": null,
   "id": "classical-panama",
   "metadata": {},
   "outputs": [],
   "source": [
    "raster = rasterio.open(\"./ppt_reproj.tif\")\n"
   ]
  },
  {
   "cell_type": "code",
   "execution_count": null,
   "id": "improving-banks",
   "metadata": {},
   "outputs": [],
   "source": [
    "raster.crs"
   ]
  },
  {
   "cell_type": "code",
   "execution_count": null,
   "id": "changing-blackberry",
   "metadata": {},
   "outputs": [],
   "source": [
    "raster.crs == country_proj.crs"
   ]
  },
  {
   "cell_type": "code",
   "execution_count": null,
   "id": "removed-colorado",
   "metadata": {},
   "outputs": [],
   "source": [
    "country_proj.plot()"
   ]
  },
  {
   "cell_type": "code",
   "execution_count": null,
   "id": "geographic-foundation",
   "metadata": {},
   "outputs": [],
   "source": [
    "country_proj.head(3)"
   ]
  },
  {
   "cell_type": "code",
   "execution_count": null,
   "id": "shared-capability",
   "metadata": {},
   "outputs": [],
   "source": [
    "json.loads(country_proj[country_proj.NAME==\"Illinois\"]['geometry'].to_json())['features'][0]['geometry'];"
   ]
  },
  {
   "cell_type": "code",
   "execution_count": null,
   "id": "molecular-serbia",
   "metadata": {},
   "outputs": [],
   "source": [
    "def getFeatures(gdf):\n",
    "    \"\"\"Function to parse features from GeoDataFrame in such a manner that rasterio wants them\"\"\"\n",
    "    import json\n",
    "    return [json.loads(gdf.to_json())['features'][0]['geometry']]\n",
    "\n",
    "IL_coords = getFeatures(country_proj[country_proj.NAME==\"Illinois\"])"
   ]
  },
  {
   "cell_type": "code",
   "execution_count": null,
   "id": "circular-medline",
   "metadata": {},
   "outputs": [],
   "source": [
    "IL_coords;"
   ]
  },
  {
   "cell_type": "code",
   "execution_count": null,
   "id": "three-horror",
   "metadata": {},
   "outputs": [],
   "source": [
    "coords = np.array(IL_coords[0]['coordinates'][0])\n",
    "plt.plot(coords[:,0],coords[:,1],color='black')"
   ]
  },
  {
   "cell_type": "markdown",
   "id": "attempted-runner",
   "metadata": {},
   "source": [
    "### Mask from rasterio\n",
    "Mask the area outside of the input shapes with no data.\n",
    "\n",
    "Syntax: `rasterio.mask.mask(dataset, shapes, all_touched=False, invert=False, nodata=None, filled=True, crop=False, pad=False, pad_width=0.5, indexes=None)`\n",
    "\n",
    "- dataset (a dataset object opened in 'r' mode) – Raster to which the mask will be applied.\n",
    "\n",
    "- shapes (iterable object) – The values must be a GeoJSON-like dict or an object that implements the Python geo interface protocol (such as a Shapely Polygon)."
   ]
  },
  {
   "cell_type": "code",
   "execution_count": null,
   "id": "connected-wealth",
   "metadata": {},
   "outputs": [],
   "source": [
    "from rasterio.mask import mask\n",
    "\n",
    "img_out, img_transform = mask(raster,IL_coords)\n"
   ]
  },
  {
   "cell_type": "code",
   "execution_count": null,
   "id": "supposed-prospect",
   "metadata": {},
   "outputs": [],
   "source": [
    "plt.imshow(img_out[0],cmap=\"Blues\")\n",
    "# So now we have just Illinois.\n",
    "# But notice now that the indices dont have anything to do with geo-coordinates."
   ]
  },
  {
   "cell_type": "code",
   "execution_count": null,
   "id": "assured-cleaner",
   "metadata": {},
   "outputs": [],
   "source": [
    "img_transform\n",
    "# This is the affine transformation that translate pixel coordinates into geographic coordinates"
   ]
  },
  {
   "cell_type": "markdown",
   "id": "welcome-madagascar",
   "metadata": {},
   "source": [
    "Notice that the axis in the plot above are not geographic coordinates. \n",
    "We need to make the `raster` again using the information from the affine transformation"
   ]
  },
  {
   "cell_type": "code",
   "execution_count": null,
   "id": "pleasant-mortgage",
   "metadata": {},
   "outputs": [],
   "source": [
    "out_meta = raster.meta.copy()\n",
    "\n",
    "out_meta['height'] = img_out.shape[1]\n",
    "out_meta['width'] = img_out.shape[2]\n",
    "out_meta['transform'] = img_transform\n",
    "\n",
    "with rasterio.open(\"./IL_PPT.tif\", \"w\", **out_meta) as dest:\n",
    "    dest.write(img_out)"
   ]
  },
  {
   "cell_type": "code",
   "execution_count": null,
   "id": "concerned-pressing",
   "metadata": {},
   "outputs": [],
   "source": [
    "IL_raster = rasterio.open(\"./IL_PPT.tif\")"
   ]
  },
  {
   "cell_type": "code",
   "execution_count": null,
   "id": "commercial-gabriel",
   "metadata": {},
   "outputs": [],
   "source": [
    "from rasterio.plot import show\n",
    "\n",
    "fig, ax = plt.subplots(figsize=(15, 15))\n",
    "rasterio.plot.show(IL_raster, ax=ax,cmap=\"Blues\")\n",
    "country_proj.plot(ax=ax, facecolor='none', edgecolor='black')"
   ]
  }
 ],
 "metadata": {
  "kernelspec": {
   "display_name": "Python 3",
   "language": "python",
   "name": "python3"
  },
  "language_info": {
   "codemirror_mode": {
    "name": "ipython",
    "version": 3
   },
   "file_extension": ".py",
   "mimetype": "text/x-python",
   "name": "python",
   "nbconvert_exporter": "python",
   "pygments_lexer": "ipython3",
   "version": "3.8.5"
  }
 },
 "nbformat": 4,
 "nbformat_minor": 5
}
